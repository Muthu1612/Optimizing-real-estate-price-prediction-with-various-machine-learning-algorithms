{
  "cells": [
    {
      "cell_type": "markdown",
      "metadata": {
        "id": "XllCvLu-e1G2"
      },
      "source": [
        "#TRAINING DATA"
      ]
    },
    {
      "cell_type": "code",
      "execution_count": null,
      "metadata": {
        "colab": {
          "base_uri": "https://localhost:8080/",
          "resources": {
            "http://localhost:8080/nbextensions/google.colab/files.js": {
              "data": "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",
              "headers": [
                [
                  "content-type",
                  "application/javascript"
                ]
              ],
              "ok": true,
              "status": 200,
              "status_text": ""
            }
          }
        },
        "id": "1btpF2tlCXLH",
        "outputId": "895152e1-e412-4189-c3fb-cb222cda0f93"
      },
      "outputs": [
        {
          "output_type": "display_data",
          "data": {
            "text/plain": [
              "<IPython.core.display.HTML object>"
            ],
            "text/html": [
              "\n",
              "     <input type=\"file\" id=\"files-094d13d6-a19f-4bc4-8730-d04445c30459\" name=\"files[]\" multiple disabled\n",
              "        style=\"border:none\" />\n",
              "     <output id=\"result-094d13d6-a19f-4bc4-8730-d04445c30459\">\n",
              "      Upload widget is only available when the cell has been executed in the\n",
              "      current browser session. Please rerun this cell to enable.\n",
              "      </output>\n",
              "      <script src=\"/nbextensions/google.colab/files.js\"></script> "
            ]
          },
          "metadata": {}
        },
        {
          "output_type": "stream",
          "name": "stdout",
          "text": [
            "Saving train.csv to train (4).csv\n"
          ]
        }
      ],
      "source": [
        "from google.colab import files\n",
        "uploaded = files.upload()"
      ]
    },
    {
      "cell_type": "code",
      "execution_count": null,
      "metadata": {
        "id": "X8Y0F3y9CrpE"
      },
      "outputs": [],
      "source": [
        "import io\n",
        "import pandas as pd\n",
        "import numpy as np\n",
        "\n",
        "df = pd.read_csv(io.BytesIO(uploaded['train.csv']))\n"
      ]
    },
    {
      "cell_type": "code",
      "execution_count": null,
      "metadata": {
        "colab": {
          "base_uri": "https://localhost:8080/"
        },
        "id": "P_icN6trDzBc",
        "outputId": "d0302e03-732d-4810-b8f0-90772ccab376"
      },
      "outputs": [
        {
          "output_type": "execute_result",
          "data": {
            "text/plain": [
              "  Property_ID Property_Type  Property_Area  Number_of_Windows  \\\n",
              "0      0x21e3     Apartment            106                NaN   \n",
              "1      0x68d4     Apartment            733                2.0   \n",
              "2      0x7d81     Apartment            737                4.0   \n",
              "3      0x7a57     Apartment            900                3.0   \n",
              "4      0x9409      Bungalow           2238               14.0   \n",
              "\n",
              "   Number_of_Doors       Furnishing  Frequency_of_Powercuts Power_Backup  \\\n",
              "0                1   Semi_Furnished                     0.0           No   \n",
              "1                2      Unfurnished                     1.0           No   \n",
              "2                2  Fully Furnished                     0.0           No   \n",
              "3                2      Unfurnished                     2.0          Yes   \n",
              "4                6  Fully Furnished                     0.0           No   \n",
              "\n",
              "              Water_Supply  Traffic_Density_Score              Crime_Rate  \\\n",
              "0  Once in a day - Morning                   5.89  Slightly below average   \n",
              "1  Once in a day - Evening                   4.37      Well below average   \n",
              "2  Once in a day - Morning                   7.45  Slightly below average   \n",
              "3  Once in a day - Morning                   6.16      Well above average   \n",
              "4                 All time                   5.46      Well below average   \n",
              "\n",
              "  Dust_and_Noise  Air_Quality_Index  Neighborhood_Review  Habitability_score  \n",
              "0         Medium               90.0                 3.86               71.98  \n",
              "1         Medium               96.0                 3.55               71.20  \n",
              "2         Medium              121.0                 3.81               71.39  \n",
              "3         Medium              100.0                 1.34               31.46  \n",
              "4         Medium              116.0                 4.77               93.70  "
            ],
            "text/html": [
              "\n",
              "  <div id=\"df-6116aacb-5dd6-45cb-aa8a-649e9806a164\">\n",
              "    <div class=\"colab-df-container\">\n",
              "      <div>\n",
              "<style scoped>\n",
              "    .dataframe tbody tr th:only-of-type {\n",
              "        vertical-align: middle;\n",
              "    }\n",
              "\n",
              "    .dataframe tbody tr th {\n",
              "        vertical-align: top;\n",
              "    }\n",
              "\n",
              "    .dataframe thead th {\n",
              "        text-align: right;\n",
              "    }\n",
              "</style>\n",
              "<table border=\"1\" class=\"dataframe\">\n",
              "  <thead>\n",
              "    <tr style=\"text-align: right;\">\n",
              "      <th></th>\n",
              "      <th>Property_ID</th>\n",
              "      <th>Property_Type</th>\n",
              "      <th>Property_Area</th>\n",
              "      <th>Number_of_Windows</th>\n",
              "      <th>Number_of_Doors</th>\n",
              "      <th>Furnishing</th>\n",
              "      <th>Frequency_of_Powercuts</th>\n",
              "      <th>Power_Backup</th>\n",
              "      <th>Water_Supply</th>\n",
              "      <th>Traffic_Density_Score</th>\n",
              "      <th>Crime_Rate</th>\n",
              "      <th>Dust_and_Noise</th>\n",
              "      <th>Air_Quality_Index</th>\n",
              "      <th>Neighborhood_Review</th>\n",
              "      <th>Habitability_score</th>\n",
              "    </tr>\n",
              "  </thead>\n",
              "  <tbody>\n",
              "    <tr>\n",
              "      <th>0</th>\n",
              "      <td>0x21e3</td>\n",
              "      <td>Apartment</td>\n",
              "      <td>106</td>\n",
              "      <td>NaN</td>\n",
              "      <td>1</td>\n",
              "      <td>Semi_Furnished</td>\n",
              "      <td>0.0</td>\n",
              "      <td>No</td>\n",
              "      <td>Once in a day - Morning</td>\n",
              "      <td>5.89</td>\n",
              "      <td>Slightly below average</td>\n",
              "      <td>Medium</td>\n",
              "      <td>90.0</td>\n",
              "      <td>3.86</td>\n",
              "      <td>71.98</td>\n",
              "    </tr>\n",
              "    <tr>\n",
              "      <th>1</th>\n",
              "      <td>0x68d4</td>\n",
              "      <td>Apartment</td>\n",
              "      <td>733</td>\n",
              "      <td>2.0</td>\n",
              "      <td>2</td>\n",
              "      <td>Unfurnished</td>\n",
              "      <td>1.0</td>\n",
              "      <td>No</td>\n",
              "      <td>Once in a day - Evening</td>\n",
              "      <td>4.37</td>\n",
              "      <td>Well below average</td>\n",
              "      <td>Medium</td>\n",
              "      <td>96.0</td>\n",
              "      <td>3.55</td>\n",
              "      <td>71.20</td>\n",
              "    </tr>\n",
              "    <tr>\n",
              "      <th>2</th>\n",
              "      <td>0x7d81</td>\n",
              "      <td>Apartment</td>\n",
              "      <td>737</td>\n",
              "      <td>4.0</td>\n",
              "      <td>2</td>\n",
              "      <td>Fully Furnished</td>\n",
              "      <td>0.0</td>\n",
              "      <td>No</td>\n",
              "      <td>Once in a day - Morning</td>\n",
              "      <td>7.45</td>\n",
              "      <td>Slightly below average</td>\n",
              "      <td>Medium</td>\n",
              "      <td>121.0</td>\n",
              "      <td>3.81</td>\n",
              "      <td>71.39</td>\n",
              "    </tr>\n",
              "    <tr>\n",
              "      <th>3</th>\n",
              "      <td>0x7a57</td>\n",
              "      <td>Apartment</td>\n",
              "      <td>900</td>\n",
              "      <td>3.0</td>\n",
              "      <td>2</td>\n",
              "      <td>Unfurnished</td>\n",
              "      <td>2.0</td>\n",
              "      <td>Yes</td>\n",
              "      <td>Once in a day - Morning</td>\n",
              "      <td>6.16</td>\n",
              "      <td>Well above average</td>\n",
              "      <td>Medium</td>\n",
              "      <td>100.0</td>\n",
              "      <td>1.34</td>\n",
              "      <td>31.46</td>\n",
              "    </tr>\n",
              "    <tr>\n",
              "      <th>4</th>\n",
              "      <td>0x9409</td>\n",
              "      <td>Bungalow</td>\n",
              "      <td>2238</td>\n",
              "      <td>14.0</td>\n",
              "      <td>6</td>\n",
              "      <td>Fully Furnished</td>\n",
              "      <td>0.0</td>\n",
              "      <td>No</td>\n",
              "      <td>All time</td>\n",
              "      <td>5.46</td>\n",
              "      <td>Well below average</td>\n",
              "      <td>Medium</td>\n",
              "      <td>116.0</td>\n",
              "      <td>4.77</td>\n",
              "      <td>93.70</td>\n",
              "    </tr>\n",
              "  </tbody>\n",
              "</table>\n",
              "</div>\n",
              "      <button class=\"colab-df-convert\" onclick=\"convertToInteractive('df-6116aacb-5dd6-45cb-aa8a-649e9806a164')\"\n",
              "              title=\"Convert this dataframe to an interactive table.\"\n",
              "              style=\"display:none;\">\n",
              "        \n",
              "  <svg xmlns=\"http://www.w3.org/2000/svg\" height=\"24px\"viewBox=\"0 0 24 24\"\n",
              "       width=\"24px\">\n",
              "    <path d=\"M0 0h24v24H0V0z\" fill=\"none\"/>\n",
              "    <path d=\"M18.56 5.44l.94 2.06.94-2.06 2.06-.94-2.06-.94-.94-2.06-.94 2.06-2.06.94zm-11 1L8.5 8.5l.94-2.06 2.06-.94-2.06-.94L8.5 2.5l-.94 2.06-2.06.94zm10 10l.94 2.06.94-2.06 2.06-.94-2.06-.94-.94-2.06-.94 2.06-2.06.94z\"/><path d=\"M17.41 7.96l-1.37-1.37c-.4-.4-.92-.59-1.43-.59-.52 0-1.04.2-1.43.59L10.3 9.45l-7.72 7.72c-.78.78-.78 2.05 0 2.83L4 21.41c.39.39.9.59 1.41.59.51 0 1.02-.2 1.41-.59l7.78-7.78 2.81-2.81c.8-.78.8-2.07 0-2.86zM5.41 20L4 18.59l7.72-7.72 1.47 1.35L5.41 20z\"/>\n",
              "  </svg>\n",
              "      </button>\n",
              "      \n",
              "  <style>\n",
              "    .colab-df-container {\n",
              "      display:flex;\n",
              "      flex-wrap:wrap;\n",
              "      gap: 12px;\n",
              "    }\n",
              "\n",
              "    .colab-df-convert {\n",
              "      background-color: #E8F0FE;\n",
              "      border: none;\n",
              "      border-radius: 50%;\n",
              "      cursor: pointer;\n",
              "      display: none;\n",
              "      fill: #1967D2;\n",
              "      height: 32px;\n",
              "      padding: 0 0 0 0;\n",
              "      width: 32px;\n",
              "    }\n",
              "\n",
              "    .colab-df-convert:hover {\n",
              "      background-color: #E2EBFA;\n",
              "      box-shadow: 0px 1px 2px rgba(60, 64, 67, 0.3), 0px 1px 3px 1px rgba(60, 64, 67, 0.15);\n",
              "      fill: #174EA6;\n",
              "    }\n",
              "\n",
              "    [theme=dark] .colab-df-convert {\n",
              "      background-color: #3B4455;\n",
              "      fill: #D2E3FC;\n",
              "    }\n",
              "\n",
              "    [theme=dark] .colab-df-convert:hover {\n",
              "      background-color: #434B5C;\n",
              "      box-shadow: 0px 1px 3px 1px rgba(0, 0, 0, 0.15);\n",
              "      filter: drop-shadow(0px 1px 2px rgba(0, 0, 0, 0.3));\n",
              "      fill: #FFFFFF;\n",
              "    }\n",
              "  </style>\n",
              "\n",
              "      <script>\n",
              "        const buttonEl =\n",
              "          document.querySelector('#df-6116aacb-5dd6-45cb-aa8a-649e9806a164 button.colab-df-convert');\n",
              "        buttonEl.style.display =\n",
              "          google.colab.kernel.accessAllowed ? 'block' : 'none';\n",
              "\n",
              "        async function convertToInteractive(key) {\n",
              "          const element = document.querySelector('#df-6116aacb-5dd6-45cb-aa8a-649e9806a164');\n",
              "          const dataTable =\n",
              "            await google.colab.kernel.invokeFunction('convertToInteractive',\n",
              "                                                     [key], {});\n",
              "          if (!dataTable) return;\n",
              "\n",
              "          const docLinkHtml = 'Like what you see? Visit the ' +\n",
              "            '<a target=\"_blank\" href=https://colab.research.google.com/notebooks/data_table.ipynb>data table notebook</a>'\n",
              "            + ' to learn more about interactive tables.';\n",
              "          element.innerHTML = '';\n",
              "          dataTable['output_type'] = 'display_data';\n",
              "          await google.colab.output.renderOutput(dataTable, element);\n",
              "          const docLink = document.createElement('div');\n",
              "          docLink.innerHTML = docLinkHtml;\n",
              "          element.appendChild(docLink);\n",
              "        }\n",
              "      </script>\n",
              "    </div>\n",
              "  </div>\n",
              "  "
            ]
          },
          "metadata": {},
          "execution_count": 759
        }
      ],
      "source": [
        "df.head(5)"
      ]
    },
    {
      "cell_type": "markdown",
      "metadata": {
        "id": "0UyK_xAeeE6D"
      },
      "source": [
        "#CHECKING TEST AND SAMPLE\n",
        "\n",
        "\n",
        "\n",
        "\n",
        "\n",
        "\n",
        "\n"
      ]
    },
    {
      "cell_type": "code",
      "source": [
        "from google.colab import files\n",
        "uploaded = files.upload()"
      ],
      "metadata": {
        "colab": {
          "resources": {
            "http://localhost:8080/nbextensions/google.colab/files.js": {
              "data": "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",
              "ok": true,
              "headers": [
                [
                  "content-type",
                  "application/javascript"
                ]
              ],
              "status": 200,
              "status_text": ""
            }
          },
          "base_uri": "https://localhost:8080/",
          "height": 74
        },
        "id": "puOkOCztIosg",
        "outputId": "521315e3-68c3-4d3e-e740-e8583ba9f76c"
      },
      "execution_count": null,
      "outputs": [
        {
          "output_type": "display_data",
          "data": {
            "text/plain": [
              "<IPython.core.display.HTML object>"
            ],
            "text/html": [
              "\n",
              "     <input type=\"file\" id=\"files-c4ec1c86-018c-48b0-8f23-e36af70751da\" name=\"files[]\" multiple disabled\n",
              "        style=\"border:none\" />\n",
              "     <output id=\"result-c4ec1c86-018c-48b0-8f23-e36af70751da\">\n",
              "      Upload widget is only available when the cell has been executed in the\n",
              "      current browser session. Please rerun this cell to enable.\n",
              "      </output>\n",
              "      <script src=\"/nbextensions/google.colab/files.js\"></script> "
            ]
          },
          "metadata": {}
        },
        {
          "output_type": "stream",
          "name": "stdout",
          "text": [
            "Saving test.csv to test.csv\n"
          ]
        }
      ]
    },
    {
      "cell_type": "code",
      "execution_count": null,
      "metadata": {
        "id": "l70vG_IuD4TD"
      },
      "outputs": [],
      "source": [
        "sample = pd.read_csv(io.BytesIO(uploaded['sample_submission.csv']))"
      ]
    },
    {
      "cell_type": "code",
      "execution_count": null,
      "metadata": {
        "id": "Rr2T_XttEBNz"
      },
      "outputs": [],
      "source": [
        "sample.head(5)"
      ]
    },
    {
      "cell_type": "code",
      "execution_count": null,
      "metadata": {
        "id": "kqfpfHSpEIcz"
      },
      "outputs": [],
      "source": [
        "dataset_test=pd.read_csv(io.BytesIO(uploaded['test.csv']))"
      ]
    },
    {
      "cell_type": "code",
      "execution_count": null,
      "metadata": {
        "id": "hqLemh7-EkbT"
      },
      "outputs": [],
      "source": [
        "dataset_test.head(5)"
      ]
    },
    {
      "cell_type": "markdown",
      "metadata": {
        "id": "bwK98j4Xe7Ec"
      },
      "source": [
        "#DATA PREPROCESSING"
      ]
    },
    {
      "cell_type": "code",
      "execution_count": null,
      "metadata": {
        "colab": {
          "base_uri": "https://localhost:8080/"
        },
        "id": "u9OJaUJ7fXBv",
        "outputId": "a0a25aff-44b2-45f2-f2bb-fd2093f41c26"
      },
      "outputs": [
        {
          "output_type": "execute_result",
          "data": {
            "text/plain": [
              "  Property_ID Property_Type  Property_Area  Number_of_Windows  \\\n",
              "0      0x21e3     Apartment            106                NaN   \n",
              "1      0x68d4     Apartment            733                2.0   \n",
              "2      0x7d81     Apartment            737                4.0   \n",
              "3      0x7a57     Apartment            900                3.0   \n",
              "4      0x9409      Bungalow           2238               14.0   \n",
              "\n",
              "   Number_of_Doors       Furnishing  Frequency_of_Powercuts Power_Backup  \\\n",
              "0                1   Semi_Furnished                     0.0           No   \n",
              "1                2      Unfurnished                     1.0           No   \n",
              "2                2  Fully Furnished                     0.0           No   \n",
              "3                2      Unfurnished                     2.0          Yes   \n",
              "4                6  Fully Furnished                     0.0           No   \n",
              "\n",
              "              Water_Supply  Traffic_Density_Score              Crime_Rate  \\\n",
              "0  Once in a day - Morning                   5.89  Slightly below average   \n",
              "1  Once in a day - Evening                   4.37      Well below average   \n",
              "2  Once in a day - Morning                   7.45  Slightly below average   \n",
              "3  Once in a day - Morning                   6.16      Well above average   \n",
              "4                 All time                   5.46      Well below average   \n",
              "\n",
              "  Dust_and_Noise  Air_Quality_Index  Neighborhood_Review  Habitability_score  \n",
              "0         Medium               90.0                 3.86               71.98  \n",
              "1         Medium               96.0                 3.55               71.20  \n",
              "2         Medium              121.0                 3.81               71.39  \n",
              "3         Medium              100.0                 1.34               31.46  \n",
              "4         Medium              116.0                 4.77               93.70  "
            ],
            "text/html": [
              "\n",
              "  <div id=\"df-31c1e205-ab21-4dfb-bead-bb73302c5cde\">\n",
              "    <div class=\"colab-df-container\">\n",
              "      <div>\n",
              "<style scoped>\n",
              "    .dataframe tbody tr th:only-of-type {\n",
              "        vertical-align: middle;\n",
              "    }\n",
              "\n",
              "    .dataframe tbody tr th {\n",
              "        vertical-align: top;\n",
              "    }\n",
              "\n",
              "    .dataframe thead th {\n",
              "        text-align: right;\n",
              "    }\n",
              "</style>\n",
              "<table border=\"1\" class=\"dataframe\">\n",
              "  <thead>\n",
              "    <tr style=\"text-align: right;\">\n",
              "      <th></th>\n",
              "      <th>Property_ID</th>\n",
              "      <th>Property_Type</th>\n",
              "      <th>Property_Area</th>\n",
              "      <th>Number_of_Windows</th>\n",
              "      <th>Number_of_Doors</th>\n",
              "      <th>Furnishing</th>\n",
              "      <th>Frequency_of_Powercuts</th>\n",
              "      <th>Power_Backup</th>\n",
              "      <th>Water_Supply</th>\n",
              "      <th>Traffic_Density_Score</th>\n",
              "      <th>Crime_Rate</th>\n",
              "      <th>Dust_and_Noise</th>\n",
              "      <th>Air_Quality_Index</th>\n",
              "      <th>Neighborhood_Review</th>\n",
              "      <th>Habitability_score</th>\n",
              "    </tr>\n",
              "  </thead>\n",
              "  <tbody>\n",
              "    <tr>\n",
              "      <th>0</th>\n",
              "      <td>0x21e3</td>\n",
              "      <td>Apartment</td>\n",
              "      <td>106</td>\n",
              "      <td>NaN</td>\n",
              "      <td>1</td>\n",
              "      <td>Semi_Furnished</td>\n",
              "      <td>0.0</td>\n",
              "      <td>No</td>\n",
              "      <td>Once in a day - Morning</td>\n",
              "      <td>5.89</td>\n",
              "      <td>Slightly below average</td>\n",
              "      <td>Medium</td>\n",
              "      <td>90.0</td>\n",
              "      <td>3.86</td>\n",
              "      <td>71.98</td>\n",
              "    </tr>\n",
              "    <tr>\n",
              "      <th>1</th>\n",
              "      <td>0x68d4</td>\n",
              "      <td>Apartment</td>\n",
              "      <td>733</td>\n",
              "      <td>2.0</td>\n",
              "      <td>2</td>\n",
              "      <td>Unfurnished</td>\n",
              "      <td>1.0</td>\n",
              "      <td>No</td>\n",
              "      <td>Once in a day - Evening</td>\n",
              "      <td>4.37</td>\n",
              "      <td>Well below average</td>\n",
              "      <td>Medium</td>\n",
              "      <td>96.0</td>\n",
              "      <td>3.55</td>\n",
              "      <td>71.20</td>\n",
              "    </tr>\n",
              "    <tr>\n",
              "      <th>2</th>\n",
              "      <td>0x7d81</td>\n",
              "      <td>Apartment</td>\n",
              "      <td>737</td>\n",
              "      <td>4.0</td>\n",
              "      <td>2</td>\n",
              "      <td>Fully Furnished</td>\n",
              "      <td>0.0</td>\n",
              "      <td>No</td>\n",
              "      <td>Once in a day - Morning</td>\n",
              "      <td>7.45</td>\n",
              "      <td>Slightly below average</td>\n",
              "      <td>Medium</td>\n",
              "      <td>121.0</td>\n",
              "      <td>3.81</td>\n",
              "      <td>71.39</td>\n",
              "    </tr>\n",
              "    <tr>\n",
              "      <th>3</th>\n",
              "      <td>0x7a57</td>\n",
              "      <td>Apartment</td>\n",
              "      <td>900</td>\n",
              "      <td>3.0</td>\n",
              "      <td>2</td>\n",
              "      <td>Unfurnished</td>\n",
              "      <td>2.0</td>\n",
              "      <td>Yes</td>\n",
              "      <td>Once in a day - Morning</td>\n",
              "      <td>6.16</td>\n",
              "      <td>Well above average</td>\n",
              "      <td>Medium</td>\n",
              "      <td>100.0</td>\n",
              "      <td>1.34</td>\n",
              "      <td>31.46</td>\n",
              "    </tr>\n",
              "    <tr>\n",
              "      <th>4</th>\n",
              "      <td>0x9409</td>\n",
              "      <td>Bungalow</td>\n",
              "      <td>2238</td>\n",
              "      <td>14.0</td>\n",
              "      <td>6</td>\n",
              "      <td>Fully Furnished</td>\n",
              "      <td>0.0</td>\n",
              "      <td>No</td>\n",
              "      <td>All time</td>\n",
              "      <td>5.46</td>\n",
              "      <td>Well below average</td>\n",
              "      <td>Medium</td>\n",
              "      <td>116.0</td>\n",
              "      <td>4.77</td>\n",
              "      <td>93.70</td>\n",
              "    </tr>\n",
              "  </tbody>\n",
              "</table>\n",
              "</div>\n",
              "      <button class=\"colab-df-convert\" onclick=\"convertToInteractive('df-31c1e205-ab21-4dfb-bead-bb73302c5cde')\"\n",
              "              title=\"Convert this dataframe to an interactive table.\"\n",
              "              style=\"display:none;\">\n",
              "        \n",
              "  <svg xmlns=\"http://www.w3.org/2000/svg\" height=\"24px\"viewBox=\"0 0 24 24\"\n",
              "       width=\"24px\">\n",
              "    <path d=\"M0 0h24v24H0V0z\" fill=\"none\"/>\n",
              "    <path d=\"M18.56 5.44l.94 2.06.94-2.06 2.06-.94-2.06-.94-.94-2.06-.94 2.06-2.06.94zm-11 1L8.5 8.5l.94-2.06 2.06-.94-2.06-.94L8.5 2.5l-.94 2.06-2.06.94zm10 10l.94 2.06.94-2.06 2.06-.94-2.06-.94-.94-2.06-.94 2.06-2.06.94z\"/><path d=\"M17.41 7.96l-1.37-1.37c-.4-.4-.92-.59-1.43-.59-.52 0-1.04.2-1.43.59L10.3 9.45l-7.72 7.72c-.78.78-.78 2.05 0 2.83L4 21.41c.39.39.9.59 1.41.59.51 0 1.02-.2 1.41-.59l7.78-7.78 2.81-2.81c.8-.78.8-2.07 0-2.86zM5.41 20L4 18.59l7.72-7.72 1.47 1.35L5.41 20z\"/>\n",
              "  </svg>\n",
              "      </button>\n",
              "      \n",
              "  <style>\n",
              "    .colab-df-container {\n",
              "      display:flex;\n",
              "      flex-wrap:wrap;\n",
              "      gap: 12px;\n",
              "    }\n",
              "\n",
              "    .colab-df-convert {\n",
              "      background-color: #E8F0FE;\n",
              "      border: none;\n",
              "      border-radius: 50%;\n",
              "      cursor: pointer;\n",
              "      display: none;\n",
              "      fill: #1967D2;\n",
              "      height: 32px;\n",
              "      padding: 0 0 0 0;\n",
              "      width: 32px;\n",
              "    }\n",
              "\n",
              "    .colab-df-convert:hover {\n",
              "      background-color: #E2EBFA;\n",
              "      box-shadow: 0px 1px 2px rgba(60, 64, 67, 0.3), 0px 1px 3px 1px rgba(60, 64, 67, 0.15);\n",
              "      fill: #174EA6;\n",
              "    }\n",
              "\n",
              "    [theme=dark] .colab-df-convert {\n",
              "      background-color: #3B4455;\n",
              "      fill: #D2E3FC;\n",
              "    }\n",
              "\n",
              "    [theme=dark] .colab-df-convert:hover {\n",
              "      background-color: #434B5C;\n",
              "      box-shadow: 0px 1px 3px 1px rgba(0, 0, 0, 0.15);\n",
              "      filter: drop-shadow(0px 1px 2px rgba(0, 0, 0, 0.3));\n",
              "      fill: #FFFFFF;\n",
              "    }\n",
              "  </style>\n",
              "\n",
              "      <script>\n",
              "        const buttonEl =\n",
              "          document.querySelector('#df-31c1e205-ab21-4dfb-bead-bb73302c5cde button.colab-df-convert');\n",
              "        buttonEl.style.display =\n",
              "          google.colab.kernel.accessAllowed ? 'block' : 'none';\n",
              "\n",
              "        async function convertToInteractive(key) {\n",
              "          const element = document.querySelector('#df-31c1e205-ab21-4dfb-bead-bb73302c5cde');\n",
              "          const dataTable =\n",
              "            await google.colab.kernel.invokeFunction('convertToInteractive',\n",
              "                                                     [key], {});\n",
              "          if (!dataTable) return;\n",
              "\n",
              "          const docLinkHtml = 'Like what you see? Visit the ' +\n",
              "            '<a target=\"_blank\" href=https://colab.research.google.com/notebooks/data_table.ipynb>data table notebook</a>'\n",
              "            + ' to learn more about interactive tables.';\n",
              "          element.innerHTML = '';\n",
              "          dataTable['output_type'] = 'display_data';\n",
              "          await google.colab.output.renderOutput(dataTable, element);\n",
              "          const docLink = document.createElement('div');\n",
              "          docLink.innerHTML = docLinkHtml;\n",
              "          element.appendChild(docLink);\n",
              "        }\n",
              "      </script>\n",
              "    </div>\n",
              "  </div>\n",
              "  "
            ]
          },
          "metadata": {},
          "execution_count": 760
        }
      ],
      "source": [
        "df.head(5)"
      ]
    },
    {
      "cell_type": "code",
      "execution_count": null,
      "metadata": {
        "colab": {
          "base_uri": "https://localhost:8080/"
        },
        "id": "dDaIPcpBfCly",
        "outputId": "25ea0408-2dac-4667-ab90-81c42f1d79b3"
      },
      "outputs": [
        {
          "output_type": "execute_result",
          "data": {
            "text/plain": [
              "       Property_Area  Number_of_Windows  Number_of_Doors  \\\n",
              "count   39499.000000       37845.000000     39499.000000   \n",
              "mean     1391.715638           3.923768         2.331375   \n",
              "std      1953.287544           2.690992         1.179964   \n",
              "min       100.000000           0.000000         1.000000   \n",
              "25%       494.000000           2.000000         1.000000   \n",
              "50%       932.000000           4.000000         2.000000   \n",
              "75%      1770.000000           5.000000         3.000000   \n",
              "max     28064.000000          15.000000         6.000000   \n",
              "\n",
              "       Frequency_of_Powercuts  Traffic_Density_Score  Air_Quality_Index  \\\n",
              "count            38116.000000           39499.000000       39499.000000   \n",
              "mean                 0.484678               6.354772         121.352566   \n",
              "std                  0.752207               1.219681          62.384669   \n",
              "min                  0.000000               0.000000           0.000000   \n",
              "25%                  0.000000               5.600000          95.000000   \n",
              "50%                  0.000000               6.470000         113.000000   \n",
              "75%                  1.000000               7.220000         140.000000   \n",
              "max                  3.000000               9.910000        1044.000000   \n",
              "\n",
              "       Neighborhood_Review  Habitability_score  \n",
              "count         39499.000000        39499.000000  \n",
              "mean              3.735945           73.482297  \n",
              "std               0.796843           14.118753  \n",
              "min               0.000000            7.280000  \n",
              "25%               3.220000           69.660000  \n",
              "50%               3.850000           75.760000  \n",
              "75%               4.260000           82.260000  \n",
              "max               5.000000          100.000000  "
            ],
            "text/html": [
              "\n",
              "  <div id=\"df-805cd1ae-193c-41d3-9bee-b05049aa13fd\">\n",
              "    <div class=\"colab-df-container\">\n",
              "      <div>\n",
              "<style scoped>\n",
              "    .dataframe tbody tr th:only-of-type {\n",
              "        vertical-align: middle;\n",
              "    }\n",
              "\n",
              "    .dataframe tbody tr th {\n",
              "        vertical-align: top;\n",
              "    }\n",
              "\n",
              "    .dataframe thead th {\n",
              "        text-align: right;\n",
              "    }\n",
              "</style>\n",
              "<table border=\"1\" class=\"dataframe\">\n",
              "  <thead>\n",
              "    <tr style=\"text-align: right;\">\n",
              "      <th></th>\n",
              "      <th>Property_Area</th>\n",
              "      <th>Number_of_Windows</th>\n",
              "      <th>Number_of_Doors</th>\n",
              "      <th>Frequency_of_Powercuts</th>\n",
              "      <th>Traffic_Density_Score</th>\n",
              "      <th>Air_Quality_Index</th>\n",
              "      <th>Neighborhood_Review</th>\n",
              "      <th>Habitability_score</th>\n",
              "    </tr>\n",
              "  </thead>\n",
              "  <tbody>\n",
              "    <tr>\n",
              "      <th>count</th>\n",
              "      <td>39499.000000</td>\n",
              "      <td>37845.000000</td>\n",
              "      <td>39499.000000</td>\n",
              "      <td>38116.000000</td>\n",
              "      <td>39499.000000</td>\n",
              "      <td>39499.000000</td>\n",
              "      <td>39499.000000</td>\n",
              "      <td>39499.000000</td>\n",
              "    </tr>\n",
              "    <tr>\n",
              "      <th>mean</th>\n",
              "      <td>1391.715638</td>\n",
              "      <td>3.923768</td>\n",
              "      <td>2.331375</td>\n",
              "      <td>0.484678</td>\n",
              "      <td>6.354772</td>\n",
              "      <td>121.352566</td>\n",
              "      <td>3.735945</td>\n",
              "      <td>73.482297</td>\n",
              "    </tr>\n",
              "    <tr>\n",
              "      <th>std</th>\n",
              "      <td>1953.287544</td>\n",
              "      <td>2.690992</td>\n",
              "      <td>1.179964</td>\n",
              "      <td>0.752207</td>\n",
              "      <td>1.219681</td>\n",
              "      <td>62.384669</td>\n",
              "      <td>0.796843</td>\n",
              "      <td>14.118753</td>\n",
              "    </tr>\n",
              "    <tr>\n",
              "      <th>min</th>\n",
              "      <td>100.000000</td>\n",
              "      <td>0.000000</td>\n",
              "      <td>1.000000</td>\n",
              "      <td>0.000000</td>\n",
              "      <td>0.000000</td>\n",
              "      <td>0.000000</td>\n",
              "      <td>0.000000</td>\n",
              "      <td>7.280000</td>\n",
              "    </tr>\n",
              "    <tr>\n",
              "      <th>25%</th>\n",
              "      <td>494.000000</td>\n",
              "      <td>2.000000</td>\n",
              "      <td>1.000000</td>\n",
              "      <td>0.000000</td>\n",
              "      <td>5.600000</td>\n",
              "      <td>95.000000</td>\n",
              "      <td>3.220000</td>\n",
              "      <td>69.660000</td>\n",
              "    </tr>\n",
              "    <tr>\n",
              "      <th>50%</th>\n",
              "      <td>932.000000</td>\n",
              "      <td>4.000000</td>\n",
              "      <td>2.000000</td>\n",
              "      <td>0.000000</td>\n",
              "      <td>6.470000</td>\n",
              "      <td>113.000000</td>\n",
              "      <td>3.850000</td>\n",
              "      <td>75.760000</td>\n",
              "    </tr>\n",
              "    <tr>\n",
              "      <th>75%</th>\n",
              "      <td>1770.000000</td>\n",
              "      <td>5.000000</td>\n",
              "      <td>3.000000</td>\n",
              "      <td>1.000000</td>\n",
              "      <td>7.220000</td>\n",
              "      <td>140.000000</td>\n",
              "      <td>4.260000</td>\n",
              "      <td>82.260000</td>\n",
              "    </tr>\n",
              "    <tr>\n",
              "      <th>max</th>\n",
              "      <td>28064.000000</td>\n",
              "      <td>15.000000</td>\n",
              "      <td>6.000000</td>\n",
              "      <td>3.000000</td>\n",
              "      <td>9.910000</td>\n",
              "      <td>1044.000000</td>\n",
              "      <td>5.000000</td>\n",
              "      <td>100.000000</td>\n",
              "    </tr>\n",
              "  </tbody>\n",
              "</table>\n",
              "</div>\n",
              "      <button class=\"colab-df-convert\" onclick=\"convertToInteractive('df-805cd1ae-193c-41d3-9bee-b05049aa13fd')\"\n",
              "              title=\"Convert this dataframe to an interactive table.\"\n",
              "              style=\"display:none;\">\n",
              "        \n",
              "  <svg xmlns=\"http://www.w3.org/2000/svg\" height=\"24px\"viewBox=\"0 0 24 24\"\n",
              "       width=\"24px\">\n",
              "    <path d=\"M0 0h24v24H0V0z\" fill=\"none\"/>\n",
              "    <path d=\"M18.56 5.44l.94 2.06.94-2.06 2.06-.94-2.06-.94-.94-2.06-.94 2.06-2.06.94zm-11 1L8.5 8.5l.94-2.06 2.06-.94-2.06-.94L8.5 2.5l-.94 2.06-2.06.94zm10 10l.94 2.06.94-2.06 2.06-.94-2.06-.94-.94-2.06-.94 2.06-2.06.94z\"/><path d=\"M17.41 7.96l-1.37-1.37c-.4-.4-.92-.59-1.43-.59-.52 0-1.04.2-1.43.59L10.3 9.45l-7.72 7.72c-.78.78-.78 2.05 0 2.83L4 21.41c.39.39.9.59 1.41.59.51 0 1.02-.2 1.41-.59l7.78-7.78 2.81-2.81c.8-.78.8-2.07 0-2.86zM5.41 20L4 18.59l7.72-7.72 1.47 1.35L5.41 20z\"/>\n",
              "  </svg>\n",
              "      </button>\n",
              "      \n",
              "  <style>\n",
              "    .colab-df-container {\n",
              "      display:flex;\n",
              "      flex-wrap:wrap;\n",
              "      gap: 12px;\n",
              "    }\n",
              "\n",
              "    .colab-df-convert {\n",
              "      background-color: #E8F0FE;\n",
              "      border: none;\n",
              "      border-radius: 50%;\n",
              "      cursor: pointer;\n",
              "      display: none;\n",
              "      fill: #1967D2;\n",
              "      height: 32px;\n",
              "      padding: 0 0 0 0;\n",
              "      width: 32px;\n",
              "    }\n",
              "\n",
              "    .colab-df-convert:hover {\n",
              "      background-color: #E2EBFA;\n",
              "      box-shadow: 0px 1px 2px rgba(60, 64, 67, 0.3), 0px 1px 3px 1px rgba(60, 64, 67, 0.15);\n",
              "      fill: #174EA6;\n",
              "    }\n",
              "\n",
              "    [theme=dark] .colab-df-convert {\n",
              "      background-color: #3B4455;\n",
              "      fill: #D2E3FC;\n",
              "    }\n",
              "\n",
              "    [theme=dark] .colab-df-convert:hover {\n",
              "      background-color: #434B5C;\n",
              "      box-shadow: 0px 1px 3px 1px rgba(0, 0, 0, 0.15);\n",
              "      filter: drop-shadow(0px 1px 2px rgba(0, 0, 0, 0.3));\n",
              "      fill: #FFFFFF;\n",
              "    }\n",
              "  </style>\n",
              "\n",
              "      <script>\n",
              "        const buttonEl =\n",
              "          document.querySelector('#df-805cd1ae-193c-41d3-9bee-b05049aa13fd button.colab-df-convert');\n",
              "        buttonEl.style.display =\n",
              "          google.colab.kernel.accessAllowed ? 'block' : 'none';\n",
              "\n",
              "        async function convertToInteractive(key) {\n",
              "          const element = document.querySelector('#df-805cd1ae-193c-41d3-9bee-b05049aa13fd');\n",
              "          const dataTable =\n",
              "            await google.colab.kernel.invokeFunction('convertToInteractive',\n",
              "                                                     [key], {});\n",
              "          if (!dataTable) return;\n",
              "\n",
              "          const docLinkHtml = 'Like what you see? Visit the ' +\n",
              "            '<a target=\"_blank\" href=https://colab.research.google.com/notebooks/data_table.ipynb>data table notebook</a>'\n",
              "            + ' to learn more about interactive tables.';\n",
              "          element.innerHTML = '';\n",
              "          dataTable['output_type'] = 'display_data';\n",
              "          await google.colab.output.renderOutput(dataTable, element);\n",
              "          const docLink = document.createElement('div');\n",
              "          docLink.innerHTML = docLinkHtml;\n",
              "          element.appendChild(docLink);\n",
              "        }\n",
              "      </script>\n",
              "    </div>\n",
              "  </div>\n",
              "  "
            ]
          },
          "metadata": {},
          "execution_count": 761
        }
      ],
      "source": [
        "df.describe()"
      ]
    },
    {
      "cell_type": "code",
      "execution_count": null,
      "metadata": {
        "colab": {
          "base_uri": "https://localhost:8080/"
        },
        "id": "KyjtLZChfjOQ",
        "outputId": "eb1550d3-2312-4a2e-ede5-b5405e6f5433"
      },
      "outputs": [
        {
          "output_type": "execute_result",
          "data": {
            "text/plain": [
              "Index(['Property_ID', 'Property_Type', 'Property_Area', 'Number_of_Windows',\n",
              "       'Number_of_Doors', 'Furnishing', 'Frequency_of_Powercuts',\n",
              "       'Power_Backup', 'Water_Supply', 'Traffic_Density_Score', 'Crime_Rate',\n",
              "       'Dust_and_Noise', 'Air_Quality_Index', 'Neighborhood_Review',\n",
              "       'Habitability_score'],\n",
              "      dtype='object')"
            ]
          },
          "metadata": {},
          "execution_count": 762
        }
      ],
      "source": [
        "df.columns.unique()"
      ]
    },
    {
      "cell_type": "code",
      "execution_count": null,
      "metadata": {
        "colab": {
          "base_uri": "https://localhost:8080/"
        },
        "id": "ZDnmVLgzfMq3",
        "outputId": "77f601d2-77fb-4a70-f7ee-ad6a62a35fd6"
      },
      "outputs": [
        {
          "output_type": "execute_result",
          "data": {
            "text/plain": [
              "array(['Apartment', 'Bungalow', 'Single-family home', 'Duplex',\n",
              "       '#R%$G&867', 'Container Home'], dtype=object)"
            ]
          },
          "metadata": {},
          "execution_count": 763
        }
      ],
      "source": [
        "df.Property_Type.unique()"
      ]
    },
    {
      "cell_type": "code",
      "execution_count": null,
      "metadata": {
        "colab": {
          "base_uri": "https://localhost:8080/"
        },
        "id": "RhqfpmdHfitQ",
        "outputId": "a81ad2ef-6d4e-4768-adff-cb4cf9ba5bf2"
      },
      "outputs": [
        {
          "output_type": "execute_result",
          "data": {
            "text/plain": [
              "array(['Semi_Furnished', 'Unfurnished', 'Fully Furnished', nan],\n",
              "      dtype=object)"
            ]
          },
          "metadata": {},
          "execution_count": 764
        }
      ],
      "source": [
        "df.Furnishing.unique()"
      ]
    },
    {
      "cell_type": "code",
      "execution_count": null,
      "metadata": {
        "colab": {
          "base_uri": "https://localhost:8080/"
        },
        "id": "0POGi0pFfq9g",
        "outputId": "77682197-8505-48bb-f297-a1103c4890fa"
      },
      "outputs": [
        {
          "output_type": "execute_result",
          "data": {
            "text/plain": [
              "array(['Once in a day - Morning', 'Once in a day - Evening', 'All time',\n",
              "       'NOT MENTIONED', 'Once in two days'], dtype=object)"
            ]
          },
          "metadata": {},
          "execution_count": 765
        }
      ],
      "source": [
        "df.Water_Supply.unique()"
      ]
    },
    {
      "cell_type": "code",
      "execution_count": null,
      "metadata": {
        "colab": {
          "base_uri": "https://localhost:8080/"
        },
        "id": "k7hOCXhyf8yy",
        "outputId": "824ab488-7d48-40e4-87d0-216935f0b925"
      },
      "outputs": [
        {
          "output_type": "execute_result",
          "data": {
            "text/plain": [
              "array(['Slightly below average', 'Well below average',\n",
              "       'Well above average', nan, 'Slightly above average'], dtype=object)"
            ]
          },
          "metadata": {},
          "execution_count": 766
        }
      ],
      "source": [
        "df.Crime_Rate.unique()"
      ]
    },
    {
      "cell_type": "code",
      "execution_count": null,
      "metadata": {
        "colab": {
          "base_uri": "https://localhost:8080/"
        },
        "id": "d3kHn0OPgF_7",
        "outputId": "1319ad82-149c-423a-a2f0-e68f817dc486"
      },
      "outputs": [
        {
          "output_type": "execute_result",
          "data": {
            "text/plain": [
              "array(['Medium', nan, 'High', 'Low'], dtype=object)"
            ]
          },
          "metadata": {},
          "execution_count": 767
        }
      ],
      "source": [
        "df.Dust_and_Noise.unique()"
      ]
    },
    {
      "cell_type": "markdown",
      "metadata": {
        "id": "OPeKjU4NlyKP"
      },
      "source": [
        "#WORST CASE SCENARIO WHERE NA/NO DATA MEANS WORST CASE"
      ]
    },
    {
      "cell_type": "code",
      "execution_count": null,
      "metadata": {
        "colab": {
          "base_uri": "https://localhost:8080/"
        },
        "id": "g2lrx-5Qm1nf",
        "outputId": "311d82eb-4c35-40e1-e62b-6ec2ed67eed6"
      },
      "outputs": [
        {
          "output_type": "execute_result",
          "data": {
            "text/plain": [
              "39484    Medium\n",
              "39485    Medium\n",
              "39486    Medium\n",
              "39487    Medium\n",
              "39488    Medium\n",
              "39489    Medium\n",
              "39490      High\n",
              "39491    Medium\n",
              "39492    Medium\n",
              "39493    Medium\n",
              "39494    Medium\n",
              "39495    Medium\n",
              "39496    Medium\n",
              "39497       NaN\n",
              "39498      High\n",
              "Name: Dust_and_Noise, dtype: object"
            ]
          },
          "metadata": {},
          "execution_count": 768
        }
      ],
      "source": [
        "df['Dust_and_Noise'].tail(15)"
      ]
    },
    {
      "cell_type": "code",
      "execution_count": null,
      "metadata": {
        "colab": {
          "base_uri": "https://localhost:8080/"
        },
        "id": "CCxeSEtFoIwu",
        "outputId": "4997c839-de3e-49e3-822c-435301517d2a"
      },
      "outputs": [
        {
          "output_type": "execute_result",
          "data": {
            "text/plain": [
              "array(['Medium', nan, 'High', 'Low'], dtype=object)"
            ]
          },
          "metadata": {},
          "execution_count": 769
        }
      ],
      "source": [
        "df.Dust_and_Noise.unique()"
      ]
    },
    {
      "cell_type": "code",
      "execution_count": null,
      "metadata": {
        "colab": {
          "base_uri": "https://localhost:8080/"
        },
        "id": "hR6f44i2nZd_",
        "outputId": "1592fb9e-146e-48df-e927-3e1d47a4057d"
      },
      "outputs": [
        {
          "output_type": "execute_result",
          "data": {
            "text/plain": [
              "1219"
            ]
          },
          "metadata": {},
          "execution_count": 770
        }
      ],
      "source": [
        "df['Dust_and_Noise'].isnull().sum().sum()"
      ]
    },
    {
      "cell_type": "code",
      "execution_count": null,
      "metadata": {
        "id": "mRVBiV8Ej4u6"
      },
      "outputs": [],
      "source": [
        "#Replacing Nan with High because uncertainty calls for worst case scenario and should reduce Habitability_score\n",
        "df['Dust_and_Noise'] = df['Dust_and_Noise'].replace(np.nan,'High')"
      ]
    },
    {
      "cell_type": "code",
      "execution_count": null,
      "metadata": {
        "colab": {
          "base_uri": "https://localhost:8080/"
        },
        "id": "Wc_-28Z_oLu1",
        "outputId": "e9253528-f618-4aa7-8632-0ce1fa922a93"
      },
      "outputs": [
        {
          "output_type": "execute_result",
          "data": {
            "text/plain": [
              "array(['Medium', 'High', 'Low'], dtype=object)"
            ]
          },
          "metadata": {},
          "execution_count": 772
        }
      ],
      "source": [
        "df.Dust_and_Noise.unique()"
      ]
    },
    {
      "cell_type": "code",
      "execution_count": null,
      "metadata": {
        "colab": {
          "base_uri": "https://localhost:8080/"
        },
        "id": "QKsb_bRIoRhr",
        "outputId": "c3010983-2674-4713-d222-be22b64a1c2e"
      },
      "outputs": [
        {
          "output_type": "execute_result",
          "data": {
            "text/plain": [
              "array(['Slightly below average', 'Well below average',\n",
              "       'Well above average', nan, 'Slightly above average'], dtype=object)"
            ]
          },
          "metadata": {},
          "execution_count": 773
        }
      ],
      "source": [
        "df['Crime_Rate'].unique()"
      ]
    },
    {
      "cell_type": "code",
      "execution_count": null,
      "metadata": {
        "colab": {
          "base_uri": "https://localhost:8080/"
        },
        "id": "SyQBrd_toacb",
        "outputId": "ddf8302c-ad12-4c49-a5f9-79af07ca3153"
      },
      "outputs": [
        {
          "output_type": "execute_result",
          "data": {
            "text/plain": [
              "787"
            ]
          },
          "metadata": {},
          "execution_count": 774
        }
      ],
      "source": [
        "df['Crime_Rate'].isnull().sum().sum()"
      ]
    },
    {
      "cell_type": "code",
      "execution_count": null,
      "metadata": {
        "colab": {
          "base_uri": "https://localhost:8080/"
        },
        "id": "5d1lySrRosdw",
        "outputId": "1be0a72e-099f-44fe-9f6e-97e4b6256b95"
      },
      "outputs": [
        {
          "output_type": "execute_result",
          "data": {
            "text/plain": [
              "0    Slightly below average\n",
              "1        Well below average\n",
              "2    Slightly below average\n",
              "3        Well above average\n",
              "4        Well below average\n",
              "5        Well below average\n",
              "6                       NaN\n",
              "7        Well above average\n",
              "8        Well below average\n",
              "9        Well below average\n",
              "Name: Crime_Rate, dtype: object"
            ]
          },
          "metadata": {},
          "execution_count": 775
        }
      ],
      "source": [
        "df['Crime_Rate'].head(10)"
      ]
    },
    {
      "cell_type": "code",
      "execution_count": null,
      "metadata": {
        "id": "gT42u3MiodEr"
      },
      "outputs": [],
      "source": [
        "#Replacing Nan with Well above average because uncertainty calls for worst case scenario and should reduce Habitability_score\n",
        "df['Crime_Rate'] = df['Crime_Rate'].replace(np.nan,'Well above average')"
      ]
    },
    {
      "cell_type": "code",
      "execution_count": null,
      "metadata": {
        "colab": {
          "base_uri": "https://localhost:8080/"
        },
        "id": "WH0JWtovozoQ",
        "outputId": "d46ee981-0f7c-4e1c-eba2-b2824700cb80"
      },
      "outputs": [
        {
          "output_type": "execute_result",
          "data": {
            "text/plain": [
              "array(['Slightly below average', 'Well below average',\n",
              "       'Well above average', 'Slightly above average'], dtype=object)"
            ]
          },
          "metadata": {},
          "execution_count": 777
        }
      ],
      "source": [
        "df['Crime_Rate'].unique()"
      ]
    },
    {
      "cell_type": "code",
      "execution_count": null,
      "metadata": {
        "colab": {
          "base_uri": "https://localhost:8080/"
        },
        "id": "U2vvvrgOo3xo",
        "outputId": "1bee50c1-a53f-45a7-bbaa-6cfbb7c4020b"
      },
      "outputs": [
        {
          "output_type": "execute_result",
          "data": {
            "text/plain": [
              "array(['Semi_Furnished', 'Unfurnished', 'Fully Furnished', nan],\n",
              "      dtype=object)"
            ]
          },
          "metadata": {},
          "execution_count": 778
        }
      ],
      "source": [
        "df['Furnishing'].unique()"
      ]
    },
    {
      "cell_type": "code",
      "execution_count": null,
      "metadata": {
        "id": "39BThiLbo97I"
      },
      "outputs": [],
      "source": [
        "#Replacing Nan with Unfurnished because uncertainty calls for worst case scenario and should reduce Habitability_score\n",
        "df['Furnishing'] = df['Furnishing'].replace(np.nan,'Unfurnished')"
      ]
    },
    {
      "cell_type": "code",
      "execution_count": null,
      "metadata": {
        "colab": {
          "base_uri": "https://localhost:8080/"
        },
        "id": "GL8OSrBgpK7u",
        "outputId": "27a8380a-ab39-4a97-ccaa-fd854599c641"
      },
      "outputs": [
        {
          "output_type": "execute_result",
          "data": {
            "text/plain": [
              "array(['Semi_Furnished', 'Unfurnished', 'Fully Furnished'], dtype=object)"
            ]
          },
          "metadata": {},
          "execution_count": 780
        }
      ],
      "source": [
        "df['Furnishing'].unique()"
      ]
    },
    {
      "cell_type": "code",
      "execution_count": null,
      "metadata": {
        "colab": {
          "base_uri": "https://localhost:8080/"
        },
        "id": "Y2Bg3xzApNmF",
        "outputId": "7c420eb7-7d1c-4811-aecf-e3cc3af39e41"
      },
      "outputs": [
        {
          "output_type": "execute_result",
          "data": {
            "text/plain": [
              "array(['Apartment', 'Bungalow', 'Single-family home', 'Duplex',\n",
              "       '#R%$G&867', 'Container Home'], dtype=object)"
            ]
          },
          "metadata": {},
          "execution_count": 781
        }
      ],
      "source": [
        "df['Property_Type'].unique()"
      ]
    },
    {
      "cell_type": "code",
      "execution_count": null,
      "metadata": {
        "colab": {
          "base_uri": "https://localhost:8080/"
        },
        "id": "wYL_NugGpXwY",
        "outputId": "7820ee9c-ebae-4842-f48b-07c66c6e78c0"
      },
      "outputs": [
        {
          "output_type": "execute_result",
          "data": {
            "text/plain": [
              "Apartment             14596\n",
              "Single-family home    11477\n",
              "Duplex                 5806\n",
              "Bungalow               4238\n",
              "Container Home         2872\n",
              "#R%$G&867               510\n",
              "Name: Property_Type, dtype: int64"
            ]
          },
          "metadata": {},
          "execution_count": 782
        }
      ],
      "source": [
        "df['Property_Type'].value_counts()"
      ]
    },
    {
      "cell_type": "code",
      "execution_count": null,
      "metadata": {
        "id": "IFgoKyJAqAVA"
      },
      "outputs": [],
      "source": [
        "#since the effect of the value #R%$G&867 cannot be measured at the moment, it shall be unknown \n",
        "df['Property_Type'] = df['Property_Type'].replace('#R%$G&867','UnKnown')"
      ]
    },
    {
      "cell_type": "code",
      "execution_count": null,
      "metadata": {
        "colab": {
          "base_uri": "https://localhost:8080/"
        },
        "id": "ZflpsvwNqQhn",
        "outputId": "d25fa24c-f563-4d65-86af-923bb612c17c"
      },
      "outputs": [
        {
          "output_type": "execute_result",
          "data": {
            "text/plain": [
              "array(['Apartment', 'Bungalow', 'Single-family home', 'Duplex', 'UnKnown',\n",
              "       'Container Home'], dtype=object)"
            ]
          },
          "metadata": {},
          "execution_count": 784
        }
      ],
      "source": [
        "df['Property_Type'].unique()"
      ]
    },
    {
      "cell_type": "markdown",
      "metadata": {
        "id": "x_gWv22dqYfB"
      },
      "source": [
        "#AVERAGE CASE SCENARIO WHERE NA/NO DATA IS REPLACED WITH THE MEAN/MEDIAN OF THE PRESENT DATA"
      ]
    },
    {
      "cell_type": "code",
      "execution_count": null,
      "metadata": {
        "id": "tDTEJQc_qnk_",
        "colab": {
          "base_uri": "https://localhost:8080/"
        },
        "outputId": "931e5c13-10c0-432f-bc16-8efbd13993b6"
      },
      "outputs": [
        {
          "output_type": "execute_result",
          "data": {
            "text/plain": [
              "39484    Medium\n",
              "39485    Medium\n",
              "39486    Medium\n",
              "39487    Medium\n",
              "39488    Medium\n",
              "39489    Medium\n",
              "39490      High\n",
              "39491    Medium\n",
              "39492    Medium\n",
              "39493    Medium\n",
              "39494    Medium\n",
              "39495    Medium\n",
              "39496    Medium\n",
              "39497       NaN\n",
              "39498      High\n",
              "Name: Dust_and_Noise, dtype: object"
            ]
          },
          "metadata": {},
          "execution_count": 480
        }
      ],
      "source": [
        "df['Dust_and_Noise'].tail(15)"
      ]
    },
    {
      "cell_type": "code",
      "execution_count": null,
      "metadata": {
        "id": "0wVKVGoZqpkH",
        "colab": {
          "base_uri": "https://localhost:8080/"
        },
        "outputId": "a9a1da38-da8d-40df-c718-4688d88b2640"
      },
      "outputs": [
        {
          "output_type": "execute_result",
          "data": {
            "text/plain": [
              "array(['Medium', nan, 'High', 'Low'], dtype=object)"
            ]
          },
          "metadata": {},
          "execution_count": 481
        }
      ],
      "source": [
        "df.Dust_and_Noise.unique()"
      ]
    },
    {
      "cell_type": "code",
      "execution_count": null,
      "metadata": {
        "id": "ddLCJJSVqrrv",
        "colab": {
          "base_uri": "https://localhost:8080/"
        },
        "outputId": "5985006d-e82c-45c1-c643-4616264855af"
      },
      "outputs": [
        {
          "output_type": "execute_result",
          "data": {
            "text/plain": [
              "1219"
            ]
          },
          "metadata": {},
          "execution_count": 482
        }
      ],
      "source": [
        "df['Dust_and_Noise'].isnull().sum().sum()"
      ]
    },
    {
      "cell_type": "code",
      "execution_count": null,
      "metadata": {
        "id": "WqQH7CQ_quI_"
      },
      "outputs": [],
      "source": [
        "df['Dust_and_Noise'] = df['Dust_and_Noise'].replace(np.nan,'Medium')"
      ]
    },
    {
      "cell_type": "code",
      "execution_count": null,
      "metadata": {
        "id": "pF3BM1FLq1Cd",
        "colab": {
          "base_uri": "https://localhost:8080/"
        },
        "outputId": "b181c306-a8a7-45a8-fde1-268313ce6fd5"
      },
      "outputs": [
        {
          "output_type": "execute_result",
          "data": {
            "text/plain": [
              "array(['Medium', 'High', 'Low'], dtype=object)"
            ]
          },
          "metadata": {},
          "execution_count": 484
        }
      ],
      "source": [
        "df.Dust_and_Noise.unique()"
      ]
    },
    {
      "cell_type": "code",
      "execution_count": null,
      "metadata": {
        "id": "K64hsMyZq6l1",
        "colab": {
          "base_uri": "https://localhost:8080/"
        },
        "outputId": "607e162e-38c6-4a7d-ebd5-d2c327d4db15"
      },
      "outputs": [
        {
          "output_type": "execute_result",
          "data": {
            "text/plain": [
              "array(['Slightly below average', 'Well below average',\n",
              "       'Well above average', nan, 'Slightly above average'], dtype=object)"
            ]
          },
          "metadata": {},
          "execution_count": 485
        }
      ],
      "source": [
        "df['Crime_Rate'].unique()"
      ]
    },
    {
      "cell_type": "code",
      "execution_count": null,
      "metadata": {
        "id": "NIsjIDngq9ad",
        "colab": {
          "base_uri": "https://localhost:8080/"
        },
        "outputId": "48c1a1db-25a7-4b14-cd6d-88054199dea3"
      },
      "outputs": [
        {
          "output_type": "execute_result",
          "data": {
            "text/plain": [
              "787"
            ]
          },
          "metadata": {},
          "execution_count": 486
        }
      ],
      "source": [
        "df['Crime_Rate'].isnull().sum().sum()"
      ]
    },
    {
      "cell_type": "code",
      "execution_count": null,
      "metadata": {
        "id": "e-7YfBBJrDQ2"
      },
      "outputs": [],
      "source": [
        "df['Crime_Rate'] = df['Crime_Rate'].replace(np.nan,'Slightly above average')"
      ]
    },
    {
      "cell_type": "code",
      "execution_count": null,
      "metadata": {
        "id": "Jpl69012rMvO",
        "colab": {
          "base_uri": "https://localhost:8080/"
        },
        "outputId": "6a4cbdcf-1527-4c88-ce2f-6d77127481d7"
      },
      "outputs": [
        {
          "output_type": "execute_result",
          "data": {
            "text/plain": [
              "array(['Slightly below average', 'Well below average',\n",
              "       'Well above average', 'Slightly above average'], dtype=object)"
            ]
          },
          "metadata": {},
          "execution_count": 488
        }
      ],
      "source": [
        "df['Crime_Rate'].unique()"
      ]
    },
    {
      "cell_type": "code",
      "execution_count": null,
      "metadata": {
        "id": "7hPg7WqdrQ1u",
        "colab": {
          "base_uri": "https://localhost:8080/"
        },
        "outputId": "17975769-4a55-474c-9ba0-4d29486aa191"
      },
      "outputs": [
        {
          "output_type": "execute_result",
          "data": {
            "text/plain": [
              "array(['Semi_Furnished', 'Unfurnished', 'Fully Furnished', nan],\n",
              "      dtype=object)"
            ]
          },
          "metadata": {},
          "execution_count": 489
        }
      ],
      "source": [
        "df['Furnishing'].unique()"
      ]
    },
    {
      "cell_type": "code",
      "execution_count": null,
      "metadata": {
        "id": "EiSWLpG7rTUu"
      },
      "outputs": [],
      "source": [
        "df['Furnishing'] = df['Furnishing'].replace(np.nan,'Semi_Furnished')"
      ]
    },
    {
      "cell_type": "code",
      "execution_count": null,
      "metadata": {
        "id": "gTedg1rRrbkP",
        "colab": {
          "base_uri": "https://localhost:8080/"
        },
        "outputId": "d4f724ba-e789-4cd4-ea01-83647e655564"
      },
      "outputs": [
        {
          "output_type": "execute_result",
          "data": {
            "text/plain": [
              "array(['Semi_Furnished', 'Unfurnished', 'Fully Furnished'], dtype=object)"
            ]
          },
          "metadata": {},
          "execution_count": 491
        }
      ],
      "source": [
        "df['Furnishing'].unique()"
      ]
    },
    {
      "cell_type": "code",
      "execution_count": null,
      "metadata": {
        "id": "CBXW7pairarf",
        "colab": {
          "base_uri": "https://localhost:8080/"
        },
        "outputId": "dbf04676-f433-4c18-85a0-e0731dcabf3d"
      },
      "outputs": [
        {
          "output_type": "execute_result",
          "data": {
            "text/plain": [
              "array(['Apartment', 'Bungalow', 'Single-family home', 'Duplex',\n",
              "       '#R%$G&867', 'Container Home'], dtype=object)"
            ]
          },
          "metadata": {},
          "execution_count": 492
        }
      ],
      "source": [
        "df['Property_Type'].unique()"
      ]
    },
    {
      "cell_type": "code",
      "execution_count": null,
      "metadata": {
        "id": "9ctY1qO_rdIH",
        "colab": {
          "base_uri": "https://localhost:8080/"
        },
        "outputId": "53cbe44a-738e-4580-d6eb-9e7e60439296"
      },
      "outputs": [
        {
          "output_type": "execute_result",
          "data": {
            "text/plain": [
              "Apartment             14596\n",
              "Single-family home    11477\n",
              "Duplex                 5806\n",
              "Bungalow               4238\n",
              "Container Home         2872\n",
              "#R%$G&867               510\n",
              "Name: Property_Type, dtype: int64"
            ]
          },
          "metadata": {},
          "execution_count": 493
        }
      ],
      "source": [
        "df['Property_Type'].value_counts()"
      ]
    },
    {
      "cell_type": "code",
      "execution_count": null,
      "metadata": {
        "id": "eXvNIFpgre2R"
      },
      "outputs": [],
      "source": [
        "#since the effect of the value #R%$G&867 cannot be measured at the moment, it shall be unknown \n",
        "# df['Property_Type'] = df['Property_Type'].replace('#R%$G&867','UnKnown')"
      ]
    },
    {
      "cell_type": "code",
      "source": [
        "#since the effect of the value #R%$G&867 cannot be measured at the moment, it shall be unknown \n",
        "df['Property_Type'] = df['Property_Type'].replace('#R%$G&867','Apartment')"
      ],
      "metadata": {
        "id": "1hQJXkEgfafP"
      },
      "execution_count": null,
      "outputs": []
    },
    {
      "cell_type": "code",
      "execution_count": null,
      "metadata": {
        "id": "Zw1Om9rVrgBP",
        "colab": {
          "base_uri": "https://localhost:8080/"
        },
        "outputId": "b51fd02d-0f43-47d2-e7b8-6c4db8b83fcf"
      },
      "outputs": [
        {
          "output_type": "execute_result",
          "data": {
            "text/plain": [
              "array(['Apartment', 'Bungalow', 'Single-family home', 'Duplex',\n",
              "       'Container Home'], dtype=object)"
            ]
          },
          "metadata": {},
          "execution_count": 496
        }
      ],
      "source": [
        "df['Property_Type'].unique()"
      ]
    },
    {
      "cell_type": "markdown",
      "metadata": {
        "id": "SykhpWNkrj3_"
      },
      "source": [
        "#CLEARING NULL VALUES"
      ]
    },
    {
      "cell_type": "code",
      "execution_count": null,
      "metadata": {
        "colab": {
          "base_uri": "https://localhost:8080/"
        },
        "id": "QUYc4sJArmof",
        "outputId": "b069c6f5-306f-4bc4-94cc-aeaf50c5e05a"
      },
      "outputs": [
        {
          "output_type": "execute_result",
          "data": {
            "text/plain": [
              "  Property_ID Property_Type  Property_Area  Number_of_Windows  \\\n",
              "0      0x21e3     Apartment            106                NaN   \n",
              "1      0x68d4     Apartment            733                2.0   \n",
              "2      0x7d81     Apartment            737                4.0   \n",
              "3      0x7a57     Apartment            900                3.0   \n",
              "4      0x9409      Bungalow           2238               14.0   \n",
              "\n",
              "   Number_of_Doors       Furnishing  Frequency_of_Powercuts Power_Backup  \\\n",
              "0                1   Semi_Furnished                     0.0           No   \n",
              "1                2      Unfurnished                     1.0           No   \n",
              "2                2  Fully Furnished                     0.0           No   \n",
              "3                2      Unfurnished                     2.0          Yes   \n",
              "4                6  Fully Furnished                     0.0           No   \n",
              "\n",
              "              Water_Supply  Traffic_Density_Score              Crime_Rate  \\\n",
              "0  Once in a day - Morning                   5.89  Slightly below average   \n",
              "1  Once in a day - Evening                   4.37      Well below average   \n",
              "2  Once in a day - Morning                   7.45  Slightly below average   \n",
              "3  Once in a day - Morning                   6.16      Well above average   \n",
              "4                 All time                   5.46      Well below average   \n",
              "\n",
              "  Dust_and_Noise  Air_Quality_Index  Neighborhood_Review  Habitability_score  \n",
              "0         Medium               90.0                 3.86               71.98  \n",
              "1         Medium               96.0                 3.55               71.20  \n",
              "2         Medium              121.0                 3.81               71.39  \n",
              "3         Medium              100.0                 1.34               31.46  \n",
              "4         Medium              116.0                 4.77               93.70  "
            ],
            "text/html": [
              "\n",
              "  <div id=\"df-db8de59e-1a73-467b-8f5a-da27b9b96920\">\n",
              "    <div class=\"colab-df-container\">\n",
              "      <div>\n",
              "<style scoped>\n",
              "    .dataframe tbody tr th:only-of-type {\n",
              "        vertical-align: middle;\n",
              "    }\n",
              "\n",
              "    .dataframe tbody tr th {\n",
              "        vertical-align: top;\n",
              "    }\n",
              "\n",
              "    .dataframe thead th {\n",
              "        text-align: right;\n",
              "    }\n",
              "</style>\n",
              "<table border=\"1\" class=\"dataframe\">\n",
              "  <thead>\n",
              "    <tr style=\"text-align: right;\">\n",
              "      <th></th>\n",
              "      <th>Property_ID</th>\n",
              "      <th>Property_Type</th>\n",
              "      <th>Property_Area</th>\n",
              "      <th>Number_of_Windows</th>\n",
              "      <th>Number_of_Doors</th>\n",
              "      <th>Furnishing</th>\n",
              "      <th>Frequency_of_Powercuts</th>\n",
              "      <th>Power_Backup</th>\n",
              "      <th>Water_Supply</th>\n",
              "      <th>Traffic_Density_Score</th>\n",
              "      <th>Crime_Rate</th>\n",
              "      <th>Dust_and_Noise</th>\n",
              "      <th>Air_Quality_Index</th>\n",
              "      <th>Neighborhood_Review</th>\n",
              "      <th>Habitability_score</th>\n",
              "    </tr>\n",
              "  </thead>\n",
              "  <tbody>\n",
              "    <tr>\n",
              "      <th>0</th>\n",
              "      <td>0x21e3</td>\n",
              "      <td>Apartment</td>\n",
              "      <td>106</td>\n",
              "      <td>NaN</td>\n",
              "      <td>1</td>\n",
              "      <td>Semi_Furnished</td>\n",
              "      <td>0.0</td>\n",
              "      <td>No</td>\n",
              "      <td>Once in a day - Morning</td>\n",
              "      <td>5.89</td>\n",
              "      <td>Slightly below average</td>\n",
              "      <td>Medium</td>\n",
              "      <td>90.0</td>\n",
              "      <td>3.86</td>\n",
              "      <td>71.98</td>\n",
              "    </tr>\n",
              "    <tr>\n",
              "      <th>1</th>\n",
              "      <td>0x68d4</td>\n",
              "      <td>Apartment</td>\n",
              "      <td>733</td>\n",
              "      <td>2.0</td>\n",
              "      <td>2</td>\n",
              "      <td>Unfurnished</td>\n",
              "      <td>1.0</td>\n",
              "      <td>No</td>\n",
              "      <td>Once in a day - Evening</td>\n",
              "      <td>4.37</td>\n",
              "      <td>Well below average</td>\n",
              "      <td>Medium</td>\n",
              "      <td>96.0</td>\n",
              "      <td>3.55</td>\n",
              "      <td>71.20</td>\n",
              "    </tr>\n",
              "    <tr>\n",
              "      <th>2</th>\n",
              "      <td>0x7d81</td>\n",
              "      <td>Apartment</td>\n",
              "      <td>737</td>\n",
              "      <td>4.0</td>\n",
              "      <td>2</td>\n",
              "      <td>Fully Furnished</td>\n",
              "      <td>0.0</td>\n",
              "      <td>No</td>\n",
              "      <td>Once in a day - Morning</td>\n",
              "      <td>7.45</td>\n",
              "      <td>Slightly below average</td>\n",
              "      <td>Medium</td>\n",
              "      <td>121.0</td>\n",
              "      <td>3.81</td>\n",
              "      <td>71.39</td>\n",
              "    </tr>\n",
              "    <tr>\n",
              "      <th>3</th>\n",
              "      <td>0x7a57</td>\n",
              "      <td>Apartment</td>\n",
              "      <td>900</td>\n",
              "      <td>3.0</td>\n",
              "      <td>2</td>\n",
              "      <td>Unfurnished</td>\n",
              "      <td>2.0</td>\n",
              "      <td>Yes</td>\n",
              "      <td>Once in a day - Morning</td>\n",
              "      <td>6.16</td>\n",
              "      <td>Well above average</td>\n",
              "      <td>Medium</td>\n",
              "      <td>100.0</td>\n",
              "      <td>1.34</td>\n",
              "      <td>31.46</td>\n",
              "    </tr>\n",
              "    <tr>\n",
              "      <th>4</th>\n",
              "      <td>0x9409</td>\n",
              "      <td>Bungalow</td>\n",
              "      <td>2238</td>\n",
              "      <td>14.0</td>\n",
              "      <td>6</td>\n",
              "      <td>Fully Furnished</td>\n",
              "      <td>0.0</td>\n",
              "      <td>No</td>\n",
              "      <td>All time</td>\n",
              "      <td>5.46</td>\n",
              "      <td>Well below average</td>\n",
              "      <td>Medium</td>\n",
              "      <td>116.0</td>\n",
              "      <td>4.77</td>\n",
              "      <td>93.70</td>\n",
              "    </tr>\n",
              "  </tbody>\n",
              "</table>\n",
              "</div>\n",
              "      <button class=\"colab-df-convert\" onclick=\"convertToInteractive('df-db8de59e-1a73-467b-8f5a-da27b9b96920')\"\n",
              "              title=\"Convert this dataframe to an interactive table.\"\n",
              "              style=\"display:none;\">\n",
              "        \n",
              "  <svg xmlns=\"http://www.w3.org/2000/svg\" height=\"24px\"viewBox=\"0 0 24 24\"\n",
              "       width=\"24px\">\n",
              "    <path d=\"M0 0h24v24H0V0z\" fill=\"none\"/>\n",
              "    <path d=\"M18.56 5.44l.94 2.06.94-2.06 2.06-.94-2.06-.94-.94-2.06-.94 2.06-2.06.94zm-11 1L8.5 8.5l.94-2.06 2.06-.94-2.06-.94L8.5 2.5l-.94 2.06-2.06.94zm10 10l.94 2.06.94-2.06 2.06-.94-2.06-.94-.94-2.06-.94 2.06-2.06.94z\"/><path d=\"M17.41 7.96l-1.37-1.37c-.4-.4-.92-.59-1.43-.59-.52 0-1.04.2-1.43.59L10.3 9.45l-7.72 7.72c-.78.78-.78 2.05 0 2.83L4 21.41c.39.39.9.59 1.41.59.51 0 1.02-.2 1.41-.59l7.78-7.78 2.81-2.81c.8-.78.8-2.07 0-2.86zM5.41 20L4 18.59l7.72-7.72 1.47 1.35L5.41 20z\"/>\n",
              "  </svg>\n",
              "      </button>\n",
              "      \n",
              "  <style>\n",
              "    .colab-df-container {\n",
              "      display:flex;\n",
              "      flex-wrap:wrap;\n",
              "      gap: 12px;\n",
              "    }\n",
              "\n",
              "    .colab-df-convert {\n",
              "      background-color: #E8F0FE;\n",
              "      border: none;\n",
              "      border-radius: 50%;\n",
              "      cursor: pointer;\n",
              "      display: none;\n",
              "      fill: #1967D2;\n",
              "      height: 32px;\n",
              "      padding: 0 0 0 0;\n",
              "      width: 32px;\n",
              "    }\n",
              "\n",
              "    .colab-df-convert:hover {\n",
              "      background-color: #E2EBFA;\n",
              "      box-shadow: 0px 1px 2px rgba(60, 64, 67, 0.3), 0px 1px 3px 1px rgba(60, 64, 67, 0.15);\n",
              "      fill: #174EA6;\n",
              "    }\n",
              "\n",
              "    [theme=dark] .colab-df-convert {\n",
              "      background-color: #3B4455;\n",
              "      fill: #D2E3FC;\n",
              "    }\n",
              "\n",
              "    [theme=dark] .colab-df-convert:hover {\n",
              "      background-color: #434B5C;\n",
              "      box-shadow: 0px 1px 3px 1px rgba(0, 0, 0, 0.15);\n",
              "      filter: drop-shadow(0px 1px 2px rgba(0, 0, 0, 0.3));\n",
              "      fill: #FFFFFF;\n",
              "    }\n",
              "  </style>\n",
              "\n",
              "      <script>\n",
              "        const buttonEl =\n",
              "          document.querySelector('#df-db8de59e-1a73-467b-8f5a-da27b9b96920 button.colab-df-convert');\n",
              "        buttonEl.style.display =\n",
              "          google.colab.kernel.accessAllowed ? 'block' : 'none';\n",
              "\n",
              "        async function convertToInteractive(key) {\n",
              "          const element = document.querySelector('#df-db8de59e-1a73-467b-8f5a-da27b9b96920');\n",
              "          const dataTable =\n",
              "            await google.colab.kernel.invokeFunction('convertToInteractive',\n",
              "                                                     [key], {});\n",
              "          if (!dataTable) return;\n",
              "\n",
              "          const docLinkHtml = 'Like what you see? Visit the ' +\n",
              "            '<a target=\"_blank\" href=https://colab.research.google.com/notebooks/data_table.ipynb>data table notebook</a>'\n",
              "            + ' to learn more about interactive tables.';\n",
              "          element.innerHTML = '';\n",
              "          dataTable['output_type'] = 'display_data';\n",
              "          await google.colab.output.renderOutput(dataTable, element);\n",
              "          const docLink = document.createElement('div');\n",
              "          docLink.innerHTML = docLinkHtml;\n",
              "          element.appendChild(docLink);\n",
              "        }\n",
              "      </script>\n",
              "    </div>\n",
              "  </div>\n",
              "  "
            ]
          },
          "metadata": {},
          "execution_count": 785
        }
      ],
      "source": [
        "df.head(5)"
      ]
    },
    {
      "cell_type": "code",
      "execution_count": null,
      "metadata": {
        "colab": {
          "base_uri": "https://localhost:8080/"
        },
        "id": "1_i1zd9XrukX",
        "outputId": "705439b3-c00f-46ef-dc5f-c21299fff12b"
      },
      "outputs": [
        {
          "output_type": "stream",
          "name": "stdout",
          "text": [
            "Property_ID                        0\n",
            "Property_Type                      0\n",
            "Property_Area                      0\n",
            "Number_of_Windows                  1654\n",
            "Number_of_Doors                    0\n",
            "Furnishing                         0\n",
            "Frequency_of_Powercuts             1383\n",
            "Power_Backup                       0\n",
            "Water_Supply                       0\n",
            "Traffic_Density_Score              0\n",
            "Crime_Rate                         0\n",
            "Dust_and_Noise                     0\n",
            "Air_Quality_Index                  0\n",
            "Neighborhood_Review                0\n",
            "Habitability_score                 0\n"
          ]
        }
      ],
      "source": [
        "for i in df:\n",
        "  temp=35  \n",
        "  temp-=len(i)\n",
        "  check_str=\" \"*temp\n",
        "  print(i+check_str+ str(df[i].isnull().sum().sum()))"
      ]
    },
    {
      "cell_type": "code",
      "execution_count": null,
      "metadata": {
        "colab": {
          "base_uri": "https://localhost:8080/"
        },
        "id": "BqMB_X54thQ4",
        "outputId": "d238f7ac-8b8a-44ad-ee03-d04c4182545f"
      },
      "outputs": [
        {
          "output_type": "execute_result",
          "data": {
            "text/plain": [
              "3.923768001056943"
            ]
          },
          "metadata": {},
          "execution_count": 787
        }
      ],
      "source": [
        "df['Number_of_Windows'].mean()"
      ]
    },
    {
      "cell_type": "code",
      "execution_count": null,
      "metadata": {
        "id": "7v4xwFzstUT_"
      },
      "outputs": [],
      "source": [
        "#Replacing Nan with 4 because 3.923 is pretty close to 4 than to 3\n",
        "df['Number_of_Windows'] = df['Number_of_Windows'].replace(np.nan,4)"
      ]
    },
    {
      "cell_type": "code",
      "execution_count": null,
      "metadata": {
        "colab": {
          "base_uri": "https://localhost:8080/"
        },
        "id": "QPYVGRYYtxKo",
        "outputId": "850d614e-b1b8-4bf7-f558-b6c82fc2e273"
      },
      "outputs": [
        {
          "output_type": "execute_result",
          "data": {
            "text/plain": [
              "0.484678350299087"
            ]
          },
          "metadata": {},
          "execution_count": 789
        }
      ],
      "source": [
        "df['Frequency_of_Powercuts'].mean()"
      ]
    },
    {
      "cell_type": "code",
      "execution_count": null,
      "metadata": {
        "colab": {
          "base_uri": "https://localhost:8080/"
        },
        "id": "y4dzkXlEuEmn",
        "outputId": "8d03d4d4-bb86-43f7-b3a5-dc65141748b8"
      },
      "outputs": [
        {
          "output_type": "execute_result",
          "data": {
            "text/plain": [
              "array([ 0.,  1.,  2.,  3., nan])"
            ]
          },
          "metadata": {},
          "execution_count": 790
        }
      ],
      "source": [
        "df['Frequency_of_Powercuts'].unique()"
      ]
    },
    {
      "cell_type": "code",
      "execution_count": null,
      "metadata": {
        "colab": {
          "base_uri": "https://localhost:8080/"
        },
        "id": "ipOIWbwouUrZ",
        "outputId": "72bb1f10-6b86-4290-f850-f0e3737e3438"
      },
      "outputs": [
        {
          "output_type": "execute_result",
          "data": {
            "text/plain": [
              "0.0    24471\n",
              "1.0    10010\n",
              "2.0     2441\n",
              "3.0     1194\n",
              "Name: Frequency_of_Powercuts, dtype: int64"
            ]
          },
          "metadata": {},
          "execution_count": 791
        }
      ],
      "source": [
        "df['Frequency_of_Powercuts'].value_counts()"
      ]
    },
    {
      "cell_type": "code",
      "execution_count": null,
      "metadata": {
        "colab": {
          "base_uri": "https://localhost:8080/"
        },
        "id": "ReLnfojdujkH",
        "outputId": "9f71d212-6636-40b9-b71c-c28958786e2f"
      },
      "outputs": [
        {
          "output_type": "execute_result",
          "data": {
            "text/plain": [
              "1383"
            ]
          },
          "metadata": {},
          "execution_count": 792
        }
      ],
      "source": [
        "df['Frequency_of_Powercuts'].isnull().sum().sum()"
      ]
    },
    {
      "cell_type": "code",
      "execution_count": null,
      "metadata": {
        "id": "UbpHiQQ4usa0"
      },
      "outputs": [],
      "source": [
        "#since the number of na values are considerable the mean value 0.48 is rounded to 0.5 and nan is replaced with it\n",
        "# df['Frequency_of_Powercuts'] = df['Frequency_of_Powercuts'].replace(np.nan,0.5)"
      ]
    },
    {
      "cell_type": "code",
      "execution_count": null,
      "metadata": {
        "colab": {
          "base_uri": "https://localhost:8080/"
        },
        "id": "fJMivi05vrQg",
        "outputId": "fbe60847-85e6-4ffb-b5de-d4ddebb53c0d"
      },
      "outputs": [
        {
          "output_type": "stream",
          "name": "stdout",
          "text": [
            "Property_ID                        0\n",
            "Property_Type                      0\n",
            "Property_Area                      0\n",
            "Number_of_Windows                  0\n",
            "Number_of_Doors                    0\n",
            "Furnishing                         0\n",
            "Frequency_of_Powercuts             1383\n",
            "Power_Backup                       0\n",
            "Water_Supply                       0\n",
            "Traffic_Density_Score              0\n",
            "Crime_Rate                         0\n",
            "Dust_and_Noise                     0\n",
            "Air_Quality_Index                  0\n",
            "Neighborhood_Review                0\n",
            "Habitability_score                 0\n"
          ]
        }
      ],
      "source": [
        "for i in df:\n",
        "  temp=35  \n",
        "  temp-=len(i)\n",
        "  check_str=\" \"*temp\n",
        "  print(i+check_str+ str(df[i].isnull().sum().sum()))"
      ]
    },
    {
      "cell_type": "code",
      "source": [
        "df['Frequency_of_Powercuts'].value_counts()"
      ],
      "metadata": {
        "colab": {
          "base_uri": "https://localhost:8080/"
        },
        "id": "BFw2IAONdO45",
        "outputId": "59ab7ba3-8a99-4665-9125-259769802199"
      },
      "execution_count": null,
      "outputs": [
        {
          "output_type": "execute_result",
          "data": {
            "text/plain": [
              "0.0    24471\n",
              "1.0    10010\n",
              "2.0     2441\n",
              "3.0     1194\n",
              "Name: Frequency_of_Powercuts, dtype: int64"
            ]
          },
          "metadata": {},
          "execution_count": 795
        }
      ]
    },
    {
      "cell_type": "code",
      "source": [
        "#since the number of na values are considerable the mean value 0.48 is rounded to 0.5 and nan is replaced with it\n",
        "df['Frequency_of_Powercuts'] = df['Frequency_of_Powercuts'].replace(np.nan,0.0)"
      ],
      "metadata": {
        "id": "EYbQC5ObdNyQ"
      },
      "execution_count": null,
      "outputs": []
    },
    {
      "cell_type": "code",
      "source": [
        "df['Frequency_of_Powercuts'].value_counts()"
      ],
      "metadata": {
        "colab": {
          "base_uri": "https://localhost:8080/"
        },
        "id": "2EnGxbpMdWoF",
        "outputId": "cc008aab-f5e3-43fa-d30b-d886bc527b94"
      },
      "execution_count": null,
      "outputs": [
        {
          "output_type": "execute_result",
          "data": {
            "text/plain": [
              "0.0    25854\n",
              "1.0    10010\n",
              "2.0     2441\n",
              "3.0     1194\n",
              "Name: Frequency_of_Powercuts, dtype: int64"
            ]
          },
          "metadata": {},
          "execution_count": 797
        }
      ]
    },
    {
      "cell_type": "markdown",
      "metadata": {
        "id": "VUIgmELBvzz7"
      },
      "source": [
        "#Encoding categorical values"
      ]
    },
    {
      "cell_type": "code",
      "execution_count": null,
      "metadata": {
        "colab": {
          "base_uri": "https://localhost:8080/"
        },
        "id": "W7HhRZDbv27c",
        "outputId": "f72bb182-1dfb-426b-8bf8-c0dc7ba6d76e"
      },
      "outputs": [
        {
          "output_type": "execute_result",
          "data": {
            "text/plain": [
              "  Property_ID Property_Type  Property_Area  Number_of_Windows  \\\n",
              "0      0x21e3     Apartment            106                4.0   \n",
              "1      0x68d4     Apartment            733                2.0   \n",
              "2      0x7d81     Apartment            737                4.0   \n",
              "3      0x7a57     Apartment            900                3.0   \n",
              "4      0x9409      Bungalow           2238               14.0   \n",
              "\n",
              "   Number_of_Doors       Furnishing  Frequency_of_Powercuts Power_Backup  \\\n",
              "0                1   Semi_Furnished                     0.0           No   \n",
              "1                2      Unfurnished                     1.0           No   \n",
              "2                2  Fully Furnished                     0.0           No   \n",
              "3                2      Unfurnished                     2.0          Yes   \n",
              "4                6  Fully Furnished                     0.0           No   \n",
              "\n",
              "              Water_Supply  Traffic_Density_Score              Crime_Rate  \\\n",
              "0  Once in a day - Morning                   5.89  Slightly below average   \n",
              "1  Once in a day - Evening                   4.37      Well below average   \n",
              "2  Once in a day - Morning                   7.45  Slightly below average   \n",
              "3  Once in a day - Morning                   6.16      Well above average   \n",
              "4                 All time                   5.46      Well below average   \n",
              "\n",
              "  Dust_and_Noise  Air_Quality_Index  Neighborhood_Review  Habitability_score  \n",
              "0         Medium               90.0                 3.86               71.98  \n",
              "1         Medium               96.0                 3.55               71.20  \n",
              "2         Medium              121.0                 3.81               71.39  \n",
              "3         Medium              100.0                 1.34               31.46  \n",
              "4         Medium              116.0                 4.77               93.70  "
            ],
            "text/html": [
              "\n",
              "  <div id=\"df-4b9df400-27bb-4f84-a47a-ef9032932b71\">\n",
              "    <div class=\"colab-df-container\">\n",
              "      <div>\n",
              "<style scoped>\n",
              "    .dataframe tbody tr th:only-of-type {\n",
              "        vertical-align: middle;\n",
              "    }\n",
              "\n",
              "    .dataframe tbody tr th {\n",
              "        vertical-align: top;\n",
              "    }\n",
              "\n",
              "    .dataframe thead th {\n",
              "        text-align: right;\n",
              "    }\n",
              "</style>\n",
              "<table border=\"1\" class=\"dataframe\">\n",
              "  <thead>\n",
              "    <tr style=\"text-align: right;\">\n",
              "      <th></th>\n",
              "      <th>Property_ID</th>\n",
              "      <th>Property_Type</th>\n",
              "      <th>Property_Area</th>\n",
              "      <th>Number_of_Windows</th>\n",
              "      <th>Number_of_Doors</th>\n",
              "      <th>Furnishing</th>\n",
              "      <th>Frequency_of_Powercuts</th>\n",
              "      <th>Power_Backup</th>\n",
              "      <th>Water_Supply</th>\n",
              "      <th>Traffic_Density_Score</th>\n",
              "      <th>Crime_Rate</th>\n",
              "      <th>Dust_and_Noise</th>\n",
              "      <th>Air_Quality_Index</th>\n",
              "      <th>Neighborhood_Review</th>\n",
              "      <th>Habitability_score</th>\n",
              "    </tr>\n",
              "  </thead>\n",
              "  <tbody>\n",
              "    <tr>\n",
              "      <th>0</th>\n",
              "      <td>0x21e3</td>\n",
              "      <td>Apartment</td>\n",
              "      <td>106</td>\n",
              "      <td>4.0</td>\n",
              "      <td>1</td>\n",
              "      <td>Semi_Furnished</td>\n",
              "      <td>0.0</td>\n",
              "      <td>No</td>\n",
              "      <td>Once in a day - Morning</td>\n",
              "      <td>5.89</td>\n",
              "      <td>Slightly below average</td>\n",
              "      <td>Medium</td>\n",
              "      <td>90.0</td>\n",
              "      <td>3.86</td>\n",
              "      <td>71.98</td>\n",
              "    </tr>\n",
              "    <tr>\n",
              "      <th>1</th>\n",
              "      <td>0x68d4</td>\n",
              "      <td>Apartment</td>\n",
              "      <td>733</td>\n",
              "      <td>2.0</td>\n",
              "      <td>2</td>\n",
              "      <td>Unfurnished</td>\n",
              "      <td>1.0</td>\n",
              "      <td>No</td>\n",
              "      <td>Once in a day - Evening</td>\n",
              "      <td>4.37</td>\n",
              "      <td>Well below average</td>\n",
              "      <td>Medium</td>\n",
              "      <td>96.0</td>\n",
              "      <td>3.55</td>\n",
              "      <td>71.20</td>\n",
              "    </tr>\n",
              "    <tr>\n",
              "      <th>2</th>\n",
              "      <td>0x7d81</td>\n",
              "      <td>Apartment</td>\n",
              "      <td>737</td>\n",
              "      <td>4.0</td>\n",
              "      <td>2</td>\n",
              "      <td>Fully Furnished</td>\n",
              "      <td>0.0</td>\n",
              "      <td>No</td>\n",
              "      <td>Once in a day - Morning</td>\n",
              "      <td>7.45</td>\n",
              "      <td>Slightly below average</td>\n",
              "      <td>Medium</td>\n",
              "      <td>121.0</td>\n",
              "      <td>3.81</td>\n",
              "      <td>71.39</td>\n",
              "    </tr>\n",
              "    <tr>\n",
              "      <th>3</th>\n",
              "      <td>0x7a57</td>\n",
              "      <td>Apartment</td>\n",
              "      <td>900</td>\n",
              "      <td>3.0</td>\n",
              "      <td>2</td>\n",
              "      <td>Unfurnished</td>\n",
              "      <td>2.0</td>\n",
              "      <td>Yes</td>\n",
              "      <td>Once in a day - Morning</td>\n",
              "      <td>6.16</td>\n",
              "      <td>Well above average</td>\n",
              "      <td>Medium</td>\n",
              "      <td>100.0</td>\n",
              "      <td>1.34</td>\n",
              "      <td>31.46</td>\n",
              "    </tr>\n",
              "    <tr>\n",
              "      <th>4</th>\n",
              "      <td>0x9409</td>\n",
              "      <td>Bungalow</td>\n",
              "      <td>2238</td>\n",
              "      <td>14.0</td>\n",
              "      <td>6</td>\n",
              "      <td>Fully Furnished</td>\n",
              "      <td>0.0</td>\n",
              "      <td>No</td>\n",
              "      <td>All time</td>\n",
              "      <td>5.46</td>\n",
              "      <td>Well below average</td>\n",
              "      <td>Medium</td>\n",
              "      <td>116.0</td>\n",
              "      <td>4.77</td>\n",
              "      <td>93.70</td>\n",
              "    </tr>\n",
              "  </tbody>\n",
              "</table>\n",
              "</div>\n",
              "      <button class=\"colab-df-convert\" onclick=\"convertToInteractive('df-4b9df400-27bb-4f84-a47a-ef9032932b71')\"\n",
              "              title=\"Convert this dataframe to an interactive table.\"\n",
              "              style=\"display:none;\">\n",
              "        \n",
              "  <svg xmlns=\"http://www.w3.org/2000/svg\" height=\"24px\"viewBox=\"0 0 24 24\"\n",
              "       width=\"24px\">\n",
              "    <path d=\"M0 0h24v24H0V0z\" fill=\"none\"/>\n",
              "    <path d=\"M18.56 5.44l.94 2.06.94-2.06 2.06-.94-2.06-.94-.94-2.06-.94 2.06-2.06.94zm-11 1L8.5 8.5l.94-2.06 2.06-.94-2.06-.94L8.5 2.5l-.94 2.06-2.06.94zm10 10l.94 2.06.94-2.06 2.06-.94-2.06-.94-.94-2.06-.94 2.06-2.06.94z\"/><path d=\"M17.41 7.96l-1.37-1.37c-.4-.4-.92-.59-1.43-.59-.52 0-1.04.2-1.43.59L10.3 9.45l-7.72 7.72c-.78.78-.78 2.05 0 2.83L4 21.41c.39.39.9.59 1.41.59.51 0 1.02-.2 1.41-.59l7.78-7.78 2.81-2.81c.8-.78.8-2.07 0-2.86zM5.41 20L4 18.59l7.72-7.72 1.47 1.35L5.41 20z\"/>\n",
              "  </svg>\n",
              "      </button>\n",
              "      \n",
              "  <style>\n",
              "    .colab-df-container {\n",
              "      display:flex;\n",
              "      flex-wrap:wrap;\n",
              "      gap: 12px;\n",
              "    }\n",
              "\n",
              "    .colab-df-convert {\n",
              "      background-color: #E8F0FE;\n",
              "      border: none;\n",
              "      border-radius: 50%;\n",
              "      cursor: pointer;\n",
              "      display: none;\n",
              "      fill: #1967D2;\n",
              "      height: 32px;\n",
              "      padding: 0 0 0 0;\n",
              "      width: 32px;\n",
              "    }\n",
              "\n",
              "    .colab-df-convert:hover {\n",
              "      background-color: #E2EBFA;\n",
              "      box-shadow: 0px 1px 2px rgba(60, 64, 67, 0.3), 0px 1px 3px 1px rgba(60, 64, 67, 0.15);\n",
              "      fill: #174EA6;\n",
              "    }\n",
              "\n",
              "    [theme=dark] .colab-df-convert {\n",
              "      background-color: #3B4455;\n",
              "      fill: #D2E3FC;\n",
              "    }\n",
              "\n",
              "    [theme=dark] .colab-df-convert:hover {\n",
              "      background-color: #434B5C;\n",
              "      box-shadow: 0px 1px 3px 1px rgba(0, 0, 0, 0.15);\n",
              "      filter: drop-shadow(0px 1px 2px rgba(0, 0, 0, 0.3));\n",
              "      fill: #FFFFFF;\n",
              "    }\n",
              "  </style>\n",
              "\n",
              "      <script>\n",
              "        const buttonEl =\n",
              "          document.querySelector('#df-4b9df400-27bb-4f84-a47a-ef9032932b71 button.colab-df-convert');\n",
              "        buttonEl.style.display =\n",
              "          google.colab.kernel.accessAllowed ? 'block' : 'none';\n",
              "\n",
              "        async function convertToInteractive(key) {\n",
              "          const element = document.querySelector('#df-4b9df400-27bb-4f84-a47a-ef9032932b71');\n",
              "          const dataTable =\n",
              "            await google.colab.kernel.invokeFunction('convertToInteractive',\n",
              "                                                     [key], {});\n",
              "          if (!dataTable) return;\n",
              "\n",
              "          const docLinkHtml = 'Like what you see? Visit the ' +\n",
              "            '<a target=\"_blank\" href=https://colab.research.google.com/notebooks/data_table.ipynb>data table notebook</a>'\n",
              "            + ' to learn more about interactive tables.';\n",
              "          element.innerHTML = '';\n",
              "          dataTable['output_type'] = 'display_data';\n",
              "          await google.colab.output.renderOutput(dataTable, element);\n",
              "          const docLink = document.createElement('div');\n",
              "          docLink.innerHTML = docLinkHtml;\n",
              "          element.appendChild(docLink);\n",
              "        }\n",
              "      </script>\n",
              "    </div>\n",
              "  </div>\n",
              "  "
            ]
          },
          "metadata": {},
          "execution_count": 798
        }
      ],
      "source": [
        "df.head(5)"
      ]
    },
    {
      "cell_type": "code",
      "execution_count": null,
      "metadata": {
        "id": "1VSiN1Fgw2Xv",
        "colab": {
          "base_uri": "https://localhost:8080/"
        },
        "outputId": "f42dc2a0-d468-422f-d8bf-494289a67fb4"
      },
      "outputs": [
        {
          "output_type": "stream",
          "name": "stdout",
          "text": [
            "      Property_ID  Property_Area  Number_of_Windows  Number_of_Doors  \\\n",
            "0          0x21e3            106                4.0                1   \n",
            "1          0x68d4            733                2.0                2   \n",
            "2          0x7d81            737                4.0                2   \n",
            "3          0x7a57            900                3.0                2   \n",
            "4          0x9409           2238               14.0                6   \n",
            "...           ...            ...                ...              ...   \n",
            "39494      0x6e26           1120                3.0                2   \n",
            "39495      0xa013            445                1.0                3   \n",
            "39496      0x9721           3780                6.0                6   \n",
            "39497      0x7e25           1266                3.0                1   \n",
            "39498      0x8cb4           1229                2.0                4   \n",
            "\n",
            "            Furnishing  Frequency_of_Powercuts Power_Backup  \\\n",
            "0       Semi_Furnished                     0.0           No   \n",
            "1          Unfurnished                     1.0           No   \n",
            "2      Fully Furnished                     0.0           No   \n",
            "3          Unfurnished                     2.0          Yes   \n",
            "4      Fully Furnished                     0.0           No   \n",
            "...                ...                     ...          ...   \n",
            "39494      Unfurnished                     0.0           No   \n",
            "39495  Fully Furnished                     1.0           No   \n",
            "39496      Unfurnished                     0.0          Yes   \n",
            "39497   Semi_Furnished                     0.0           No   \n",
            "39498  Fully Furnished                     0.0           No   \n",
            "\n",
            "                  Water_Supply  Traffic_Density_Score              Crime_Rate  \\\n",
            "0      Once in a day - Morning                   5.89  Slightly below average   \n",
            "1      Once in a day - Evening                   4.37      Well below average   \n",
            "2      Once in a day - Morning                   7.45  Slightly below average   \n",
            "3      Once in a day - Morning                   6.16      Well above average   \n",
            "4                     All time                   5.46      Well below average   \n",
            "...                        ...                    ...                     ...   \n",
            "39494                 All time                   5.55  Slightly above average   \n",
            "39495                 All time                   5.70  Slightly above average   \n",
            "39496         Once in two days                   6.84      Well below average   \n",
            "39497  Once in a day - Morning                   4.60  Slightly above average   \n",
            "39498                 All time                   8.29      Well below average   \n",
            "\n",
            "      Dust_and_Noise  Air_Quality_Index  Neighborhood_Review  \\\n",
            "0             Medium               90.0                 3.86   \n",
            "1             Medium               96.0                 3.55   \n",
            "2             Medium              121.0                 3.81   \n",
            "3             Medium              100.0                 1.34   \n",
            "4             Medium              116.0                 4.77   \n",
            "...              ...                ...                  ...   \n",
            "39494         Medium               80.0                 3.56   \n",
            "39495         Medium               86.0                 2.93   \n",
            "39496         Medium              137.0                 3.80   \n",
            "39497           High               88.0                 3.25   \n",
            "39498           High              132.0                 4.67   \n",
            "\n",
            "       Habitability_score  Property_Type_Apartment  Property_Type_Bungalow  \\\n",
            "0                   71.98                        1                       0   \n",
            "1                   71.20                        1                       0   \n",
            "2                   71.39                        1                       0   \n",
            "3                   31.46                        1                       0   \n",
            "4                   93.70                        0                       1   \n",
            "...                   ...                      ...                     ...   \n",
            "39494               73.43                        0                       0   \n",
            "39495               79.91                        1                       0   \n",
            "39496               81.44                        0                       1   \n",
            "39497               71.33                        0                       0   \n",
            "39498               83.25                        0                       0   \n",
            "\n",
            "       Property_Type_Container Home  Property_Type_Duplex  \\\n",
            "0                                 0                     0   \n",
            "1                                 0                     0   \n",
            "2                                 0                     0   \n",
            "3                                 0                     0   \n",
            "4                                 0                     0   \n",
            "...                             ...                   ...   \n",
            "39494                             0                     0   \n",
            "39495                             0                     0   \n",
            "39496                             0                     0   \n",
            "39497                             0                     0   \n",
            "39498                             0                     0   \n",
            "\n",
            "       Property_Type_Single-family home  Property_Type_UnKnown  \n",
            "0                                     0                      0  \n",
            "1                                     0                      0  \n",
            "2                                     0                      0  \n",
            "3                                     0                      0  \n",
            "4                                     0                      0  \n",
            "...                                 ...                    ...  \n",
            "39494                                 1                      0  \n",
            "39495                                 0                      0  \n",
            "39496                                 0                      0  \n",
            "39497                                 1                      0  \n",
            "39498                                 1                      0  \n",
            "\n",
            "[39499 rows x 20 columns]\n"
          ]
        }
      ],
      "source": [
        "encode_1 = pd.get_dummies(df, columns = ['Property_Type'],sparse=True)\n",
        "# one_hot_encoded_data.replace({\"NA\": np.nan},inplace=True)\n",
        "print(encode_1)"
      ]
    },
    {
      "cell_type": "code",
      "source": [
        "encode_1.head(5)"
      ],
      "metadata": {
        "colab": {
          "base_uri": "https://localhost:8080/"
        },
        "id": "0vO5WQF8o4Lx",
        "outputId": "60e25f2f-61ca-41ef-ac31-733abc68ab66"
      },
      "execution_count": null,
      "outputs": [
        {
          "output_type": "execute_result",
          "data": {
            "text/plain": [
              "  Property_ID  Property_Area  Number_of_Windows  Number_of_Doors  \\\n",
              "0      0x21e3            106                4.0                1   \n",
              "1      0x68d4            733                2.0                2   \n",
              "2      0x7d81            737                4.0                2   \n",
              "3      0x7a57            900                3.0                2   \n",
              "4      0x9409           2238               14.0                6   \n",
              "\n",
              "        Furnishing  Frequency_of_Powercuts Power_Backup  \\\n",
              "0   Semi_Furnished                     0.0           No   \n",
              "1      Unfurnished                     1.0           No   \n",
              "2  Fully Furnished                     0.0           No   \n",
              "3      Unfurnished                     2.0          Yes   \n",
              "4  Fully Furnished                     0.0           No   \n",
              "\n",
              "              Water_Supply  Traffic_Density_Score              Crime_Rate  \\\n",
              "0  Once in a day - Morning                   5.89  Slightly below average   \n",
              "1  Once in a day - Evening                   4.37      Well below average   \n",
              "2  Once in a day - Morning                   7.45  Slightly below average   \n",
              "3  Once in a day - Morning                   6.16      Well above average   \n",
              "4                 All time                   5.46      Well below average   \n",
              "\n",
              "  Dust_and_Noise  Air_Quality_Index  Neighborhood_Review  Habitability_score  \\\n",
              "0         Medium               90.0                 3.86               71.98   \n",
              "1         Medium               96.0                 3.55               71.20   \n",
              "2         Medium              121.0                 3.81               71.39   \n",
              "3         Medium              100.0                 1.34               31.46   \n",
              "4         Medium              116.0                 4.77               93.70   \n",
              "\n",
              "   Property_Type_Apartment  Property_Type_Bungalow  \\\n",
              "0                        1                       0   \n",
              "1                        1                       0   \n",
              "2                        1                       0   \n",
              "3                        1                       0   \n",
              "4                        0                       1   \n",
              "\n",
              "   Property_Type_Container Home  Property_Type_Duplex  \\\n",
              "0                             0                     0   \n",
              "1                             0                     0   \n",
              "2                             0                     0   \n",
              "3                             0                     0   \n",
              "4                             0                     0   \n",
              "\n",
              "   Property_Type_Single-family home  Property_Type_UnKnown  \n",
              "0                                 0                      0  \n",
              "1                                 0                      0  \n",
              "2                                 0                      0  \n",
              "3                                 0                      0  \n",
              "4                                 0                      0  "
            ],
            "text/html": [
              "\n",
              "  <div id=\"df-a032f5a3-93ad-4302-9572-04f7e606a3c1\">\n",
              "    <div class=\"colab-df-container\">\n",
              "      <div>\n",
              "<style scoped>\n",
              "    .dataframe tbody tr th:only-of-type {\n",
              "        vertical-align: middle;\n",
              "    }\n",
              "\n",
              "    .dataframe tbody tr th {\n",
              "        vertical-align: top;\n",
              "    }\n",
              "\n",
              "    .dataframe thead th {\n",
              "        text-align: right;\n",
              "    }\n",
              "</style>\n",
              "<table border=\"1\" class=\"dataframe\">\n",
              "  <thead>\n",
              "    <tr style=\"text-align: right;\">\n",
              "      <th></th>\n",
              "      <th>Property_ID</th>\n",
              "      <th>Property_Area</th>\n",
              "      <th>Number_of_Windows</th>\n",
              "      <th>Number_of_Doors</th>\n",
              "      <th>Furnishing</th>\n",
              "      <th>Frequency_of_Powercuts</th>\n",
              "      <th>Power_Backup</th>\n",
              "      <th>Water_Supply</th>\n",
              "      <th>Traffic_Density_Score</th>\n",
              "      <th>Crime_Rate</th>\n",
              "      <th>Dust_and_Noise</th>\n",
              "      <th>Air_Quality_Index</th>\n",
              "      <th>Neighborhood_Review</th>\n",
              "      <th>Habitability_score</th>\n",
              "      <th>Property_Type_Apartment</th>\n",
              "      <th>Property_Type_Bungalow</th>\n",
              "      <th>Property_Type_Container Home</th>\n",
              "      <th>Property_Type_Duplex</th>\n",
              "      <th>Property_Type_Single-family home</th>\n",
              "      <th>Property_Type_UnKnown</th>\n",
              "    </tr>\n",
              "  </thead>\n",
              "  <tbody>\n",
              "    <tr>\n",
              "      <th>0</th>\n",
              "      <td>0x21e3</td>\n",
              "      <td>106</td>\n",
              "      <td>4.0</td>\n",
              "      <td>1</td>\n",
              "      <td>Semi_Furnished</td>\n",
              "      <td>0.0</td>\n",
              "      <td>No</td>\n",
              "      <td>Once in a day - Morning</td>\n",
              "      <td>5.89</td>\n",
              "      <td>Slightly below average</td>\n",
              "      <td>Medium</td>\n",
              "      <td>90.0</td>\n",
              "      <td>3.86</td>\n",
              "      <td>71.98</td>\n",
              "      <td>1</td>\n",
              "      <td>0</td>\n",
              "      <td>0</td>\n",
              "      <td>0</td>\n",
              "      <td>0</td>\n",
              "      <td>0</td>\n",
              "    </tr>\n",
              "    <tr>\n",
              "      <th>1</th>\n",
              "      <td>0x68d4</td>\n",
              "      <td>733</td>\n",
              "      <td>2.0</td>\n",
              "      <td>2</td>\n",
              "      <td>Unfurnished</td>\n",
              "      <td>1.0</td>\n",
              "      <td>No</td>\n",
              "      <td>Once in a day - Evening</td>\n",
              "      <td>4.37</td>\n",
              "      <td>Well below average</td>\n",
              "      <td>Medium</td>\n",
              "      <td>96.0</td>\n",
              "      <td>3.55</td>\n",
              "      <td>71.20</td>\n",
              "      <td>1</td>\n",
              "      <td>0</td>\n",
              "      <td>0</td>\n",
              "      <td>0</td>\n",
              "      <td>0</td>\n",
              "      <td>0</td>\n",
              "    </tr>\n",
              "    <tr>\n",
              "      <th>2</th>\n",
              "      <td>0x7d81</td>\n",
              "      <td>737</td>\n",
              "      <td>4.0</td>\n",
              "      <td>2</td>\n",
              "      <td>Fully Furnished</td>\n",
              "      <td>0.0</td>\n",
              "      <td>No</td>\n",
              "      <td>Once in a day - Morning</td>\n",
              "      <td>7.45</td>\n",
              "      <td>Slightly below average</td>\n",
              "      <td>Medium</td>\n",
              "      <td>121.0</td>\n",
              "      <td>3.81</td>\n",
              "      <td>71.39</td>\n",
              "      <td>1</td>\n",
              "      <td>0</td>\n",
              "      <td>0</td>\n",
              "      <td>0</td>\n",
              "      <td>0</td>\n",
              "      <td>0</td>\n",
              "    </tr>\n",
              "    <tr>\n",
              "      <th>3</th>\n",
              "      <td>0x7a57</td>\n",
              "      <td>900</td>\n",
              "      <td>3.0</td>\n",
              "      <td>2</td>\n",
              "      <td>Unfurnished</td>\n",
              "      <td>2.0</td>\n",
              "      <td>Yes</td>\n",
              "      <td>Once in a day - Morning</td>\n",
              "      <td>6.16</td>\n",
              "      <td>Well above average</td>\n",
              "      <td>Medium</td>\n",
              "      <td>100.0</td>\n",
              "      <td>1.34</td>\n",
              "      <td>31.46</td>\n",
              "      <td>1</td>\n",
              "      <td>0</td>\n",
              "      <td>0</td>\n",
              "      <td>0</td>\n",
              "      <td>0</td>\n",
              "      <td>0</td>\n",
              "    </tr>\n",
              "    <tr>\n",
              "      <th>4</th>\n",
              "      <td>0x9409</td>\n",
              "      <td>2238</td>\n",
              "      <td>14.0</td>\n",
              "      <td>6</td>\n",
              "      <td>Fully Furnished</td>\n",
              "      <td>0.0</td>\n",
              "      <td>No</td>\n",
              "      <td>All time</td>\n",
              "      <td>5.46</td>\n",
              "      <td>Well below average</td>\n",
              "      <td>Medium</td>\n",
              "      <td>116.0</td>\n",
              "      <td>4.77</td>\n",
              "      <td>93.70</td>\n",
              "      <td>0</td>\n",
              "      <td>1</td>\n",
              "      <td>0</td>\n",
              "      <td>0</td>\n",
              "      <td>0</td>\n",
              "      <td>0</td>\n",
              "    </tr>\n",
              "  </tbody>\n",
              "</table>\n",
              "</div>\n",
              "      <button class=\"colab-df-convert\" onclick=\"convertToInteractive('df-a032f5a3-93ad-4302-9572-04f7e606a3c1')\"\n",
              "              title=\"Convert this dataframe to an interactive table.\"\n",
              "              style=\"display:none;\">\n",
              "        \n",
              "  <svg xmlns=\"http://www.w3.org/2000/svg\" height=\"24px\"viewBox=\"0 0 24 24\"\n",
              "       width=\"24px\">\n",
              "    <path d=\"M0 0h24v24H0V0z\" fill=\"none\"/>\n",
              "    <path d=\"M18.56 5.44l.94 2.06.94-2.06 2.06-.94-2.06-.94-.94-2.06-.94 2.06-2.06.94zm-11 1L8.5 8.5l.94-2.06 2.06-.94-2.06-.94L8.5 2.5l-.94 2.06-2.06.94zm10 10l.94 2.06.94-2.06 2.06-.94-2.06-.94-.94-2.06-.94 2.06-2.06.94z\"/><path d=\"M17.41 7.96l-1.37-1.37c-.4-.4-.92-.59-1.43-.59-.52 0-1.04.2-1.43.59L10.3 9.45l-7.72 7.72c-.78.78-.78 2.05 0 2.83L4 21.41c.39.39.9.59 1.41.59.51 0 1.02-.2 1.41-.59l7.78-7.78 2.81-2.81c.8-.78.8-2.07 0-2.86zM5.41 20L4 18.59l7.72-7.72 1.47 1.35L5.41 20z\"/>\n",
              "  </svg>\n",
              "      </button>\n",
              "      \n",
              "  <style>\n",
              "    .colab-df-container {\n",
              "      display:flex;\n",
              "      flex-wrap:wrap;\n",
              "      gap: 12px;\n",
              "    }\n",
              "\n",
              "    .colab-df-convert {\n",
              "      background-color: #E8F0FE;\n",
              "      border: none;\n",
              "      border-radius: 50%;\n",
              "      cursor: pointer;\n",
              "      display: none;\n",
              "      fill: #1967D2;\n",
              "      height: 32px;\n",
              "      padding: 0 0 0 0;\n",
              "      width: 32px;\n",
              "    }\n",
              "\n",
              "    .colab-df-convert:hover {\n",
              "      background-color: #E2EBFA;\n",
              "      box-shadow: 0px 1px 2px rgba(60, 64, 67, 0.3), 0px 1px 3px 1px rgba(60, 64, 67, 0.15);\n",
              "      fill: #174EA6;\n",
              "    }\n",
              "\n",
              "    [theme=dark] .colab-df-convert {\n",
              "      background-color: #3B4455;\n",
              "      fill: #D2E3FC;\n",
              "    }\n",
              "\n",
              "    [theme=dark] .colab-df-convert:hover {\n",
              "      background-color: #434B5C;\n",
              "      box-shadow: 0px 1px 3px 1px rgba(0, 0, 0, 0.15);\n",
              "      filter: drop-shadow(0px 1px 2px rgba(0, 0, 0, 0.3));\n",
              "      fill: #FFFFFF;\n",
              "    }\n",
              "  </style>\n",
              "\n",
              "      <script>\n",
              "        const buttonEl =\n",
              "          document.querySelector('#df-a032f5a3-93ad-4302-9572-04f7e606a3c1 button.colab-df-convert');\n",
              "        buttonEl.style.display =\n",
              "          google.colab.kernel.accessAllowed ? 'block' : 'none';\n",
              "\n",
              "        async function convertToInteractive(key) {\n",
              "          const element = document.querySelector('#df-a032f5a3-93ad-4302-9572-04f7e606a3c1');\n",
              "          const dataTable =\n",
              "            await google.colab.kernel.invokeFunction('convertToInteractive',\n",
              "                                                     [key], {});\n",
              "          if (!dataTable) return;\n",
              "\n",
              "          const docLinkHtml = 'Like what you see? Visit the ' +\n",
              "            '<a target=\"_blank\" href=https://colab.research.google.com/notebooks/data_table.ipynb>data table notebook</a>'\n",
              "            + ' to learn more about interactive tables.';\n",
              "          element.innerHTML = '';\n",
              "          dataTable['output_type'] = 'display_data';\n",
              "          await google.colab.output.renderOutput(dataTable, element);\n",
              "          const docLink = document.createElement('div');\n",
              "          docLink.innerHTML = docLinkHtml;\n",
              "          element.appendChild(docLink);\n",
              "        }\n",
              "      </script>\n",
              "    </div>\n",
              "  </div>\n",
              "  "
            ]
          },
          "metadata": {},
          "execution_count": 800
        }
      ]
    },
    {
      "cell_type": "code",
      "source": [
        "encode_2 = pd.get_dummies(encode_1, columns = ['Furnishing'],sparse=True)\n",
        "# one_hot_encoded_data.replace({\"NA\": np.nan},inplace=True)\n",
        "encode_2.head(5)"
      ],
      "metadata": {
        "colab": {
          "base_uri": "https://localhost:8080/"
        },
        "id": "qendqIz1pmdA",
        "outputId": "eb900bcf-c5aa-4980-ae31-648897475aa1"
      },
      "execution_count": null,
      "outputs": [
        {
          "output_type": "execute_result",
          "data": {
            "text/plain": [
              "  Property_ID  Property_Area  Number_of_Windows  Number_of_Doors  \\\n",
              "0      0x21e3            106                4.0                1   \n",
              "1      0x68d4            733                2.0                2   \n",
              "2      0x7d81            737                4.0                2   \n",
              "3      0x7a57            900                3.0                2   \n",
              "4      0x9409           2238               14.0                6   \n",
              "\n",
              "   Frequency_of_Powercuts Power_Backup             Water_Supply  \\\n",
              "0                     0.0           No  Once in a day - Morning   \n",
              "1                     1.0           No  Once in a day - Evening   \n",
              "2                     0.0           No  Once in a day - Morning   \n",
              "3                     2.0          Yes  Once in a day - Morning   \n",
              "4                     0.0           No                 All time   \n",
              "\n",
              "   Traffic_Density_Score              Crime_Rate Dust_and_Noise  ...  \\\n",
              "0                   5.89  Slightly below average         Medium  ...   \n",
              "1                   4.37      Well below average         Medium  ...   \n",
              "2                   7.45  Slightly below average         Medium  ...   \n",
              "3                   6.16      Well above average         Medium  ...   \n",
              "4                   5.46      Well below average         Medium  ...   \n",
              "\n",
              "   Habitability_score  Property_Type_Apartment  Property_Type_Bungalow  \\\n",
              "0               71.98                        1                       0   \n",
              "1               71.20                        1                       0   \n",
              "2               71.39                        1                       0   \n",
              "3               31.46                        1                       0   \n",
              "4               93.70                        0                       1   \n",
              "\n",
              "   Property_Type_Container Home  Property_Type_Duplex  \\\n",
              "0                             0                     0   \n",
              "1                             0                     0   \n",
              "2                             0                     0   \n",
              "3                             0                     0   \n",
              "4                             0                     0   \n",
              "\n",
              "   Property_Type_Single-family home  Property_Type_UnKnown  \\\n",
              "0                                 0                      0   \n",
              "1                                 0                      0   \n",
              "2                                 0                      0   \n",
              "3                                 0                      0   \n",
              "4                                 0                      0   \n",
              "\n",
              "   Furnishing_Fully Furnished  Furnishing_Semi_Furnished  \\\n",
              "0                           0                          1   \n",
              "1                           0                          0   \n",
              "2                           1                          0   \n",
              "3                           0                          0   \n",
              "4                           1                          0   \n",
              "\n",
              "   Furnishing_Unfurnished  \n",
              "0                       0  \n",
              "1                       1  \n",
              "2                       0  \n",
              "3                       1  \n",
              "4                       0  \n",
              "\n",
              "[5 rows x 22 columns]"
            ],
            "text/html": [
              "\n",
              "  <div id=\"df-479cdaf5-7f42-4f69-aef4-49c9422e65bd\">\n",
              "    <div class=\"colab-df-container\">\n",
              "      <div>\n",
              "<style scoped>\n",
              "    .dataframe tbody tr th:only-of-type {\n",
              "        vertical-align: middle;\n",
              "    }\n",
              "\n",
              "    .dataframe tbody tr th {\n",
              "        vertical-align: top;\n",
              "    }\n",
              "\n",
              "    .dataframe thead th {\n",
              "        text-align: right;\n",
              "    }\n",
              "</style>\n",
              "<table border=\"1\" class=\"dataframe\">\n",
              "  <thead>\n",
              "    <tr style=\"text-align: right;\">\n",
              "      <th></th>\n",
              "      <th>Property_ID</th>\n",
              "      <th>Property_Area</th>\n",
              "      <th>Number_of_Windows</th>\n",
              "      <th>Number_of_Doors</th>\n",
              "      <th>Frequency_of_Powercuts</th>\n",
              "      <th>Power_Backup</th>\n",
              "      <th>Water_Supply</th>\n",
              "      <th>Traffic_Density_Score</th>\n",
              "      <th>Crime_Rate</th>\n",
              "      <th>Dust_and_Noise</th>\n",
              "      <th>...</th>\n",
              "      <th>Habitability_score</th>\n",
              "      <th>Property_Type_Apartment</th>\n",
              "      <th>Property_Type_Bungalow</th>\n",
              "      <th>Property_Type_Container Home</th>\n",
              "      <th>Property_Type_Duplex</th>\n",
              "      <th>Property_Type_Single-family home</th>\n",
              "      <th>Property_Type_UnKnown</th>\n",
              "      <th>Furnishing_Fully Furnished</th>\n",
              "      <th>Furnishing_Semi_Furnished</th>\n",
              "      <th>Furnishing_Unfurnished</th>\n",
              "    </tr>\n",
              "  </thead>\n",
              "  <tbody>\n",
              "    <tr>\n",
              "      <th>0</th>\n",
              "      <td>0x21e3</td>\n",
              "      <td>106</td>\n",
              "      <td>4.0</td>\n",
              "      <td>1</td>\n",
              "      <td>0.0</td>\n",
              "      <td>No</td>\n",
              "      <td>Once in a day - Morning</td>\n",
              "      <td>5.89</td>\n",
              "      <td>Slightly below average</td>\n",
              "      <td>Medium</td>\n",
              "      <td>...</td>\n",
              "      <td>71.98</td>\n",
              "      <td>1</td>\n",
              "      <td>0</td>\n",
              "      <td>0</td>\n",
              "      <td>0</td>\n",
              "      <td>0</td>\n",
              "      <td>0</td>\n",
              "      <td>0</td>\n",
              "      <td>1</td>\n",
              "      <td>0</td>\n",
              "    </tr>\n",
              "    <tr>\n",
              "      <th>1</th>\n",
              "      <td>0x68d4</td>\n",
              "      <td>733</td>\n",
              "      <td>2.0</td>\n",
              "      <td>2</td>\n",
              "      <td>1.0</td>\n",
              "      <td>No</td>\n",
              "      <td>Once in a day - Evening</td>\n",
              "      <td>4.37</td>\n",
              "      <td>Well below average</td>\n",
              "      <td>Medium</td>\n",
              "      <td>...</td>\n",
              "      <td>71.20</td>\n",
              "      <td>1</td>\n",
              "      <td>0</td>\n",
              "      <td>0</td>\n",
              "      <td>0</td>\n",
              "      <td>0</td>\n",
              "      <td>0</td>\n",
              "      <td>0</td>\n",
              "      <td>0</td>\n",
              "      <td>1</td>\n",
              "    </tr>\n",
              "    <tr>\n",
              "      <th>2</th>\n",
              "      <td>0x7d81</td>\n",
              "      <td>737</td>\n",
              "      <td>4.0</td>\n",
              "      <td>2</td>\n",
              "      <td>0.0</td>\n",
              "      <td>No</td>\n",
              "      <td>Once in a day - Morning</td>\n",
              "      <td>7.45</td>\n",
              "      <td>Slightly below average</td>\n",
              "      <td>Medium</td>\n",
              "      <td>...</td>\n",
              "      <td>71.39</td>\n",
              "      <td>1</td>\n",
              "      <td>0</td>\n",
              "      <td>0</td>\n",
              "      <td>0</td>\n",
              "      <td>0</td>\n",
              "      <td>0</td>\n",
              "      <td>1</td>\n",
              "      <td>0</td>\n",
              "      <td>0</td>\n",
              "    </tr>\n",
              "    <tr>\n",
              "      <th>3</th>\n",
              "      <td>0x7a57</td>\n",
              "      <td>900</td>\n",
              "      <td>3.0</td>\n",
              "      <td>2</td>\n",
              "      <td>2.0</td>\n",
              "      <td>Yes</td>\n",
              "      <td>Once in a day - Morning</td>\n",
              "      <td>6.16</td>\n",
              "      <td>Well above average</td>\n",
              "      <td>Medium</td>\n",
              "      <td>...</td>\n",
              "      <td>31.46</td>\n",
              "      <td>1</td>\n",
              "      <td>0</td>\n",
              "      <td>0</td>\n",
              "      <td>0</td>\n",
              "      <td>0</td>\n",
              "      <td>0</td>\n",
              "      <td>0</td>\n",
              "      <td>0</td>\n",
              "      <td>1</td>\n",
              "    </tr>\n",
              "    <tr>\n",
              "      <th>4</th>\n",
              "      <td>0x9409</td>\n",
              "      <td>2238</td>\n",
              "      <td>14.0</td>\n",
              "      <td>6</td>\n",
              "      <td>0.0</td>\n",
              "      <td>No</td>\n",
              "      <td>All time</td>\n",
              "      <td>5.46</td>\n",
              "      <td>Well below average</td>\n",
              "      <td>Medium</td>\n",
              "      <td>...</td>\n",
              "      <td>93.70</td>\n",
              "      <td>0</td>\n",
              "      <td>1</td>\n",
              "      <td>0</td>\n",
              "      <td>0</td>\n",
              "      <td>0</td>\n",
              "      <td>0</td>\n",
              "      <td>1</td>\n",
              "      <td>0</td>\n",
              "      <td>0</td>\n",
              "    </tr>\n",
              "  </tbody>\n",
              "</table>\n",
              "<p>5 rows × 22 columns</p>\n",
              "</div>\n",
              "      <button class=\"colab-df-convert\" onclick=\"convertToInteractive('df-479cdaf5-7f42-4f69-aef4-49c9422e65bd')\"\n",
              "              title=\"Convert this dataframe to an interactive table.\"\n",
              "              style=\"display:none;\">\n",
              "        \n",
              "  <svg xmlns=\"http://www.w3.org/2000/svg\" height=\"24px\"viewBox=\"0 0 24 24\"\n",
              "       width=\"24px\">\n",
              "    <path d=\"M0 0h24v24H0V0z\" fill=\"none\"/>\n",
              "    <path d=\"M18.56 5.44l.94 2.06.94-2.06 2.06-.94-2.06-.94-.94-2.06-.94 2.06-2.06.94zm-11 1L8.5 8.5l.94-2.06 2.06-.94-2.06-.94L8.5 2.5l-.94 2.06-2.06.94zm10 10l.94 2.06.94-2.06 2.06-.94-2.06-.94-.94-2.06-.94 2.06-2.06.94z\"/><path d=\"M17.41 7.96l-1.37-1.37c-.4-.4-.92-.59-1.43-.59-.52 0-1.04.2-1.43.59L10.3 9.45l-7.72 7.72c-.78.78-.78 2.05 0 2.83L4 21.41c.39.39.9.59 1.41.59.51 0 1.02-.2 1.41-.59l7.78-7.78 2.81-2.81c.8-.78.8-2.07 0-2.86zM5.41 20L4 18.59l7.72-7.72 1.47 1.35L5.41 20z\"/>\n",
              "  </svg>\n",
              "      </button>\n",
              "      \n",
              "  <style>\n",
              "    .colab-df-container {\n",
              "      display:flex;\n",
              "      flex-wrap:wrap;\n",
              "      gap: 12px;\n",
              "    }\n",
              "\n",
              "    .colab-df-convert {\n",
              "      background-color: #E8F0FE;\n",
              "      border: none;\n",
              "      border-radius: 50%;\n",
              "      cursor: pointer;\n",
              "      display: none;\n",
              "      fill: #1967D2;\n",
              "      height: 32px;\n",
              "      padding: 0 0 0 0;\n",
              "      width: 32px;\n",
              "    }\n",
              "\n",
              "    .colab-df-convert:hover {\n",
              "      background-color: #E2EBFA;\n",
              "      box-shadow: 0px 1px 2px rgba(60, 64, 67, 0.3), 0px 1px 3px 1px rgba(60, 64, 67, 0.15);\n",
              "      fill: #174EA6;\n",
              "    }\n",
              "\n",
              "    [theme=dark] .colab-df-convert {\n",
              "      background-color: #3B4455;\n",
              "      fill: #D2E3FC;\n",
              "    }\n",
              "\n",
              "    [theme=dark] .colab-df-convert:hover {\n",
              "      background-color: #434B5C;\n",
              "      box-shadow: 0px 1px 3px 1px rgba(0, 0, 0, 0.15);\n",
              "      filter: drop-shadow(0px 1px 2px rgba(0, 0, 0, 0.3));\n",
              "      fill: #FFFFFF;\n",
              "    }\n",
              "  </style>\n",
              "\n",
              "      <script>\n",
              "        const buttonEl =\n",
              "          document.querySelector('#df-479cdaf5-7f42-4f69-aef4-49c9422e65bd button.colab-df-convert');\n",
              "        buttonEl.style.display =\n",
              "          google.colab.kernel.accessAllowed ? 'block' : 'none';\n",
              "\n",
              "        async function convertToInteractive(key) {\n",
              "          const element = document.querySelector('#df-479cdaf5-7f42-4f69-aef4-49c9422e65bd');\n",
              "          const dataTable =\n",
              "            await google.colab.kernel.invokeFunction('convertToInteractive',\n",
              "                                                     [key], {});\n",
              "          if (!dataTable) return;\n",
              "\n",
              "          const docLinkHtml = 'Like what you see? Visit the ' +\n",
              "            '<a target=\"_blank\" href=https://colab.research.google.com/notebooks/data_table.ipynb>data table notebook</a>'\n",
              "            + ' to learn more about interactive tables.';\n",
              "          element.innerHTML = '';\n",
              "          dataTable['output_type'] = 'display_data';\n",
              "          await google.colab.output.renderOutput(dataTable, element);\n",
              "          const docLink = document.createElement('div');\n",
              "          docLink.innerHTML = docLinkHtml;\n",
              "          element.appendChild(docLink);\n",
              "        }\n",
              "      </script>\n",
              "    </div>\n",
              "  </div>\n",
              "  "
            ]
          },
          "metadata": {},
          "execution_count": 801
        }
      ]
    },
    {
      "cell_type": "code",
      "source": [
        "df.head(5)"
      ],
      "metadata": {
        "colab": {
          "base_uri": "https://localhost:8080/"
        },
        "id": "M0BBNnxap-EQ",
        "outputId": "e1947a31-dd24-4285-8610-15d62d39219d"
      },
      "execution_count": null,
      "outputs": [
        {
          "output_type": "execute_result",
          "data": {
            "text/plain": [
              "  Property_ID Property_Type  Property_Area  Number_of_Windows  \\\n",
              "0      0x21e3     Apartment            106                4.0   \n",
              "1      0x68d4     Apartment            733                2.0   \n",
              "2      0x7d81     Apartment            737                4.0   \n",
              "3      0x7a57     Apartment            900                3.0   \n",
              "4      0x9409      Bungalow           2238               14.0   \n",
              "\n",
              "   Number_of_Doors       Furnishing  Frequency_of_Powercuts Power_Backup  \\\n",
              "0                1   Semi_Furnished                     0.0           No   \n",
              "1                2      Unfurnished                     1.0           No   \n",
              "2                2  Fully Furnished                     0.0           No   \n",
              "3                2      Unfurnished                     2.0          Yes   \n",
              "4                6  Fully Furnished                     0.0           No   \n",
              "\n",
              "              Water_Supply  Traffic_Density_Score              Crime_Rate  \\\n",
              "0  Once in a day - Morning                   5.89  Slightly below average   \n",
              "1  Once in a day - Evening                   4.37      Well below average   \n",
              "2  Once in a day - Morning                   7.45  Slightly below average   \n",
              "3  Once in a day - Morning                   6.16      Well above average   \n",
              "4                 All time                   5.46      Well below average   \n",
              "\n",
              "  Dust_and_Noise  Air_Quality_Index  Neighborhood_Review  Habitability_score  \n",
              "0         Medium               90.0                 3.86               71.98  \n",
              "1         Medium               96.0                 3.55               71.20  \n",
              "2         Medium              121.0                 3.81               71.39  \n",
              "3         Medium              100.0                 1.34               31.46  \n",
              "4         Medium              116.0                 4.77               93.70  "
            ],
            "text/html": [
              "\n",
              "  <div id=\"df-8f984985-6daa-4326-9563-a239d6b76b54\">\n",
              "    <div class=\"colab-df-container\">\n",
              "      <div>\n",
              "<style scoped>\n",
              "    .dataframe tbody tr th:only-of-type {\n",
              "        vertical-align: middle;\n",
              "    }\n",
              "\n",
              "    .dataframe tbody tr th {\n",
              "        vertical-align: top;\n",
              "    }\n",
              "\n",
              "    .dataframe thead th {\n",
              "        text-align: right;\n",
              "    }\n",
              "</style>\n",
              "<table border=\"1\" class=\"dataframe\">\n",
              "  <thead>\n",
              "    <tr style=\"text-align: right;\">\n",
              "      <th></th>\n",
              "      <th>Property_ID</th>\n",
              "      <th>Property_Type</th>\n",
              "      <th>Property_Area</th>\n",
              "      <th>Number_of_Windows</th>\n",
              "      <th>Number_of_Doors</th>\n",
              "      <th>Furnishing</th>\n",
              "      <th>Frequency_of_Powercuts</th>\n",
              "      <th>Power_Backup</th>\n",
              "      <th>Water_Supply</th>\n",
              "      <th>Traffic_Density_Score</th>\n",
              "      <th>Crime_Rate</th>\n",
              "      <th>Dust_and_Noise</th>\n",
              "      <th>Air_Quality_Index</th>\n",
              "      <th>Neighborhood_Review</th>\n",
              "      <th>Habitability_score</th>\n",
              "    </tr>\n",
              "  </thead>\n",
              "  <tbody>\n",
              "    <tr>\n",
              "      <th>0</th>\n",
              "      <td>0x21e3</td>\n",
              "      <td>Apartment</td>\n",
              "      <td>106</td>\n",
              "      <td>4.0</td>\n",
              "      <td>1</td>\n",
              "      <td>Semi_Furnished</td>\n",
              "      <td>0.0</td>\n",
              "      <td>No</td>\n",
              "      <td>Once in a day - Morning</td>\n",
              "      <td>5.89</td>\n",
              "      <td>Slightly below average</td>\n",
              "      <td>Medium</td>\n",
              "      <td>90.0</td>\n",
              "      <td>3.86</td>\n",
              "      <td>71.98</td>\n",
              "    </tr>\n",
              "    <tr>\n",
              "      <th>1</th>\n",
              "      <td>0x68d4</td>\n",
              "      <td>Apartment</td>\n",
              "      <td>733</td>\n",
              "      <td>2.0</td>\n",
              "      <td>2</td>\n",
              "      <td>Unfurnished</td>\n",
              "      <td>1.0</td>\n",
              "      <td>No</td>\n",
              "      <td>Once in a day - Evening</td>\n",
              "      <td>4.37</td>\n",
              "      <td>Well below average</td>\n",
              "      <td>Medium</td>\n",
              "      <td>96.0</td>\n",
              "      <td>3.55</td>\n",
              "      <td>71.20</td>\n",
              "    </tr>\n",
              "    <tr>\n",
              "      <th>2</th>\n",
              "      <td>0x7d81</td>\n",
              "      <td>Apartment</td>\n",
              "      <td>737</td>\n",
              "      <td>4.0</td>\n",
              "      <td>2</td>\n",
              "      <td>Fully Furnished</td>\n",
              "      <td>0.0</td>\n",
              "      <td>No</td>\n",
              "      <td>Once in a day - Morning</td>\n",
              "      <td>7.45</td>\n",
              "      <td>Slightly below average</td>\n",
              "      <td>Medium</td>\n",
              "      <td>121.0</td>\n",
              "      <td>3.81</td>\n",
              "      <td>71.39</td>\n",
              "    </tr>\n",
              "    <tr>\n",
              "      <th>3</th>\n",
              "      <td>0x7a57</td>\n",
              "      <td>Apartment</td>\n",
              "      <td>900</td>\n",
              "      <td>3.0</td>\n",
              "      <td>2</td>\n",
              "      <td>Unfurnished</td>\n",
              "      <td>2.0</td>\n",
              "      <td>Yes</td>\n",
              "      <td>Once in a day - Morning</td>\n",
              "      <td>6.16</td>\n",
              "      <td>Well above average</td>\n",
              "      <td>Medium</td>\n",
              "      <td>100.0</td>\n",
              "      <td>1.34</td>\n",
              "      <td>31.46</td>\n",
              "    </tr>\n",
              "    <tr>\n",
              "      <th>4</th>\n",
              "      <td>0x9409</td>\n",
              "      <td>Bungalow</td>\n",
              "      <td>2238</td>\n",
              "      <td>14.0</td>\n",
              "      <td>6</td>\n",
              "      <td>Fully Furnished</td>\n",
              "      <td>0.0</td>\n",
              "      <td>No</td>\n",
              "      <td>All time</td>\n",
              "      <td>5.46</td>\n",
              "      <td>Well below average</td>\n",
              "      <td>Medium</td>\n",
              "      <td>116.0</td>\n",
              "      <td>4.77</td>\n",
              "      <td>93.70</td>\n",
              "    </tr>\n",
              "  </tbody>\n",
              "</table>\n",
              "</div>\n",
              "      <button class=\"colab-df-convert\" onclick=\"convertToInteractive('df-8f984985-6daa-4326-9563-a239d6b76b54')\"\n",
              "              title=\"Convert this dataframe to an interactive table.\"\n",
              "              style=\"display:none;\">\n",
              "        \n",
              "  <svg xmlns=\"http://www.w3.org/2000/svg\" height=\"24px\"viewBox=\"0 0 24 24\"\n",
              "       width=\"24px\">\n",
              "    <path d=\"M0 0h24v24H0V0z\" fill=\"none\"/>\n",
              "    <path d=\"M18.56 5.44l.94 2.06.94-2.06 2.06-.94-2.06-.94-.94-2.06-.94 2.06-2.06.94zm-11 1L8.5 8.5l.94-2.06 2.06-.94-2.06-.94L8.5 2.5l-.94 2.06-2.06.94zm10 10l.94 2.06.94-2.06 2.06-.94-2.06-.94-.94-2.06-.94 2.06-2.06.94z\"/><path d=\"M17.41 7.96l-1.37-1.37c-.4-.4-.92-.59-1.43-.59-.52 0-1.04.2-1.43.59L10.3 9.45l-7.72 7.72c-.78.78-.78 2.05 0 2.83L4 21.41c.39.39.9.59 1.41.59.51 0 1.02-.2 1.41-.59l7.78-7.78 2.81-2.81c.8-.78.8-2.07 0-2.86zM5.41 20L4 18.59l7.72-7.72 1.47 1.35L5.41 20z\"/>\n",
              "  </svg>\n",
              "      </button>\n",
              "      \n",
              "  <style>\n",
              "    .colab-df-container {\n",
              "      display:flex;\n",
              "      flex-wrap:wrap;\n",
              "      gap: 12px;\n",
              "    }\n",
              "\n",
              "    .colab-df-convert {\n",
              "      background-color: #E8F0FE;\n",
              "      border: none;\n",
              "      border-radius: 50%;\n",
              "      cursor: pointer;\n",
              "      display: none;\n",
              "      fill: #1967D2;\n",
              "      height: 32px;\n",
              "      padding: 0 0 0 0;\n",
              "      width: 32px;\n",
              "    }\n",
              "\n",
              "    .colab-df-convert:hover {\n",
              "      background-color: #E2EBFA;\n",
              "      box-shadow: 0px 1px 2px rgba(60, 64, 67, 0.3), 0px 1px 3px 1px rgba(60, 64, 67, 0.15);\n",
              "      fill: #174EA6;\n",
              "    }\n",
              "\n",
              "    [theme=dark] .colab-df-convert {\n",
              "      background-color: #3B4455;\n",
              "      fill: #D2E3FC;\n",
              "    }\n",
              "\n",
              "    [theme=dark] .colab-df-convert:hover {\n",
              "      background-color: #434B5C;\n",
              "      box-shadow: 0px 1px 3px 1px rgba(0, 0, 0, 0.15);\n",
              "      filter: drop-shadow(0px 1px 2px rgba(0, 0, 0, 0.3));\n",
              "      fill: #FFFFFF;\n",
              "    }\n",
              "  </style>\n",
              "\n",
              "      <script>\n",
              "        const buttonEl =\n",
              "          document.querySelector('#df-8f984985-6daa-4326-9563-a239d6b76b54 button.colab-df-convert');\n",
              "        buttonEl.style.display =\n",
              "          google.colab.kernel.accessAllowed ? 'block' : 'none';\n",
              "\n",
              "        async function convertToInteractive(key) {\n",
              "          const element = document.querySelector('#df-8f984985-6daa-4326-9563-a239d6b76b54');\n",
              "          const dataTable =\n",
              "            await google.colab.kernel.invokeFunction('convertToInteractive',\n",
              "                                                     [key], {});\n",
              "          if (!dataTable) return;\n",
              "\n",
              "          const docLinkHtml = 'Like what you see? Visit the ' +\n",
              "            '<a target=\"_blank\" href=https://colab.research.google.com/notebooks/data_table.ipynb>data table notebook</a>'\n",
              "            + ' to learn more about interactive tables.';\n",
              "          element.innerHTML = '';\n",
              "          dataTable['output_type'] = 'display_data';\n",
              "          await google.colab.output.renderOutput(dataTable, element);\n",
              "          const docLink = document.createElement('div');\n",
              "          docLink.innerHTML = docLinkHtml;\n",
              "          element.appendChild(docLink);\n",
              "        }\n",
              "      </script>\n",
              "    </div>\n",
              "  </div>\n",
              "  "
            ]
          },
          "metadata": {},
          "execution_count": 802
        }
      ]
    },
    {
      "cell_type": "code",
      "source": [
        "one_hot_encoded_data=pd.get_dummies(df, columns = ['Furnishing','Property_Type','Water_Supply','Crime_Rate','Dust_and_Noise','Power_Backup'],sparse=True)"
      ],
      "metadata": {
        "id": "QwJAaRVQp2Cf"
      },
      "execution_count": null,
      "outputs": []
    },
    {
      "cell_type": "code",
      "source": [
        "one_hot_encoded_data.head(5)"
      ],
      "metadata": {
        "colab": {
          "base_uri": "https://localhost:8080/"
        },
        "id": "ZR2mYFFFqbWQ",
        "outputId": "db77d5d1-6f62-45e2-815a-3436038bfc6f"
      },
      "execution_count": null,
      "outputs": [
        {
          "output_type": "execute_result",
          "data": {
            "text/plain": [
              "  Property_ID  Property_Area  Number_of_Windows  Number_of_Doors  \\\n",
              "0      0x21e3            106                4.0                1   \n",
              "1      0x68d4            733                2.0                2   \n",
              "2      0x7d81            737                4.0                2   \n",
              "3      0x7a57            900                3.0                2   \n",
              "4      0x9409           2238               14.0                6   \n",
              "\n",
              "   Frequency_of_Powercuts  Traffic_Density_Score  Air_Quality_Index  \\\n",
              "0                     0.0                   5.89               90.0   \n",
              "1                     1.0                   4.37               96.0   \n",
              "2                     0.0                   7.45              121.0   \n",
              "3                     2.0                   6.16              100.0   \n",
              "4                     0.0                   5.46              116.0   \n",
              "\n",
              "   Neighborhood_Review  Habitability_score  Furnishing_Fully Furnished  ...  \\\n",
              "0                 3.86               71.98                           0  ...   \n",
              "1                 3.55               71.20                           0  ...   \n",
              "2                 3.81               71.39                           1  ...   \n",
              "3                 1.34               31.46                           0  ...   \n",
              "4                 4.77               93.70                           1  ...   \n",
              "\n",
              "   Crime_Rate_Slightly above average  Crime_Rate_Slightly below average  \\\n",
              "0                                  0                                  1   \n",
              "1                                  0                                  0   \n",
              "2                                  0                                  1   \n",
              "3                                  0                                  0   \n",
              "4                                  0                                  0   \n",
              "\n",
              "   Crime_Rate_Well above average  Crime_Rate_Well below average  \\\n",
              "0                              0                              0   \n",
              "1                              0                              1   \n",
              "2                              0                              0   \n",
              "3                              1                              0   \n",
              "4                              0                              1   \n",
              "\n",
              "   Dust_and_Noise_High  Dust_and_Noise_Low  Dust_and_Noise_Medium  \\\n",
              "0                    0                   0                      1   \n",
              "1                    0                   0                      1   \n",
              "2                    0                   0                      1   \n",
              "3                    0                   0                      1   \n",
              "4                    0                   0                      1   \n",
              "\n",
              "   Power_Backup_NOT MENTIONED  Power_Backup_No  Power_Backup_Yes  \n",
              "0                           0                1                 0  \n",
              "1                           0                1                 0  \n",
              "2                           0                1                 0  \n",
              "3                           0                0                 1  \n",
              "4                           0                1                 0  \n",
              "\n",
              "[5 rows x 33 columns]"
            ],
            "text/html": [
              "\n",
              "  <div id=\"df-e139094b-be6f-4997-9e6c-01acbf009739\">\n",
              "    <div class=\"colab-df-container\">\n",
              "      <div>\n",
              "<style scoped>\n",
              "    .dataframe tbody tr th:only-of-type {\n",
              "        vertical-align: middle;\n",
              "    }\n",
              "\n",
              "    .dataframe tbody tr th {\n",
              "        vertical-align: top;\n",
              "    }\n",
              "\n",
              "    .dataframe thead th {\n",
              "        text-align: right;\n",
              "    }\n",
              "</style>\n",
              "<table border=\"1\" class=\"dataframe\">\n",
              "  <thead>\n",
              "    <tr style=\"text-align: right;\">\n",
              "      <th></th>\n",
              "      <th>Property_ID</th>\n",
              "      <th>Property_Area</th>\n",
              "      <th>Number_of_Windows</th>\n",
              "      <th>Number_of_Doors</th>\n",
              "      <th>Frequency_of_Powercuts</th>\n",
              "      <th>Traffic_Density_Score</th>\n",
              "      <th>Air_Quality_Index</th>\n",
              "      <th>Neighborhood_Review</th>\n",
              "      <th>Habitability_score</th>\n",
              "      <th>Furnishing_Fully Furnished</th>\n",
              "      <th>...</th>\n",
              "      <th>Crime_Rate_Slightly above average</th>\n",
              "      <th>Crime_Rate_Slightly below average</th>\n",
              "      <th>Crime_Rate_Well above average</th>\n",
              "      <th>Crime_Rate_Well below average</th>\n",
              "      <th>Dust_and_Noise_High</th>\n",
              "      <th>Dust_and_Noise_Low</th>\n",
              "      <th>Dust_and_Noise_Medium</th>\n",
              "      <th>Power_Backup_NOT MENTIONED</th>\n",
              "      <th>Power_Backup_No</th>\n",
              "      <th>Power_Backup_Yes</th>\n",
              "    </tr>\n",
              "  </thead>\n",
              "  <tbody>\n",
              "    <tr>\n",
              "      <th>0</th>\n",
              "      <td>0x21e3</td>\n",
              "      <td>106</td>\n",
              "      <td>4.0</td>\n",
              "      <td>1</td>\n",
              "      <td>0.0</td>\n",
              "      <td>5.89</td>\n",
              "      <td>90.0</td>\n",
              "      <td>3.86</td>\n",
              "      <td>71.98</td>\n",
              "      <td>0</td>\n",
              "      <td>...</td>\n",
              "      <td>0</td>\n",
              "      <td>1</td>\n",
              "      <td>0</td>\n",
              "      <td>0</td>\n",
              "      <td>0</td>\n",
              "      <td>0</td>\n",
              "      <td>1</td>\n",
              "      <td>0</td>\n",
              "      <td>1</td>\n",
              "      <td>0</td>\n",
              "    </tr>\n",
              "    <tr>\n",
              "      <th>1</th>\n",
              "      <td>0x68d4</td>\n",
              "      <td>733</td>\n",
              "      <td>2.0</td>\n",
              "      <td>2</td>\n",
              "      <td>1.0</td>\n",
              "      <td>4.37</td>\n",
              "      <td>96.0</td>\n",
              "      <td>3.55</td>\n",
              "      <td>71.20</td>\n",
              "      <td>0</td>\n",
              "      <td>...</td>\n",
              "      <td>0</td>\n",
              "      <td>0</td>\n",
              "      <td>0</td>\n",
              "      <td>1</td>\n",
              "      <td>0</td>\n",
              "      <td>0</td>\n",
              "      <td>1</td>\n",
              "      <td>0</td>\n",
              "      <td>1</td>\n",
              "      <td>0</td>\n",
              "    </tr>\n",
              "    <tr>\n",
              "      <th>2</th>\n",
              "      <td>0x7d81</td>\n",
              "      <td>737</td>\n",
              "      <td>4.0</td>\n",
              "      <td>2</td>\n",
              "      <td>0.0</td>\n",
              "      <td>7.45</td>\n",
              "      <td>121.0</td>\n",
              "      <td>3.81</td>\n",
              "      <td>71.39</td>\n",
              "      <td>1</td>\n",
              "      <td>...</td>\n",
              "      <td>0</td>\n",
              "      <td>1</td>\n",
              "      <td>0</td>\n",
              "      <td>0</td>\n",
              "      <td>0</td>\n",
              "      <td>0</td>\n",
              "      <td>1</td>\n",
              "      <td>0</td>\n",
              "      <td>1</td>\n",
              "      <td>0</td>\n",
              "    </tr>\n",
              "    <tr>\n",
              "      <th>3</th>\n",
              "      <td>0x7a57</td>\n",
              "      <td>900</td>\n",
              "      <td>3.0</td>\n",
              "      <td>2</td>\n",
              "      <td>2.0</td>\n",
              "      <td>6.16</td>\n",
              "      <td>100.0</td>\n",
              "      <td>1.34</td>\n",
              "      <td>31.46</td>\n",
              "      <td>0</td>\n",
              "      <td>...</td>\n",
              "      <td>0</td>\n",
              "      <td>0</td>\n",
              "      <td>1</td>\n",
              "      <td>0</td>\n",
              "      <td>0</td>\n",
              "      <td>0</td>\n",
              "      <td>1</td>\n",
              "      <td>0</td>\n",
              "      <td>0</td>\n",
              "      <td>1</td>\n",
              "    </tr>\n",
              "    <tr>\n",
              "      <th>4</th>\n",
              "      <td>0x9409</td>\n",
              "      <td>2238</td>\n",
              "      <td>14.0</td>\n",
              "      <td>6</td>\n",
              "      <td>0.0</td>\n",
              "      <td>5.46</td>\n",
              "      <td>116.0</td>\n",
              "      <td>4.77</td>\n",
              "      <td>93.70</td>\n",
              "      <td>1</td>\n",
              "      <td>...</td>\n",
              "      <td>0</td>\n",
              "      <td>0</td>\n",
              "      <td>0</td>\n",
              "      <td>1</td>\n",
              "      <td>0</td>\n",
              "      <td>0</td>\n",
              "      <td>1</td>\n",
              "      <td>0</td>\n",
              "      <td>1</td>\n",
              "      <td>0</td>\n",
              "    </tr>\n",
              "  </tbody>\n",
              "</table>\n",
              "<p>5 rows × 33 columns</p>\n",
              "</div>\n",
              "      <button class=\"colab-df-convert\" onclick=\"convertToInteractive('df-e139094b-be6f-4997-9e6c-01acbf009739')\"\n",
              "              title=\"Convert this dataframe to an interactive table.\"\n",
              "              style=\"display:none;\">\n",
              "        \n",
              "  <svg xmlns=\"http://www.w3.org/2000/svg\" height=\"24px\"viewBox=\"0 0 24 24\"\n",
              "       width=\"24px\">\n",
              "    <path d=\"M0 0h24v24H0V0z\" fill=\"none\"/>\n",
              "    <path d=\"M18.56 5.44l.94 2.06.94-2.06 2.06-.94-2.06-.94-.94-2.06-.94 2.06-2.06.94zm-11 1L8.5 8.5l.94-2.06 2.06-.94-2.06-.94L8.5 2.5l-.94 2.06-2.06.94zm10 10l.94 2.06.94-2.06 2.06-.94-2.06-.94-.94-2.06-.94 2.06-2.06.94z\"/><path d=\"M17.41 7.96l-1.37-1.37c-.4-.4-.92-.59-1.43-.59-.52 0-1.04.2-1.43.59L10.3 9.45l-7.72 7.72c-.78.78-.78 2.05 0 2.83L4 21.41c.39.39.9.59 1.41.59.51 0 1.02-.2 1.41-.59l7.78-7.78 2.81-2.81c.8-.78.8-2.07 0-2.86zM5.41 20L4 18.59l7.72-7.72 1.47 1.35L5.41 20z\"/>\n",
              "  </svg>\n",
              "      </button>\n",
              "      \n",
              "  <style>\n",
              "    .colab-df-container {\n",
              "      display:flex;\n",
              "      flex-wrap:wrap;\n",
              "      gap: 12px;\n",
              "    }\n",
              "\n",
              "    .colab-df-convert {\n",
              "      background-color: #E8F0FE;\n",
              "      border: none;\n",
              "      border-radius: 50%;\n",
              "      cursor: pointer;\n",
              "      display: none;\n",
              "      fill: #1967D2;\n",
              "      height: 32px;\n",
              "      padding: 0 0 0 0;\n",
              "      width: 32px;\n",
              "    }\n",
              "\n",
              "    .colab-df-convert:hover {\n",
              "      background-color: #E2EBFA;\n",
              "      box-shadow: 0px 1px 2px rgba(60, 64, 67, 0.3), 0px 1px 3px 1px rgba(60, 64, 67, 0.15);\n",
              "      fill: #174EA6;\n",
              "    }\n",
              "\n",
              "    [theme=dark] .colab-df-convert {\n",
              "      background-color: #3B4455;\n",
              "      fill: #D2E3FC;\n",
              "    }\n",
              "\n",
              "    [theme=dark] .colab-df-convert:hover {\n",
              "      background-color: #434B5C;\n",
              "      box-shadow: 0px 1px 3px 1px rgba(0, 0, 0, 0.15);\n",
              "      filter: drop-shadow(0px 1px 2px rgba(0, 0, 0, 0.3));\n",
              "      fill: #FFFFFF;\n",
              "    }\n",
              "  </style>\n",
              "\n",
              "      <script>\n",
              "        const buttonEl =\n",
              "          document.querySelector('#df-e139094b-be6f-4997-9e6c-01acbf009739 button.colab-df-convert');\n",
              "        buttonEl.style.display =\n",
              "          google.colab.kernel.accessAllowed ? 'block' : 'none';\n",
              "\n",
              "        async function convertToInteractive(key) {\n",
              "          const element = document.querySelector('#df-e139094b-be6f-4997-9e6c-01acbf009739');\n",
              "          const dataTable =\n",
              "            await google.colab.kernel.invokeFunction('convertToInteractive',\n",
              "                                                     [key], {});\n",
              "          if (!dataTable) return;\n",
              "\n",
              "          const docLinkHtml = 'Like what you see? Visit the ' +\n",
              "            '<a target=\"_blank\" href=https://colab.research.google.com/notebooks/data_table.ipynb>data table notebook</a>'\n",
              "            + ' to learn more about interactive tables.';\n",
              "          element.innerHTML = '';\n",
              "          dataTable['output_type'] = 'display_data';\n",
              "          await google.colab.output.renderOutput(dataTable, element);\n",
              "          const docLink = document.createElement('div');\n",
              "          docLink.innerHTML = docLinkHtml;\n",
              "          element.appendChild(docLink);\n",
              "        }\n",
              "      </script>\n",
              "    </div>\n",
              "  </div>\n",
              "  "
            ]
          },
          "metadata": {},
          "execution_count": 804
        }
      ]
    },
    {
      "cell_type": "code",
      "source": [
        "df['Frequency_of_Powercuts'].unique()"
      ],
      "metadata": {
        "colab": {
          "base_uri": "https://localhost:8080/"
        },
        "id": "rVV05Z_Wraug",
        "outputId": "0cec6aea-7821-4e4a-f3b5-03c1221ad8e4"
      },
      "execution_count": null,
      "outputs": [
        {
          "output_type": "execute_result",
          "data": {
            "text/plain": [
              "array([0., 1., 2., 3.])"
            ]
          },
          "metadata": {},
          "execution_count": 805
        }
      ]
    },
    {
      "cell_type": "markdown",
      "source": [
        "#FEATURE SCALING"
      ],
      "metadata": {
        "id": "jwPndkYA_to7"
      }
    },
    {
      "cell_type": "code",
      "source": [
        "one_hot_encoded_data.head(5)"
      ],
      "metadata": {
        "colab": {
          "base_uri": "https://localhost:8080/",
          "height": 317
        },
        "id": "4_6hWpDj_s5d",
        "outputId": "a29be10f-512b-422e-b31f-2ce40491db82"
      },
      "execution_count": null,
      "outputs": [
        {
          "output_type": "execute_result",
          "data": {
            "text/plain": [
              "  Property_ID  Property_Area  Number_of_Windows  Number_of_Doors  \\\n",
              "0      0x21e3            106                4.0                1   \n",
              "1      0x68d4            733                2.0                2   \n",
              "2      0x7d81            737                4.0                2   \n",
              "3      0x7a57            900                3.0                2   \n",
              "4      0x9409           2238               14.0                6   \n",
              "\n",
              "   Frequency_of_Powercuts  Traffic_Density_Score  Air_Quality_Index  \\\n",
              "0                     0.0                   5.89               90.0   \n",
              "1                     1.0                   4.37               96.0   \n",
              "2                     0.0                   7.45              121.0   \n",
              "3                     2.0                   6.16              100.0   \n",
              "4                     0.0                   5.46              116.0   \n",
              "\n",
              "   Neighborhood_Review  Habitability_score  Furnishing_Fully Furnished  ...  \\\n",
              "0                 3.86               71.98                           0  ...   \n",
              "1                 3.55               71.20                           0  ...   \n",
              "2                 3.81               71.39                           1  ...   \n",
              "3                 1.34               31.46                           0  ...   \n",
              "4                 4.77               93.70                           1  ...   \n",
              "\n",
              "   Crime_Rate_Slightly above average  Crime_Rate_Slightly below average  \\\n",
              "0                                  0                                  1   \n",
              "1                                  0                                  0   \n",
              "2                                  0                                  1   \n",
              "3                                  0                                  0   \n",
              "4                                  0                                  0   \n",
              "\n",
              "   Crime_Rate_Well above average  Crime_Rate_Well below average  \\\n",
              "0                              0                              0   \n",
              "1                              0                              1   \n",
              "2                              0                              0   \n",
              "3                              1                              0   \n",
              "4                              0                              1   \n",
              "\n",
              "   Dust_and_Noise_High  Dust_and_Noise_Low  Dust_and_Noise_Medium  \\\n",
              "0                    0                   0                      1   \n",
              "1                    0                   0                      1   \n",
              "2                    0                   0                      1   \n",
              "3                    0                   0                      1   \n",
              "4                    0                   0                      1   \n",
              "\n",
              "   Power_Backup_NOT MENTIONED  Power_Backup_No  Power_Backup_Yes  \n",
              "0                           0                1                 0  \n",
              "1                           0                1                 0  \n",
              "2                           0                1                 0  \n",
              "3                           0                0                 1  \n",
              "4                           0                1                 0  \n",
              "\n",
              "[5 rows x 33 columns]"
            ],
            "text/html": [
              "\n",
              "  <div id=\"df-fd39163c-88f7-491b-80f2-fe37a3f12575\">\n",
              "    <div class=\"colab-df-container\">\n",
              "      <div>\n",
              "<style scoped>\n",
              "    .dataframe tbody tr th:only-of-type {\n",
              "        vertical-align: middle;\n",
              "    }\n",
              "\n",
              "    .dataframe tbody tr th {\n",
              "        vertical-align: top;\n",
              "    }\n",
              "\n",
              "    .dataframe thead th {\n",
              "        text-align: right;\n",
              "    }\n",
              "</style>\n",
              "<table border=\"1\" class=\"dataframe\">\n",
              "  <thead>\n",
              "    <tr style=\"text-align: right;\">\n",
              "      <th></th>\n",
              "      <th>Property_ID</th>\n",
              "      <th>Property_Area</th>\n",
              "      <th>Number_of_Windows</th>\n",
              "      <th>Number_of_Doors</th>\n",
              "      <th>Frequency_of_Powercuts</th>\n",
              "      <th>Traffic_Density_Score</th>\n",
              "      <th>Air_Quality_Index</th>\n",
              "      <th>Neighborhood_Review</th>\n",
              "      <th>Habitability_score</th>\n",
              "      <th>Furnishing_Fully Furnished</th>\n",
              "      <th>...</th>\n",
              "      <th>Crime_Rate_Slightly above average</th>\n",
              "      <th>Crime_Rate_Slightly below average</th>\n",
              "      <th>Crime_Rate_Well above average</th>\n",
              "      <th>Crime_Rate_Well below average</th>\n",
              "      <th>Dust_and_Noise_High</th>\n",
              "      <th>Dust_and_Noise_Low</th>\n",
              "      <th>Dust_and_Noise_Medium</th>\n",
              "      <th>Power_Backup_NOT MENTIONED</th>\n",
              "      <th>Power_Backup_No</th>\n",
              "      <th>Power_Backup_Yes</th>\n",
              "    </tr>\n",
              "  </thead>\n",
              "  <tbody>\n",
              "    <tr>\n",
              "      <th>0</th>\n",
              "      <td>0x21e3</td>\n",
              "      <td>106</td>\n",
              "      <td>4.0</td>\n",
              "      <td>1</td>\n",
              "      <td>0.0</td>\n",
              "      <td>5.89</td>\n",
              "      <td>90.0</td>\n",
              "      <td>3.86</td>\n",
              "      <td>71.98</td>\n",
              "      <td>0</td>\n",
              "      <td>...</td>\n",
              "      <td>0</td>\n",
              "      <td>1</td>\n",
              "      <td>0</td>\n",
              "      <td>0</td>\n",
              "      <td>0</td>\n",
              "      <td>0</td>\n",
              "      <td>1</td>\n",
              "      <td>0</td>\n",
              "      <td>1</td>\n",
              "      <td>0</td>\n",
              "    </tr>\n",
              "    <tr>\n",
              "      <th>1</th>\n",
              "      <td>0x68d4</td>\n",
              "      <td>733</td>\n",
              "      <td>2.0</td>\n",
              "      <td>2</td>\n",
              "      <td>1.0</td>\n",
              "      <td>4.37</td>\n",
              "      <td>96.0</td>\n",
              "      <td>3.55</td>\n",
              "      <td>71.20</td>\n",
              "      <td>0</td>\n",
              "      <td>...</td>\n",
              "      <td>0</td>\n",
              "      <td>0</td>\n",
              "      <td>0</td>\n",
              "      <td>1</td>\n",
              "      <td>0</td>\n",
              "      <td>0</td>\n",
              "      <td>1</td>\n",
              "      <td>0</td>\n",
              "      <td>1</td>\n",
              "      <td>0</td>\n",
              "    </tr>\n",
              "    <tr>\n",
              "      <th>2</th>\n",
              "      <td>0x7d81</td>\n",
              "      <td>737</td>\n",
              "      <td>4.0</td>\n",
              "      <td>2</td>\n",
              "      <td>0.0</td>\n",
              "      <td>7.45</td>\n",
              "      <td>121.0</td>\n",
              "      <td>3.81</td>\n",
              "      <td>71.39</td>\n",
              "      <td>1</td>\n",
              "      <td>...</td>\n",
              "      <td>0</td>\n",
              "      <td>1</td>\n",
              "      <td>0</td>\n",
              "      <td>0</td>\n",
              "      <td>0</td>\n",
              "      <td>0</td>\n",
              "      <td>1</td>\n",
              "      <td>0</td>\n",
              "      <td>1</td>\n",
              "      <td>0</td>\n",
              "    </tr>\n",
              "    <tr>\n",
              "      <th>3</th>\n",
              "      <td>0x7a57</td>\n",
              "      <td>900</td>\n",
              "      <td>3.0</td>\n",
              "      <td>2</td>\n",
              "      <td>2.0</td>\n",
              "      <td>6.16</td>\n",
              "      <td>100.0</td>\n",
              "      <td>1.34</td>\n",
              "      <td>31.46</td>\n",
              "      <td>0</td>\n",
              "      <td>...</td>\n",
              "      <td>0</td>\n",
              "      <td>0</td>\n",
              "      <td>1</td>\n",
              "      <td>0</td>\n",
              "      <td>0</td>\n",
              "      <td>0</td>\n",
              "      <td>1</td>\n",
              "      <td>0</td>\n",
              "      <td>0</td>\n",
              "      <td>1</td>\n",
              "    </tr>\n",
              "    <tr>\n",
              "      <th>4</th>\n",
              "      <td>0x9409</td>\n",
              "      <td>2238</td>\n",
              "      <td>14.0</td>\n",
              "      <td>6</td>\n",
              "      <td>0.0</td>\n",
              "      <td>5.46</td>\n",
              "      <td>116.0</td>\n",
              "      <td>4.77</td>\n",
              "      <td>93.70</td>\n",
              "      <td>1</td>\n",
              "      <td>...</td>\n",
              "      <td>0</td>\n",
              "      <td>0</td>\n",
              "      <td>0</td>\n",
              "      <td>1</td>\n",
              "      <td>0</td>\n",
              "      <td>0</td>\n",
              "      <td>1</td>\n",
              "      <td>0</td>\n",
              "      <td>1</td>\n",
              "      <td>0</td>\n",
              "    </tr>\n",
              "  </tbody>\n",
              "</table>\n",
              "<p>5 rows × 33 columns</p>\n",
              "</div>\n",
              "      <button class=\"colab-df-convert\" onclick=\"convertToInteractive('df-fd39163c-88f7-491b-80f2-fe37a3f12575')\"\n",
              "              title=\"Convert this dataframe to an interactive table.\"\n",
              "              style=\"display:none;\">\n",
              "        \n",
              "  <svg xmlns=\"http://www.w3.org/2000/svg\" height=\"24px\"viewBox=\"0 0 24 24\"\n",
              "       width=\"24px\">\n",
              "    <path d=\"M0 0h24v24H0V0z\" fill=\"none\"/>\n",
              "    <path d=\"M18.56 5.44l.94 2.06.94-2.06 2.06-.94-2.06-.94-.94-2.06-.94 2.06-2.06.94zm-11 1L8.5 8.5l.94-2.06 2.06-.94-2.06-.94L8.5 2.5l-.94 2.06-2.06.94zm10 10l.94 2.06.94-2.06 2.06-.94-2.06-.94-.94-2.06-.94 2.06-2.06.94z\"/><path d=\"M17.41 7.96l-1.37-1.37c-.4-.4-.92-.59-1.43-.59-.52 0-1.04.2-1.43.59L10.3 9.45l-7.72 7.72c-.78.78-.78 2.05 0 2.83L4 21.41c.39.39.9.59 1.41.59.51 0 1.02-.2 1.41-.59l7.78-7.78 2.81-2.81c.8-.78.8-2.07 0-2.86zM5.41 20L4 18.59l7.72-7.72 1.47 1.35L5.41 20z\"/>\n",
              "  </svg>\n",
              "      </button>\n",
              "      \n",
              "  <style>\n",
              "    .colab-df-container {\n",
              "      display:flex;\n",
              "      flex-wrap:wrap;\n",
              "      gap: 12px;\n",
              "    }\n",
              "\n",
              "    .colab-df-convert {\n",
              "      background-color: #E8F0FE;\n",
              "      border: none;\n",
              "      border-radius: 50%;\n",
              "      cursor: pointer;\n",
              "      display: none;\n",
              "      fill: #1967D2;\n",
              "      height: 32px;\n",
              "      padding: 0 0 0 0;\n",
              "      width: 32px;\n",
              "    }\n",
              "\n",
              "    .colab-df-convert:hover {\n",
              "      background-color: #E2EBFA;\n",
              "      box-shadow: 0px 1px 2px rgba(60, 64, 67, 0.3), 0px 1px 3px 1px rgba(60, 64, 67, 0.15);\n",
              "      fill: #174EA6;\n",
              "    }\n",
              "\n",
              "    [theme=dark] .colab-df-convert {\n",
              "      background-color: #3B4455;\n",
              "      fill: #D2E3FC;\n",
              "    }\n",
              "\n",
              "    [theme=dark] .colab-df-convert:hover {\n",
              "      background-color: #434B5C;\n",
              "      box-shadow: 0px 1px 3px 1px rgba(0, 0, 0, 0.15);\n",
              "      filter: drop-shadow(0px 1px 2px rgba(0, 0, 0, 0.3));\n",
              "      fill: #FFFFFF;\n",
              "    }\n",
              "  </style>\n",
              "\n",
              "      <script>\n",
              "        const buttonEl =\n",
              "          document.querySelector('#df-fd39163c-88f7-491b-80f2-fe37a3f12575 button.colab-df-convert');\n",
              "        buttonEl.style.display =\n",
              "          google.colab.kernel.accessAllowed ? 'block' : 'none';\n",
              "\n",
              "        async function convertToInteractive(key) {\n",
              "          const element = document.querySelector('#df-fd39163c-88f7-491b-80f2-fe37a3f12575');\n",
              "          const dataTable =\n",
              "            await google.colab.kernel.invokeFunction('convertToInteractive',\n",
              "                                                     [key], {});\n",
              "          if (!dataTable) return;\n",
              "\n",
              "          const docLinkHtml = 'Like what you see? Visit the ' +\n",
              "            '<a target=\"_blank\" href=https://colab.research.google.com/notebooks/data_table.ipynb>data table notebook</a>'\n",
              "            + ' to learn more about interactive tables.';\n",
              "          element.innerHTML = '';\n",
              "          dataTable['output_type'] = 'display_data';\n",
              "          await google.colab.output.renderOutput(dataTable, element);\n",
              "          const docLink = document.createElement('div');\n",
              "          docLink.innerHTML = docLinkHtml;\n",
              "          element.appendChild(docLink);\n",
              "        }\n",
              "      </script>\n",
              "    </div>\n",
              "  </div>\n",
              "  "
            ]
          },
          "metadata": {},
          "execution_count": 806
        }
      ]
    },
    {
      "cell_type": "code",
      "source": [
        "train = one_hot_encoded_data.iloc[:, 1:]\n",
        "train.head(5)"
      ],
      "metadata": {
        "colab": {
          "base_uri": "https://localhost:8080/",
          "height": 317
        },
        "id": "C3967XodAh4M",
        "outputId": "f5fcfa62-ee52-4367-e3dc-6cb184bc84d9"
      },
      "execution_count": null,
      "outputs": [
        {
          "output_type": "execute_result",
          "data": {
            "text/plain": [
              "   Property_Area  Number_of_Windows  Number_of_Doors  Frequency_of_Powercuts  \\\n",
              "0            106                4.0                1                     0.0   \n",
              "1            733                2.0                2                     1.0   \n",
              "2            737                4.0                2                     0.0   \n",
              "3            900                3.0                2                     2.0   \n",
              "4           2238               14.0                6                     0.0   \n",
              "\n",
              "   Traffic_Density_Score  Air_Quality_Index  Neighborhood_Review  \\\n",
              "0                   5.89               90.0                 3.86   \n",
              "1                   4.37               96.0                 3.55   \n",
              "2                   7.45              121.0                 3.81   \n",
              "3                   6.16              100.0                 1.34   \n",
              "4                   5.46              116.0                 4.77   \n",
              "\n",
              "   Habitability_score  Furnishing_Fully Furnished  Furnishing_Semi_Furnished  \\\n",
              "0               71.98                           0                          1   \n",
              "1               71.20                           0                          0   \n",
              "2               71.39                           1                          0   \n",
              "3               31.46                           0                          0   \n",
              "4               93.70                           1                          0   \n",
              "\n",
              "   ...  Crime_Rate_Slightly above average  Crime_Rate_Slightly below average  \\\n",
              "0  ...                                  0                                  1   \n",
              "1  ...                                  0                                  0   \n",
              "2  ...                                  0                                  1   \n",
              "3  ...                                  0                                  0   \n",
              "4  ...                                  0                                  0   \n",
              "\n",
              "   Crime_Rate_Well above average  Crime_Rate_Well below average  \\\n",
              "0                              0                              0   \n",
              "1                              0                              1   \n",
              "2                              0                              0   \n",
              "3                              1                              0   \n",
              "4                              0                              1   \n",
              "\n",
              "   Dust_and_Noise_High  Dust_and_Noise_Low  Dust_and_Noise_Medium  \\\n",
              "0                    0                   0                      1   \n",
              "1                    0                   0                      1   \n",
              "2                    0                   0                      1   \n",
              "3                    0                   0                      1   \n",
              "4                    0                   0                      1   \n",
              "\n",
              "   Power_Backup_NOT MENTIONED  Power_Backup_No  Power_Backup_Yes  \n",
              "0                           0                1                 0  \n",
              "1                           0                1                 0  \n",
              "2                           0                1                 0  \n",
              "3                           0                0                 1  \n",
              "4                           0                1                 0  \n",
              "\n",
              "[5 rows x 32 columns]"
            ],
            "text/html": [
              "\n",
              "  <div id=\"df-47280a0b-7578-4ccf-bce7-95e54536eadb\">\n",
              "    <div class=\"colab-df-container\">\n",
              "      <div>\n",
              "<style scoped>\n",
              "    .dataframe tbody tr th:only-of-type {\n",
              "        vertical-align: middle;\n",
              "    }\n",
              "\n",
              "    .dataframe tbody tr th {\n",
              "        vertical-align: top;\n",
              "    }\n",
              "\n",
              "    .dataframe thead th {\n",
              "        text-align: right;\n",
              "    }\n",
              "</style>\n",
              "<table border=\"1\" class=\"dataframe\">\n",
              "  <thead>\n",
              "    <tr style=\"text-align: right;\">\n",
              "      <th></th>\n",
              "      <th>Property_Area</th>\n",
              "      <th>Number_of_Windows</th>\n",
              "      <th>Number_of_Doors</th>\n",
              "      <th>Frequency_of_Powercuts</th>\n",
              "      <th>Traffic_Density_Score</th>\n",
              "      <th>Air_Quality_Index</th>\n",
              "      <th>Neighborhood_Review</th>\n",
              "      <th>Habitability_score</th>\n",
              "      <th>Furnishing_Fully Furnished</th>\n",
              "      <th>Furnishing_Semi_Furnished</th>\n",
              "      <th>...</th>\n",
              "      <th>Crime_Rate_Slightly above average</th>\n",
              "      <th>Crime_Rate_Slightly below average</th>\n",
              "      <th>Crime_Rate_Well above average</th>\n",
              "      <th>Crime_Rate_Well below average</th>\n",
              "      <th>Dust_and_Noise_High</th>\n",
              "      <th>Dust_and_Noise_Low</th>\n",
              "      <th>Dust_and_Noise_Medium</th>\n",
              "      <th>Power_Backup_NOT MENTIONED</th>\n",
              "      <th>Power_Backup_No</th>\n",
              "      <th>Power_Backup_Yes</th>\n",
              "    </tr>\n",
              "  </thead>\n",
              "  <tbody>\n",
              "    <tr>\n",
              "      <th>0</th>\n",
              "      <td>106</td>\n",
              "      <td>4.0</td>\n",
              "      <td>1</td>\n",
              "      <td>0.0</td>\n",
              "      <td>5.89</td>\n",
              "      <td>90.0</td>\n",
              "      <td>3.86</td>\n",
              "      <td>71.98</td>\n",
              "      <td>0</td>\n",
              "      <td>1</td>\n",
              "      <td>...</td>\n",
              "      <td>0</td>\n",
              "      <td>1</td>\n",
              "      <td>0</td>\n",
              "      <td>0</td>\n",
              "      <td>0</td>\n",
              "      <td>0</td>\n",
              "      <td>1</td>\n",
              "      <td>0</td>\n",
              "      <td>1</td>\n",
              "      <td>0</td>\n",
              "    </tr>\n",
              "    <tr>\n",
              "      <th>1</th>\n",
              "      <td>733</td>\n",
              "      <td>2.0</td>\n",
              "      <td>2</td>\n",
              "      <td>1.0</td>\n",
              "      <td>4.37</td>\n",
              "      <td>96.0</td>\n",
              "      <td>3.55</td>\n",
              "      <td>71.20</td>\n",
              "      <td>0</td>\n",
              "      <td>0</td>\n",
              "      <td>...</td>\n",
              "      <td>0</td>\n",
              "      <td>0</td>\n",
              "      <td>0</td>\n",
              "      <td>1</td>\n",
              "      <td>0</td>\n",
              "      <td>0</td>\n",
              "      <td>1</td>\n",
              "      <td>0</td>\n",
              "      <td>1</td>\n",
              "      <td>0</td>\n",
              "    </tr>\n",
              "    <tr>\n",
              "      <th>2</th>\n",
              "      <td>737</td>\n",
              "      <td>4.0</td>\n",
              "      <td>2</td>\n",
              "      <td>0.0</td>\n",
              "      <td>7.45</td>\n",
              "      <td>121.0</td>\n",
              "      <td>3.81</td>\n",
              "      <td>71.39</td>\n",
              "      <td>1</td>\n",
              "      <td>0</td>\n",
              "      <td>...</td>\n",
              "      <td>0</td>\n",
              "      <td>1</td>\n",
              "      <td>0</td>\n",
              "      <td>0</td>\n",
              "      <td>0</td>\n",
              "      <td>0</td>\n",
              "      <td>1</td>\n",
              "      <td>0</td>\n",
              "      <td>1</td>\n",
              "      <td>0</td>\n",
              "    </tr>\n",
              "    <tr>\n",
              "      <th>3</th>\n",
              "      <td>900</td>\n",
              "      <td>3.0</td>\n",
              "      <td>2</td>\n",
              "      <td>2.0</td>\n",
              "      <td>6.16</td>\n",
              "      <td>100.0</td>\n",
              "      <td>1.34</td>\n",
              "      <td>31.46</td>\n",
              "      <td>0</td>\n",
              "      <td>0</td>\n",
              "      <td>...</td>\n",
              "      <td>0</td>\n",
              "      <td>0</td>\n",
              "      <td>1</td>\n",
              "      <td>0</td>\n",
              "      <td>0</td>\n",
              "      <td>0</td>\n",
              "      <td>1</td>\n",
              "      <td>0</td>\n",
              "      <td>0</td>\n",
              "      <td>1</td>\n",
              "    </tr>\n",
              "    <tr>\n",
              "      <th>4</th>\n",
              "      <td>2238</td>\n",
              "      <td>14.0</td>\n",
              "      <td>6</td>\n",
              "      <td>0.0</td>\n",
              "      <td>5.46</td>\n",
              "      <td>116.0</td>\n",
              "      <td>4.77</td>\n",
              "      <td>93.70</td>\n",
              "      <td>1</td>\n",
              "      <td>0</td>\n",
              "      <td>...</td>\n",
              "      <td>0</td>\n",
              "      <td>0</td>\n",
              "      <td>0</td>\n",
              "      <td>1</td>\n",
              "      <td>0</td>\n",
              "      <td>0</td>\n",
              "      <td>1</td>\n",
              "      <td>0</td>\n",
              "      <td>1</td>\n",
              "      <td>0</td>\n",
              "    </tr>\n",
              "  </tbody>\n",
              "</table>\n",
              "<p>5 rows × 32 columns</p>\n",
              "</div>\n",
              "      <button class=\"colab-df-convert\" onclick=\"convertToInteractive('df-47280a0b-7578-4ccf-bce7-95e54536eadb')\"\n",
              "              title=\"Convert this dataframe to an interactive table.\"\n",
              "              style=\"display:none;\">\n",
              "        \n",
              "  <svg xmlns=\"http://www.w3.org/2000/svg\" height=\"24px\"viewBox=\"0 0 24 24\"\n",
              "       width=\"24px\">\n",
              "    <path d=\"M0 0h24v24H0V0z\" fill=\"none\"/>\n",
              "    <path d=\"M18.56 5.44l.94 2.06.94-2.06 2.06-.94-2.06-.94-.94-2.06-.94 2.06-2.06.94zm-11 1L8.5 8.5l.94-2.06 2.06-.94-2.06-.94L8.5 2.5l-.94 2.06-2.06.94zm10 10l.94 2.06.94-2.06 2.06-.94-2.06-.94-.94-2.06-.94 2.06-2.06.94z\"/><path d=\"M17.41 7.96l-1.37-1.37c-.4-.4-.92-.59-1.43-.59-.52 0-1.04.2-1.43.59L10.3 9.45l-7.72 7.72c-.78.78-.78 2.05 0 2.83L4 21.41c.39.39.9.59 1.41.59.51 0 1.02-.2 1.41-.59l7.78-7.78 2.81-2.81c.8-.78.8-2.07 0-2.86zM5.41 20L4 18.59l7.72-7.72 1.47 1.35L5.41 20z\"/>\n",
              "  </svg>\n",
              "      </button>\n",
              "      \n",
              "  <style>\n",
              "    .colab-df-container {\n",
              "      display:flex;\n",
              "      flex-wrap:wrap;\n",
              "      gap: 12px;\n",
              "    }\n",
              "\n",
              "    .colab-df-convert {\n",
              "      background-color: #E8F0FE;\n",
              "      border: none;\n",
              "      border-radius: 50%;\n",
              "      cursor: pointer;\n",
              "      display: none;\n",
              "      fill: #1967D2;\n",
              "      height: 32px;\n",
              "      padding: 0 0 0 0;\n",
              "      width: 32px;\n",
              "    }\n",
              "\n",
              "    .colab-df-convert:hover {\n",
              "      background-color: #E2EBFA;\n",
              "      box-shadow: 0px 1px 2px rgba(60, 64, 67, 0.3), 0px 1px 3px 1px rgba(60, 64, 67, 0.15);\n",
              "      fill: #174EA6;\n",
              "    }\n",
              "\n",
              "    [theme=dark] .colab-df-convert {\n",
              "      background-color: #3B4455;\n",
              "      fill: #D2E3FC;\n",
              "    }\n",
              "\n",
              "    [theme=dark] .colab-df-convert:hover {\n",
              "      background-color: #434B5C;\n",
              "      box-shadow: 0px 1px 3px 1px rgba(0, 0, 0, 0.15);\n",
              "      filter: drop-shadow(0px 1px 2px rgba(0, 0, 0, 0.3));\n",
              "      fill: #FFFFFF;\n",
              "    }\n",
              "  </style>\n",
              "\n",
              "      <script>\n",
              "        const buttonEl =\n",
              "          document.querySelector('#df-47280a0b-7578-4ccf-bce7-95e54536eadb button.colab-df-convert');\n",
              "        buttonEl.style.display =\n",
              "          google.colab.kernel.accessAllowed ? 'block' : 'none';\n",
              "\n",
              "        async function convertToInteractive(key) {\n",
              "          const element = document.querySelector('#df-47280a0b-7578-4ccf-bce7-95e54536eadb');\n",
              "          const dataTable =\n",
              "            await google.colab.kernel.invokeFunction('convertToInteractive',\n",
              "                                                     [key], {});\n",
              "          if (!dataTable) return;\n",
              "\n",
              "          const docLinkHtml = 'Like what you see? Visit the ' +\n",
              "            '<a target=\"_blank\" href=https://colab.research.google.com/notebooks/data_table.ipynb>data table notebook</a>'\n",
              "            + ' to learn more about interactive tables.';\n",
              "          element.innerHTML = '';\n",
              "          dataTable['output_type'] = 'display_data';\n",
              "          await google.colab.output.renderOutput(dataTable, element);\n",
              "          const docLink = document.createElement('div');\n",
              "          docLink.innerHTML = docLinkHtml;\n",
              "          element.appendChild(docLink);\n",
              "        }\n",
              "      </script>\n",
              "    </div>\n",
              "  </div>\n",
              "  "
            ]
          },
          "metadata": {},
          "execution_count": 807
        }
      ]
    },
    {
      "cell_type": "code",
      "source": [
        "train=train.drop(['Habitability_score'], axis=1)\n",
        "train.head(5)"
      ],
      "metadata": {
        "colab": {
          "base_uri": "https://localhost:8080/",
          "height": 317
        },
        "id": "Q66HbwyADFx8",
        "outputId": "59527854-1b71-4437-ab5c-381dfd6724d2"
      },
      "execution_count": null,
      "outputs": [
        {
          "output_type": "execute_result",
          "data": {
            "text/plain": [
              "   Property_Area  Number_of_Windows  Number_of_Doors  Frequency_of_Powercuts  \\\n",
              "0            106                4.0                1                     0.0   \n",
              "1            733                2.0                2                     1.0   \n",
              "2            737                4.0                2                     0.0   \n",
              "3            900                3.0                2                     2.0   \n",
              "4           2238               14.0                6                     0.0   \n",
              "\n",
              "   Traffic_Density_Score  Air_Quality_Index  Neighborhood_Review  \\\n",
              "0                   5.89               90.0                 3.86   \n",
              "1                   4.37               96.0                 3.55   \n",
              "2                   7.45              121.0                 3.81   \n",
              "3                   6.16              100.0                 1.34   \n",
              "4                   5.46              116.0                 4.77   \n",
              "\n",
              "   Furnishing_Fully Furnished  Furnishing_Semi_Furnished  \\\n",
              "0                           0                          1   \n",
              "1                           0                          0   \n",
              "2                           1                          0   \n",
              "3                           0                          0   \n",
              "4                           1                          0   \n",
              "\n",
              "   Furnishing_Unfurnished  ...  Crime_Rate_Slightly above average  \\\n",
              "0                       0  ...                                  0   \n",
              "1                       1  ...                                  0   \n",
              "2                       0  ...                                  0   \n",
              "3                       1  ...                                  0   \n",
              "4                       0  ...                                  0   \n",
              "\n",
              "   Crime_Rate_Slightly below average  Crime_Rate_Well above average  \\\n",
              "0                                  1                              0   \n",
              "1                                  0                              0   \n",
              "2                                  1                              0   \n",
              "3                                  0                              1   \n",
              "4                                  0                              0   \n",
              "\n",
              "   Crime_Rate_Well below average  Dust_and_Noise_High  Dust_and_Noise_Low  \\\n",
              "0                              0                    0                   0   \n",
              "1                              1                    0                   0   \n",
              "2                              0                    0                   0   \n",
              "3                              0                    0                   0   \n",
              "4                              1                    0                   0   \n",
              "\n",
              "   Dust_and_Noise_Medium  Power_Backup_NOT MENTIONED  Power_Backup_No  \\\n",
              "0                      1                           0                1   \n",
              "1                      1                           0                1   \n",
              "2                      1                           0                1   \n",
              "3                      1                           0                0   \n",
              "4                      1                           0                1   \n",
              "\n",
              "   Power_Backup_Yes  \n",
              "0                 0  \n",
              "1                 0  \n",
              "2                 0  \n",
              "3                 1  \n",
              "4                 0  \n",
              "\n",
              "[5 rows x 31 columns]"
            ],
            "text/html": [
              "\n",
              "  <div id=\"df-15b318bc-4777-475e-8e59-6d0bc0bb2e29\">\n",
              "    <div class=\"colab-df-container\">\n",
              "      <div>\n",
              "<style scoped>\n",
              "    .dataframe tbody tr th:only-of-type {\n",
              "        vertical-align: middle;\n",
              "    }\n",
              "\n",
              "    .dataframe tbody tr th {\n",
              "        vertical-align: top;\n",
              "    }\n",
              "\n",
              "    .dataframe thead th {\n",
              "        text-align: right;\n",
              "    }\n",
              "</style>\n",
              "<table border=\"1\" class=\"dataframe\">\n",
              "  <thead>\n",
              "    <tr style=\"text-align: right;\">\n",
              "      <th></th>\n",
              "      <th>Property_Area</th>\n",
              "      <th>Number_of_Windows</th>\n",
              "      <th>Number_of_Doors</th>\n",
              "      <th>Frequency_of_Powercuts</th>\n",
              "      <th>Traffic_Density_Score</th>\n",
              "      <th>Air_Quality_Index</th>\n",
              "      <th>Neighborhood_Review</th>\n",
              "      <th>Furnishing_Fully Furnished</th>\n",
              "      <th>Furnishing_Semi_Furnished</th>\n",
              "      <th>Furnishing_Unfurnished</th>\n",
              "      <th>...</th>\n",
              "      <th>Crime_Rate_Slightly above average</th>\n",
              "      <th>Crime_Rate_Slightly below average</th>\n",
              "      <th>Crime_Rate_Well above average</th>\n",
              "      <th>Crime_Rate_Well below average</th>\n",
              "      <th>Dust_and_Noise_High</th>\n",
              "      <th>Dust_and_Noise_Low</th>\n",
              "      <th>Dust_and_Noise_Medium</th>\n",
              "      <th>Power_Backup_NOT MENTIONED</th>\n",
              "      <th>Power_Backup_No</th>\n",
              "      <th>Power_Backup_Yes</th>\n",
              "    </tr>\n",
              "  </thead>\n",
              "  <tbody>\n",
              "    <tr>\n",
              "      <th>0</th>\n",
              "      <td>106</td>\n",
              "      <td>4.0</td>\n",
              "      <td>1</td>\n",
              "      <td>0.0</td>\n",
              "      <td>5.89</td>\n",
              "      <td>90.0</td>\n",
              "      <td>3.86</td>\n",
              "      <td>0</td>\n",
              "      <td>1</td>\n",
              "      <td>0</td>\n",
              "      <td>...</td>\n",
              "      <td>0</td>\n",
              "      <td>1</td>\n",
              "      <td>0</td>\n",
              "      <td>0</td>\n",
              "      <td>0</td>\n",
              "      <td>0</td>\n",
              "      <td>1</td>\n",
              "      <td>0</td>\n",
              "      <td>1</td>\n",
              "      <td>0</td>\n",
              "    </tr>\n",
              "    <tr>\n",
              "      <th>1</th>\n",
              "      <td>733</td>\n",
              "      <td>2.0</td>\n",
              "      <td>2</td>\n",
              "      <td>1.0</td>\n",
              "      <td>4.37</td>\n",
              "      <td>96.0</td>\n",
              "      <td>3.55</td>\n",
              "      <td>0</td>\n",
              "      <td>0</td>\n",
              "      <td>1</td>\n",
              "      <td>...</td>\n",
              "      <td>0</td>\n",
              "      <td>0</td>\n",
              "      <td>0</td>\n",
              "      <td>1</td>\n",
              "      <td>0</td>\n",
              "      <td>0</td>\n",
              "      <td>1</td>\n",
              "      <td>0</td>\n",
              "      <td>1</td>\n",
              "      <td>0</td>\n",
              "    </tr>\n",
              "    <tr>\n",
              "      <th>2</th>\n",
              "      <td>737</td>\n",
              "      <td>4.0</td>\n",
              "      <td>2</td>\n",
              "      <td>0.0</td>\n",
              "      <td>7.45</td>\n",
              "      <td>121.0</td>\n",
              "      <td>3.81</td>\n",
              "      <td>1</td>\n",
              "      <td>0</td>\n",
              "      <td>0</td>\n",
              "      <td>...</td>\n",
              "      <td>0</td>\n",
              "      <td>1</td>\n",
              "      <td>0</td>\n",
              "      <td>0</td>\n",
              "      <td>0</td>\n",
              "      <td>0</td>\n",
              "      <td>1</td>\n",
              "      <td>0</td>\n",
              "      <td>1</td>\n",
              "      <td>0</td>\n",
              "    </tr>\n",
              "    <tr>\n",
              "      <th>3</th>\n",
              "      <td>900</td>\n",
              "      <td>3.0</td>\n",
              "      <td>2</td>\n",
              "      <td>2.0</td>\n",
              "      <td>6.16</td>\n",
              "      <td>100.0</td>\n",
              "      <td>1.34</td>\n",
              "      <td>0</td>\n",
              "      <td>0</td>\n",
              "      <td>1</td>\n",
              "      <td>...</td>\n",
              "      <td>0</td>\n",
              "      <td>0</td>\n",
              "      <td>1</td>\n",
              "      <td>0</td>\n",
              "      <td>0</td>\n",
              "      <td>0</td>\n",
              "      <td>1</td>\n",
              "      <td>0</td>\n",
              "      <td>0</td>\n",
              "      <td>1</td>\n",
              "    </tr>\n",
              "    <tr>\n",
              "      <th>4</th>\n",
              "      <td>2238</td>\n",
              "      <td>14.0</td>\n",
              "      <td>6</td>\n",
              "      <td>0.0</td>\n",
              "      <td>5.46</td>\n",
              "      <td>116.0</td>\n",
              "      <td>4.77</td>\n",
              "      <td>1</td>\n",
              "      <td>0</td>\n",
              "      <td>0</td>\n",
              "      <td>...</td>\n",
              "      <td>0</td>\n",
              "      <td>0</td>\n",
              "      <td>0</td>\n",
              "      <td>1</td>\n",
              "      <td>0</td>\n",
              "      <td>0</td>\n",
              "      <td>1</td>\n",
              "      <td>0</td>\n",
              "      <td>1</td>\n",
              "      <td>0</td>\n",
              "    </tr>\n",
              "  </tbody>\n",
              "</table>\n",
              "<p>5 rows × 31 columns</p>\n",
              "</div>\n",
              "      <button class=\"colab-df-convert\" onclick=\"convertToInteractive('df-15b318bc-4777-475e-8e59-6d0bc0bb2e29')\"\n",
              "              title=\"Convert this dataframe to an interactive table.\"\n",
              "              style=\"display:none;\">\n",
              "        \n",
              "  <svg xmlns=\"http://www.w3.org/2000/svg\" height=\"24px\"viewBox=\"0 0 24 24\"\n",
              "       width=\"24px\">\n",
              "    <path d=\"M0 0h24v24H0V0z\" fill=\"none\"/>\n",
              "    <path d=\"M18.56 5.44l.94 2.06.94-2.06 2.06-.94-2.06-.94-.94-2.06-.94 2.06-2.06.94zm-11 1L8.5 8.5l.94-2.06 2.06-.94-2.06-.94L8.5 2.5l-.94 2.06-2.06.94zm10 10l.94 2.06.94-2.06 2.06-.94-2.06-.94-.94-2.06-.94 2.06-2.06.94z\"/><path d=\"M17.41 7.96l-1.37-1.37c-.4-.4-.92-.59-1.43-.59-.52 0-1.04.2-1.43.59L10.3 9.45l-7.72 7.72c-.78.78-.78 2.05 0 2.83L4 21.41c.39.39.9.59 1.41.59.51 0 1.02-.2 1.41-.59l7.78-7.78 2.81-2.81c.8-.78.8-2.07 0-2.86zM5.41 20L4 18.59l7.72-7.72 1.47 1.35L5.41 20z\"/>\n",
              "  </svg>\n",
              "      </button>\n",
              "      \n",
              "  <style>\n",
              "    .colab-df-container {\n",
              "      display:flex;\n",
              "      flex-wrap:wrap;\n",
              "      gap: 12px;\n",
              "    }\n",
              "\n",
              "    .colab-df-convert {\n",
              "      background-color: #E8F0FE;\n",
              "      border: none;\n",
              "      border-radius: 50%;\n",
              "      cursor: pointer;\n",
              "      display: none;\n",
              "      fill: #1967D2;\n",
              "      height: 32px;\n",
              "      padding: 0 0 0 0;\n",
              "      width: 32px;\n",
              "    }\n",
              "\n",
              "    .colab-df-convert:hover {\n",
              "      background-color: #E2EBFA;\n",
              "      box-shadow: 0px 1px 2px rgba(60, 64, 67, 0.3), 0px 1px 3px 1px rgba(60, 64, 67, 0.15);\n",
              "      fill: #174EA6;\n",
              "    }\n",
              "\n",
              "    [theme=dark] .colab-df-convert {\n",
              "      background-color: #3B4455;\n",
              "      fill: #D2E3FC;\n",
              "    }\n",
              "\n",
              "    [theme=dark] .colab-df-convert:hover {\n",
              "      background-color: #434B5C;\n",
              "      box-shadow: 0px 1px 3px 1px rgba(0, 0, 0, 0.15);\n",
              "      filter: drop-shadow(0px 1px 2px rgba(0, 0, 0, 0.3));\n",
              "      fill: #FFFFFF;\n",
              "    }\n",
              "  </style>\n",
              "\n",
              "      <script>\n",
              "        const buttonEl =\n",
              "          document.querySelector('#df-15b318bc-4777-475e-8e59-6d0bc0bb2e29 button.colab-df-convert');\n",
              "        buttonEl.style.display =\n",
              "          google.colab.kernel.accessAllowed ? 'block' : 'none';\n",
              "\n",
              "        async function convertToInteractive(key) {\n",
              "          const element = document.querySelector('#df-15b318bc-4777-475e-8e59-6d0bc0bb2e29');\n",
              "          const dataTable =\n",
              "            await google.colab.kernel.invokeFunction('convertToInteractive',\n",
              "                                                     [key], {});\n",
              "          if (!dataTable) return;\n",
              "\n",
              "          const docLinkHtml = 'Like what you see? Visit the ' +\n",
              "            '<a target=\"_blank\" href=https://colab.research.google.com/notebooks/data_table.ipynb>data table notebook</a>'\n",
              "            + ' to learn more about interactive tables.';\n",
              "          element.innerHTML = '';\n",
              "          dataTable['output_type'] = 'display_data';\n",
              "          await google.colab.output.renderOutput(dataTable, element);\n",
              "          const docLink = document.createElement('div');\n",
              "          docLink.innerHTML = docLinkHtml;\n",
              "          element.appendChild(docLink);\n",
              "        }\n",
              "      </script>\n",
              "    </div>\n",
              "  </div>\n",
              "  "
            ]
          },
          "metadata": {},
          "execution_count": 808
        }
      ]
    },
    {
      "cell_type": "code",
      "source": [
        "for i in train:\n",
        "  temp=35  \n",
        "  temp-=len(i)\n",
        "  check_str=\" \"*temp\n",
        "  print(i+check_str+ str(train[i].isnull().sum().sum()))"
      ],
      "metadata": {
        "colab": {
          "base_uri": "https://localhost:8080/"
        },
        "id": "IpdiofYFlpUJ",
        "outputId": "e82686e7-3370-4cb0-9914-7912ce449127"
      },
      "execution_count": null,
      "outputs": [
        {
          "output_type": "stream",
          "name": "stdout",
          "text": [
            "Property_Area                      0\n",
            "Number_of_Windows                  0\n",
            "Number_of_Doors                    0\n",
            "Frequency_of_Powercuts             0\n",
            "Traffic_Density_Score              0\n",
            "Air_Quality_Index                  0\n",
            "Neighborhood_Review                0\n",
            "Furnishing_Fully Furnished         0\n",
            "Furnishing_Semi_Furnished          0\n",
            "Furnishing_Unfurnished             0\n",
            "Property_Type_Apartment            0\n",
            "Property_Type_Bungalow             0\n",
            "Property_Type_Container Home       0\n",
            "Property_Type_Duplex               0\n",
            "Property_Type_Single-family home   0\n",
            "Property_Type_UnKnown              0\n",
            "Water_Supply_All time              0\n",
            "Water_Supply_NOT MENTIONED         0\n",
            "Water_Supply_Once in a day - Evening0\n",
            "Water_Supply_Once in a day - Morning0\n",
            "Water_Supply_Once in two days      0\n",
            "Crime_Rate_Slightly above average  0\n",
            "Crime_Rate_Slightly below average  0\n",
            "Crime_Rate_Well above average      0\n",
            "Crime_Rate_Well below average      0\n",
            "Dust_and_Noise_High                0\n",
            "Dust_and_Noise_Low                 0\n",
            "Dust_and_Noise_Medium              0\n",
            "Power_Backup_NOT MENTIONED         0\n",
            "Power_Backup_No                    0\n",
            "Power_Backup_Yes                   0\n"
          ]
        }
      ]
    },
    {
      "cell_type": "code",
      "source": [
        "# copy the data\n",
        "X_train = train.copy()\n",
        "\n",
        "# apply normalization techniques\n",
        "for column in X_train.columns:\n",
        "\tX_train[column] = (X_train[column] - X_train[column].min()) / (X_train[column].max() - X_train[column].min())\t\n",
        "\n",
        "# view normalized data\n",
        "X_train.head(5)\n"
      ],
      "metadata": {
        "colab": {
          "base_uri": "https://localhost:8080/",
          "height": 317
        },
        "id": "rE_DNmOBDWSc",
        "outputId": "e5a53211-4535-4292-db25-578c09d498a4"
      },
      "execution_count": null,
      "outputs": [
        {
          "output_type": "execute_result",
          "data": {
            "text/plain": [
              "   Property_Area  Number_of_Windows  Number_of_Doors  Frequency_of_Powercuts  \\\n",
              "0       0.000215           0.266667              0.0                0.000000   \n",
              "1       0.022636           0.133333              0.2                0.333333   \n",
              "2       0.022779           0.266667              0.2                0.000000   \n",
              "3       0.028608           0.200000              0.2                0.666667   \n",
              "4       0.076455           0.933333              1.0                0.000000   \n",
              "\n",
              "   Traffic_Density_Score  Air_Quality_Index  Neighborhood_Review  \\\n",
              "0               0.594349           0.086207                0.772   \n",
              "1               0.440969           0.091954                0.710   \n",
              "2               0.751766           0.115900                0.762   \n",
              "3               0.621594           0.095785                0.268   \n",
              "4               0.550959           0.111111                0.954   \n",
              "\n",
              "   Furnishing_Fully Furnished  Furnishing_Semi_Furnished  \\\n",
              "0                         0.0                        1.0   \n",
              "1                         0.0                        0.0   \n",
              "2                         1.0                        0.0   \n",
              "3                         0.0                        0.0   \n",
              "4                         1.0                        0.0   \n",
              "\n",
              "   Furnishing_Unfurnished  ...  Crime_Rate_Slightly above average  \\\n",
              "0                     0.0  ...                                0.0   \n",
              "1                     1.0  ...                                0.0   \n",
              "2                     0.0  ...                                0.0   \n",
              "3                     1.0  ...                                0.0   \n",
              "4                     0.0  ...                                0.0   \n",
              "\n",
              "   Crime_Rate_Slightly below average  Crime_Rate_Well above average  \\\n",
              "0                                1.0                            0.0   \n",
              "1                                0.0                            0.0   \n",
              "2                                1.0                            0.0   \n",
              "3                                0.0                            1.0   \n",
              "4                                0.0                            0.0   \n",
              "\n",
              "   Crime_Rate_Well below average  Dust_and_Noise_High  Dust_and_Noise_Low  \\\n",
              "0                            0.0                  0.0                 0.0   \n",
              "1                            1.0                  0.0                 0.0   \n",
              "2                            0.0                  0.0                 0.0   \n",
              "3                            0.0                  0.0                 0.0   \n",
              "4                            1.0                  0.0                 0.0   \n",
              "\n",
              "   Dust_and_Noise_Medium  Power_Backup_NOT MENTIONED  Power_Backup_No  \\\n",
              "0                    1.0                         0.0              1.0   \n",
              "1                    1.0                         0.0              1.0   \n",
              "2                    1.0                         0.0              1.0   \n",
              "3                    1.0                         0.0              0.0   \n",
              "4                    1.0                         0.0              1.0   \n",
              "\n",
              "   Power_Backup_Yes  \n",
              "0               0.0  \n",
              "1               0.0  \n",
              "2               0.0  \n",
              "3               1.0  \n",
              "4               0.0  \n",
              "\n",
              "[5 rows x 31 columns]"
            ],
            "text/html": [
              "\n",
              "  <div id=\"df-b7c76a0c-7fa2-407b-9883-ba6a127546f4\">\n",
              "    <div class=\"colab-df-container\">\n",
              "      <div>\n",
              "<style scoped>\n",
              "    .dataframe tbody tr th:only-of-type {\n",
              "        vertical-align: middle;\n",
              "    }\n",
              "\n",
              "    .dataframe tbody tr th {\n",
              "        vertical-align: top;\n",
              "    }\n",
              "\n",
              "    .dataframe thead th {\n",
              "        text-align: right;\n",
              "    }\n",
              "</style>\n",
              "<table border=\"1\" class=\"dataframe\">\n",
              "  <thead>\n",
              "    <tr style=\"text-align: right;\">\n",
              "      <th></th>\n",
              "      <th>Property_Area</th>\n",
              "      <th>Number_of_Windows</th>\n",
              "      <th>Number_of_Doors</th>\n",
              "      <th>Frequency_of_Powercuts</th>\n",
              "      <th>Traffic_Density_Score</th>\n",
              "      <th>Air_Quality_Index</th>\n",
              "      <th>Neighborhood_Review</th>\n",
              "      <th>Furnishing_Fully Furnished</th>\n",
              "      <th>Furnishing_Semi_Furnished</th>\n",
              "      <th>Furnishing_Unfurnished</th>\n",
              "      <th>...</th>\n",
              "      <th>Crime_Rate_Slightly above average</th>\n",
              "      <th>Crime_Rate_Slightly below average</th>\n",
              "      <th>Crime_Rate_Well above average</th>\n",
              "      <th>Crime_Rate_Well below average</th>\n",
              "      <th>Dust_and_Noise_High</th>\n",
              "      <th>Dust_and_Noise_Low</th>\n",
              "      <th>Dust_and_Noise_Medium</th>\n",
              "      <th>Power_Backup_NOT MENTIONED</th>\n",
              "      <th>Power_Backup_No</th>\n",
              "      <th>Power_Backup_Yes</th>\n",
              "    </tr>\n",
              "  </thead>\n",
              "  <tbody>\n",
              "    <tr>\n",
              "      <th>0</th>\n",
              "      <td>0.000215</td>\n",
              "      <td>0.266667</td>\n",
              "      <td>0.0</td>\n",
              "      <td>0.000000</td>\n",
              "      <td>0.594349</td>\n",
              "      <td>0.086207</td>\n",
              "      <td>0.772</td>\n",
              "      <td>0.0</td>\n",
              "      <td>1.0</td>\n",
              "      <td>0.0</td>\n",
              "      <td>...</td>\n",
              "      <td>0.0</td>\n",
              "      <td>1.0</td>\n",
              "      <td>0.0</td>\n",
              "      <td>0.0</td>\n",
              "      <td>0.0</td>\n",
              "      <td>0.0</td>\n",
              "      <td>1.0</td>\n",
              "      <td>0.0</td>\n",
              "      <td>1.0</td>\n",
              "      <td>0.0</td>\n",
              "    </tr>\n",
              "    <tr>\n",
              "      <th>1</th>\n",
              "      <td>0.022636</td>\n",
              "      <td>0.133333</td>\n",
              "      <td>0.2</td>\n",
              "      <td>0.333333</td>\n",
              "      <td>0.440969</td>\n",
              "      <td>0.091954</td>\n",
              "      <td>0.710</td>\n",
              "      <td>0.0</td>\n",
              "      <td>0.0</td>\n",
              "      <td>1.0</td>\n",
              "      <td>...</td>\n",
              "      <td>0.0</td>\n",
              "      <td>0.0</td>\n",
              "      <td>0.0</td>\n",
              "      <td>1.0</td>\n",
              "      <td>0.0</td>\n",
              "      <td>0.0</td>\n",
              "      <td>1.0</td>\n",
              "      <td>0.0</td>\n",
              "      <td>1.0</td>\n",
              "      <td>0.0</td>\n",
              "    </tr>\n",
              "    <tr>\n",
              "      <th>2</th>\n",
              "      <td>0.022779</td>\n",
              "      <td>0.266667</td>\n",
              "      <td>0.2</td>\n",
              "      <td>0.000000</td>\n",
              "      <td>0.751766</td>\n",
              "      <td>0.115900</td>\n",
              "      <td>0.762</td>\n",
              "      <td>1.0</td>\n",
              "      <td>0.0</td>\n",
              "      <td>0.0</td>\n",
              "      <td>...</td>\n",
              "      <td>0.0</td>\n",
              "      <td>1.0</td>\n",
              "      <td>0.0</td>\n",
              "      <td>0.0</td>\n",
              "      <td>0.0</td>\n",
              "      <td>0.0</td>\n",
              "      <td>1.0</td>\n",
              "      <td>0.0</td>\n",
              "      <td>1.0</td>\n",
              "      <td>0.0</td>\n",
              "    </tr>\n",
              "    <tr>\n",
              "      <th>3</th>\n",
              "      <td>0.028608</td>\n",
              "      <td>0.200000</td>\n",
              "      <td>0.2</td>\n",
              "      <td>0.666667</td>\n",
              "      <td>0.621594</td>\n",
              "      <td>0.095785</td>\n",
              "      <td>0.268</td>\n",
              "      <td>0.0</td>\n",
              "      <td>0.0</td>\n",
              "      <td>1.0</td>\n",
              "      <td>...</td>\n",
              "      <td>0.0</td>\n",
              "      <td>0.0</td>\n",
              "      <td>1.0</td>\n",
              "      <td>0.0</td>\n",
              "      <td>0.0</td>\n",
              "      <td>0.0</td>\n",
              "      <td>1.0</td>\n",
              "      <td>0.0</td>\n",
              "      <td>0.0</td>\n",
              "      <td>1.0</td>\n",
              "    </tr>\n",
              "    <tr>\n",
              "      <th>4</th>\n",
              "      <td>0.076455</td>\n",
              "      <td>0.933333</td>\n",
              "      <td>1.0</td>\n",
              "      <td>0.000000</td>\n",
              "      <td>0.550959</td>\n",
              "      <td>0.111111</td>\n",
              "      <td>0.954</td>\n",
              "      <td>1.0</td>\n",
              "      <td>0.0</td>\n",
              "      <td>0.0</td>\n",
              "      <td>...</td>\n",
              "      <td>0.0</td>\n",
              "      <td>0.0</td>\n",
              "      <td>0.0</td>\n",
              "      <td>1.0</td>\n",
              "      <td>0.0</td>\n",
              "      <td>0.0</td>\n",
              "      <td>1.0</td>\n",
              "      <td>0.0</td>\n",
              "      <td>1.0</td>\n",
              "      <td>0.0</td>\n",
              "    </tr>\n",
              "  </tbody>\n",
              "</table>\n",
              "<p>5 rows × 31 columns</p>\n",
              "</div>\n",
              "      <button class=\"colab-df-convert\" onclick=\"convertToInteractive('df-b7c76a0c-7fa2-407b-9883-ba6a127546f4')\"\n",
              "              title=\"Convert this dataframe to an interactive table.\"\n",
              "              style=\"display:none;\">\n",
              "        \n",
              "  <svg xmlns=\"http://www.w3.org/2000/svg\" height=\"24px\"viewBox=\"0 0 24 24\"\n",
              "       width=\"24px\">\n",
              "    <path d=\"M0 0h24v24H0V0z\" fill=\"none\"/>\n",
              "    <path d=\"M18.56 5.44l.94 2.06.94-2.06 2.06-.94-2.06-.94-.94-2.06-.94 2.06-2.06.94zm-11 1L8.5 8.5l.94-2.06 2.06-.94-2.06-.94L8.5 2.5l-.94 2.06-2.06.94zm10 10l.94 2.06.94-2.06 2.06-.94-2.06-.94-.94-2.06-.94 2.06-2.06.94z\"/><path d=\"M17.41 7.96l-1.37-1.37c-.4-.4-.92-.59-1.43-.59-.52 0-1.04.2-1.43.59L10.3 9.45l-7.72 7.72c-.78.78-.78 2.05 0 2.83L4 21.41c.39.39.9.59 1.41.59.51 0 1.02-.2 1.41-.59l7.78-7.78 2.81-2.81c.8-.78.8-2.07 0-2.86zM5.41 20L4 18.59l7.72-7.72 1.47 1.35L5.41 20z\"/>\n",
              "  </svg>\n",
              "      </button>\n",
              "      \n",
              "  <style>\n",
              "    .colab-df-container {\n",
              "      display:flex;\n",
              "      flex-wrap:wrap;\n",
              "      gap: 12px;\n",
              "    }\n",
              "\n",
              "    .colab-df-convert {\n",
              "      background-color: #E8F0FE;\n",
              "      border: none;\n",
              "      border-radius: 50%;\n",
              "      cursor: pointer;\n",
              "      display: none;\n",
              "      fill: #1967D2;\n",
              "      height: 32px;\n",
              "      padding: 0 0 0 0;\n",
              "      width: 32px;\n",
              "    }\n",
              "\n",
              "    .colab-df-convert:hover {\n",
              "      background-color: #E2EBFA;\n",
              "      box-shadow: 0px 1px 2px rgba(60, 64, 67, 0.3), 0px 1px 3px 1px rgba(60, 64, 67, 0.15);\n",
              "      fill: #174EA6;\n",
              "    }\n",
              "\n",
              "    [theme=dark] .colab-df-convert {\n",
              "      background-color: #3B4455;\n",
              "      fill: #D2E3FC;\n",
              "    }\n",
              "\n",
              "    [theme=dark] .colab-df-convert:hover {\n",
              "      background-color: #434B5C;\n",
              "      box-shadow: 0px 1px 3px 1px rgba(0, 0, 0, 0.15);\n",
              "      filter: drop-shadow(0px 1px 2px rgba(0, 0, 0, 0.3));\n",
              "      fill: #FFFFFF;\n",
              "    }\n",
              "  </style>\n",
              "\n",
              "      <script>\n",
              "        const buttonEl =\n",
              "          document.querySelector('#df-b7c76a0c-7fa2-407b-9883-ba6a127546f4 button.colab-df-convert');\n",
              "        buttonEl.style.display =\n",
              "          google.colab.kernel.accessAllowed ? 'block' : 'none';\n",
              "\n",
              "        async function convertToInteractive(key) {\n",
              "          const element = document.querySelector('#df-b7c76a0c-7fa2-407b-9883-ba6a127546f4');\n",
              "          const dataTable =\n",
              "            await google.colab.kernel.invokeFunction('convertToInteractive',\n",
              "                                                     [key], {});\n",
              "          if (!dataTable) return;\n",
              "\n",
              "          const docLinkHtml = 'Like what you see? Visit the ' +\n",
              "            '<a target=\"_blank\" href=https://colab.research.google.com/notebooks/data_table.ipynb>data table notebook</a>'\n",
              "            + ' to learn more about interactive tables.';\n",
              "          element.innerHTML = '';\n",
              "          dataTable['output_type'] = 'display_data';\n",
              "          await google.colab.output.renderOutput(dataTable, element);\n",
              "          const docLink = document.createElement('div');\n",
              "          docLink.innerHTML = docLinkHtml;\n",
              "          element.appendChild(docLink);\n",
              "        }\n",
              "      </script>\n",
              "    </div>\n",
              "  </div>\n",
              "  "
            ]
          },
          "metadata": {},
          "execution_count": 810
        }
      ]
    },
    {
      "cell_type": "code",
      "source": [
        "y_train=df['Habitability_score']\n",
        "y_train.head(5)"
      ],
      "metadata": {
        "colab": {
          "base_uri": "https://localhost:8080/"
        },
        "id": "6wEDXYgoIVQX",
        "outputId": "5772218e-f57d-4721-aefb-57dccecc67fd"
      },
      "execution_count": null,
      "outputs": [
        {
          "output_type": "execute_result",
          "data": {
            "text/plain": [
              "0    71.98\n",
              "1    71.20\n",
              "2    71.39\n",
              "3    31.46\n",
              "4    93.70\n",
              "Name: Habitability_score, dtype: float64"
            ]
          },
          "metadata": {},
          "execution_count": 811
        }
      ]
    },
    {
      "cell_type": "markdown",
      "source": [
        "#PREPROCESSING TEST DATA"
      ],
      "metadata": {
        "id": "cTn8Y11YMUTz"
      }
    },
    {
      "cell_type": "code",
      "source": [
        "from google.colab import files\n",
        "uploaded = files.upload()"
      ],
      "metadata": {
        "colab": {
          "resources": {
            "http://localhost:8080/nbextensions/google.colab/files.js": {
              "data": "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",
              "ok": true,
              "headers": [
                [
                  "content-type",
                  "application/javascript"
                ]
              ],
              "status": 200,
              "status_text": ""
            }
          },
          "base_uri": "https://localhost:8080/"
        },
        "id": "LQeeW_wk37g5",
        "outputId": "bb9cb1d6-210f-4598-fb47-c18cb248c057"
      },
      "execution_count": null,
      "outputs": [
        {
          "output_type": "display_data",
          "data": {
            "text/plain": [
              "<IPython.core.display.HTML object>"
            ],
            "text/html": [
              "\n",
              "     <input type=\"file\" id=\"files-4c74dc11-f52e-472e-9a4f-a37d099b57b2\" name=\"files[]\" multiple disabled\n",
              "        style=\"border:none\" />\n",
              "     <output id=\"result-4c74dc11-f52e-472e-9a4f-a37d099b57b2\">\n",
              "      Upload widget is only available when the cell has been executed in the\n",
              "      current browser session. Please rerun this cell to enable.\n",
              "      </output>\n",
              "      <script src=\"/nbextensions/google.colab/files.js\"></script> "
            ]
          },
          "metadata": {}
        },
        {
          "output_type": "stream",
          "name": "stdout",
          "text": [
            "Saving test.csv to test (8).csv\n"
          ]
        }
      ]
    },
    {
      "cell_type": "code",
      "source": [
        "X_test=pd.read_csv(io.BytesIO(uploaded['test.csv']))"
      ],
      "metadata": {
        "id": "8CEjfL843_0g"
      },
      "execution_count": null,
      "outputs": []
    },
    {
      "cell_type": "code",
      "source": [
        "X_test.head(5)\n"
      ],
      "metadata": {
        "colab": {
          "base_uri": "https://localhost:8080/"
        },
        "id": "9Lr8o8AYI3fn",
        "outputId": "23b827f3-f679-433e-df37-07e14fe5c0c4"
      },
      "execution_count": null,
      "outputs": [
        {
          "output_type": "execute_result",
          "data": {
            "text/plain": [
              "  Property_ID   Property_Type  Property_Area  Number_of_Windows  \\\n",
              "0      0x6e93       Apartment            293                3.0   \n",
              "1      0x8787       Apartment            586                4.0   \n",
              "2      0x6c17  Container Home            305                1.0   \n",
              "3      0x9dbd       Apartment            258                2.0   \n",
              "4      0xbfde        Bungalow           3031               12.0   \n",
              "\n",
              "   Number_of_Doors       Furnishing  Frequency_of_Powercuts Power_Backup  \\\n",
              "0                1      Unfurnished                     0.0           No   \n",
              "1                1   Semi_Furnished                     0.0           No   \n",
              "2                2   Semi_Furnished                     1.0           No   \n",
              "3                1   Semi_Furnished                     1.0           No   \n",
              "4                4  Fully Furnished                     0.0           No   \n",
              "\n",
              "              Water_Supply  Traffic_Density_Score              Crime_Rate  \\\n",
              "0  Once in a day - Morning                   7.28      Well above average   \n",
              "1  Once in a day - Evening                   7.63      Well below average   \n",
              "2                 All time                   5.39  Slightly above average   \n",
              "3                 All time                   7.53  Slightly below average   \n",
              "4                 All time                   8.79      Well above average   \n",
              "\n",
              "  Dust_and_Noise  Air_Quality_Index  Neighborhood_Review  \n",
              "0         Medium              152.0                 2.52  \n",
              "1         Medium               92.0                 4.16  \n",
              "2         Medium               90.0                 2.92  \n",
              "3         Medium              158.0                 3.45  \n",
              "4           High              186.0                 2.72  "
            ],
            "text/html": [
              "\n",
              "  <div id=\"df-e2b9df32-f85a-43e7-8a34-4b5925451181\">\n",
              "    <div class=\"colab-df-container\">\n",
              "      <div>\n",
              "<style scoped>\n",
              "    .dataframe tbody tr th:only-of-type {\n",
              "        vertical-align: middle;\n",
              "    }\n",
              "\n",
              "    .dataframe tbody tr th {\n",
              "        vertical-align: top;\n",
              "    }\n",
              "\n",
              "    .dataframe thead th {\n",
              "        text-align: right;\n",
              "    }\n",
              "</style>\n",
              "<table border=\"1\" class=\"dataframe\">\n",
              "  <thead>\n",
              "    <tr style=\"text-align: right;\">\n",
              "      <th></th>\n",
              "      <th>Property_ID</th>\n",
              "      <th>Property_Type</th>\n",
              "      <th>Property_Area</th>\n",
              "      <th>Number_of_Windows</th>\n",
              "      <th>Number_of_Doors</th>\n",
              "      <th>Furnishing</th>\n",
              "      <th>Frequency_of_Powercuts</th>\n",
              "      <th>Power_Backup</th>\n",
              "      <th>Water_Supply</th>\n",
              "      <th>Traffic_Density_Score</th>\n",
              "      <th>Crime_Rate</th>\n",
              "      <th>Dust_and_Noise</th>\n",
              "      <th>Air_Quality_Index</th>\n",
              "      <th>Neighborhood_Review</th>\n",
              "    </tr>\n",
              "  </thead>\n",
              "  <tbody>\n",
              "    <tr>\n",
              "      <th>0</th>\n",
              "      <td>0x6e93</td>\n",
              "      <td>Apartment</td>\n",
              "      <td>293</td>\n",
              "      <td>3.0</td>\n",
              "      <td>1</td>\n",
              "      <td>Unfurnished</td>\n",
              "      <td>0.0</td>\n",
              "      <td>No</td>\n",
              "      <td>Once in a day - Morning</td>\n",
              "      <td>7.28</td>\n",
              "      <td>Well above average</td>\n",
              "      <td>Medium</td>\n",
              "      <td>152.0</td>\n",
              "      <td>2.52</td>\n",
              "    </tr>\n",
              "    <tr>\n",
              "      <th>1</th>\n",
              "      <td>0x8787</td>\n",
              "      <td>Apartment</td>\n",
              "      <td>586</td>\n",
              "      <td>4.0</td>\n",
              "      <td>1</td>\n",
              "      <td>Semi_Furnished</td>\n",
              "      <td>0.0</td>\n",
              "      <td>No</td>\n",
              "      <td>Once in a day - Evening</td>\n",
              "      <td>7.63</td>\n",
              "      <td>Well below average</td>\n",
              "      <td>Medium</td>\n",
              "      <td>92.0</td>\n",
              "      <td>4.16</td>\n",
              "    </tr>\n",
              "    <tr>\n",
              "      <th>2</th>\n",
              "      <td>0x6c17</td>\n",
              "      <td>Container Home</td>\n",
              "      <td>305</td>\n",
              "      <td>1.0</td>\n",
              "      <td>2</td>\n",
              "      <td>Semi_Furnished</td>\n",
              "      <td>1.0</td>\n",
              "      <td>No</td>\n",
              "      <td>All time</td>\n",
              "      <td>5.39</td>\n",
              "      <td>Slightly above average</td>\n",
              "      <td>Medium</td>\n",
              "      <td>90.0</td>\n",
              "      <td>2.92</td>\n",
              "    </tr>\n",
              "    <tr>\n",
              "      <th>3</th>\n",
              "      <td>0x9dbd</td>\n",
              "      <td>Apartment</td>\n",
              "      <td>258</td>\n",
              "      <td>2.0</td>\n",
              "      <td>1</td>\n",
              "      <td>Semi_Furnished</td>\n",
              "      <td>1.0</td>\n",
              "      <td>No</td>\n",
              "      <td>All time</td>\n",
              "      <td>7.53</td>\n",
              "      <td>Slightly below average</td>\n",
              "      <td>Medium</td>\n",
              "      <td>158.0</td>\n",
              "      <td>3.45</td>\n",
              "    </tr>\n",
              "    <tr>\n",
              "      <th>4</th>\n",
              "      <td>0xbfde</td>\n",
              "      <td>Bungalow</td>\n",
              "      <td>3031</td>\n",
              "      <td>12.0</td>\n",
              "      <td>4</td>\n",
              "      <td>Fully Furnished</td>\n",
              "      <td>0.0</td>\n",
              "      <td>No</td>\n",
              "      <td>All time</td>\n",
              "      <td>8.79</td>\n",
              "      <td>Well above average</td>\n",
              "      <td>High</td>\n",
              "      <td>186.0</td>\n",
              "      <td>2.72</td>\n",
              "    </tr>\n",
              "  </tbody>\n",
              "</table>\n",
              "</div>\n",
              "      <button class=\"colab-df-convert\" onclick=\"convertToInteractive('df-e2b9df32-f85a-43e7-8a34-4b5925451181')\"\n",
              "              title=\"Convert this dataframe to an interactive table.\"\n",
              "              style=\"display:none;\">\n",
              "        \n",
              "  <svg xmlns=\"http://www.w3.org/2000/svg\" height=\"24px\"viewBox=\"0 0 24 24\"\n",
              "       width=\"24px\">\n",
              "    <path d=\"M0 0h24v24H0V0z\" fill=\"none\"/>\n",
              "    <path d=\"M18.56 5.44l.94 2.06.94-2.06 2.06-.94-2.06-.94-.94-2.06-.94 2.06-2.06.94zm-11 1L8.5 8.5l.94-2.06 2.06-.94-2.06-.94L8.5 2.5l-.94 2.06-2.06.94zm10 10l.94 2.06.94-2.06 2.06-.94-2.06-.94-.94-2.06-.94 2.06-2.06.94z\"/><path d=\"M17.41 7.96l-1.37-1.37c-.4-.4-.92-.59-1.43-.59-.52 0-1.04.2-1.43.59L10.3 9.45l-7.72 7.72c-.78.78-.78 2.05 0 2.83L4 21.41c.39.39.9.59 1.41.59.51 0 1.02-.2 1.41-.59l7.78-7.78 2.81-2.81c.8-.78.8-2.07 0-2.86zM5.41 20L4 18.59l7.72-7.72 1.47 1.35L5.41 20z\"/>\n",
              "  </svg>\n",
              "      </button>\n",
              "      \n",
              "  <style>\n",
              "    .colab-df-container {\n",
              "      display:flex;\n",
              "      flex-wrap:wrap;\n",
              "      gap: 12px;\n",
              "    }\n",
              "\n",
              "    .colab-df-convert {\n",
              "      background-color: #E8F0FE;\n",
              "      border: none;\n",
              "      border-radius: 50%;\n",
              "      cursor: pointer;\n",
              "      display: none;\n",
              "      fill: #1967D2;\n",
              "      height: 32px;\n",
              "      padding: 0 0 0 0;\n",
              "      width: 32px;\n",
              "    }\n",
              "\n",
              "    .colab-df-convert:hover {\n",
              "      background-color: #E2EBFA;\n",
              "      box-shadow: 0px 1px 2px rgba(60, 64, 67, 0.3), 0px 1px 3px 1px rgba(60, 64, 67, 0.15);\n",
              "      fill: #174EA6;\n",
              "    }\n",
              "\n",
              "    [theme=dark] .colab-df-convert {\n",
              "      background-color: #3B4455;\n",
              "      fill: #D2E3FC;\n",
              "    }\n",
              "\n",
              "    [theme=dark] .colab-df-convert:hover {\n",
              "      background-color: #434B5C;\n",
              "      box-shadow: 0px 1px 3px 1px rgba(0, 0, 0, 0.15);\n",
              "      filter: drop-shadow(0px 1px 2px rgba(0, 0, 0, 0.3));\n",
              "      fill: #FFFFFF;\n",
              "    }\n",
              "  </style>\n",
              "\n",
              "      <script>\n",
              "        const buttonEl =\n",
              "          document.querySelector('#df-e2b9df32-f85a-43e7-8a34-4b5925451181 button.colab-df-convert');\n",
              "        buttonEl.style.display =\n",
              "          google.colab.kernel.accessAllowed ? 'block' : 'none';\n",
              "\n",
              "        async function convertToInteractive(key) {\n",
              "          const element = document.querySelector('#df-e2b9df32-f85a-43e7-8a34-4b5925451181');\n",
              "          const dataTable =\n",
              "            await google.colab.kernel.invokeFunction('convertToInteractive',\n",
              "                                                     [key], {});\n",
              "          if (!dataTable) return;\n",
              "\n",
              "          const docLinkHtml = 'Like what you see? Visit the ' +\n",
              "            '<a target=\"_blank\" href=https://colab.research.google.com/notebooks/data_table.ipynb>data table notebook</a>'\n",
              "            + ' to learn more about interactive tables.';\n",
              "          element.innerHTML = '';\n",
              "          dataTable['output_type'] = 'display_data';\n",
              "          await google.colab.output.renderOutput(dataTable, element);\n",
              "          const docLink = document.createElement('div');\n",
              "          docLink.innerHTML = docLinkHtml;\n",
              "          element.appendChild(docLink);\n",
              "        }\n",
              "      </script>\n",
              "    </div>\n",
              "  </div>\n",
              "  "
            ]
          },
          "metadata": {},
          "execution_count": 814
        }
      ]
    },
    {
      "cell_type": "code",
      "source": [
        "X_test['Dust_and_Noise'].tail(15)"
      ],
      "metadata": {
        "id": "hccD1OeCMXGK",
        "colab": {
          "base_uri": "https://localhost:8080/"
        },
        "outputId": "4540a2cf-f1f1-4ce9-bbd8-e9245dc12f74"
      },
      "execution_count": null,
      "outputs": [
        {
          "output_type": "execute_result",
          "data": {
            "text/plain": [
              "10485    Medium\n",
              "10486    Medium\n",
              "10487    Medium\n",
              "10488    Medium\n",
              "10489    Medium\n",
              "10490    Medium\n",
              "10491    Medium\n",
              "10492    Medium\n",
              "10493    Medium\n",
              "10494       NaN\n",
              "10495    Medium\n",
              "10496    Medium\n",
              "10497      High\n",
              "10498    Medium\n",
              "10499    Medium\n",
              "Name: Dust_and_Noise, dtype: object"
            ]
          },
          "metadata": {},
          "execution_count": 815
        }
      ]
    },
    {
      "cell_type": "code",
      "source": [
        "X_test.Dust_and_Noise.unique()"
      ],
      "metadata": {
        "id": "PO5Kdm_0OaJr",
        "colab": {
          "base_uri": "https://localhost:8080/"
        },
        "outputId": "87d87dbd-b043-4ae2-b1fe-c45dc3823ea7"
      },
      "execution_count": null,
      "outputs": [
        {
          "output_type": "execute_result",
          "data": {
            "text/plain": [
              "array(['Medium', 'High', 'Low', nan], dtype=object)"
            ]
          },
          "metadata": {},
          "execution_count": 816
        }
      ]
    },
    {
      "cell_type": "code",
      "source": [
        "X_test['Dust_and_Noise'].isnull().sum().sum()"
      ],
      "metadata": {
        "id": "CQ3NZpgQOdB0",
        "colab": {
          "base_uri": "https://localhost:8080/"
        },
        "outputId": "156e9ba0-0815-4996-cabb-92e89457feba"
      },
      "execution_count": null,
      "outputs": [
        {
          "output_type": "execute_result",
          "data": {
            "text/plain": [
              "330"
            ]
          },
          "metadata": {},
          "execution_count": 817
        }
      ]
    },
    {
      "cell_type": "code",
      "source": [
        "#Replacing Nan with High because uncertainty calls for worst case scenario and should reduce Habitability_score\n",
        "X_test['Dust_and_Noise'] = X_test['Dust_and_Noise'].replace(np.nan,'High')"
      ],
      "metadata": {
        "id": "eXxdzTGKOfYL"
      },
      "execution_count": null,
      "outputs": []
    },
    {
      "cell_type": "code",
      "source": [
        "X_test.Dust_and_Noise.unique()"
      ],
      "metadata": {
        "id": "rscWSQkZOhqj",
        "colab": {
          "base_uri": "https://localhost:8080/"
        },
        "outputId": "342ccc70-63c7-41b9-cd75-d891cc33466c"
      },
      "execution_count": null,
      "outputs": [
        {
          "output_type": "execute_result",
          "data": {
            "text/plain": [
              "array(['Medium', 'High', 'Low'], dtype=object)"
            ]
          },
          "metadata": {},
          "execution_count": 819
        }
      ]
    },
    {
      "cell_type": "code",
      "source": [
        "X_test['Crime_Rate'].unique()"
      ],
      "metadata": {
        "id": "qxrQMFKSOo2L",
        "colab": {
          "base_uri": "https://localhost:8080/"
        },
        "outputId": "ab2c8391-be31-490c-e691-88dd027af82b"
      },
      "execution_count": null,
      "outputs": [
        {
          "output_type": "execute_result",
          "data": {
            "text/plain": [
              "array(['Well above average', 'Well below average',\n",
              "       'Slightly above average', 'Slightly below average', nan],\n",
              "      dtype=object)"
            ]
          },
          "metadata": {},
          "execution_count": 820
        }
      ]
    },
    {
      "cell_type": "code",
      "source": [
        "X_test['Crime_Rate'].isnull().sum().sum()"
      ],
      "metadata": {
        "id": "ndHWLT7eOrIS",
        "colab": {
          "base_uri": "https://localhost:8080/"
        },
        "outputId": "ef347055-fbcb-48ea-fa4d-fcc3856485ea"
      },
      "execution_count": null,
      "outputs": [
        {
          "output_type": "execute_result",
          "data": {
            "text/plain": [
              "212"
            ]
          },
          "metadata": {},
          "execution_count": 821
        }
      ]
    },
    {
      "cell_type": "code",
      "source": [
        "X_test['Crime_Rate'].head(10)"
      ],
      "metadata": {
        "id": "TibTYbMrOwYT",
        "colab": {
          "base_uri": "https://localhost:8080/"
        },
        "outputId": "592686b7-48e9-4605-ddae-1b5064b6322f"
      },
      "execution_count": null,
      "outputs": [
        {
          "output_type": "execute_result",
          "data": {
            "text/plain": [
              "0        Well above average\n",
              "1        Well below average\n",
              "2    Slightly above average\n",
              "3    Slightly below average\n",
              "4        Well above average\n",
              "5        Well below average\n",
              "6        Well below average\n",
              "7    Slightly below average\n",
              "8    Slightly below average\n",
              "9        Well below average\n",
              "Name: Crime_Rate, dtype: object"
            ]
          },
          "metadata": {},
          "execution_count": 822
        }
      ]
    },
    {
      "cell_type": "code",
      "source": [
        "#Replacing Nan with Well above average because uncertainty calls for worst case scenario and should reduce Habitability_score\n",
        "X_test['Crime_Rate'] = X_test['Crime_Rate'].replace(np.nan,'Well above average')"
      ],
      "metadata": {
        "id": "nOsrymakOy6a"
      },
      "execution_count": null,
      "outputs": []
    },
    {
      "cell_type": "code",
      "source": [
        "X_test['Crime_Rate'].unique()"
      ],
      "metadata": {
        "id": "Tc7VtxIyO09j",
        "colab": {
          "base_uri": "https://localhost:8080/"
        },
        "outputId": "69a03702-b907-4626-ef87-7c2bfc35879c"
      },
      "execution_count": null,
      "outputs": [
        {
          "output_type": "execute_result",
          "data": {
            "text/plain": [
              "array(['Well above average', 'Well below average',\n",
              "       'Slightly above average', 'Slightly below average'], dtype=object)"
            ]
          },
          "metadata": {},
          "execution_count": 824
        }
      ]
    },
    {
      "cell_type": "code",
      "source": [
        "X_test['Furnishing'].unique()"
      ],
      "metadata": {
        "id": "5louFuzhO3PC",
        "colab": {
          "base_uri": "https://localhost:8080/"
        },
        "outputId": "0898e344-441f-4a16-d43d-eee7d7af8029"
      },
      "execution_count": null,
      "outputs": [
        {
          "output_type": "execute_result",
          "data": {
            "text/plain": [
              "array(['Unfurnished', 'Semi_Furnished', 'Fully Furnished', nan],\n",
              "      dtype=object)"
            ]
          },
          "metadata": {},
          "execution_count": 825
        }
      ]
    },
    {
      "cell_type": "code",
      "source": [
        "#Replacing Nan with Unfurnished because uncertainty calls for worst case scenario and should reduce Habitability_score\n",
        "X_test['Furnishing'] = X_test['Furnishing'].replace(np.nan,'Unfurnished')"
      ],
      "metadata": {
        "id": "iupojoM7O5uj"
      },
      "execution_count": null,
      "outputs": []
    },
    {
      "cell_type": "code",
      "source": [
        "X_test['Furnishing'].unique()"
      ],
      "metadata": {
        "id": "lu9CLlkgO72i",
        "colab": {
          "base_uri": "https://localhost:8080/"
        },
        "outputId": "b74c91a5-93d0-4027-a608-056ea9450610"
      },
      "execution_count": null,
      "outputs": [
        {
          "output_type": "execute_result",
          "data": {
            "text/plain": [
              "array(['Unfurnished', 'Semi_Furnished', 'Fully Furnished'], dtype=object)"
            ]
          },
          "metadata": {},
          "execution_count": 827
        }
      ]
    },
    {
      "cell_type": "code",
      "source": [
        "X_test['Property_Type'].unique()"
      ],
      "metadata": {
        "id": "_vpbGvGSO-Dy",
        "colab": {
          "base_uri": "https://localhost:8080/"
        },
        "outputId": "a48ab11d-7c9d-4a6a-9834-95f4f8a9dceb"
      },
      "execution_count": null,
      "outputs": [
        {
          "output_type": "execute_result",
          "data": {
            "text/plain": [
              "array(['Apartment', 'Container Home', 'Bungalow', 'Single-family home',\n",
              "       'Duplex', '#R%$G&867'], dtype=object)"
            ]
          },
          "metadata": {},
          "execution_count": 828
        }
      ]
    },
    {
      "cell_type": "code",
      "source": [
        "X_test['Property_Type'].value_counts()"
      ],
      "metadata": {
        "id": "LOHEtHhuPAuC",
        "colab": {
          "base_uri": "https://localhost:8080/"
        },
        "outputId": "91dc15a8-bfa1-4762-8351-3ffc35601216"
      },
      "execution_count": null,
      "outputs": [
        {
          "output_type": "execute_result",
          "data": {
            "text/plain": [
              "Apartment             3853\n",
              "Single-family home    3102\n",
              "Duplex                1520\n",
              "Bungalow              1105\n",
              "Container Home         781\n",
              "#R%$G&867              139\n",
              "Name: Property_Type, dtype: int64"
            ]
          },
          "metadata": {},
          "execution_count": 829
        }
      ]
    },
    {
      "cell_type": "code",
      "source": [
        "#since the effect of the value #R%$G&867 cannot be measured at the moment, it shall be unknown \n",
        "X_test['Property_Type'] = X_test['Property_Type'].replace('#R%$G&867','UnKnown')"
      ],
      "metadata": {
        "id": "PnYPFjPAPDm6"
      },
      "execution_count": null,
      "outputs": []
    },
    {
      "cell_type": "code",
      "source": [
        "X_test['Property_Type'].unique()"
      ],
      "metadata": {
        "id": "rR8NPPvnPGtC",
        "colab": {
          "base_uri": "https://localhost:8080/"
        },
        "outputId": "383adb32-b1c3-4374-8a11-7fa197b42109"
      },
      "execution_count": null,
      "outputs": [
        {
          "output_type": "execute_result",
          "data": {
            "text/plain": [
              "array(['Apartment', 'Container Home', 'Bungalow', 'Single-family home',\n",
              "       'Duplex', 'UnKnown'], dtype=object)"
            ]
          },
          "metadata": {},
          "execution_count": 831
        }
      ]
    },
    {
      "cell_type": "code",
      "source": [
        "X_test.head(5)"
      ],
      "metadata": {
        "colab": {
          "base_uri": "https://localhost:8080/"
        },
        "id": "gep7CjgE7xnQ",
        "outputId": "87197edc-70dd-4be1-e307-0f1817ed8863"
      },
      "execution_count": null,
      "outputs": [
        {
          "output_type": "execute_result",
          "data": {
            "text/plain": [
              "  Property_ID   Property_Type  Property_Area  Number_of_Windows  \\\n",
              "0      0x6e93       Apartment            293                3.0   \n",
              "1      0x8787       Apartment            586                4.0   \n",
              "2      0x6c17  Container Home            305                1.0   \n",
              "3      0x9dbd       Apartment            258                2.0   \n",
              "4      0xbfde        Bungalow           3031               12.0   \n",
              "\n",
              "   Number_of_Doors       Furnishing  Frequency_of_Powercuts Power_Backup  \\\n",
              "0                1      Unfurnished                     0.0           No   \n",
              "1                1   Semi_Furnished                     0.0           No   \n",
              "2                2   Semi_Furnished                     1.0           No   \n",
              "3                1   Semi_Furnished                     1.0           No   \n",
              "4                4  Fully Furnished                     0.0           No   \n",
              "\n",
              "              Water_Supply  Traffic_Density_Score              Crime_Rate  \\\n",
              "0  Once in a day - Morning                   7.28      Well above average   \n",
              "1  Once in a day - Evening                   7.63      Well below average   \n",
              "2                 All time                   5.39  Slightly above average   \n",
              "3                 All time                   7.53  Slightly below average   \n",
              "4                 All time                   8.79      Well above average   \n",
              "\n",
              "  Dust_and_Noise  Air_Quality_Index  Neighborhood_Review  \n",
              "0         Medium              152.0                 2.52  \n",
              "1         Medium               92.0                 4.16  \n",
              "2         Medium               90.0                 2.92  \n",
              "3         Medium              158.0                 3.45  \n",
              "4           High              186.0                 2.72  "
            ],
            "text/html": [
              "\n",
              "  <div id=\"df-5a97ec40-0b14-4b54-9d20-11901a822fca\">\n",
              "    <div class=\"colab-df-container\">\n",
              "      <div>\n",
              "<style scoped>\n",
              "    .dataframe tbody tr th:only-of-type {\n",
              "        vertical-align: middle;\n",
              "    }\n",
              "\n",
              "    .dataframe tbody tr th {\n",
              "        vertical-align: top;\n",
              "    }\n",
              "\n",
              "    .dataframe thead th {\n",
              "        text-align: right;\n",
              "    }\n",
              "</style>\n",
              "<table border=\"1\" class=\"dataframe\">\n",
              "  <thead>\n",
              "    <tr style=\"text-align: right;\">\n",
              "      <th></th>\n",
              "      <th>Property_ID</th>\n",
              "      <th>Property_Type</th>\n",
              "      <th>Property_Area</th>\n",
              "      <th>Number_of_Windows</th>\n",
              "      <th>Number_of_Doors</th>\n",
              "      <th>Furnishing</th>\n",
              "      <th>Frequency_of_Powercuts</th>\n",
              "      <th>Power_Backup</th>\n",
              "      <th>Water_Supply</th>\n",
              "      <th>Traffic_Density_Score</th>\n",
              "      <th>Crime_Rate</th>\n",
              "      <th>Dust_and_Noise</th>\n",
              "      <th>Air_Quality_Index</th>\n",
              "      <th>Neighborhood_Review</th>\n",
              "    </tr>\n",
              "  </thead>\n",
              "  <tbody>\n",
              "    <tr>\n",
              "      <th>0</th>\n",
              "      <td>0x6e93</td>\n",
              "      <td>Apartment</td>\n",
              "      <td>293</td>\n",
              "      <td>3.0</td>\n",
              "      <td>1</td>\n",
              "      <td>Unfurnished</td>\n",
              "      <td>0.0</td>\n",
              "      <td>No</td>\n",
              "      <td>Once in a day - Morning</td>\n",
              "      <td>7.28</td>\n",
              "      <td>Well above average</td>\n",
              "      <td>Medium</td>\n",
              "      <td>152.0</td>\n",
              "      <td>2.52</td>\n",
              "    </tr>\n",
              "    <tr>\n",
              "      <th>1</th>\n",
              "      <td>0x8787</td>\n",
              "      <td>Apartment</td>\n",
              "      <td>586</td>\n",
              "      <td>4.0</td>\n",
              "      <td>1</td>\n",
              "      <td>Semi_Furnished</td>\n",
              "      <td>0.0</td>\n",
              "      <td>No</td>\n",
              "      <td>Once in a day - Evening</td>\n",
              "      <td>7.63</td>\n",
              "      <td>Well below average</td>\n",
              "      <td>Medium</td>\n",
              "      <td>92.0</td>\n",
              "      <td>4.16</td>\n",
              "    </tr>\n",
              "    <tr>\n",
              "      <th>2</th>\n",
              "      <td>0x6c17</td>\n",
              "      <td>Container Home</td>\n",
              "      <td>305</td>\n",
              "      <td>1.0</td>\n",
              "      <td>2</td>\n",
              "      <td>Semi_Furnished</td>\n",
              "      <td>1.0</td>\n",
              "      <td>No</td>\n",
              "      <td>All time</td>\n",
              "      <td>5.39</td>\n",
              "      <td>Slightly above average</td>\n",
              "      <td>Medium</td>\n",
              "      <td>90.0</td>\n",
              "      <td>2.92</td>\n",
              "    </tr>\n",
              "    <tr>\n",
              "      <th>3</th>\n",
              "      <td>0x9dbd</td>\n",
              "      <td>Apartment</td>\n",
              "      <td>258</td>\n",
              "      <td>2.0</td>\n",
              "      <td>1</td>\n",
              "      <td>Semi_Furnished</td>\n",
              "      <td>1.0</td>\n",
              "      <td>No</td>\n",
              "      <td>All time</td>\n",
              "      <td>7.53</td>\n",
              "      <td>Slightly below average</td>\n",
              "      <td>Medium</td>\n",
              "      <td>158.0</td>\n",
              "      <td>3.45</td>\n",
              "    </tr>\n",
              "    <tr>\n",
              "      <th>4</th>\n",
              "      <td>0xbfde</td>\n",
              "      <td>Bungalow</td>\n",
              "      <td>3031</td>\n",
              "      <td>12.0</td>\n",
              "      <td>4</td>\n",
              "      <td>Fully Furnished</td>\n",
              "      <td>0.0</td>\n",
              "      <td>No</td>\n",
              "      <td>All time</td>\n",
              "      <td>8.79</td>\n",
              "      <td>Well above average</td>\n",
              "      <td>High</td>\n",
              "      <td>186.0</td>\n",
              "      <td>2.72</td>\n",
              "    </tr>\n",
              "  </tbody>\n",
              "</table>\n",
              "</div>\n",
              "      <button class=\"colab-df-convert\" onclick=\"convertToInteractive('df-5a97ec40-0b14-4b54-9d20-11901a822fca')\"\n",
              "              title=\"Convert this dataframe to an interactive table.\"\n",
              "              style=\"display:none;\">\n",
              "        \n",
              "  <svg xmlns=\"http://www.w3.org/2000/svg\" height=\"24px\"viewBox=\"0 0 24 24\"\n",
              "       width=\"24px\">\n",
              "    <path d=\"M0 0h24v24H0V0z\" fill=\"none\"/>\n",
              "    <path d=\"M18.56 5.44l.94 2.06.94-2.06 2.06-.94-2.06-.94-.94-2.06-.94 2.06-2.06.94zm-11 1L8.5 8.5l.94-2.06 2.06-.94-2.06-.94L8.5 2.5l-.94 2.06-2.06.94zm10 10l.94 2.06.94-2.06 2.06-.94-2.06-.94-.94-2.06-.94 2.06-2.06.94z\"/><path d=\"M17.41 7.96l-1.37-1.37c-.4-.4-.92-.59-1.43-.59-.52 0-1.04.2-1.43.59L10.3 9.45l-7.72 7.72c-.78.78-.78 2.05 0 2.83L4 21.41c.39.39.9.59 1.41.59.51 0 1.02-.2 1.41-.59l7.78-7.78 2.81-2.81c.8-.78.8-2.07 0-2.86zM5.41 20L4 18.59l7.72-7.72 1.47 1.35L5.41 20z\"/>\n",
              "  </svg>\n",
              "      </button>\n",
              "      \n",
              "  <style>\n",
              "    .colab-df-container {\n",
              "      display:flex;\n",
              "      flex-wrap:wrap;\n",
              "      gap: 12px;\n",
              "    }\n",
              "\n",
              "    .colab-df-convert {\n",
              "      background-color: #E8F0FE;\n",
              "      border: none;\n",
              "      border-radius: 50%;\n",
              "      cursor: pointer;\n",
              "      display: none;\n",
              "      fill: #1967D2;\n",
              "      height: 32px;\n",
              "      padding: 0 0 0 0;\n",
              "      width: 32px;\n",
              "    }\n",
              "\n",
              "    .colab-df-convert:hover {\n",
              "      background-color: #E2EBFA;\n",
              "      box-shadow: 0px 1px 2px rgba(60, 64, 67, 0.3), 0px 1px 3px 1px rgba(60, 64, 67, 0.15);\n",
              "      fill: #174EA6;\n",
              "    }\n",
              "\n",
              "    [theme=dark] .colab-df-convert {\n",
              "      background-color: #3B4455;\n",
              "      fill: #D2E3FC;\n",
              "    }\n",
              "\n",
              "    [theme=dark] .colab-df-convert:hover {\n",
              "      background-color: #434B5C;\n",
              "      box-shadow: 0px 1px 3px 1px rgba(0, 0, 0, 0.15);\n",
              "      filter: drop-shadow(0px 1px 2px rgba(0, 0, 0, 0.3));\n",
              "      fill: #FFFFFF;\n",
              "    }\n",
              "  </style>\n",
              "\n",
              "      <script>\n",
              "        const buttonEl =\n",
              "          document.querySelector('#df-5a97ec40-0b14-4b54-9d20-11901a822fca button.colab-df-convert');\n",
              "        buttonEl.style.display =\n",
              "          google.colab.kernel.accessAllowed ? 'block' : 'none';\n",
              "\n",
              "        async function convertToInteractive(key) {\n",
              "          const element = document.querySelector('#df-5a97ec40-0b14-4b54-9d20-11901a822fca');\n",
              "          const dataTable =\n",
              "            await google.colab.kernel.invokeFunction('convertToInteractive',\n",
              "                                                     [key], {});\n",
              "          if (!dataTable) return;\n",
              "\n",
              "          const docLinkHtml = 'Like what you see? Visit the ' +\n",
              "            '<a target=\"_blank\" href=https://colab.research.google.com/notebooks/data_table.ipynb>data table notebook</a>'\n",
              "            + ' to learn more about interactive tables.';\n",
              "          element.innerHTML = '';\n",
              "          dataTable['output_type'] = 'display_data';\n",
              "          await google.colab.output.renderOutput(dataTable, element);\n",
              "          const docLink = document.createElement('div');\n",
              "          docLink.innerHTML = docLinkHtml;\n",
              "          element.appendChild(docLink);\n",
              "        }\n",
              "      </script>\n",
              "    </div>\n",
              "  </div>\n",
              "  "
            ]
          },
          "metadata": {},
          "execution_count": 832
        }
      ]
    },
    {
      "cell_type": "code",
      "source": [
        "X_test['Number_of_Windows'].mean()"
      ],
      "metadata": {
        "colab": {
          "base_uri": "https://localhost:8080/"
        },
        "id": "9jU0DSev9HmP",
        "outputId": "aa32ff5e-6752-4fd7-84c0-e9a2750983f8"
      },
      "execution_count": null,
      "outputs": [
        {
          "output_type": "execute_result",
          "data": {
            "text/plain": [
              "3.897563401292889"
            ]
          },
          "metadata": {},
          "execution_count": 833
        }
      ]
    },
    {
      "cell_type": "code",
      "source": [
        "#Replacing Nan with 4 because 3.923 is pretty close to 4 than to 3\n",
        "X_test['Number_of_Windows'] = X_test['Number_of_Windows'].replace(np.nan,4)"
      ],
      "metadata": {
        "id": "dsjxxW1E9JB3"
      },
      "execution_count": null,
      "outputs": []
    },
    {
      "cell_type": "code",
      "source": [
        "X_test['Frequency_of_Powercuts'].mean()"
      ],
      "metadata": {
        "colab": {
          "base_uri": "https://localhost:8080/"
        },
        "id": "evQxy7vy9KSQ",
        "outputId": "7d61c690-2691-4d2d-a974-30dc757d611e"
      },
      "execution_count": null,
      "outputs": [
        {
          "output_type": "execute_result",
          "data": {
            "text/plain": [
              "0.48440892046575884"
            ]
          },
          "metadata": {},
          "execution_count": 835
        }
      ]
    },
    {
      "cell_type": "code",
      "source": [
        "X_test['Frequency_of_Powercuts'].unique()"
      ],
      "metadata": {
        "colab": {
          "base_uri": "https://localhost:8080/"
        },
        "id": "734ODMq49LH3",
        "outputId": "09aa6292-08ce-459c-f0be-c6108047088d"
      },
      "execution_count": null,
      "outputs": [
        {
          "output_type": "execute_result",
          "data": {
            "text/plain": [
              "array([ 0.,  1.,  3.,  2., nan])"
            ]
          },
          "metadata": {},
          "execution_count": 836
        }
      ]
    },
    {
      "cell_type": "code",
      "source": [
        "X_test['Frequency_of_Powercuts'].value_counts()"
      ],
      "metadata": {
        "colab": {
          "base_uri": "https://localhost:8080/"
        },
        "id": "JQyndy3Z9L9f",
        "outputId": "077776bd-441c-481c-ac75-c1205f38213c"
      },
      "execution_count": null,
      "outputs": [
        {
          "output_type": "execute_result",
          "data": {
            "text/plain": [
              "0.0    6495\n",
              "1.0    2681\n",
              "2.0     646\n",
              "3.0     312\n",
              "Name: Frequency_of_Powercuts, dtype: int64"
            ]
          },
          "metadata": {},
          "execution_count": 837
        }
      ]
    },
    {
      "cell_type": "code",
      "source": [
        "X_test['Frequency_of_Powercuts'].isnull().sum().sum()"
      ],
      "metadata": {
        "colab": {
          "base_uri": "https://localhost:8080/"
        },
        "id": "q2-H2YOk9Mzn",
        "outputId": "a8c1499c-f177-4cb2-9235-54c606263d85"
      },
      "execution_count": null,
      "outputs": [
        {
          "output_type": "execute_result",
          "data": {
            "text/plain": [
              "366"
            ]
          },
          "metadata": {},
          "execution_count": 838
        }
      ]
    },
    {
      "cell_type": "code",
      "source": [
        "#since the number of na values are considerable the mean value 0.48 is rounded to 0.5 and nan is replaced with it\n",
        "X_test['Frequency_of_Powercuts'] = X_test['Frequency_of_Powercuts'].replace(np.nan,0.0)"
      ],
      "metadata": {
        "id": "youzs_aP9OQX"
      },
      "execution_count": null,
      "outputs": []
    },
    {
      "cell_type": "code",
      "source": [
        "for i in X_test:\n",
        "  temp=35  \n",
        "  temp-=len(i)\n",
        "  check_str=\" \"*temp\n",
        "  print(i+check_str+ str(X_test[i].isnull().sum().sum()))\n",
        "\n",
        "\n"
      ],
      "metadata": {
        "colab": {
          "base_uri": "https://localhost:8080/"
        },
        "id": "RFaVX9dy8tPY",
        "outputId": "4f412055-1975-4d07-a3af-35bebeee077a"
      },
      "execution_count": null,
      "outputs": [
        {
          "output_type": "stream",
          "name": "stdout",
          "text": [
            "Property_ID                        0\n",
            "Property_Type                      0\n",
            "Property_Area                      0\n",
            "Number_of_Windows                  0\n",
            "Number_of_Doors                    0\n",
            "Furnishing                         0\n",
            "Frequency_of_Powercuts             0\n",
            "Power_Backup                       0\n",
            "Water_Supply                       0\n",
            "Traffic_Density_Score              0\n",
            "Crime_Rate                         0\n",
            "Dust_and_Noise                     0\n",
            "Air_Quality_Index                  0\n",
            "Neighborhood_Review                0\n"
          ]
        }
      ]
    },
    {
      "cell_type": "code",
      "source": [
        "encoded_test_data=pd.get_dummies(X_test, columns = ['Furnishing','Property_Type','Water_Supply','Crime_Rate','Dust_and_Noise','Power_Backup'],sparse=True)\n",
        "encoded_test_data.head(5)"
      ],
      "metadata": {
        "colab": {
          "base_uri": "https://localhost:8080/"
        },
        "id": "2s2Zh-Al9Q1Q",
        "outputId": "89db85cf-24b1-421d-e26e-9f1b35aaed48"
      },
      "execution_count": null,
      "outputs": [
        {
          "output_type": "execute_result",
          "data": {
            "text/plain": [
              "  Property_ID  Property_Area  Number_of_Windows  Number_of_Doors  \\\n",
              "0      0x6e93            293                3.0                1   \n",
              "1      0x8787            586                4.0                1   \n",
              "2      0x6c17            305                1.0                2   \n",
              "3      0x9dbd            258                2.0                1   \n",
              "4      0xbfde           3031               12.0                4   \n",
              "\n",
              "   Frequency_of_Powercuts  Traffic_Density_Score  Air_Quality_Index  \\\n",
              "0                     0.0                   7.28              152.0   \n",
              "1                     0.0                   7.63               92.0   \n",
              "2                     1.0                   5.39               90.0   \n",
              "3                     1.0                   7.53              158.0   \n",
              "4                     0.0                   8.79              186.0   \n",
              "\n",
              "   Neighborhood_Review  Furnishing_Fully Furnished  Furnishing_Semi_Furnished  \\\n",
              "0                 2.52                           0                          0   \n",
              "1                 4.16                           0                          1   \n",
              "2                 2.92                           0                          1   \n",
              "3                 3.45                           0                          1   \n",
              "4                 2.72                           1                          0   \n",
              "\n",
              "   ...  Crime_Rate_Slightly above average  Crime_Rate_Slightly below average  \\\n",
              "0  ...                                  0                                  0   \n",
              "1  ...                                  0                                  0   \n",
              "2  ...                                  1                                  0   \n",
              "3  ...                                  0                                  1   \n",
              "4  ...                                  0                                  0   \n",
              "\n",
              "   Crime_Rate_Well above average  Crime_Rate_Well below average  \\\n",
              "0                              1                              0   \n",
              "1                              0                              1   \n",
              "2                              0                              0   \n",
              "3                              0                              0   \n",
              "4                              1                              0   \n",
              "\n",
              "   Dust_and_Noise_High  Dust_and_Noise_Low  Dust_and_Noise_Medium  \\\n",
              "0                    0                   0                      1   \n",
              "1                    0                   0                      1   \n",
              "2                    0                   0                      1   \n",
              "3                    0                   0                      1   \n",
              "4                    1                   0                      0   \n",
              "\n",
              "   Power_Backup_NOT MENTIONED  Power_Backup_No  Power_Backup_Yes  \n",
              "0                           0                1                 0  \n",
              "1                           0                1                 0  \n",
              "2                           0                1                 0  \n",
              "3                           0                1                 0  \n",
              "4                           0                1                 0  \n",
              "\n",
              "[5 rows x 32 columns]"
            ],
            "text/html": [
              "\n",
              "  <div id=\"df-22b4fa6f-6930-4610-b46c-c3dd8a0d7a9e\">\n",
              "    <div class=\"colab-df-container\">\n",
              "      <div>\n",
              "<style scoped>\n",
              "    .dataframe tbody tr th:only-of-type {\n",
              "        vertical-align: middle;\n",
              "    }\n",
              "\n",
              "    .dataframe tbody tr th {\n",
              "        vertical-align: top;\n",
              "    }\n",
              "\n",
              "    .dataframe thead th {\n",
              "        text-align: right;\n",
              "    }\n",
              "</style>\n",
              "<table border=\"1\" class=\"dataframe\">\n",
              "  <thead>\n",
              "    <tr style=\"text-align: right;\">\n",
              "      <th></th>\n",
              "      <th>Property_ID</th>\n",
              "      <th>Property_Area</th>\n",
              "      <th>Number_of_Windows</th>\n",
              "      <th>Number_of_Doors</th>\n",
              "      <th>Frequency_of_Powercuts</th>\n",
              "      <th>Traffic_Density_Score</th>\n",
              "      <th>Air_Quality_Index</th>\n",
              "      <th>Neighborhood_Review</th>\n",
              "      <th>Furnishing_Fully Furnished</th>\n",
              "      <th>Furnishing_Semi_Furnished</th>\n",
              "      <th>...</th>\n",
              "      <th>Crime_Rate_Slightly above average</th>\n",
              "      <th>Crime_Rate_Slightly below average</th>\n",
              "      <th>Crime_Rate_Well above average</th>\n",
              "      <th>Crime_Rate_Well below average</th>\n",
              "      <th>Dust_and_Noise_High</th>\n",
              "      <th>Dust_and_Noise_Low</th>\n",
              "      <th>Dust_and_Noise_Medium</th>\n",
              "      <th>Power_Backup_NOT MENTIONED</th>\n",
              "      <th>Power_Backup_No</th>\n",
              "      <th>Power_Backup_Yes</th>\n",
              "    </tr>\n",
              "  </thead>\n",
              "  <tbody>\n",
              "    <tr>\n",
              "      <th>0</th>\n",
              "      <td>0x6e93</td>\n",
              "      <td>293</td>\n",
              "      <td>3.0</td>\n",
              "      <td>1</td>\n",
              "      <td>0.0</td>\n",
              "      <td>7.28</td>\n",
              "      <td>152.0</td>\n",
              "      <td>2.52</td>\n",
              "      <td>0</td>\n",
              "      <td>0</td>\n",
              "      <td>...</td>\n",
              "      <td>0</td>\n",
              "      <td>0</td>\n",
              "      <td>1</td>\n",
              "      <td>0</td>\n",
              "      <td>0</td>\n",
              "      <td>0</td>\n",
              "      <td>1</td>\n",
              "      <td>0</td>\n",
              "      <td>1</td>\n",
              "      <td>0</td>\n",
              "    </tr>\n",
              "    <tr>\n",
              "      <th>1</th>\n",
              "      <td>0x8787</td>\n",
              "      <td>586</td>\n",
              "      <td>4.0</td>\n",
              "      <td>1</td>\n",
              "      <td>0.0</td>\n",
              "      <td>7.63</td>\n",
              "      <td>92.0</td>\n",
              "      <td>4.16</td>\n",
              "      <td>0</td>\n",
              "      <td>1</td>\n",
              "      <td>...</td>\n",
              "      <td>0</td>\n",
              "      <td>0</td>\n",
              "      <td>0</td>\n",
              "      <td>1</td>\n",
              "      <td>0</td>\n",
              "      <td>0</td>\n",
              "      <td>1</td>\n",
              "      <td>0</td>\n",
              "      <td>1</td>\n",
              "      <td>0</td>\n",
              "    </tr>\n",
              "    <tr>\n",
              "      <th>2</th>\n",
              "      <td>0x6c17</td>\n",
              "      <td>305</td>\n",
              "      <td>1.0</td>\n",
              "      <td>2</td>\n",
              "      <td>1.0</td>\n",
              "      <td>5.39</td>\n",
              "      <td>90.0</td>\n",
              "      <td>2.92</td>\n",
              "      <td>0</td>\n",
              "      <td>1</td>\n",
              "      <td>...</td>\n",
              "      <td>1</td>\n",
              "      <td>0</td>\n",
              "      <td>0</td>\n",
              "      <td>0</td>\n",
              "      <td>0</td>\n",
              "      <td>0</td>\n",
              "      <td>1</td>\n",
              "      <td>0</td>\n",
              "      <td>1</td>\n",
              "      <td>0</td>\n",
              "    </tr>\n",
              "    <tr>\n",
              "      <th>3</th>\n",
              "      <td>0x9dbd</td>\n",
              "      <td>258</td>\n",
              "      <td>2.0</td>\n",
              "      <td>1</td>\n",
              "      <td>1.0</td>\n",
              "      <td>7.53</td>\n",
              "      <td>158.0</td>\n",
              "      <td>3.45</td>\n",
              "      <td>0</td>\n",
              "      <td>1</td>\n",
              "      <td>...</td>\n",
              "      <td>0</td>\n",
              "      <td>1</td>\n",
              "      <td>0</td>\n",
              "      <td>0</td>\n",
              "      <td>0</td>\n",
              "      <td>0</td>\n",
              "      <td>1</td>\n",
              "      <td>0</td>\n",
              "      <td>1</td>\n",
              "      <td>0</td>\n",
              "    </tr>\n",
              "    <tr>\n",
              "      <th>4</th>\n",
              "      <td>0xbfde</td>\n",
              "      <td>3031</td>\n",
              "      <td>12.0</td>\n",
              "      <td>4</td>\n",
              "      <td>0.0</td>\n",
              "      <td>8.79</td>\n",
              "      <td>186.0</td>\n",
              "      <td>2.72</td>\n",
              "      <td>1</td>\n",
              "      <td>0</td>\n",
              "      <td>...</td>\n",
              "      <td>0</td>\n",
              "      <td>0</td>\n",
              "      <td>1</td>\n",
              "      <td>0</td>\n",
              "      <td>1</td>\n",
              "      <td>0</td>\n",
              "      <td>0</td>\n",
              "      <td>0</td>\n",
              "      <td>1</td>\n",
              "      <td>0</td>\n",
              "    </tr>\n",
              "  </tbody>\n",
              "</table>\n",
              "<p>5 rows × 32 columns</p>\n",
              "</div>\n",
              "      <button class=\"colab-df-convert\" onclick=\"convertToInteractive('df-22b4fa6f-6930-4610-b46c-c3dd8a0d7a9e')\"\n",
              "              title=\"Convert this dataframe to an interactive table.\"\n",
              "              style=\"display:none;\">\n",
              "        \n",
              "  <svg xmlns=\"http://www.w3.org/2000/svg\" height=\"24px\"viewBox=\"0 0 24 24\"\n",
              "       width=\"24px\">\n",
              "    <path d=\"M0 0h24v24H0V0z\" fill=\"none\"/>\n",
              "    <path d=\"M18.56 5.44l.94 2.06.94-2.06 2.06-.94-2.06-.94-.94-2.06-.94 2.06-2.06.94zm-11 1L8.5 8.5l.94-2.06 2.06-.94-2.06-.94L8.5 2.5l-.94 2.06-2.06.94zm10 10l.94 2.06.94-2.06 2.06-.94-2.06-.94-.94-2.06-.94 2.06-2.06.94z\"/><path d=\"M17.41 7.96l-1.37-1.37c-.4-.4-.92-.59-1.43-.59-.52 0-1.04.2-1.43.59L10.3 9.45l-7.72 7.72c-.78.78-.78 2.05 0 2.83L4 21.41c.39.39.9.59 1.41.59.51 0 1.02-.2 1.41-.59l7.78-7.78 2.81-2.81c.8-.78.8-2.07 0-2.86zM5.41 20L4 18.59l7.72-7.72 1.47 1.35L5.41 20z\"/>\n",
              "  </svg>\n",
              "      </button>\n",
              "      \n",
              "  <style>\n",
              "    .colab-df-container {\n",
              "      display:flex;\n",
              "      flex-wrap:wrap;\n",
              "      gap: 12px;\n",
              "    }\n",
              "\n",
              "    .colab-df-convert {\n",
              "      background-color: #E8F0FE;\n",
              "      border: none;\n",
              "      border-radius: 50%;\n",
              "      cursor: pointer;\n",
              "      display: none;\n",
              "      fill: #1967D2;\n",
              "      height: 32px;\n",
              "      padding: 0 0 0 0;\n",
              "      width: 32px;\n",
              "    }\n",
              "\n",
              "    .colab-df-convert:hover {\n",
              "      background-color: #E2EBFA;\n",
              "      box-shadow: 0px 1px 2px rgba(60, 64, 67, 0.3), 0px 1px 3px 1px rgba(60, 64, 67, 0.15);\n",
              "      fill: #174EA6;\n",
              "    }\n",
              "\n",
              "    [theme=dark] .colab-df-convert {\n",
              "      background-color: #3B4455;\n",
              "      fill: #D2E3FC;\n",
              "    }\n",
              "\n",
              "    [theme=dark] .colab-df-convert:hover {\n",
              "      background-color: #434B5C;\n",
              "      box-shadow: 0px 1px 3px 1px rgba(0, 0, 0, 0.15);\n",
              "      filter: drop-shadow(0px 1px 2px rgba(0, 0, 0, 0.3));\n",
              "      fill: #FFFFFF;\n",
              "    }\n",
              "  </style>\n",
              "\n",
              "      <script>\n",
              "        const buttonEl =\n",
              "          document.querySelector('#df-22b4fa6f-6930-4610-b46c-c3dd8a0d7a9e button.colab-df-convert');\n",
              "        buttonEl.style.display =\n",
              "          google.colab.kernel.accessAllowed ? 'block' : 'none';\n",
              "\n",
              "        async function convertToInteractive(key) {\n",
              "          const element = document.querySelector('#df-22b4fa6f-6930-4610-b46c-c3dd8a0d7a9e');\n",
              "          const dataTable =\n",
              "            await google.colab.kernel.invokeFunction('convertToInteractive',\n",
              "                                                     [key], {});\n",
              "          if (!dataTable) return;\n",
              "\n",
              "          const docLinkHtml = 'Like what you see? Visit the ' +\n",
              "            '<a target=\"_blank\" href=https://colab.research.google.com/notebooks/data_table.ipynb>data table notebook</a>'\n",
              "            + ' to learn more about interactive tables.';\n",
              "          element.innerHTML = '';\n",
              "          dataTable['output_type'] = 'display_data';\n",
              "          await google.colab.output.renderOutput(dataTable, element);\n",
              "          const docLink = document.createElement('div');\n",
              "          docLink.innerHTML = docLinkHtml;\n",
              "          element.appendChild(docLink);\n",
              "        }\n",
              "      </script>\n",
              "    </div>\n",
              "  </div>\n",
              "  "
            ]
          },
          "metadata": {},
          "execution_count": 841
        }
      ]
    },
    {
      "cell_type": "code",
      "source": [
        "# copy the data\n",
        "X_test = encoded_test_data.iloc[:, 1:]\n",
        "\n",
        "\n",
        "# apply normalization techniques\n",
        "for column in X_test.columns:\n",
        "\tX_test[column] = (X_test[column] - X_test[column].min()) / (X_test[column].max() - X_test[column].min())\t\n",
        "\n",
        "# view normalized data\n",
        "X_test.head(5)"
      ],
      "metadata": {
        "colab": {
          "base_uri": "https://localhost:8080/"
        },
        "id": "FeV90auO9SO_",
        "outputId": "de467270-ce56-45ff-c10e-5ead59a526d0"
      },
      "execution_count": null,
      "outputs": [
        {
          "output_type": "execute_result",
          "data": {
            "text/plain": [
              "   Property_Area  Number_of_Windows  Number_of_Doors  Frequency_of_Powercuts  \\\n",
              "0       0.007050           0.200000              0.0                0.000000   \n",
              "1       0.017752           0.266667              0.0                0.000000   \n",
              "2       0.007488           0.066667              0.2                0.333333   \n",
              "3       0.005771           0.133333              0.0                0.333333   \n",
              "4       0.107061           0.800000              0.6                0.000000   \n",
              "\n",
              "   Traffic_Density_Score  Air_Quality_Index  Neighborhood_Review  \\\n",
              "0               0.771520           0.147430             0.502008   \n",
              "1               0.808714           0.089234             0.831325   \n",
              "2               0.570670           0.087294             0.582329   \n",
              "3               0.798087           0.153249             0.688755   \n",
              "4               0.931987           0.180407             0.542169   \n",
              "\n",
              "   Furnishing_Fully Furnished  Furnishing_Semi_Furnished  \\\n",
              "0                         0.0                        0.0   \n",
              "1                         0.0                        1.0   \n",
              "2                         0.0                        1.0   \n",
              "3                         0.0                        1.0   \n",
              "4                         1.0                        0.0   \n",
              "\n",
              "   Furnishing_Unfurnished  ...  Crime_Rate_Slightly above average  \\\n",
              "0                     1.0  ...                                0.0   \n",
              "1                     0.0  ...                                0.0   \n",
              "2                     0.0  ...                                1.0   \n",
              "3                     0.0  ...                                0.0   \n",
              "4                     0.0  ...                                0.0   \n",
              "\n",
              "   Crime_Rate_Slightly below average  Crime_Rate_Well above average  \\\n",
              "0                                0.0                            1.0   \n",
              "1                                0.0                            0.0   \n",
              "2                                0.0                            0.0   \n",
              "3                                1.0                            0.0   \n",
              "4                                0.0                            1.0   \n",
              "\n",
              "   Crime_Rate_Well below average  Dust_and_Noise_High  Dust_and_Noise_Low  \\\n",
              "0                            0.0                  0.0                 0.0   \n",
              "1                            1.0                  0.0                 0.0   \n",
              "2                            0.0                  0.0                 0.0   \n",
              "3                            0.0                  0.0                 0.0   \n",
              "4                            0.0                  1.0                 0.0   \n",
              "\n",
              "   Dust_and_Noise_Medium  Power_Backup_NOT MENTIONED  Power_Backup_No  \\\n",
              "0                    1.0                         0.0              1.0   \n",
              "1                    1.0                         0.0              1.0   \n",
              "2                    1.0                         0.0              1.0   \n",
              "3                    1.0                         0.0              1.0   \n",
              "4                    0.0                         0.0              1.0   \n",
              "\n",
              "   Power_Backup_Yes  \n",
              "0               0.0  \n",
              "1               0.0  \n",
              "2               0.0  \n",
              "3               0.0  \n",
              "4               0.0  \n",
              "\n",
              "[5 rows x 31 columns]"
            ],
            "text/html": [
              "\n",
              "  <div id=\"df-564df7e5-99ab-44cd-a7b4-95eedcaa2b06\">\n",
              "    <div class=\"colab-df-container\">\n",
              "      <div>\n",
              "<style scoped>\n",
              "    .dataframe tbody tr th:only-of-type {\n",
              "        vertical-align: middle;\n",
              "    }\n",
              "\n",
              "    .dataframe tbody tr th {\n",
              "        vertical-align: top;\n",
              "    }\n",
              "\n",
              "    .dataframe thead th {\n",
              "        text-align: right;\n",
              "    }\n",
              "</style>\n",
              "<table border=\"1\" class=\"dataframe\">\n",
              "  <thead>\n",
              "    <tr style=\"text-align: right;\">\n",
              "      <th></th>\n",
              "      <th>Property_Area</th>\n",
              "      <th>Number_of_Windows</th>\n",
              "      <th>Number_of_Doors</th>\n",
              "      <th>Frequency_of_Powercuts</th>\n",
              "      <th>Traffic_Density_Score</th>\n",
              "      <th>Air_Quality_Index</th>\n",
              "      <th>Neighborhood_Review</th>\n",
              "      <th>Furnishing_Fully Furnished</th>\n",
              "      <th>Furnishing_Semi_Furnished</th>\n",
              "      <th>Furnishing_Unfurnished</th>\n",
              "      <th>...</th>\n",
              "      <th>Crime_Rate_Slightly above average</th>\n",
              "      <th>Crime_Rate_Slightly below average</th>\n",
              "      <th>Crime_Rate_Well above average</th>\n",
              "      <th>Crime_Rate_Well below average</th>\n",
              "      <th>Dust_and_Noise_High</th>\n",
              "      <th>Dust_and_Noise_Low</th>\n",
              "      <th>Dust_and_Noise_Medium</th>\n",
              "      <th>Power_Backup_NOT MENTIONED</th>\n",
              "      <th>Power_Backup_No</th>\n",
              "      <th>Power_Backup_Yes</th>\n",
              "    </tr>\n",
              "  </thead>\n",
              "  <tbody>\n",
              "    <tr>\n",
              "      <th>0</th>\n",
              "      <td>0.007050</td>\n",
              "      <td>0.200000</td>\n",
              "      <td>0.0</td>\n",
              "      <td>0.000000</td>\n",
              "      <td>0.771520</td>\n",
              "      <td>0.147430</td>\n",
              "      <td>0.502008</td>\n",
              "      <td>0.0</td>\n",
              "      <td>0.0</td>\n",
              "      <td>1.0</td>\n",
              "      <td>...</td>\n",
              "      <td>0.0</td>\n",
              "      <td>0.0</td>\n",
              "      <td>1.0</td>\n",
              "      <td>0.0</td>\n",
              "      <td>0.0</td>\n",
              "      <td>0.0</td>\n",
              "      <td>1.0</td>\n",
              "      <td>0.0</td>\n",
              "      <td>1.0</td>\n",
              "      <td>0.0</td>\n",
              "    </tr>\n",
              "    <tr>\n",
              "      <th>1</th>\n",
              "      <td>0.017752</td>\n",
              "      <td>0.266667</td>\n",
              "      <td>0.0</td>\n",
              "      <td>0.000000</td>\n",
              "      <td>0.808714</td>\n",
              "      <td>0.089234</td>\n",
              "      <td>0.831325</td>\n",
              "      <td>0.0</td>\n",
              "      <td>1.0</td>\n",
              "      <td>0.0</td>\n",
              "      <td>...</td>\n",
              "      <td>0.0</td>\n",
              "      <td>0.0</td>\n",
              "      <td>0.0</td>\n",
              "      <td>1.0</td>\n",
              "      <td>0.0</td>\n",
              "      <td>0.0</td>\n",
              "      <td>1.0</td>\n",
              "      <td>0.0</td>\n",
              "      <td>1.0</td>\n",
              "      <td>0.0</td>\n",
              "    </tr>\n",
              "    <tr>\n",
              "      <th>2</th>\n",
              "      <td>0.007488</td>\n",
              "      <td>0.066667</td>\n",
              "      <td>0.2</td>\n",
              "      <td>0.333333</td>\n",
              "      <td>0.570670</td>\n",
              "      <td>0.087294</td>\n",
              "      <td>0.582329</td>\n",
              "      <td>0.0</td>\n",
              "      <td>1.0</td>\n",
              "      <td>0.0</td>\n",
              "      <td>...</td>\n",
              "      <td>1.0</td>\n",
              "      <td>0.0</td>\n",
              "      <td>0.0</td>\n",
              "      <td>0.0</td>\n",
              "      <td>0.0</td>\n",
              "      <td>0.0</td>\n",
              "      <td>1.0</td>\n",
              "      <td>0.0</td>\n",
              "      <td>1.0</td>\n",
              "      <td>0.0</td>\n",
              "    </tr>\n",
              "    <tr>\n",
              "      <th>3</th>\n",
              "      <td>0.005771</td>\n",
              "      <td>0.133333</td>\n",
              "      <td>0.0</td>\n",
              "      <td>0.333333</td>\n",
              "      <td>0.798087</td>\n",
              "      <td>0.153249</td>\n",
              "      <td>0.688755</td>\n",
              "      <td>0.0</td>\n",
              "      <td>1.0</td>\n",
              "      <td>0.0</td>\n",
              "      <td>...</td>\n",
              "      <td>0.0</td>\n",
              "      <td>1.0</td>\n",
              "      <td>0.0</td>\n",
              "      <td>0.0</td>\n",
              "      <td>0.0</td>\n",
              "      <td>0.0</td>\n",
              "      <td>1.0</td>\n",
              "      <td>0.0</td>\n",
              "      <td>1.0</td>\n",
              "      <td>0.0</td>\n",
              "    </tr>\n",
              "    <tr>\n",
              "      <th>4</th>\n",
              "      <td>0.107061</td>\n",
              "      <td>0.800000</td>\n",
              "      <td>0.6</td>\n",
              "      <td>0.000000</td>\n",
              "      <td>0.931987</td>\n",
              "      <td>0.180407</td>\n",
              "      <td>0.542169</td>\n",
              "      <td>1.0</td>\n",
              "      <td>0.0</td>\n",
              "      <td>0.0</td>\n",
              "      <td>...</td>\n",
              "      <td>0.0</td>\n",
              "      <td>0.0</td>\n",
              "      <td>1.0</td>\n",
              "      <td>0.0</td>\n",
              "      <td>1.0</td>\n",
              "      <td>0.0</td>\n",
              "      <td>0.0</td>\n",
              "      <td>0.0</td>\n",
              "      <td>1.0</td>\n",
              "      <td>0.0</td>\n",
              "    </tr>\n",
              "  </tbody>\n",
              "</table>\n",
              "<p>5 rows × 31 columns</p>\n",
              "</div>\n",
              "      <button class=\"colab-df-convert\" onclick=\"convertToInteractive('df-564df7e5-99ab-44cd-a7b4-95eedcaa2b06')\"\n",
              "              title=\"Convert this dataframe to an interactive table.\"\n",
              "              style=\"display:none;\">\n",
              "        \n",
              "  <svg xmlns=\"http://www.w3.org/2000/svg\" height=\"24px\"viewBox=\"0 0 24 24\"\n",
              "       width=\"24px\">\n",
              "    <path d=\"M0 0h24v24H0V0z\" fill=\"none\"/>\n",
              "    <path d=\"M18.56 5.44l.94 2.06.94-2.06 2.06-.94-2.06-.94-.94-2.06-.94 2.06-2.06.94zm-11 1L8.5 8.5l.94-2.06 2.06-.94-2.06-.94L8.5 2.5l-.94 2.06-2.06.94zm10 10l.94 2.06.94-2.06 2.06-.94-2.06-.94-.94-2.06-.94 2.06-2.06.94z\"/><path d=\"M17.41 7.96l-1.37-1.37c-.4-.4-.92-.59-1.43-.59-.52 0-1.04.2-1.43.59L10.3 9.45l-7.72 7.72c-.78.78-.78 2.05 0 2.83L4 21.41c.39.39.9.59 1.41.59.51 0 1.02-.2 1.41-.59l7.78-7.78 2.81-2.81c.8-.78.8-2.07 0-2.86zM5.41 20L4 18.59l7.72-7.72 1.47 1.35L5.41 20z\"/>\n",
              "  </svg>\n",
              "      </button>\n",
              "      \n",
              "  <style>\n",
              "    .colab-df-container {\n",
              "      display:flex;\n",
              "      flex-wrap:wrap;\n",
              "      gap: 12px;\n",
              "    }\n",
              "\n",
              "    .colab-df-convert {\n",
              "      background-color: #E8F0FE;\n",
              "      border: none;\n",
              "      border-radius: 50%;\n",
              "      cursor: pointer;\n",
              "      display: none;\n",
              "      fill: #1967D2;\n",
              "      height: 32px;\n",
              "      padding: 0 0 0 0;\n",
              "      width: 32px;\n",
              "    }\n",
              "\n",
              "    .colab-df-convert:hover {\n",
              "      background-color: #E2EBFA;\n",
              "      box-shadow: 0px 1px 2px rgba(60, 64, 67, 0.3), 0px 1px 3px 1px rgba(60, 64, 67, 0.15);\n",
              "      fill: #174EA6;\n",
              "    }\n",
              "\n",
              "    [theme=dark] .colab-df-convert {\n",
              "      background-color: #3B4455;\n",
              "      fill: #D2E3FC;\n",
              "    }\n",
              "\n",
              "    [theme=dark] .colab-df-convert:hover {\n",
              "      background-color: #434B5C;\n",
              "      box-shadow: 0px 1px 3px 1px rgba(0, 0, 0, 0.15);\n",
              "      filter: drop-shadow(0px 1px 2px rgba(0, 0, 0, 0.3));\n",
              "      fill: #FFFFFF;\n",
              "    }\n",
              "  </style>\n",
              "\n",
              "      <script>\n",
              "        const buttonEl =\n",
              "          document.querySelector('#df-564df7e5-99ab-44cd-a7b4-95eedcaa2b06 button.colab-df-convert');\n",
              "        buttonEl.style.display =\n",
              "          google.colab.kernel.accessAllowed ? 'block' : 'none';\n",
              "\n",
              "        async function convertToInteractive(key) {\n",
              "          const element = document.querySelector('#df-564df7e5-99ab-44cd-a7b4-95eedcaa2b06');\n",
              "          const dataTable =\n",
              "            await google.colab.kernel.invokeFunction('convertToInteractive',\n",
              "                                                     [key], {});\n",
              "          if (!dataTable) return;\n",
              "\n",
              "          const docLinkHtml = 'Like what you see? Visit the ' +\n",
              "            '<a target=\"_blank\" href=https://colab.research.google.com/notebooks/data_table.ipynb>data table notebook</a>'\n",
              "            + ' to learn more about interactive tables.';\n",
              "          element.innerHTML = '';\n",
              "          dataTable['output_type'] = 'display_data';\n",
              "          await google.colab.output.renderOutput(dataTable, element);\n",
              "          const docLink = document.createElement('div');\n",
              "          docLink.innerHTML = docLinkHtml;\n",
              "          element.appendChild(docLink);\n",
              "        }\n",
              "      </script>\n",
              "    </div>\n",
              "  </div>\n",
              "  "
            ]
          },
          "metadata": {},
          "execution_count": 842
        }
      ]
    },
    {
      "cell_type": "markdown",
      "source": [
        "#PREPROCESSING TEST DATA(AVERAGE CASE SCENARIO)"
      ],
      "metadata": {
        "id": "nQl7qZgOd7Lm"
      }
    },
    {
      "cell_type": "code",
      "source": [
        "from google.colab import files\n",
        "uploaded = files.upload()"
      ],
      "metadata": {
        "colab": {
          "resources": {
            "http://localhost:8080/nbextensions/google.colab/files.js": {
              "data": "Ly8gQ29weXJpZ2h0IDIwMTcgR29vZ2xlIExMQwovLwovLyBMaWNlbnNlZCB1bmRlciB0aGUgQXBhY2hlIExpY2Vuc2UsIFZlcnNpb24gMi4wICh0aGUgIkxpY2Vuc2UiKTsKLy8geW91IG1heSBub3QgdXNlIHRoaXMgZmlsZSBleGNlcHQgaW4gY29tcGxpYW5jZSB3aXRoIHRoZSBMaWNlbnNlLgovLyBZb3UgbWF5IG9idGFpbiBhIGNvcHkgb2YgdGhlIExpY2Vuc2UgYXQKLy8KLy8gICAgICBodHRwOi8vd3d3LmFwYWNoZS5vcmcvbGljZW5zZXMvTElDRU5TRS0yLjAKLy8KLy8gVW5sZXNzIHJlcXVpcmVkIGJ5IGFwcGxpY2FibGUgbGF3IG9yIGFncmVlZCB0byBpbiB3cml0aW5nLCBzb2Z0d2FyZQovLyBkaXN0cmlidXRlZCB1bmRlciB0aGUgTGljZW5zZSBpcyBkaXN0cmlidXRlZCBvbiBhbiAiQVMgSVMiIEJBU0lTLAovLyBXSVRIT1VUIFdBUlJBTlRJRVMgT1IgQ09ORElUSU9OUyBPRiBBTlkgS0lORCwgZWl0aGVyIGV4cHJlc3Mgb3IgaW1wbGllZC4KLy8gU2VlIHRoZSBMaWNlbnNlIGZvciB0aGUgc3BlY2lmaWMgbGFuZ3VhZ2UgZ292ZXJuaW5nIHBlcm1pc3Npb25zIGFuZAovLyBsaW1pdGF0aW9ucyB1bmRlciB0aGUgTGljZW5zZS4KCi8qKgogKiBAZmlsZW92ZXJ2aWV3IEhlbHBlcnMgZm9yIGdvb2dsZS5jb2xhYiBQeXRob24gbW9kdWxlLgogKi8KKGZ1bmN0aW9uKHNjb3BlKSB7CmZ1bmN0aW9uIHNwYW4odGV4dCwgc3R5bGVBdHRyaWJ1dGVzID0ge30pIHsKICBjb25zdCBlbGVtZW50ID0gZG9jdW1lbnQuY3JlYXRlRWxlbWVudCgnc3BhbicpOwogIGVsZW1lbnQudGV4dENvbnRlbnQgPSB0ZXh0OwogIGZvciAoY29uc3Qga2V5IG9mIE9iamVjdC5rZXlzKHN0eWxlQXR0cmlidXRlcykpIHsKICAgIGVsZW1lbnQuc3R5bGVba2V5XSA9IHN0eWxlQXR0cmlidXRlc1trZXldOwogIH0KICByZXR1cm4gZWxlbWVudDsKfQoKLy8gTWF4IG51bWJlciBvZiBieXRlcyB3aGljaCB3aWxsIGJlIHVwbG9hZGVkIGF0IGEgdGltZS4KY29uc3QgTUFYX1BBWUxPQURfU0laRSA9IDEwMCAqIDEwMjQ7CgpmdW5jdGlvbiBfdXBsb2FkRmlsZXMoaW5wdXRJZCwgb3V0cHV0SWQpIHsKICBjb25zdCBzdGVwcyA9IHVwbG9hZEZpbGVzU3RlcChpbnB1dElkLCBvdXRwdXRJZCk7CiAgY29uc3Qgb3V0cHV0RWxlbWVudCA9IGRvY3VtZW50LmdldEVsZW1lbnRCeUlkKG91dHB1dElkKTsKICAvLyBDYWNoZSBzdGVwcyBvbiB0aGUgb3V0cHV0RWxlbWVudCB0byBtYWtlIGl0IGF2YWlsYWJsZSBmb3IgdGhlIG5leHQgY2FsbAogIC8vIHRvIHVwbG9hZEZpbGVzQ29udGludWUgZnJvbSBQeXRob24uCiAgb3V0cHV0RWxlbWVudC5zdGVwcyA9IHN0ZXBzOwoKICByZXR1cm4gX3VwbG9hZEZpbGVzQ29udGludWUob3V0cHV0SWQpOwp9CgovLyBUaGlzIGlzIHJvdWdobHkgYW4gYXN5bmMgZ2VuZXJhdG9yIChub3Qgc3VwcG9ydGVkIGluIHRoZSBicm93c2VyIHlldCksCi8vIHdoZXJlIHRoZXJlIGFyZSBtdWx0aXBsZSBhc3luY2hyb25vdXMgc3RlcHMgYW5kIHRoZSBQeXRob24gc2lkZSBpcyBnb2luZwovLyB0byBwb2xsIGZvciBjb21wbGV0aW9uIG9mIGVhY2ggc3RlcC4KLy8gVGhpcyB1c2VzIGEgUHJvbWlzZSB0byBibG9jayB0aGUgcHl0aG9uIHNpZGUgb24gY29tcGxldGlvbiBvZiBlYWNoIHN0ZXAsCi8vIHRoZW4gcGFzc2VzIHRoZSByZXN1bHQgb2YgdGhlIHByZXZpb3VzIHN0ZXAgYXMgdGhlIGlucHV0IHRvIHRoZSBuZXh0IHN0ZXAuCmZ1bmN0aW9uIF91cGxvYWRGaWxlc0NvbnRpbnVlKG91dHB1dElkKSB7CiAgY29uc3Qgb3V0cHV0RWxlbWVudCA9IGRvY3VtZW50LmdldEVsZW1lbnRCeUlkKG91dHB1dElkKTsKICBjb25zdCBzdGVwcyA9IG91dHB1dEVsZW1lbnQuc3RlcHM7CgogIGNvbnN0IG5leHQgPSBzdGVwcy5uZXh0KG91dHB1dEVsZW1lbnQubGFzdFByb21pc2VWYWx1ZSk7CiAgcmV0dXJuIFByb21pc2UucmVzb2x2ZShuZXh0LnZhbHVlLnByb21pc2UpLnRoZW4oKHZhbHVlKSA9PiB7CiAgICAvLyBDYWNoZSB0aGUgbGFzdCBwcm9taXNlIHZhbHVlIHRvIG1ha2UgaXQgYXZhaWxhYmxlIHRvIHRoZSBuZXh0CiAgICAvLyBzdGVwIG9mIHRoZSBnZW5lcmF0b3IuCiAgICBvdXRwdXRFbGVtZW50Lmxhc3RQcm9taXNlVmFsdWUgPSB2YWx1ZTsKICAgIHJldHVybiBuZXh0LnZhbHVlLnJlc3BvbnNlOwogIH0pOwp9CgovKioKICogR2VuZXJhdG9yIGZ1bmN0aW9uIHdoaWNoIGlzIGNhbGxlZCBiZXR3ZWVuIGVhY2ggYXN5bmMgc3RlcCBvZiB0aGUgdXBsb2FkCiAqIHByb2Nlc3MuCiAqIEBwYXJhbSB7c3RyaW5nfSBpbnB1dElkIEVsZW1lbnQgSUQgb2YgdGhlIGlucHV0IGZpbGUgcGlja2VyIGVsZW1lbnQuCiAqIEBwYXJhbSB7c3RyaW5nfSBvdXRwdXRJZCBFbGVtZW50IElEIG9mIHRoZSBvdXRwdXQgZGlzcGxheS4KICogQHJldHVybiB7IUl0ZXJhYmxlPCFPYmplY3Q+fSBJdGVyYWJsZSBvZiBuZXh0IHN0ZXBzLgogKi8KZnVuY3Rpb24qIHVwbG9hZEZpbGVzU3RlcChpbnB1dElkLCBvdXRwdXRJZCkgewogIGNvbnN0IGlucHV0RWxlbWVudCA9IGRvY3VtZW50LmdldEVsZW1lbnRCeUlkKGlucHV0SWQpOwogIGlucHV0RWxlbWVudC5kaXNhYmxlZCA9IGZhbHNlOwoKICBjb25zdCBvdXRwdXRFbGVtZW50ID0gZG9jdW1lbnQuZ2V0RWxlbWVudEJ5SWQob3V0cHV0SWQpOwogIG91dHB1dEVsZW1lbnQuaW5uZXJIVE1MID0gJyc7CgogIGNvbnN0IHBpY2tlZFByb21pc2UgPSBuZXcgUHJvbWlzZSgocmVzb2x2ZSkgPT4gewogICAgaW5wdXRFbGVtZW50LmFkZEV2ZW50TGlzdGVuZXIoJ2NoYW5nZScsIChlKSA9PiB7CiAgICAgIHJlc29sdmUoZS50YXJnZXQuZmlsZXMpOwogICAgfSk7CiAgfSk7CgogIGNvbnN0IGNhbmNlbCA9IGRvY3VtZW50LmNyZWF0ZUVsZW1lbnQoJ2J1dHRvbicpOwogIGlucHV0RWxlbWVudC5wYXJlbnRFbGVtZW50LmFwcGVuZENoaWxkKGNhbmNlbCk7CiAgY2FuY2VsLnRleHRDb250ZW50ID0gJ0NhbmNlbCB1cGxvYWQnOwogIGNvbnN0IGNhbmNlbFByb21pc2UgPSBuZXcgUHJvbWlzZSgocmVzb2x2ZSkgPT4gewogICAgY2FuY2VsLm9uY2xpY2sgPSAoKSA9PiB7CiAgICAgIHJlc29sdmUobnVsbCk7CiAgICB9OwogIH0pOwoKICAvLyBXYWl0IGZvciB0aGUgdXNlciB0byBwaWNrIHRoZSBmaWxlcy4KICBjb25zdCBmaWxlcyA9IHlpZWxkIHsKICAgIHByb21pc2U6IFByb21pc2UucmFjZShbcGlja2VkUHJvbWlzZSwgY2FuY2VsUHJvbWlzZV0pLAogICAgcmVzcG9uc2U6IHsKICAgICAgYWN0aW9uOiAnc3RhcnRpbmcnLAogICAgfQogIH07CgogIGNhbmNlbC5yZW1vdmUoKTsKCiAgLy8gRGlzYWJsZSB0aGUgaW5wdXQgZWxlbWVudCBzaW5jZSBmdXJ0aGVyIHBpY2tzIGFyZSBub3QgYWxsb3dlZC4KICBpbnB1dEVsZW1lbnQuZGlzYWJsZWQgPSB0cnVlOwoKICBpZiAoIWZpbGVzKSB7CiAgICByZXR1cm4gewogICAgICByZXNwb25zZTogewogICAgICAgIGFjdGlvbjogJ2NvbXBsZXRlJywKICAgICAgfQogICAgfTsKICB9CgogIGZvciAoY29uc3QgZmlsZSBvZiBmaWxlcykgewogICAgY29uc3QgbGkgPSBkb2N1bWVudC5jcmVhdGVFbGVtZW50KCdsaScpOwogICAgbGkuYXBwZW5kKHNwYW4oZmlsZS5uYW1lLCB7Zm9udFdlaWdodDogJ2JvbGQnfSkpOwogICAgbGkuYXBwZW5kKHNwYW4oCiAgICAgICAgYCgke2ZpbGUudHlwZSB8fCAnbi9hJ30pIC0gJHtmaWxlLnNpemV9IGJ5dGVzLCBgICsKICAgICAgICBgbGFzdCBtb2RpZmllZDogJHsKICAgICAgICAgICAgZmlsZS5sYXN0TW9kaWZpZWREYXRlID8gZmlsZS5sYXN0TW9kaWZpZWREYXRlLnRvTG9jYWxlRGF0ZVN0cmluZygpIDoKICAgICAgICAgICAgICAgICAgICAgICAgICAgICAgICAgICAgJ24vYSd9IC0gYCkpOwogICAgY29uc3QgcGVyY2VudCA9IHNwYW4oJzAlIGRvbmUnKTsKICAgIGxpLmFwcGVuZENoaWxkKHBlcmNlbnQpOwoKICAgIG91dHB1dEVsZW1lbnQuYXBwZW5kQ2hpbGQobGkpOwoKICAgIGNvbnN0IGZpbGVEYXRhUHJvbWlzZSA9IG5ldyBQcm9taXNlKChyZXNvbHZlKSA9PiB7CiAgICAgIGNvbnN0IHJlYWRlciA9IG5ldyBGaWxlUmVhZGVyKCk7CiAgICAgIHJlYWRlci5vbmxvYWQgPSAoZSkgPT4gewogICAgICAgIHJlc29sdmUoZS50YXJnZXQucmVzdWx0KTsKICAgICAgfTsKICAgICAgcmVhZGVyLnJlYWRBc0FycmF5QnVmZmVyKGZpbGUpOwogICAgfSk7CiAgICAvLyBXYWl0IGZvciB0aGUgZGF0YSB0byBiZSByZWFkeS4KICAgIGxldCBmaWxlRGF0YSA9IHlpZWxkIHsKICAgICAgcHJvbWlzZTogZmlsZURhdGFQcm9taXNlLAogICAgICByZXNwb25zZTogewogICAgICAgIGFjdGlvbjogJ2NvbnRpbnVlJywKICAgICAgfQogICAgfTsKCiAgICAvLyBVc2UgYSBjaHVua2VkIHNlbmRpbmcgdG8gYXZvaWQgbWVzc2FnZSBzaXplIGxpbWl0cy4gU2VlIGIvNjIxMTU2NjAuCiAgICBsZXQgcG9zaXRpb24gPSAwOwogICAgZG8gewogICAgICBjb25zdCBsZW5ndGggPSBNYXRoLm1pbihmaWxlRGF0YS5ieXRlTGVuZ3RoIC0gcG9zaXRpb24sIE1BWF9QQVlMT0FEX1NJWkUpOwogICAgICBjb25zdCBjaHVuayA9IG5ldyBVaW50OEFycmF5KGZpbGVEYXRhLCBwb3NpdGlvbiwgbGVuZ3RoKTsKICAgICAgcG9zaXRpb24gKz0gbGVuZ3RoOwoKICAgICAgY29uc3QgYmFzZTY0ID0gYnRvYShTdHJpbmcuZnJvbUNoYXJDb2RlLmFwcGx5KG51bGwsIGNodW5rKSk7CiAgICAgIHlpZWxkIHsKICAgICAgICByZXNwb25zZTogewogICAgICAgICAgYWN0aW9uOiAnYXBwZW5kJywKICAgICAgICAgIGZpbGU6IGZpbGUubmFtZSwKICAgICAgICAgIGRhdGE6IGJhc2U2NCwKICAgICAgICB9LAogICAgICB9OwoKICAgICAgbGV0IHBlcmNlbnREb25lID0gZmlsZURhdGEuYnl0ZUxlbmd0aCA9PT0gMCA/CiAgICAgICAgICAxMDAgOgogICAgICAgICAgTWF0aC5yb3VuZCgocG9zaXRpb24gLyBmaWxlRGF0YS5ieXRlTGVuZ3RoKSAqIDEwMCk7CiAgICAgIHBlcmNlbnQudGV4dENvbnRlbnQgPSBgJHtwZXJjZW50RG9uZX0lIGRvbmVgOwoKICAgIH0gd2hpbGUgKHBvc2l0aW9uIDwgZmlsZURhdGEuYnl0ZUxlbmd0aCk7CiAgfQoKICAvLyBBbGwgZG9uZS4KICB5aWVsZCB7CiAgICByZXNwb25zZTogewogICAgICBhY3Rpb246ICdjb21wbGV0ZScsCiAgICB9CiAgfTsKfQoKc2NvcGUuZ29vZ2xlID0gc2NvcGUuZ29vZ2xlIHx8IHt9OwpzY29wZS5nb29nbGUuY29sYWIgPSBzY29wZS5nb29nbGUuY29sYWIgfHwge307CnNjb3BlLmdvb2dsZS5jb2xhYi5fZmlsZXMgPSB7CiAgX3VwbG9hZEZpbGVzLAogIF91cGxvYWRGaWxlc0NvbnRpbnVlLAp9Owp9KShzZWxmKTsK",
              "ok": true,
              "headers": [
                [
                  "content-type",
                  "application/javascript"
                ]
              ],
              "status": 200,
              "status_text": ""
            }
          },
          "base_uri": "https://localhost:8080/"
        },
        "id": "GssmIZrFersi",
        "outputId": "6da51aec-8217-4329-8a4f-94f5e68669d6"
      },
      "execution_count": null,
      "outputs": [
        {
          "output_type": "display_data",
          "data": {
            "text/plain": [
              "<IPython.core.display.HTML object>"
            ],
            "text/html": [
              "\n",
              "     <input type=\"file\" id=\"files-325f2a66-325f-465c-90b2-0466946f9cb5\" name=\"files[]\" multiple disabled\n",
              "        style=\"border:none\" />\n",
              "     <output id=\"result-325f2a66-325f-465c-90b2-0466946f9cb5\">\n",
              "      Upload widget is only available when the cell has been executed in the\n",
              "      current browser session. Please rerun this cell to enable.\n",
              "      </output>\n",
              "      <script src=\"/nbextensions/google.colab/files.js\"></script> "
            ]
          },
          "metadata": {}
        },
        {
          "output_type": "stream",
          "name": "stdout",
          "text": [
            "Saving test.csv to test (3).csv\n"
          ]
        }
      ]
    },
    {
      "cell_type": "code",
      "source": [
        "X_test=pd.read_csv(io.BytesIO(uploaded['test.csv']))"
      ],
      "metadata": {
        "id": "WzD4jvceetRZ"
      },
      "execution_count": null,
      "outputs": []
    },
    {
      "cell_type": "code",
      "source": [
        "X_test.head(5)"
      ],
      "metadata": {
        "colab": {
          "base_uri": "https://localhost:8080/"
        },
        "id": "rZbB0Xpsewxg",
        "outputId": "26f946cf-c2f4-41fd-ec46-b1f1b709b51e"
      },
      "execution_count": null,
      "outputs": [
        {
          "output_type": "execute_result",
          "data": {
            "text/plain": [
              "  Property_ID   Property_Type  Property_Area  Number_of_Windows  \\\n",
              "0      0x6e93       Apartment            293                3.0   \n",
              "1      0x8787       Apartment            586                4.0   \n",
              "2      0x6c17  Container Home            305                1.0   \n",
              "3      0x9dbd       Apartment            258                2.0   \n",
              "4      0xbfde        Bungalow           3031               12.0   \n",
              "\n",
              "   Number_of_Doors       Furnishing  Frequency_of_Powercuts Power_Backup  \\\n",
              "0                1      Unfurnished                     0.0           No   \n",
              "1                1   Semi_Furnished                     0.0           No   \n",
              "2                2   Semi_Furnished                     1.0           No   \n",
              "3                1   Semi_Furnished                     1.0           No   \n",
              "4                4  Fully Furnished                     0.0           No   \n",
              "\n",
              "              Water_Supply  Traffic_Density_Score              Crime_Rate  \\\n",
              "0  Once in a day - Morning                   7.28      Well above average   \n",
              "1  Once in a day - Evening                   7.63      Well below average   \n",
              "2                 All time                   5.39  Slightly above average   \n",
              "3                 All time                   7.53  Slightly below average   \n",
              "4                 All time                   8.79      Well above average   \n",
              "\n",
              "  Dust_and_Noise  Air_Quality_Index  Neighborhood_Review  \n",
              "0         Medium              152.0                 2.52  \n",
              "1         Medium               92.0                 4.16  \n",
              "2         Medium               90.0                 2.92  \n",
              "3         Medium              158.0                 3.45  \n",
              "4           High              186.0                 2.72  "
            ],
            "text/html": [
              "\n",
              "  <div id=\"df-7031beeb-9af4-4fc4-aab7-87671b6a1d8f\">\n",
              "    <div class=\"colab-df-container\">\n",
              "      <div>\n",
              "<style scoped>\n",
              "    .dataframe tbody tr th:only-of-type {\n",
              "        vertical-align: middle;\n",
              "    }\n",
              "\n",
              "    .dataframe tbody tr th {\n",
              "        vertical-align: top;\n",
              "    }\n",
              "\n",
              "    .dataframe thead th {\n",
              "        text-align: right;\n",
              "    }\n",
              "</style>\n",
              "<table border=\"1\" class=\"dataframe\">\n",
              "  <thead>\n",
              "    <tr style=\"text-align: right;\">\n",
              "      <th></th>\n",
              "      <th>Property_ID</th>\n",
              "      <th>Property_Type</th>\n",
              "      <th>Property_Area</th>\n",
              "      <th>Number_of_Windows</th>\n",
              "      <th>Number_of_Doors</th>\n",
              "      <th>Furnishing</th>\n",
              "      <th>Frequency_of_Powercuts</th>\n",
              "      <th>Power_Backup</th>\n",
              "      <th>Water_Supply</th>\n",
              "      <th>Traffic_Density_Score</th>\n",
              "      <th>Crime_Rate</th>\n",
              "      <th>Dust_and_Noise</th>\n",
              "      <th>Air_Quality_Index</th>\n",
              "      <th>Neighborhood_Review</th>\n",
              "    </tr>\n",
              "  </thead>\n",
              "  <tbody>\n",
              "    <tr>\n",
              "      <th>0</th>\n",
              "      <td>0x6e93</td>\n",
              "      <td>Apartment</td>\n",
              "      <td>293</td>\n",
              "      <td>3.0</td>\n",
              "      <td>1</td>\n",
              "      <td>Unfurnished</td>\n",
              "      <td>0.0</td>\n",
              "      <td>No</td>\n",
              "      <td>Once in a day - Morning</td>\n",
              "      <td>7.28</td>\n",
              "      <td>Well above average</td>\n",
              "      <td>Medium</td>\n",
              "      <td>152.0</td>\n",
              "      <td>2.52</td>\n",
              "    </tr>\n",
              "    <tr>\n",
              "      <th>1</th>\n",
              "      <td>0x8787</td>\n",
              "      <td>Apartment</td>\n",
              "      <td>586</td>\n",
              "      <td>4.0</td>\n",
              "      <td>1</td>\n",
              "      <td>Semi_Furnished</td>\n",
              "      <td>0.0</td>\n",
              "      <td>No</td>\n",
              "      <td>Once in a day - Evening</td>\n",
              "      <td>7.63</td>\n",
              "      <td>Well below average</td>\n",
              "      <td>Medium</td>\n",
              "      <td>92.0</td>\n",
              "      <td>4.16</td>\n",
              "    </tr>\n",
              "    <tr>\n",
              "      <th>2</th>\n",
              "      <td>0x6c17</td>\n",
              "      <td>Container Home</td>\n",
              "      <td>305</td>\n",
              "      <td>1.0</td>\n",
              "      <td>2</td>\n",
              "      <td>Semi_Furnished</td>\n",
              "      <td>1.0</td>\n",
              "      <td>No</td>\n",
              "      <td>All time</td>\n",
              "      <td>5.39</td>\n",
              "      <td>Slightly above average</td>\n",
              "      <td>Medium</td>\n",
              "      <td>90.0</td>\n",
              "      <td>2.92</td>\n",
              "    </tr>\n",
              "    <tr>\n",
              "      <th>3</th>\n",
              "      <td>0x9dbd</td>\n",
              "      <td>Apartment</td>\n",
              "      <td>258</td>\n",
              "      <td>2.0</td>\n",
              "      <td>1</td>\n",
              "      <td>Semi_Furnished</td>\n",
              "      <td>1.0</td>\n",
              "      <td>No</td>\n",
              "      <td>All time</td>\n",
              "      <td>7.53</td>\n",
              "      <td>Slightly below average</td>\n",
              "      <td>Medium</td>\n",
              "      <td>158.0</td>\n",
              "      <td>3.45</td>\n",
              "    </tr>\n",
              "    <tr>\n",
              "      <th>4</th>\n",
              "      <td>0xbfde</td>\n",
              "      <td>Bungalow</td>\n",
              "      <td>3031</td>\n",
              "      <td>12.0</td>\n",
              "      <td>4</td>\n",
              "      <td>Fully Furnished</td>\n",
              "      <td>0.0</td>\n",
              "      <td>No</td>\n",
              "      <td>All time</td>\n",
              "      <td>8.79</td>\n",
              "      <td>Well above average</td>\n",
              "      <td>High</td>\n",
              "      <td>186.0</td>\n",
              "      <td>2.72</td>\n",
              "    </tr>\n",
              "  </tbody>\n",
              "</table>\n",
              "</div>\n",
              "      <button class=\"colab-df-convert\" onclick=\"convertToInteractive('df-7031beeb-9af4-4fc4-aab7-87671b6a1d8f')\"\n",
              "              title=\"Convert this dataframe to an interactive table.\"\n",
              "              style=\"display:none;\">\n",
              "        \n",
              "  <svg xmlns=\"http://www.w3.org/2000/svg\" height=\"24px\"viewBox=\"0 0 24 24\"\n",
              "       width=\"24px\">\n",
              "    <path d=\"M0 0h24v24H0V0z\" fill=\"none\"/>\n",
              "    <path d=\"M18.56 5.44l.94 2.06.94-2.06 2.06-.94-2.06-.94-.94-2.06-.94 2.06-2.06.94zm-11 1L8.5 8.5l.94-2.06 2.06-.94-2.06-.94L8.5 2.5l-.94 2.06-2.06.94zm10 10l.94 2.06.94-2.06 2.06-.94-2.06-.94-.94-2.06-.94 2.06-2.06.94z\"/><path d=\"M17.41 7.96l-1.37-1.37c-.4-.4-.92-.59-1.43-.59-.52 0-1.04.2-1.43.59L10.3 9.45l-7.72 7.72c-.78.78-.78 2.05 0 2.83L4 21.41c.39.39.9.59 1.41.59.51 0 1.02-.2 1.41-.59l7.78-7.78 2.81-2.81c.8-.78.8-2.07 0-2.86zM5.41 20L4 18.59l7.72-7.72 1.47 1.35L5.41 20z\"/>\n",
              "  </svg>\n",
              "      </button>\n",
              "      \n",
              "  <style>\n",
              "    .colab-df-container {\n",
              "      display:flex;\n",
              "      flex-wrap:wrap;\n",
              "      gap: 12px;\n",
              "    }\n",
              "\n",
              "    .colab-df-convert {\n",
              "      background-color: #E8F0FE;\n",
              "      border: none;\n",
              "      border-radius: 50%;\n",
              "      cursor: pointer;\n",
              "      display: none;\n",
              "      fill: #1967D2;\n",
              "      height: 32px;\n",
              "      padding: 0 0 0 0;\n",
              "      width: 32px;\n",
              "    }\n",
              "\n",
              "    .colab-df-convert:hover {\n",
              "      background-color: #E2EBFA;\n",
              "      box-shadow: 0px 1px 2px rgba(60, 64, 67, 0.3), 0px 1px 3px 1px rgba(60, 64, 67, 0.15);\n",
              "      fill: #174EA6;\n",
              "    }\n",
              "\n",
              "    [theme=dark] .colab-df-convert {\n",
              "      background-color: #3B4455;\n",
              "      fill: #D2E3FC;\n",
              "    }\n",
              "\n",
              "    [theme=dark] .colab-df-convert:hover {\n",
              "      background-color: #434B5C;\n",
              "      box-shadow: 0px 1px 3px 1px rgba(0, 0, 0, 0.15);\n",
              "      filter: drop-shadow(0px 1px 2px rgba(0, 0, 0, 0.3));\n",
              "      fill: #FFFFFF;\n",
              "    }\n",
              "  </style>\n",
              "\n",
              "      <script>\n",
              "        const buttonEl =\n",
              "          document.querySelector('#df-7031beeb-9af4-4fc4-aab7-87671b6a1d8f button.colab-df-convert');\n",
              "        buttonEl.style.display =\n",
              "          google.colab.kernel.accessAllowed ? 'block' : 'none';\n",
              "\n",
              "        async function convertToInteractive(key) {\n",
              "          const element = document.querySelector('#df-7031beeb-9af4-4fc4-aab7-87671b6a1d8f');\n",
              "          const dataTable =\n",
              "            await google.colab.kernel.invokeFunction('convertToInteractive',\n",
              "                                                     [key], {});\n",
              "          if (!dataTable) return;\n",
              "\n",
              "          const docLinkHtml = 'Like what you see? Visit the ' +\n",
              "            '<a target=\"_blank\" href=https://colab.research.google.com/notebooks/data_table.ipynb>data table notebook</a>'\n",
              "            + ' to learn more about interactive tables.';\n",
              "          element.innerHTML = '';\n",
              "          dataTable['output_type'] = 'display_data';\n",
              "          await google.colab.output.renderOutput(dataTable, element);\n",
              "          const docLink = document.createElement('div');\n",
              "          docLink.innerHTML = docLinkHtml;\n",
              "          element.appendChild(docLink);\n",
              "        }\n",
              "      </script>\n",
              "    </div>\n",
              "  </div>\n",
              "  "
            ]
          },
          "metadata": {},
          "execution_count": 526
        }
      ]
    },
    {
      "cell_type": "code",
      "source": [
        "X_test['Dust_and_Noise'].tail(15)"
      ],
      "metadata": {
        "colab": {
          "base_uri": "https://localhost:8080/"
        },
        "id": "cbY9J1oOd_PT",
        "outputId": "f11905cb-0415-4b1b-e091-041599a51e17"
      },
      "execution_count": null,
      "outputs": [
        {
          "output_type": "execute_result",
          "data": {
            "text/plain": [
              "10485    Medium\n",
              "10486    Medium\n",
              "10487    Medium\n",
              "10488    Medium\n",
              "10489    Medium\n",
              "10490    Medium\n",
              "10491    Medium\n",
              "10492    Medium\n",
              "10493    Medium\n",
              "10494       NaN\n",
              "10495    Medium\n",
              "10496    Medium\n",
              "10497      High\n",
              "10498    Medium\n",
              "10499    Medium\n",
              "Name: Dust_and_Noise, dtype: object"
            ]
          },
          "metadata": {},
          "execution_count": 527
        }
      ]
    },
    {
      "cell_type": "code",
      "source": [
        "X_test.Dust_and_Noise.unique()"
      ],
      "metadata": {
        "colab": {
          "base_uri": "https://localhost:8080/"
        },
        "id": "cFyAcHM9eE7w",
        "outputId": "20e33b51-eca8-40a3-f338-d426dd22f2f4"
      },
      "execution_count": null,
      "outputs": [
        {
          "output_type": "execute_result",
          "data": {
            "text/plain": [
              "array(['Medium', 'High', 'Low', nan], dtype=object)"
            ]
          },
          "metadata": {},
          "execution_count": 528
        }
      ]
    },
    {
      "cell_type": "code",
      "source": [
        "X_test['Dust_and_Noise'].isnull().sum().sum()"
      ],
      "metadata": {
        "colab": {
          "base_uri": "https://localhost:8080/"
        },
        "id": "PRcVNoqteG9A",
        "outputId": "b753daa5-f7b8-417d-c4e2-bf663e5a2ddc"
      },
      "execution_count": null,
      "outputs": [
        {
          "output_type": "execute_result",
          "data": {
            "text/plain": [
              "330"
            ]
          },
          "metadata": {},
          "execution_count": 529
        }
      ]
    },
    {
      "cell_type": "code",
      "source": [
        "X_test['Dust_and_Noise'] = X_test['Dust_and_Noise'].replace(np.nan,'Medium')"
      ],
      "metadata": {
        "id": "oyBBirdreIwB"
      },
      "execution_count": null,
      "outputs": []
    },
    {
      "cell_type": "code",
      "source": [
        "X_test.Dust_and_Noise.unique()"
      ],
      "metadata": {
        "colab": {
          "base_uri": "https://localhost:8080/"
        },
        "id": "mxbX_31BeKQw",
        "outputId": "5adc0fb9-d6d0-463a-e913-7ff8a6b31400"
      },
      "execution_count": null,
      "outputs": [
        {
          "output_type": "execute_result",
          "data": {
            "text/plain": [
              "array(['Medium', 'High', 'Low'], dtype=object)"
            ]
          },
          "metadata": {},
          "execution_count": 531
        }
      ]
    },
    {
      "cell_type": "code",
      "source": [
        "X_test['Crime_Rate'].unique()"
      ],
      "metadata": {
        "colab": {
          "base_uri": "https://localhost:8080/"
        },
        "id": "nBUHeRRJeL0v",
        "outputId": "54a5889f-6ef3-4b24-f4ee-5d4b31d113fb"
      },
      "execution_count": null,
      "outputs": [
        {
          "output_type": "execute_result",
          "data": {
            "text/plain": [
              "array(['Well above average', 'Well below average',\n",
              "       'Slightly above average', 'Slightly below average', nan],\n",
              "      dtype=object)"
            ]
          },
          "metadata": {},
          "execution_count": 532
        }
      ]
    },
    {
      "cell_type": "code",
      "source": [
        "X_test['Crime_Rate'].isnull().sum().sum()"
      ],
      "metadata": {
        "colab": {
          "base_uri": "https://localhost:8080/"
        },
        "id": "zOeEZnSIeNPv",
        "outputId": "c697458c-997d-4e95-9075-3e3b4d8f1315"
      },
      "execution_count": null,
      "outputs": [
        {
          "output_type": "execute_result",
          "data": {
            "text/plain": [
              "212"
            ]
          },
          "metadata": {},
          "execution_count": 533
        }
      ]
    },
    {
      "cell_type": "code",
      "source": [
        "X_test['Crime_Rate'] = X_test['Crime_Rate'].replace(np.nan,'Slightly above average')"
      ],
      "metadata": {
        "id": "RqT_G425ePBf"
      },
      "execution_count": null,
      "outputs": []
    },
    {
      "cell_type": "code",
      "source": [
        "X_test['Crime_Rate'].unique()"
      ],
      "metadata": {
        "colab": {
          "base_uri": "https://localhost:8080/"
        },
        "id": "xG-e05edeQxH",
        "outputId": "11b92ac8-4c4c-4362-c714-9485236d49ba"
      },
      "execution_count": null,
      "outputs": [
        {
          "output_type": "execute_result",
          "data": {
            "text/plain": [
              "array(['Well above average', 'Well below average',\n",
              "       'Slightly above average', 'Slightly below average'], dtype=object)"
            ]
          },
          "metadata": {},
          "execution_count": 535
        }
      ]
    },
    {
      "cell_type": "code",
      "source": [
        "X_test['Furnishing'].unique()"
      ],
      "metadata": {
        "colab": {
          "base_uri": "https://localhost:8080/"
        },
        "id": "sdGJgggyeSl3",
        "outputId": "3ddd8dd9-55be-4ca7-9de8-cee607071e9a"
      },
      "execution_count": null,
      "outputs": [
        {
          "output_type": "execute_result",
          "data": {
            "text/plain": [
              "array(['Unfurnished', 'Semi_Furnished', 'Fully Furnished', nan],\n",
              "      dtype=object)"
            ]
          },
          "metadata": {},
          "execution_count": 536
        }
      ]
    },
    {
      "cell_type": "code",
      "source": [
        "X_test['Furnishing'] = X_test['Furnishing'].replace(np.nan,'Semi_Furnished')"
      ],
      "metadata": {
        "id": "-0rwQv-LeUTX"
      },
      "execution_count": null,
      "outputs": []
    },
    {
      "cell_type": "code",
      "source": [
        "X_test['Furnishing'].unique()"
      ],
      "metadata": {
        "colab": {
          "base_uri": "https://localhost:8080/"
        },
        "id": "5g63z2NVeVxn",
        "outputId": "035bb177-9159-480a-950b-33e2d671f217"
      },
      "execution_count": null,
      "outputs": [
        {
          "output_type": "execute_result",
          "data": {
            "text/plain": [
              "array(['Unfurnished', 'Semi_Furnished', 'Fully Furnished'], dtype=object)"
            ]
          },
          "metadata": {},
          "execution_count": 538
        }
      ]
    },
    {
      "cell_type": "code",
      "source": [
        "X_test['Property_Type'].unique()"
      ],
      "metadata": {
        "colab": {
          "base_uri": "https://localhost:8080/"
        },
        "id": "98sCL7YmeYb3",
        "outputId": "f46a2918-6e10-417a-c7f6-4d6f35ef7b42"
      },
      "execution_count": null,
      "outputs": [
        {
          "output_type": "execute_result",
          "data": {
            "text/plain": [
              "array(['Apartment', 'Container Home', 'Bungalow', 'Single-family home',\n",
              "       'Duplex', '#R%$G&867'], dtype=object)"
            ]
          },
          "metadata": {},
          "execution_count": 539
        }
      ]
    },
    {
      "cell_type": "code",
      "source": [
        "X_test['Property_Type'].value_counts()"
      ],
      "metadata": {
        "colab": {
          "base_uri": "https://localhost:8080/"
        },
        "id": "Kd2xzpxUeaPW",
        "outputId": "47afdd01-9557-4d6f-8159-4266f786bd99"
      },
      "execution_count": null,
      "outputs": [
        {
          "output_type": "execute_result",
          "data": {
            "text/plain": [
              "Apartment             3853\n",
              "Single-family home    3102\n",
              "Duplex                1520\n",
              "Bungalow              1105\n",
              "Container Home         781\n",
              "#R%$G&867              139\n",
              "Name: Property_Type, dtype: int64"
            ]
          },
          "metadata": {},
          "execution_count": 540
        }
      ]
    },
    {
      "cell_type": "code",
      "source": [
        "#since the effect of the value #R%$G&867 cannot be measured at the moment, it shall be unknown \n",
        "# X_test['Property_Type'] = X_test['Property_Type'].replace('#R%$G&867','UnKnown')"
      ],
      "metadata": {
        "id": "tCbasIGWed92"
      },
      "execution_count": null,
      "outputs": []
    },
    {
      "cell_type": "code",
      "source": [
        "#since the effect of the value #R%$G&867 cannot be measured at the moment, it shall be unknown \n",
        "X_test['Property_Type'] = X_test['Property_Type'].replace('#R%$G&867','Apartment')"
      ],
      "metadata": {
        "id": "wDwpN6XUfPRR"
      },
      "execution_count": null,
      "outputs": []
    },
    {
      "cell_type": "code",
      "source": [
        "X_test['Property_Type'].unique()"
      ],
      "metadata": {
        "colab": {
          "base_uri": "https://localhost:8080/"
        },
        "id": "4El7mrVDeghu",
        "outputId": "dd26314c-043a-4cc1-ee3f-97e5e630b7cd"
      },
      "execution_count": null,
      "outputs": [
        {
          "output_type": "execute_result",
          "data": {
            "text/plain": [
              "array(['Apartment', 'Container Home', 'Bungalow', 'Single-family home',\n",
              "       'Duplex'], dtype=object)"
            ]
          },
          "metadata": {},
          "execution_count": 543
        }
      ]
    },
    {
      "cell_type": "code",
      "source": [
        "X_test['Number_of_Windows'].mean()"
      ],
      "metadata": {
        "colab": {
          "base_uri": "https://localhost:8080/"
        },
        "id": "IaCbIEP1gCCg",
        "outputId": "5f5b225c-c0dd-46a0-9170-21243e2481c2"
      },
      "execution_count": null,
      "outputs": [
        {
          "output_type": "execute_result",
          "data": {
            "text/plain": [
              "3.897563401292889"
            ]
          },
          "metadata": {},
          "execution_count": 544
        }
      ]
    },
    {
      "cell_type": "code",
      "source": [
        "#Replacing Nan with 4 because 3.923 is pretty close to 4 than to 3\n",
        "X_test['Number_of_Windows'] = X_test['Number_of_Windows'].replace(np.nan,4)"
      ],
      "metadata": {
        "id": "3-uHaeXtgFKp"
      },
      "execution_count": null,
      "outputs": []
    },
    {
      "cell_type": "code",
      "source": [
        "X_test['Frequency_of_Powercuts'].mean()"
      ],
      "metadata": {
        "colab": {
          "base_uri": "https://localhost:8080/"
        },
        "id": "g-w9SUmTgJsB",
        "outputId": "a1de0956-b525-4bc1-80ac-320c39c440f0"
      },
      "execution_count": null,
      "outputs": [
        {
          "output_type": "execute_result",
          "data": {
            "text/plain": [
              "0.48440892046575884"
            ]
          },
          "metadata": {},
          "execution_count": 546
        }
      ]
    },
    {
      "cell_type": "code",
      "source": [
        "X_test['Frequency_of_Powercuts'].unique()"
      ],
      "metadata": {
        "colab": {
          "base_uri": "https://localhost:8080/"
        },
        "id": "A_iyFkewgMzg",
        "outputId": "1aa6d4e1-94cb-4bde-cb21-e39a90e0799c"
      },
      "execution_count": null,
      "outputs": [
        {
          "output_type": "execute_result",
          "data": {
            "text/plain": [
              "array([ 0.,  1.,  3.,  2., nan])"
            ]
          },
          "metadata": {},
          "execution_count": 547
        }
      ]
    },
    {
      "cell_type": "code",
      "source": [
        "X_test['Frequency_of_Powercuts'].value_counts()"
      ],
      "metadata": {
        "colab": {
          "base_uri": "https://localhost:8080/"
        },
        "id": "q3psiFk8gQY7",
        "outputId": "017da190-0d20-4d90-d25f-516cd8aa4964"
      },
      "execution_count": null,
      "outputs": [
        {
          "output_type": "execute_result",
          "data": {
            "text/plain": [
              "0.0    6495\n",
              "1.0    2681\n",
              "2.0     646\n",
              "3.0     312\n",
              "Name: Frequency_of_Powercuts, dtype: int64"
            ]
          },
          "metadata": {},
          "execution_count": 548
        }
      ]
    },
    {
      "cell_type": "code",
      "source": [
        "X_test['Frequency_of_Powercuts'].isnull().sum().sum()"
      ],
      "metadata": {
        "colab": {
          "base_uri": "https://localhost:8080/"
        },
        "id": "JvpCugKmgTRL",
        "outputId": "e32b0b17-503f-4a1c-bc25-f7a8ed1428e8"
      },
      "execution_count": null,
      "outputs": [
        {
          "output_type": "execute_result",
          "data": {
            "text/plain": [
              "366"
            ]
          },
          "metadata": {},
          "execution_count": 549
        }
      ]
    },
    {
      "cell_type": "code",
      "source": [
        "#since the number of na values are considerable the mean value 0.48 is rounded to 0.5 and nan is replaced with it\n",
        "X_test['Frequency_of_Powercuts'] = X_test['Frequency_of_Powercuts'].replace(np.nan,0.0)"
      ],
      "metadata": {
        "id": "S-38gmtVgWdT"
      },
      "execution_count": null,
      "outputs": []
    },
    {
      "cell_type": "code",
      "source": [
        "for i in X_test:\n",
        "  temp=35  \n",
        "  temp-=len(i)\n",
        "  check_str=\" \"*temp\n",
        "  print(i+check_str+ str(X_test[i].isnull().sum().sum()))"
      ],
      "metadata": {
        "colab": {
          "base_uri": "https://localhost:8080/"
        },
        "id": "fk2lovTegdOr",
        "outputId": "0d63e045-e0f8-451a-824b-1a8fac378d62"
      },
      "execution_count": null,
      "outputs": [
        {
          "output_type": "stream",
          "name": "stdout",
          "text": [
            "Property_ID                        0\n",
            "Property_Type                      0\n",
            "Property_Area                      0\n",
            "Number_of_Windows                  0\n",
            "Number_of_Doors                    0\n",
            "Furnishing                         0\n",
            "Frequency_of_Powercuts             0\n",
            "Power_Backup                       0\n",
            "Water_Supply                       0\n",
            "Traffic_Density_Score              0\n",
            "Crime_Rate                         0\n",
            "Dust_and_Noise                     0\n",
            "Air_Quality_Index                  0\n",
            "Neighborhood_Review                0\n"
          ]
        }
      ]
    },
    {
      "cell_type": "code",
      "source": [
        "encoded_test_data=pd.get_dummies(X_test, columns = ['Furnishing','Property_Type','Water_Supply','Crime_Rate','Dust_and_Noise','Power_Backup'],sparse=True)\n",
        "encoded_test_data.head(5)"
      ],
      "metadata": {
        "colab": {
          "base_uri": "https://localhost:8080/"
        },
        "id": "kp_BXnjbghkP",
        "outputId": "6f62bbdd-0914-4328-d444-3956903dbe6d"
      },
      "execution_count": null,
      "outputs": [
        {
          "output_type": "execute_result",
          "data": {
            "text/plain": [
              "  Property_ID  Property_Area  Number_of_Windows  Number_of_Doors  \\\n",
              "0      0x6e93            293                3.0                1   \n",
              "1      0x8787            586                4.0                1   \n",
              "2      0x6c17            305                1.0                2   \n",
              "3      0x9dbd            258                2.0                1   \n",
              "4      0xbfde           3031               12.0                4   \n",
              "\n",
              "   Frequency_of_Powercuts  Traffic_Density_Score  Air_Quality_Index  \\\n",
              "0                     0.0                   7.28              152.0   \n",
              "1                     0.0                   7.63               92.0   \n",
              "2                     1.0                   5.39               90.0   \n",
              "3                     1.0                   7.53              158.0   \n",
              "4                     0.0                   8.79              186.0   \n",
              "\n",
              "   Neighborhood_Review  Furnishing_Fully Furnished  Furnishing_Semi_Furnished  \\\n",
              "0                 2.52                           0                          0   \n",
              "1                 4.16                           0                          1   \n",
              "2                 2.92                           0                          1   \n",
              "3                 3.45                           0                          1   \n",
              "4                 2.72                           1                          0   \n",
              "\n",
              "   ...  Crime_Rate_Slightly above average  Crime_Rate_Slightly below average  \\\n",
              "0  ...                                  0                                  0   \n",
              "1  ...                                  0                                  0   \n",
              "2  ...                                  1                                  0   \n",
              "3  ...                                  0                                  1   \n",
              "4  ...                                  0                                  0   \n",
              "\n",
              "   Crime_Rate_Well above average  Crime_Rate_Well below average  \\\n",
              "0                              1                              0   \n",
              "1                              0                              1   \n",
              "2                              0                              0   \n",
              "3                              0                              0   \n",
              "4                              1                              0   \n",
              "\n",
              "   Dust_and_Noise_High  Dust_and_Noise_Low  Dust_and_Noise_Medium  \\\n",
              "0                    0                   0                      1   \n",
              "1                    0                   0                      1   \n",
              "2                    0                   0                      1   \n",
              "3                    0                   0                      1   \n",
              "4                    1                   0                      0   \n",
              "\n",
              "   Power_Backup_NOT MENTIONED  Power_Backup_No  Power_Backup_Yes  \n",
              "0                           0                1                 0  \n",
              "1                           0                1                 0  \n",
              "2                           0                1                 0  \n",
              "3                           0                1                 0  \n",
              "4                           0                1                 0  \n",
              "\n",
              "[5 rows x 31 columns]"
            ],
            "text/html": [
              "\n",
              "  <div id=\"df-31091fe9-99cf-4dc4-a875-846136b74250\">\n",
              "    <div class=\"colab-df-container\">\n",
              "      <div>\n",
              "<style scoped>\n",
              "    .dataframe tbody tr th:only-of-type {\n",
              "        vertical-align: middle;\n",
              "    }\n",
              "\n",
              "    .dataframe tbody tr th {\n",
              "        vertical-align: top;\n",
              "    }\n",
              "\n",
              "    .dataframe thead th {\n",
              "        text-align: right;\n",
              "    }\n",
              "</style>\n",
              "<table border=\"1\" class=\"dataframe\">\n",
              "  <thead>\n",
              "    <tr style=\"text-align: right;\">\n",
              "      <th></th>\n",
              "      <th>Property_ID</th>\n",
              "      <th>Property_Area</th>\n",
              "      <th>Number_of_Windows</th>\n",
              "      <th>Number_of_Doors</th>\n",
              "      <th>Frequency_of_Powercuts</th>\n",
              "      <th>Traffic_Density_Score</th>\n",
              "      <th>Air_Quality_Index</th>\n",
              "      <th>Neighborhood_Review</th>\n",
              "      <th>Furnishing_Fully Furnished</th>\n",
              "      <th>Furnishing_Semi_Furnished</th>\n",
              "      <th>...</th>\n",
              "      <th>Crime_Rate_Slightly above average</th>\n",
              "      <th>Crime_Rate_Slightly below average</th>\n",
              "      <th>Crime_Rate_Well above average</th>\n",
              "      <th>Crime_Rate_Well below average</th>\n",
              "      <th>Dust_and_Noise_High</th>\n",
              "      <th>Dust_and_Noise_Low</th>\n",
              "      <th>Dust_and_Noise_Medium</th>\n",
              "      <th>Power_Backup_NOT MENTIONED</th>\n",
              "      <th>Power_Backup_No</th>\n",
              "      <th>Power_Backup_Yes</th>\n",
              "    </tr>\n",
              "  </thead>\n",
              "  <tbody>\n",
              "    <tr>\n",
              "      <th>0</th>\n",
              "      <td>0x6e93</td>\n",
              "      <td>293</td>\n",
              "      <td>3.0</td>\n",
              "      <td>1</td>\n",
              "      <td>0.0</td>\n",
              "      <td>7.28</td>\n",
              "      <td>152.0</td>\n",
              "      <td>2.52</td>\n",
              "      <td>0</td>\n",
              "      <td>0</td>\n",
              "      <td>...</td>\n",
              "      <td>0</td>\n",
              "      <td>0</td>\n",
              "      <td>1</td>\n",
              "      <td>0</td>\n",
              "      <td>0</td>\n",
              "      <td>0</td>\n",
              "      <td>1</td>\n",
              "      <td>0</td>\n",
              "      <td>1</td>\n",
              "      <td>0</td>\n",
              "    </tr>\n",
              "    <tr>\n",
              "      <th>1</th>\n",
              "      <td>0x8787</td>\n",
              "      <td>586</td>\n",
              "      <td>4.0</td>\n",
              "      <td>1</td>\n",
              "      <td>0.0</td>\n",
              "      <td>7.63</td>\n",
              "      <td>92.0</td>\n",
              "      <td>4.16</td>\n",
              "      <td>0</td>\n",
              "      <td>1</td>\n",
              "      <td>...</td>\n",
              "      <td>0</td>\n",
              "      <td>0</td>\n",
              "      <td>0</td>\n",
              "      <td>1</td>\n",
              "      <td>0</td>\n",
              "      <td>0</td>\n",
              "      <td>1</td>\n",
              "      <td>0</td>\n",
              "      <td>1</td>\n",
              "      <td>0</td>\n",
              "    </tr>\n",
              "    <tr>\n",
              "      <th>2</th>\n",
              "      <td>0x6c17</td>\n",
              "      <td>305</td>\n",
              "      <td>1.0</td>\n",
              "      <td>2</td>\n",
              "      <td>1.0</td>\n",
              "      <td>5.39</td>\n",
              "      <td>90.0</td>\n",
              "      <td>2.92</td>\n",
              "      <td>0</td>\n",
              "      <td>1</td>\n",
              "      <td>...</td>\n",
              "      <td>1</td>\n",
              "      <td>0</td>\n",
              "      <td>0</td>\n",
              "      <td>0</td>\n",
              "      <td>0</td>\n",
              "      <td>0</td>\n",
              "      <td>1</td>\n",
              "      <td>0</td>\n",
              "      <td>1</td>\n",
              "      <td>0</td>\n",
              "    </tr>\n",
              "    <tr>\n",
              "      <th>3</th>\n",
              "      <td>0x9dbd</td>\n",
              "      <td>258</td>\n",
              "      <td>2.0</td>\n",
              "      <td>1</td>\n",
              "      <td>1.0</td>\n",
              "      <td>7.53</td>\n",
              "      <td>158.0</td>\n",
              "      <td>3.45</td>\n",
              "      <td>0</td>\n",
              "      <td>1</td>\n",
              "      <td>...</td>\n",
              "      <td>0</td>\n",
              "      <td>1</td>\n",
              "      <td>0</td>\n",
              "      <td>0</td>\n",
              "      <td>0</td>\n",
              "      <td>0</td>\n",
              "      <td>1</td>\n",
              "      <td>0</td>\n",
              "      <td>1</td>\n",
              "      <td>0</td>\n",
              "    </tr>\n",
              "    <tr>\n",
              "      <th>4</th>\n",
              "      <td>0xbfde</td>\n",
              "      <td>3031</td>\n",
              "      <td>12.0</td>\n",
              "      <td>4</td>\n",
              "      <td>0.0</td>\n",
              "      <td>8.79</td>\n",
              "      <td>186.0</td>\n",
              "      <td>2.72</td>\n",
              "      <td>1</td>\n",
              "      <td>0</td>\n",
              "      <td>...</td>\n",
              "      <td>0</td>\n",
              "      <td>0</td>\n",
              "      <td>1</td>\n",
              "      <td>0</td>\n",
              "      <td>1</td>\n",
              "      <td>0</td>\n",
              "      <td>0</td>\n",
              "      <td>0</td>\n",
              "      <td>1</td>\n",
              "      <td>0</td>\n",
              "    </tr>\n",
              "  </tbody>\n",
              "</table>\n",
              "<p>5 rows × 31 columns</p>\n",
              "</div>\n",
              "      <button class=\"colab-df-convert\" onclick=\"convertToInteractive('df-31091fe9-99cf-4dc4-a875-846136b74250')\"\n",
              "              title=\"Convert this dataframe to an interactive table.\"\n",
              "              style=\"display:none;\">\n",
              "        \n",
              "  <svg xmlns=\"http://www.w3.org/2000/svg\" height=\"24px\"viewBox=\"0 0 24 24\"\n",
              "       width=\"24px\">\n",
              "    <path d=\"M0 0h24v24H0V0z\" fill=\"none\"/>\n",
              "    <path d=\"M18.56 5.44l.94 2.06.94-2.06 2.06-.94-2.06-.94-.94-2.06-.94 2.06-2.06.94zm-11 1L8.5 8.5l.94-2.06 2.06-.94-2.06-.94L8.5 2.5l-.94 2.06-2.06.94zm10 10l.94 2.06.94-2.06 2.06-.94-2.06-.94-.94-2.06-.94 2.06-2.06.94z\"/><path d=\"M17.41 7.96l-1.37-1.37c-.4-.4-.92-.59-1.43-.59-.52 0-1.04.2-1.43.59L10.3 9.45l-7.72 7.72c-.78.78-.78 2.05 0 2.83L4 21.41c.39.39.9.59 1.41.59.51 0 1.02-.2 1.41-.59l7.78-7.78 2.81-2.81c.8-.78.8-2.07 0-2.86zM5.41 20L4 18.59l7.72-7.72 1.47 1.35L5.41 20z\"/>\n",
              "  </svg>\n",
              "      </button>\n",
              "      \n",
              "  <style>\n",
              "    .colab-df-container {\n",
              "      display:flex;\n",
              "      flex-wrap:wrap;\n",
              "      gap: 12px;\n",
              "    }\n",
              "\n",
              "    .colab-df-convert {\n",
              "      background-color: #E8F0FE;\n",
              "      border: none;\n",
              "      border-radius: 50%;\n",
              "      cursor: pointer;\n",
              "      display: none;\n",
              "      fill: #1967D2;\n",
              "      height: 32px;\n",
              "      padding: 0 0 0 0;\n",
              "      width: 32px;\n",
              "    }\n",
              "\n",
              "    .colab-df-convert:hover {\n",
              "      background-color: #E2EBFA;\n",
              "      box-shadow: 0px 1px 2px rgba(60, 64, 67, 0.3), 0px 1px 3px 1px rgba(60, 64, 67, 0.15);\n",
              "      fill: #174EA6;\n",
              "    }\n",
              "\n",
              "    [theme=dark] .colab-df-convert {\n",
              "      background-color: #3B4455;\n",
              "      fill: #D2E3FC;\n",
              "    }\n",
              "\n",
              "    [theme=dark] .colab-df-convert:hover {\n",
              "      background-color: #434B5C;\n",
              "      box-shadow: 0px 1px 3px 1px rgba(0, 0, 0, 0.15);\n",
              "      filter: drop-shadow(0px 1px 2px rgba(0, 0, 0, 0.3));\n",
              "      fill: #FFFFFF;\n",
              "    }\n",
              "  </style>\n",
              "\n",
              "      <script>\n",
              "        const buttonEl =\n",
              "          document.querySelector('#df-31091fe9-99cf-4dc4-a875-846136b74250 button.colab-df-convert');\n",
              "        buttonEl.style.display =\n",
              "          google.colab.kernel.accessAllowed ? 'block' : 'none';\n",
              "\n",
              "        async function convertToInteractive(key) {\n",
              "          const element = document.querySelector('#df-31091fe9-99cf-4dc4-a875-846136b74250');\n",
              "          const dataTable =\n",
              "            await google.colab.kernel.invokeFunction('convertToInteractive',\n",
              "                                                     [key], {});\n",
              "          if (!dataTable) return;\n",
              "\n",
              "          const docLinkHtml = 'Like what you see? Visit the ' +\n",
              "            '<a target=\"_blank\" href=https://colab.research.google.com/notebooks/data_table.ipynb>data table notebook</a>'\n",
              "            + ' to learn more about interactive tables.';\n",
              "          element.innerHTML = '';\n",
              "          dataTable['output_type'] = 'display_data';\n",
              "          await google.colab.output.renderOutput(dataTable, element);\n",
              "          const docLink = document.createElement('div');\n",
              "          docLink.innerHTML = docLinkHtml;\n",
              "          element.appendChild(docLink);\n",
              "        }\n",
              "      </script>\n",
              "    </div>\n",
              "  </div>\n",
              "  "
            ]
          },
          "metadata": {},
          "execution_count": 552
        }
      ]
    },
    {
      "cell_type": "code",
      "source": [
        "# copy the data\n",
        "X_test = encoded_test_data.iloc[:, 1:]\n",
        "\n",
        "\n",
        "# apply normalization techniques\n",
        "for column in X_test.columns:\n",
        "\tX_test[column] = (X_test[column] - X_test[column].min()) / (X_test[column].max() - X_test[column].min())\t\n",
        "\n",
        "# view normalized data\n",
        "X_test.head(5)"
      ],
      "metadata": {
        "colab": {
          "base_uri": "https://localhost:8080/"
        },
        "id": "yg_axSBlglCG",
        "outputId": "5b05d902-549b-4ba0-c6eb-75185f117d08"
      },
      "execution_count": null,
      "outputs": [
        {
          "output_type": "execute_result",
          "data": {
            "text/plain": [
              "   Property_Area  Number_of_Windows  Number_of_Doors  Frequency_of_Powercuts  \\\n",
              "0       0.007050           0.200000              0.0                0.000000   \n",
              "1       0.017752           0.266667              0.0                0.000000   \n",
              "2       0.007488           0.066667              0.2                0.333333   \n",
              "3       0.005771           0.133333              0.0                0.333333   \n",
              "4       0.107061           0.800000              0.6                0.000000   \n",
              "\n",
              "   Traffic_Density_Score  Air_Quality_Index  Neighborhood_Review  \\\n",
              "0               0.771520           0.147430             0.502008   \n",
              "1               0.808714           0.089234             0.831325   \n",
              "2               0.570670           0.087294             0.582329   \n",
              "3               0.798087           0.153249             0.688755   \n",
              "4               0.931987           0.180407             0.542169   \n",
              "\n",
              "   Furnishing_Fully Furnished  Furnishing_Semi_Furnished  \\\n",
              "0                         0.0                        0.0   \n",
              "1                         0.0                        1.0   \n",
              "2                         0.0                        1.0   \n",
              "3                         0.0                        1.0   \n",
              "4                         1.0                        0.0   \n",
              "\n",
              "   Furnishing_Unfurnished  ...  Crime_Rate_Slightly above average  \\\n",
              "0                     1.0  ...                                0.0   \n",
              "1                     0.0  ...                                0.0   \n",
              "2                     0.0  ...                                1.0   \n",
              "3                     0.0  ...                                0.0   \n",
              "4                     0.0  ...                                0.0   \n",
              "\n",
              "   Crime_Rate_Slightly below average  Crime_Rate_Well above average  \\\n",
              "0                                0.0                            1.0   \n",
              "1                                0.0                            0.0   \n",
              "2                                0.0                            0.0   \n",
              "3                                1.0                            0.0   \n",
              "4                                0.0                            1.0   \n",
              "\n",
              "   Crime_Rate_Well below average  Dust_and_Noise_High  Dust_and_Noise_Low  \\\n",
              "0                            0.0                  0.0                 0.0   \n",
              "1                            1.0                  0.0                 0.0   \n",
              "2                            0.0                  0.0                 0.0   \n",
              "3                            0.0                  0.0                 0.0   \n",
              "4                            0.0                  1.0                 0.0   \n",
              "\n",
              "   Dust_and_Noise_Medium  Power_Backup_NOT MENTIONED  Power_Backup_No  \\\n",
              "0                    1.0                         0.0              1.0   \n",
              "1                    1.0                         0.0              1.0   \n",
              "2                    1.0                         0.0              1.0   \n",
              "3                    1.0                         0.0              1.0   \n",
              "4                    0.0                         0.0              1.0   \n",
              "\n",
              "   Power_Backup_Yes  \n",
              "0               0.0  \n",
              "1               0.0  \n",
              "2               0.0  \n",
              "3               0.0  \n",
              "4               0.0  \n",
              "\n",
              "[5 rows x 30 columns]"
            ],
            "text/html": [
              "\n",
              "  <div id=\"df-27d646fc-6543-4a75-80d1-fb4076c82fb5\">\n",
              "    <div class=\"colab-df-container\">\n",
              "      <div>\n",
              "<style scoped>\n",
              "    .dataframe tbody tr th:only-of-type {\n",
              "        vertical-align: middle;\n",
              "    }\n",
              "\n",
              "    .dataframe tbody tr th {\n",
              "        vertical-align: top;\n",
              "    }\n",
              "\n",
              "    .dataframe thead th {\n",
              "        text-align: right;\n",
              "    }\n",
              "</style>\n",
              "<table border=\"1\" class=\"dataframe\">\n",
              "  <thead>\n",
              "    <tr style=\"text-align: right;\">\n",
              "      <th></th>\n",
              "      <th>Property_Area</th>\n",
              "      <th>Number_of_Windows</th>\n",
              "      <th>Number_of_Doors</th>\n",
              "      <th>Frequency_of_Powercuts</th>\n",
              "      <th>Traffic_Density_Score</th>\n",
              "      <th>Air_Quality_Index</th>\n",
              "      <th>Neighborhood_Review</th>\n",
              "      <th>Furnishing_Fully Furnished</th>\n",
              "      <th>Furnishing_Semi_Furnished</th>\n",
              "      <th>Furnishing_Unfurnished</th>\n",
              "      <th>...</th>\n",
              "      <th>Crime_Rate_Slightly above average</th>\n",
              "      <th>Crime_Rate_Slightly below average</th>\n",
              "      <th>Crime_Rate_Well above average</th>\n",
              "      <th>Crime_Rate_Well below average</th>\n",
              "      <th>Dust_and_Noise_High</th>\n",
              "      <th>Dust_and_Noise_Low</th>\n",
              "      <th>Dust_and_Noise_Medium</th>\n",
              "      <th>Power_Backup_NOT MENTIONED</th>\n",
              "      <th>Power_Backup_No</th>\n",
              "      <th>Power_Backup_Yes</th>\n",
              "    </tr>\n",
              "  </thead>\n",
              "  <tbody>\n",
              "    <tr>\n",
              "      <th>0</th>\n",
              "      <td>0.007050</td>\n",
              "      <td>0.200000</td>\n",
              "      <td>0.0</td>\n",
              "      <td>0.000000</td>\n",
              "      <td>0.771520</td>\n",
              "      <td>0.147430</td>\n",
              "      <td>0.502008</td>\n",
              "      <td>0.0</td>\n",
              "      <td>0.0</td>\n",
              "      <td>1.0</td>\n",
              "      <td>...</td>\n",
              "      <td>0.0</td>\n",
              "      <td>0.0</td>\n",
              "      <td>1.0</td>\n",
              "      <td>0.0</td>\n",
              "      <td>0.0</td>\n",
              "      <td>0.0</td>\n",
              "      <td>1.0</td>\n",
              "      <td>0.0</td>\n",
              "      <td>1.0</td>\n",
              "      <td>0.0</td>\n",
              "    </tr>\n",
              "    <tr>\n",
              "      <th>1</th>\n",
              "      <td>0.017752</td>\n",
              "      <td>0.266667</td>\n",
              "      <td>0.0</td>\n",
              "      <td>0.000000</td>\n",
              "      <td>0.808714</td>\n",
              "      <td>0.089234</td>\n",
              "      <td>0.831325</td>\n",
              "      <td>0.0</td>\n",
              "      <td>1.0</td>\n",
              "      <td>0.0</td>\n",
              "      <td>...</td>\n",
              "      <td>0.0</td>\n",
              "      <td>0.0</td>\n",
              "      <td>0.0</td>\n",
              "      <td>1.0</td>\n",
              "      <td>0.0</td>\n",
              "      <td>0.0</td>\n",
              "      <td>1.0</td>\n",
              "      <td>0.0</td>\n",
              "      <td>1.0</td>\n",
              "      <td>0.0</td>\n",
              "    </tr>\n",
              "    <tr>\n",
              "      <th>2</th>\n",
              "      <td>0.007488</td>\n",
              "      <td>0.066667</td>\n",
              "      <td>0.2</td>\n",
              "      <td>0.333333</td>\n",
              "      <td>0.570670</td>\n",
              "      <td>0.087294</td>\n",
              "      <td>0.582329</td>\n",
              "      <td>0.0</td>\n",
              "      <td>1.0</td>\n",
              "      <td>0.0</td>\n",
              "      <td>...</td>\n",
              "      <td>1.0</td>\n",
              "      <td>0.0</td>\n",
              "      <td>0.0</td>\n",
              "      <td>0.0</td>\n",
              "      <td>0.0</td>\n",
              "      <td>0.0</td>\n",
              "      <td>1.0</td>\n",
              "      <td>0.0</td>\n",
              "      <td>1.0</td>\n",
              "      <td>0.0</td>\n",
              "    </tr>\n",
              "    <tr>\n",
              "      <th>3</th>\n",
              "      <td>0.005771</td>\n",
              "      <td>0.133333</td>\n",
              "      <td>0.0</td>\n",
              "      <td>0.333333</td>\n",
              "      <td>0.798087</td>\n",
              "      <td>0.153249</td>\n",
              "      <td>0.688755</td>\n",
              "      <td>0.0</td>\n",
              "      <td>1.0</td>\n",
              "      <td>0.0</td>\n",
              "      <td>...</td>\n",
              "      <td>0.0</td>\n",
              "      <td>1.0</td>\n",
              "      <td>0.0</td>\n",
              "      <td>0.0</td>\n",
              "      <td>0.0</td>\n",
              "      <td>0.0</td>\n",
              "      <td>1.0</td>\n",
              "      <td>0.0</td>\n",
              "      <td>1.0</td>\n",
              "      <td>0.0</td>\n",
              "    </tr>\n",
              "    <tr>\n",
              "      <th>4</th>\n",
              "      <td>0.107061</td>\n",
              "      <td>0.800000</td>\n",
              "      <td>0.6</td>\n",
              "      <td>0.000000</td>\n",
              "      <td>0.931987</td>\n",
              "      <td>0.180407</td>\n",
              "      <td>0.542169</td>\n",
              "      <td>1.0</td>\n",
              "      <td>0.0</td>\n",
              "      <td>0.0</td>\n",
              "      <td>...</td>\n",
              "      <td>0.0</td>\n",
              "      <td>0.0</td>\n",
              "      <td>1.0</td>\n",
              "      <td>0.0</td>\n",
              "      <td>1.0</td>\n",
              "      <td>0.0</td>\n",
              "      <td>0.0</td>\n",
              "      <td>0.0</td>\n",
              "      <td>1.0</td>\n",
              "      <td>0.0</td>\n",
              "    </tr>\n",
              "  </tbody>\n",
              "</table>\n",
              "<p>5 rows × 30 columns</p>\n",
              "</div>\n",
              "      <button class=\"colab-df-convert\" onclick=\"convertToInteractive('df-27d646fc-6543-4a75-80d1-fb4076c82fb5')\"\n",
              "              title=\"Convert this dataframe to an interactive table.\"\n",
              "              style=\"display:none;\">\n",
              "        \n",
              "  <svg xmlns=\"http://www.w3.org/2000/svg\" height=\"24px\"viewBox=\"0 0 24 24\"\n",
              "       width=\"24px\">\n",
              "    <path d=\"M0 0h24v24H0V0z\" fill=\"none\"/>\n",
              "    <path d=\"M18.56 5.44l.94 2.06.94-2.06 2.06-.94-2.06-.94-.94-2.06-.94 2.06-2.06.94zm-11 1L8.5 8.5l.94-2.06 2.06-.94-2.06-.94L8.5 2.5l-.94 2.06-2.06.94zm10 10l.94 2.06.94-2.06 2.06-.94-2.06-.94-.94-2.06-.94 2.06-2.06.94z\"/><path d=\"M17.41 7.96l-1.37-1.37c-.4-.4-.92-.59-1.43-.59-.52 0-1.04.2-1.43.59L10.3 9.45l-7.72 7.72c-.78.78-.78 2.05 0 2.83L4 21.41c.39.39.9.59 1.41.59.51 0 1.02-.2 1.41-.59l7.78-7.78 2.81-2.81c.8-.78.8-2.07 0-2.86zM5.41 20L4 18.59l7.72-7.72 1.47 1.35L5.41 20z\"/>\n",
              "  </svg>\n",
              "      </button>\n",
              "      \n",
              "  <style>\n",
              "    .colab-df-container {\n",
              "      display:flex;\n",
              "      flex-wrap:wrap;\n",
              "      gap: 12px;\n",
              "    }\n",
              "\n",
              "    .colab-df-convert {\n",
              "      background-color: #E8F0FE;\n",
              "      border: none;\n",
              "      border-radius: 50%;\n",
              "      cursor: pointer;\n",
              "      display: none;\n",
              "      fill: #1967D2;\n",
              "      height: 32px;\n",
              "      padding: 0 0 0 0;\n",
              "      width: 32px;\n",
              "    }\n",
              "\n",
              "    .colab-df-convert:hover {\n",
              "      background-color: #E2EBFA;\n",
              "      box-shadow: 0px 1px 2px rgba(60, 64, 67, 0.3), 0px 1px 3px 1px rgba(60, 64, 67, 0.15);\n",
              "      fill: #174EA6;\n",
              "    }\n",
              "\n",
              "    [theme=dark] .colab-df-convert {\n",
              "      background-color: #3B4455;\n",
              "      fill: #D2E3FC;\n",
              "    }\n",
              "\n",
              "    [theme=dark] .colab-df-convert:hover {\n",
              "      background-color: #434B5C;\n",
              "      box-shadow: 0px 1px 3px 1px rgba(0, 0, 0, 0.15);\n",
              "      filter: drop-shadow(0px 1px 2px rgba(0, 0, 0, 0.3));\n",
              "      fill: #FFFFFF;\n",
              "    }\n",
              "  </style>\n",
              "\n",
              "      <script>\n",
              "        const buttonEl =\n",
              "          document.querySelector('#df-27d646fc-6543-4a75-80d1-fb4076c82fb5 button.colab-df-convert');\n",
              "        buttonEl.style.display =\n",
              "          google.colab.kernel.accessAllowed ? 'block' : 'none';\n",
              "\n",
              "        async function convertToInteractive(key) {\n",
              "          const element = document.querySelector('#df-27d646fc-6543-4a75-80d1-fb4076c82fb5');\n",
              "          const dataTable =\n",
              "            await google.colab.kernel.invokeFunction('convertToInteractive',\n",
              "                                                     [key], {});\n",
              "          if (!dataTable) return;\n",
              "\n",
              "          const docLinkHtml = 'Like what you see? Visit the ' +\n",
              "            '<a target=\"_blank\" href=https://colab.research.google.com/notebooks/data_table.ipynb>data table notebook</a>'\n",
              "            + ' to learn more about interactive tables.';\n",
              "          element.innerHTML = '';\n",
              "          dataTable['output_type'] = 'display_data';\n",
              "          await google.colab.output.renderOutput(dataTable, element);\n",
              "          const docLink = document.createElement('div');\n",
              "          docLink.innerHTML = docLinkHtml;\n",
              "          element.appendChild(docLink);\n",
              "        }\n",
              "      </script>\n",
              "    </div>\n",
              "  </div>\n",
              "  "
            ]
          },
          "metadata": {},
          "execution_count": 553
        }
      ]
    },
    {
      "cell_type": "markdown",
      "source": [
        "#MACHINE LEARNING MODEL FITTING"
      ],
      "metadata": {
        "id": "fk1KVslRAjPM"
      }
    },
    {
      "cell_type": "markdown",
      "source": [
        "#CHECKING DATA"
      ],
      "metadata": {
        "id": "GQnTF3EJ-QHn"
      }
    },
    {
      "cell_type": "code",
      "source": [
        "X_train.head(5)"
      ],
      "metadata": {
        "colab": {
          "base_uri": "https://localhost:8080/"
        },
        "id": "G8iiiuRU_NsY",
        "outputId": "82dc8b97-f552-40df-b676-f18589c6561c"
      },
      "execution_count": null,
      "outputs": [
        {
          "output_type": "execute_result",
          "data": {
            "text/plain": [
              "   Property_Area  Number_of_Windows  Number_of_Doors  Frequency_of_Powercuts  \\\n",
              "0       0.000215           0.266667              0.0                0.000000   \n",
              "1       0.022636           0.133333              0.2                0.333333   \n",
              "2       0.022779           0.266667              0.2                0.000000   \n",
              "3       0.028608           0.200000              0.2                0.666667   \n",
              "4       0.076455           0.933333              1.0                0.000000   \n",
              "\n",
              "   Traffic_Density_Score  Air_Quality_Index  Neighborhood_Review  \\\n",
              "0               0.594349           0.086207                0.772   \n",
              "1               0.440969           0.091954                0.710   \n",
              "2               0.751766           0.115900                0.762   \n",
              "3               0.621594           0.095785                0.268   \n",
              "4               0.550959           0.111111                0.954   \n",
              "\n",
              "   Furnishing_Fully Furnished  Furnishing_Semi_Furnished  \\\n",
              "0                         0.0                        1.0   \n",
              "1                         0.0                        0.0   \n",
              "2                         1.0                        0.0   \n",
              "3                         0.0                        0.0   \n",
              "4                         1.0                        0.0   \n",
              "\n",
              "   Furnishing_Unfurnished  ...  Crime_Rate_Slightly above average  \\\n",
              "0                     0.0  ...                                0.0   \n",
              "1                     1.0  ...                                0.0   \n",
              "2                     0.0  ...                                0.0   \n",
              "3                     1.0  ...                                0.0   \n",
              "4                     0.0  ...                                0.0   \n",
              "\n",
              "   Crime_Rate_Slightly below average  Crime_Rate_Well above average  \\\n",
              "0                                1.0                            0.0   \n",
              "1                                0.0                            0.0   \n",
              "2                                1.0                            0.0   \n",
              "3                                0.0                            1.0   \n",
              "4                                0.0                            0.0   \n",
              "\n",
              "   Crime_Rate_Well below average  Dust_and_Noise_High  Dust_and_Noise_Low  \\\n",
              "0                            0.0                  0.0                 0.0   \n",
              "1                            1.0                  0.0                 0.0   \n",
              "2                            0.0                  0.0                 0.0   \n",
              "3                            0.0                  0.0                 0.0   \n",
              "4                            1.0                  0.0                 0.0   \n",
              "\n",
              "   Dust_and_Noise_Medium  Power_Backup_NOT MENTIONED  Power_Backup_No  \\\n",
              "0                    1.0                         0.0              1.0   \n",
              "1                    1.0                         0.0              1.0   \n",
              "2                    1.0                         0.0              1.0   \n",
              "3                    1.0                         0.0              0.0   \n",
              "4                    1.0                         0.0              1.0   \n",
              "\n",
              "   Power_Backup_Yes  \n",
              "0               0.0  \n",
              "1               0.0  \n",
              "2               0.0  \n",
              "3               1.0  \n",
              "4               0.0  \n",
              "\n",
              "[5 rows x 31 columns]"
            ],
            "text/html": [
              "\n",
              "  <div id=\"df-14d74082-a842-44d6-a0ec-fbc87bba8452\">\n",
              "    <div class=\"colab-df-container\">\n",
              "      <div>\n",
              "<style scoped>\n",
              "    .dataframe tbody tr th:only-of-type {\n",
              "        vertical-align: middle;\n",
              "    }\n",
              "\n",
              "    .dataframe tbody tr th {\n",
              "        vertical-align: top;\n",
              "    }\n",
              "\n",
              "    .dataframe thead th {\n",
              "        text-align: right;\n",
              "    }\n",
              "</style>\n",
              "<table border=\"1\" class=\"dataframe\">\n",
              "  <thead>\n",
              "    <tr style=\"text-align: right;\">\n",
              "      <th></th>\n",
              "      <th>Property_Area</th>\n",
              "      <th>Number_of_Windows</th>\n",
              "      <th>Number_of_Doors</th>\n",
              "      <th>Frequency_of_Powercuts</th>\n",
              "      <th>Traffic_Density_Score</th>\n",
              "      <th>Air_Quality_Index</th>\n",
              "      <th>Neighborhood_Review</th>\n",
              "      <th>Furnishing_Fully Furnished</th>\n",
              "      <th>Furnishing_Semi_Furnished</th>\n",
              "      <th>Furnishing_Unfurnished</th>\n",
              "      <th>...</th>\n",
              "      <th>Crime_Rate_Slightly above average</th>\n",
              "      <th>Crime_Rate_Slightly below average</th>\n",
              "      <th>Crime_Rate_Well above average</th>\n",
              "      <th>Crime_Rate_Well below average</th>\n",
              "      <th>Dust_and_Noise_High</th>\n",
              "      <th>Dust_and_Noise_Low</th>\n",
              "      <th>Dust_and_Noise_Medium</th>\n",
              "      <th>Power_Backup_NOT MENTIONED</th>\n",
              "      <th>Power_Backup_No</th>\n",
              "      <th>Power_Backup_Yes</th>\n",
              "    </tr>\n",
              "  </thead>\n",
              "  <tbody>\n",
              "    <tr>\n",
              "      <th>0</th>\n",
              "      <td>0.000215</td>\n",
              "      <td>0.266667</td>\n",
              "      <td>0.0</td>\n",
              "      <td>0.000000</td>\n",
              "      <td>0.594349</td>\n",
              "      <td>0.086207</td>\n",
              "      <td>0.772</td>\n",
              "      <td>0.0</td>\n",
              "      <td>1.0</td>\n",
              "      <td>0.0</td>\n",
              "      <td>...</td>\n",
              "      <td>0.0</td>\n",
              "      <td>1.0</td>\n",
              "      <td>0.0</td>\n",
              "      <td>0.0</td>\n",
              "      <td>0.0</td>\n",
              "      <td>0.0</td>\n",
              "      <td>1.0</td>\n",
              "      <td>0.0</td>\n",
              "      <td>1.0</td>\n",
              "      <td>0.0</td>\n",
              "    </tr>\n",
              "    <tr>\n",
              "      <th>1</th>\n",
              "      <td>0.022636</td>\n",
              "      <td>0.133333</td>\n",
              "      <td>0.2</td>\n",
              "      <td>0.333333</td>\n",
              "      <td>0.440969</td>\n",
              "      <td>0.091954</td>\n",
              "      <td>0.710</td>\n",
              "      <td>0.0</td>\n",
              "      <td>0.0</td>\n",
              "      <td>1.0</td>\n",
              "      <td>...</td>\n",
              "      <td>0.0</td>\n",
              "      <td>0.0</td>\n",
              "      <td>0.0</td>\n",
              "      <td>1.0</td>\n",
              "      <td>0.0</td>\n",
              "      <td>0.0</td>\n",
              "      <td>1.0</td>\n",
              "      <td>0.0</td>\n",
              "      <td>1.0</td>\n",
              "      <td>0.0</td>\n",
              "    </tr>\n",
              "    <tr>\n",
              "      <th>2</th>\n",
              "      <td>0.022779</td>\n",
              "      <td>0.266667</td>\n",
              "      <td>0.2</td>\n",
              "      <td>0.000000</td>\n",
              "      <td>0.751766</td>\n",
              "      <td>0.115900</td>\n",
              "      <td>0.762</td>\n",
              "      <td>1.0</td>\n",
              "      <td>0.0</td>\n",
              "      <td>0.0</td>\n",
              "      <td>...</td>\n",
              "      <td>0.0</td>\n",
              "      <td>1.0</td>\n",
              "      <td>0.0</td>\n",
              "      <td>0.0</td>\n",
              "      <td>0.0</td>\n",
              "      <td>0.0</td>\n",
              "      <td>1.0</td>\n",
              "      <td>0.0</td>\n",
              "      <td>1.0</td>\n",
              "      <td>0.0</td>\n",
              "    </tr>\n",
              "    <tr>\n",
              "      <th>3</th>\n",
              "      <td>0.028608</td>\n",
              "      <td>0.200000</td>\n",
              "      <td>0.2</td>\n",
              "      <td>0.666667</td>\n",
              "      <td>0.621594</td>\n",
              "      <td>0.095785</td>\n",
              "      <td>0.268</td>\n",
              "      <td>0.0</td>\n",
              "      <td>0.0</td>\n",
              "      <td>1.0</td>\n",
              "      <td>...</td>\n",
              "      <td>0.0</td>\n",
              "      <td>0.0</td>\n",
              "      <td>1.0</td>\n",
              "      <td>0.0</td>\n",
              "      <td>0.0</td>\n",
              "      <td>0.0</td>\n",
              "      <td>1.0</td>\n",
              "      <td>0.0</td>\n",
              "      <td>0.0</td>\n",
              "      <td>1.0</td>\n",
              "    </tr>\n",
              "    <tr>\n",
              "      <th>4</th>\n",
              "      <td>0.076455</td>\n",
              "      <td>0.933333</td>\n",
              "      <td>1.0</td>\n",
              "      <td>0.000000</td>\n",
              "      <td>0.550959</td>\n",
              "      <td>0.111111</td>\n",
              "      <td>0.954</td>\n",
              "      <td>1.0</td>\n",
              "      <td>0.0</td>\n",
              "      <td>0.0</td>\n",
              "      <td>...</td>\n",
              "      <td>0.0</td>\n",
              "      <td>0.0</td>\n",
              "      <td>0.0</td>\n",
              "      <td>1.0</td>\n",
              "      <td>0.0</td>\n",
              "      <td>0.0</td>\n",
              "      <td>1.0</td>\n",
              "      <td>0.0</td>\n",
              "      <td>1.0</td>\n",
              "      <td>0.0</td>\n",
              "    </tr>\n",
              "  </tbody>\n",
              "</table>\n",
              "<p>5 rows × 31 columns</p>\n",
              "</div>\n",
              "      <button class=\"colab-df-convert\" onclick=\"convertToInteractive('df-14d74082-a842-44d6-a0ec-fbc87bba8452')\"\n",
              "              title=\"Convert this dataframe to an interactive table.\"\n",
              "              style=\"display:none;\">\n",
              "        \n",
              "  <svg xmlns=\"http://www.w3.org/2000/svg\" height=\"24px\"viewBox=\"0 0 24 24\"\n",
              "       width=\"24px\">\n",
              "    <path d=\"M0 0h24v24H0V0z\" fill=\"none\"/>\n",
              "    <path d=\"M18.56 5.44l.94 2.06.94-2.06 2.06-.94-2.06-.94-.94-2.06-.94 2.06-2.06.94zm-11 1L8.5 8.5l.94-2.06 2.06-.94-2.06-.94L8.5 2.5l-.94 2.06-2.06.94zm10 10l.94 2.06.94-2.06 2.06-.94-2.06-.94-.94-2.06-.94 2.06-2.06.94z\"/><path d=\"M17.41 7.96l-1.37-1.37c-.4-.4-.92-.59-1.43-.59-.52 0-1.04.2-1.43.59L10.3 9.45l-7.72 7.72c-.78.78-.78 2.05 0 2.83L4 21.41c.39.39.9.59 1.41.59.51 0 1.02-.2 1.41-.59l7.78-7.78 2.81-2.81c.8-.78.8-2.07 0-2.86zM5.41 20L4 18.59l7.72-7.72 1.47 1.35L5.41 20z\"/>\n",
              "  </svg>\n",
              "      </button>\n",
              "      \n",
              "  <style>\n",
              "    .colab-df-container {\n",
              "      display:flex;\n",
              "      flex-wrap:wrap;\n",
              "      gap: 12px;\n",
              "    }\n",
              "\n",
              "    .colab-df-convert {\n",
              "      background-color: #E8F0FE;\n",
              "      border: none;\n",
              "      border-radius: 50%;\n",
              "      cursor: pointer;\n",
              "      display: none;\n",
              "      fill: #1967D2;\n",
              "      height: 32px;\n",
              "      padding: 0 0 0 0;\n",
              "      width: 32px;\n",
              "    }\n",
              "\n",
              "    .colab-df-convert:hover {\n",
              "      background-color: #E2EBFA;\n",
              "      box-shadow: 0px 1px 2px rgba(60, 64, 67, 0.3), 0px 1px 3px 1px rgba(60, 64, 67, 0.15);\n",
              "      fill: #174EA6;\n",
              "    }\n",
              "\n",
              "    [theme=dark] .colab-df-convert {\n",
              "      background-color: #3B4455;\n",
              "      fill: #D2E3FC;\n",
              "    }\n",
              "\n",
              "    [theme=dark] .colab-df-convert:hover {\n",
              "      background-color: #434B5C;\n",
              "      box-shadow: 0px 1px 3px 1px rgba(0, 0, 0, 0.15);\n",
              "      filter: drop-shadow(0px 1px 2px rgba(0, 0, 0, 0.3));\n",
              "      fill: #FFFFFF;\n",
              "    }\n",
              "  </style>\n",
              "\n",
              "      <script>\n",
              "        const buttonEl =\n",
              "          document.querySelector('#df-14d74082-a842-44d6-a0ec-fbc87bba8452 button.colab-df-convert');\n",
              "        buttonEl.style.display =\n",
              "          google.colab.kernel.accessAllowed ? 'block' : 'none';\n",
              "\n",
              "        async function convertToInteractive(key) {\n",
              "          const element = document.querySelector('#df-14d74082-a842-44d6-a0ec-fbc87bba8452');\n",
              "          const dataTable =\n",
              "            await google.colab.kernel.invokeFunction('convertToInteractive',\n",
              "                                                     [key], {});\n",
              "          if (!dataTable) return;\n",
              "\n",
              "          const docLinkHtml = 'Like what you see? Visit the ' +\n",
              "            '<a target=\"_blank\" href=https://colab.research.google.com/notebooks/data_table.ipynb>data table notebook</a>'\n",
              "            + ' to learn more about interactive tables.';\n",
              "          element.innerHTML = '';\n",
              "          dataTable['output_type'] = 'display_data';\n",
              "          await google.colab.output.renderOutput(dataTable, element);\n",
              "          const docLink = document.createElement('div');\n",
              "          docLink.innerHTML = docLinkHtml;\n",
              "          element.appendChild(docLink);\n",
              "        }\n",
              "      </script>\n",
              "    </div>\n",
              "  </div>\n",
              "  "
            ]
          },
          "metadata": {},
          "execution_count": 843
        }
      ]
    },
    {
      "cell_type": "code",
      "source": [
        "for i,j in zip(X_train,X_test):\n",
        "  temp=30\n",
        "  check=temp-len(i)\n",
        "  t=\" \"*check\n",
        "  print(i+t+j)"
      ],
      "metadata": {
        "colab": {
          "base_uri": "https://localhost:8080/"
        },
        "id": "VdtoJ7vzZ_OV",
        "outputId": "4fe7d867-e813-454a-e1bf-391f9e278953"
      },
      "execution_count": null,
      "outputs": [
        {
          "output_type": "stream",
          "name": "stdout",
          "text": [
            "Property_Area                 Property_Area\n",
            "Number_of_Windows             Number_of_Windows\n",
            "Number_of_Doors               Number_of_Doors\n",
            "Frequency_of_Powercuts        Frequency_of_Powercuts\n",
            "Traffic_Density_Score         Traffic_Density_Score\n",
            "Air_Quality_Index             Air_Quality_Index\n",
            "Neighborhood_Review           Neighborhood_Review\n",
            "Furnishing_Fully Furnished    Furnishing_Fully Furnished\n",
            "Furnishing_Semi_Furnished     Furnishing_Semi_Furnished\n",
            "Furnishing_Unfurnished        Furnishing_Unfurnished\n",
            "Property_Type_Apartment       Property_Type_Apartment\n",
            "Property_Type_Bungalow        Property_Type_Bungalow\n",
            "Property_Type_Container Home  Property_Type_Container Home\n",
            "Property_Type_Duplex          Property_Type_Duplex\n",
            "Property_Type_Single-family homeProperty_Type_Single-family home\n",
            "Property_Type_UnKnown         Property_Type_UnKnown\n",
            "Water_Supply_All time         Water_Supply_All time\n",
            "Water_Supply_NOT MENTIONED    Water_Supply_NOT MENTIONED\n",
            "Water_Supply_Once in a day - EveningWater_Supply_Once in a day - Evening\n",
            "Water_Supply_Once in a day - MorningWater_Supply_Once in a day - Morning\n",
            "Water_Supply_Once in two days Water_Supply_Once in two days\n",
            "Crime_Rate_Slightly above averageCrime_Rate_Slightly above average\n",
            "Crime_Rate_Slightly below averageCrime_Rate_Slightly below average\n",
            "Crime_Rate_Well above average Crime_Rate_Well above average\n",
            "Crime_Rate_Well below average Crime_Rate_Well below average\n",
            "Dust_and_Noise_High           Dust_and_Noise_High\n",
            "Dust_and_Noise_Low            Dust_and_Noise_Low\n",
            "Dust_and_Noise_Medium         Dust_and_Noise_Medium\n",
            "Power_Backup_NOT MENTIONED    Power_Backup_NOT MENTIONED\n",
            "Power_Backup_No               Power_Backup_No\n",
            "Power_Backup_Yes              Power_Backup_Yes\n"
          ]
        }
      ]
    },
    {
      "cell_type": "code",
      "source": [
        "X_test.head(5)"
      ],
      "metadata": {
        "colab": {
          "base_uri": "https://localhost:8080/"
        },
        "id": "SXzofEOD_Ro3",
        "outputId": "903a978d-29d3-45cf-cb68-0c797682943d"
      },
      "execution_count": null,
      "outputs": [
        {
          "output_type": "execute_result",
          "data": {
            "text/plain": [
              "   Property_Area  Number_of_Windows  Number_of_Doors  Frequency_of_Powercuts  \\\n",
              "0       0.007050           0.200000              0.0                0.000000   \n",
              "1       0.017752           0.266667              0.0                0.000000   \n",
              "2       0.007488           0.066667              0.2                0.333333   \n",
              "3       0.005771           0.133333              0.0                0.333333   \n",
              "4       0.107061           0.800000              0.6                0.000000   \n",
              "\n",
              "   Traffic_Density_Score  Air_Quality_Index  Neighborhood_Review  \\\n",
              "0               0.771520           0.147430             0.502008   \n",
              "1               0.808714           0.089234             0.831325   \n",
              "2               0.570670           0.087294             0.582329   \n",
              "3               0.798087           0.153249             0.688755   \n",
              "4               0.931987           0.180407             0.542169   \n",
              "\n",
              "   Furnishing_Fully Furnished  Furnishing_Semi_Furnished  \\\n",
              "0                         0.0                        0.0   \n",
              "1                         0.0                        1.0   \n",
              "2                         0.0                        1.0   \n",
              "3                         0.0                        1.0   \n",
              "4                         1.0                        0.0   \n",
              "\n",
              "   Furnishing_Unfurnished  ...  Crime_Rate_Slightly above average  \\\n",
              "0                     1.0  ...                                0.0   \n",
              "1                     0.0  ...                                0.0   \n",
              "2                     0.0  ...                                1.0   \n",
              "3                     0.0  ...                                0.0   \n",
              "4                     0.0  ...                                0.0   \n",
              "\n",
              "   Crime_Rate_Slightly below average  Crime_Rate_Well above average  \\\n",
              "0                                0.0                            1.0   \n",
              "1                                0.0                            0.0   \n",
              "2                                0.0                            0.0   \n",
              "3                                1.0                            0.0   \n",
              "4                                0.0                            1.0   \n",
              "\n",
              "   Crime_Rate_Well below average  Dust_and_Noise_High  Dust_and_Noise_Low  \\\n",
              "0                            0.0                  0.0                 0.0   \n",
              "1                            1.0                  0.0                 0.0   \n",
              "2                            0.0                  0.0                 0.0   \n",
              "3                            0.0                  0.0                 0.0   \n",
              "4                            0.0                  1.0                 0.0   \n",
              "\n",
              "   Dust_and_Noise_Medium  Power_Backup_NOT MENTIONED  Power_Backup_No  \\\n",
              "0                    1.0                         0.0              1.0   \n",
              "1                    1.0                         0.0              1.0   \n",
              "2                    1.0                         0.0              1.0   \n",
              "3                    1.0                         0.0              1.0   \n",
              "4                    0.0                         0.0              1.0   \n",
              "\n",
              "   Power_Backup_Yes  \n",
              "0               0.0  \n",
              "1               0.0  \n",
              "2               0.0  \n",
              "3               0.0  \n",
              "4               0.0  \n",
              "\n",
              "[5 rows x 31 columns]"
            ],
            "text/html": [
              "\n",
              "  <div id=\"df-6547c9b0-f0a8-49af-8217-8bbff77d2239\">\n",
              "    <div class=\"colab-df-container\">\n",
              "      <div>\n",
              "<style scoped>\n",
              "    .dataframe tbody tr th:only-of-type {\n",
              "        vertical-align: middle;\n",
              "    }\n",
              "\n",
              "    .dataframe tbody tr th {\n",
              "        vertical-align: top;\n",
              "    }\n",
              "\n",
              "    .dataframe thead th {\n",
              "        text-align: right;\n",
              "    }\n",
              "</style>\n",
              "<table border=\"1\" class=\"dataframe\">\n",
              "  <thead>\n",
              "    <tr style=\"text-align: right;\">\n",
              "      <th></th>\n",
              "      <th>Property_Area</th>\n",
              "      <th>Number_of_Windows</th>\n",
              "      <th>Number_of_Doors</th>\n",
              "      <th>Frequency_of_Powercuts</th>\n",
              "      <th>Traffic_Density_Score</th>\n",
              "      <th>Air_Quality_Index</th>\n",
              "      <th>Neighborhood_Review</th>\n",
              "      <th>Furnishing_Fully Furnished</th>\n",
              "      <th>Furnishing_Semi_Furnished</th>\n",
              "      <th>Furnishing_Unfurnished</th>\n",
              "      <th>...</th>\n",
              "      <th>Crime_Rate_Slightly above average</th>\n",
              "      <th>Crime_Rate_Slightly below average</th>\n",
              "      <th>Crime_Rate_Well above average</th>\n",
              "      <th>Crime_Rate_Well below average</th>\n",
              "      <th>Dust_and_Noise_High</th>\n",
              "      <th>Dust_and_Noise_Low</th>\n",
              "      <th>Dust_and_Noise_Medium</th>\n",
              "      <th>Power_Backup_NOT MENTIONED</th>\n",
              "      <th>Power_Backup_No</th>\n",
              "      <th>Power_Backup_Yes</th>\n",
              "    </tr>\n",
              "  </thead>\n",
              "  <tbody>\n",
              "    <tr>\n",
              "      <th>0</th>\n",
              "      <td>0.007050</td>\n",
              "      <td>0.200000</td>\n",
              "      <td>0.0</td>\n",
              "      <td>0.000000</td>\n",
              "      <td>0.771520</td>\n",
              "      <td>0.147430</td>\n",
              "      <td>0.502008</td>\n",
              "      <td>0.0</td>\n",
              "      <td>0.0</td>\n",
              "      <td>1.0</td>\n",
              "      <td>...</td>\n",
              "      <td>0.0</td>\n",
              "      <td>0.0</td>\n",
              "      <td>1.0</td>\n",
              "      <td>0.0</td>\n",
              "      <td>0.0</td>\n",
              "      <td>0.0</td>\n",
              "      <td>1.0</td>\n",
              "      <td>0.0</td>\n",
              "      <td>1.0</td>\n",
              "      <td>0.0</td>\n",
              "    </tr>\n",
              "    <tr>\n",
              "      <th>1</th>\n",
              "      <td>0.017752</td>\n",
              "      <td>0.266667</td>\n",
              "      <td>0.0</td>\n",
              "      <td>0.000000</td>\n",
              "      <td>0.808714</td>\n",
              "      <td>0.089234</td>\n",
              "      <td>0.831325</td>\n",
              "      <td>0.0</td>\n",
              "      <td>1.0</td>\n",
              "      <td>0.0</td>\n",
              "      <td>...</td>\n",
              "      <td>0.0</td>\n",
              "      <td>0.0</td>\n",
              "      <td>0.0</td>\n",
              "      <td>1.0</td>\n",
              "      <td>0.0</td>\n",
              "      <td>0.0</td>\n",
              "      <td>1.0</td>\n",
              "      <td>0.0</td>\n",
              "      <td>1.0</td>\n",
              "      <td>0.0</td>\n",
              "    </tr>\n",
              "    <tr>\n",
              "      <th>2</th>\n",
              "      <td>0.007488</td>\n",
              "      <td>0.066667</td>\n",
              "      <td>0.2</td>\n",
              "      <td>0.333333</td>\n",
              "      <td>0.570670</td>\n",
              "      <td>0.087294</td>\n",
              "      <td>0.582329</td>\n",
              "      <td>0.0</td>\n",
              "      <td>1.0</td>\n",
              "      <td>0.0</td>\n",
              "      <td>...</td>\n",
              "      <td>1.0</td>\n",
              "      <td>0.0</td>\n",
              "      <td>0.0</td>\n",
              "      <td>0.0</td>\n",
              "      <td>0.0</td>\n",
              "      <td>0.0</td>\n",
              "      <td>1.0</td>\n",
              "      <td>0.0</td>\n",
              "      <td>1.0</td>\n",
              "      <td>0.0</td>\n",
              "    </tr>\n",
              "    <tr>\n",
              "      <th>3</th>\n",
              "      <td>0.005771</td>\n",
              "      <td>0.133333</td>\n",
              "      <td>0.0</td>\n",
              "      <td>0.333333</td>\n",
              "      <td>0.798087</td>\n",
              "      <td>0.153249</td>\n",
              "      <td>0.688755</td>\n",
              "      <td>0.0</td>\n",
              "      <td>1.0</td>\n",
              "      <td>0.0</td>\n",
              "      <td>...</td>\n",
              "      <td>0.0</td>\n",
              "      <td>1.0</td>\n",
              "      <td>0.0</td>\n",
              "      <td>0.0</td>\n",
              "      <td>0.0</td>\n",
              "      <td>0.0</td>\n",
              "      <td>1.0</td>\n",
              "      <td>0.0</td>\n",
              "      <td>1.0</td>\n",
              "      <td>0.0</td>\n",
              "    </tr>\n",
              "    <tr>\n",
              "      <th>4</th>\n",
              "      <td>0.107061</td>\n",
              "      <td>0.800000</td>\n",
              "      <td>0.6</td>\n",
              "      <td>0.000000</td>\n",
              "      <td>0.931987</td>\n",
              "      <td>0.180407</td>\n",
              "      <td>0.542169</td>\n",
              "      <td>1.0</td>\n",
              "      <td>0.0</td>\n",
              "      <td>0.0</td>\n",
              "      <td>...</td>\n",
              "      <td>0.0</td>\n",
              "      <td>0.0</td>\n",
              "      <td>1.0</td>\n",
              "      <td>0.0</td>\n",
              "      <td>1.0</td>\n",
              "      <td>0.0</td>\n",
              "      <td>0.0</td>\n",
              "      <td>0.0</td>\n",
              "      <td>1.0</td>\n",
              "      <td>0.0</td>\n",
              "    </tr>\n",
              "  </tbody>\n",
              "</table>\n",
              "<p>5 rows × 31 columns</p>\n",
              "</div>\n",
              "      <button class=\"colab-df-convert\" onclick=\"convertToInteractive('df-6547c9b0-f0a8-49af-8217-8bbff77d2239')\"\n",
              "              title=\"Convert this dataframe to an interactive table.\"\n",
              "              style=\"display:none;\">\n",
              "        \n",
              "  <svg xmlns=\"http://www.w3.org/2000/svg\" height=\"24px\"viewBox=\"0 0 24 24\"\n",
              "       width=\"24px\">\n",
              "    <path d=\"M0 0h24v24H0V0z\" fill=\"none\"/>\n",
              "    <path d=\"M18.56 5.44l.94 2.06.94-2.06 2.06-.94-2.06-.94-.94-2.06-.94 2.06-2.06.94zm-11 1L8.5 8.5l.94-2.06 2.06-.94-2.06-.94L8.5 2.5l-.94 2.06-2.06.94zm10 10l.94 2.06.94-2.06 2.06-.94-2.06-.94-.94-2.06-.94 2.06-2.06.94z\"/><path d=\"M17.41 7.96l-1.37-1.37c-.4-.4-.92-.59-1.43-.59-.52 0-1.04.2-1.43.59L10.3 9.45l-7.72 7.72c-.78.78-.78 2.05 0 2.83L4 21.41c.39.39.9.59 1.41.59.51 0 1.02-.2 1.41-.59l7.78-7.78 2.81-2.81c.8-.78.8-2.07 0-2.86zM5.41 20L4 18.59l7.72-7.72 1.47 1.35L5.41 20z\"/>\n",
              "  </svg>\n",
              "      </button>\n",
              "      \n",
              "  <style>\n",
              "    .colab-df-container {\n",
              "      display:flex;\n",
              "      flex-wrap:wrap;\n",
              "      gap: 12px;\n",
              "    }\n",
              "\n",
              "    .colab-df-convert {\n",
              "      background-color: #E8F0FE;\n",
              "      border: none;\n",
              "      border-radius: 50%;\n",
              "      cursor: pointer;\n",
              "      display: none;\n",
              "      fill: #1967D2;\n",
              "      height: 32px;\n",
              "      padding: 0 0 0 0;\n",
              "      width: 32px;\n",
              "    }\n",
              "\n",
              "    .colab-df-convert:hover {\n",
              "      background-color: #E2EBFA;\n",
              "      box-shadow: 0px 1px 2px rgba(60, 64, 67, 0.3), 0px 1px 3px 1px rgba(60, 64, 67, 0.15);\n",
              "      fill: #174EA6;\n",
              "    }\n",
              "\n",
              "    [theme=dark] .colab-df-convert {\n",
              "      background-color: #3B4455;\n",
              "      fill: #D2E3FC;\n",
              "    }\n",
              "\n",
              "    [theme=dark] .colab-df-convert:hover {\n",
              "      background-color: #434B5C;\n",
              "      box-shadow: 0px 1px 3px 1px rgba(0, 0, 0, 0.15);\n",
              "      filter: drop-shadow(0px 1px 2px rgba(0, 0, 0, 0.3));\n",
              "      fill: #FFFFFF;\n",
              "    }\n",
              "  </style>\n",
              "\n",
              "      <script>\n",
              "        const buttonEl =\n",
              "          document.querySelector('#df-6547c9b0-f0a8-49af-8217-8bbff77d2239 button.colab-df-convert');\n",
              "        buttonEl.style.display =\n",
              "          google.colab.kernel.accessAllowed ? 'block' : 'none';\n",
              "\n",
              "        async function convertToInteractive(key) {\n",
              "          const element = document.querySelector('#df-6547c9b0-f0a8-49af-8217-8bbff77d2239');\n",
              "          const dataTable =\n",
              "            await google.colab.kernel.invokeFunction('convertToInteractive',\n",
              "                                                     [key], {});\n",
              "          if (!dataTable) return;\n",
              "\n",
              "          const docLinkHtml = 'Like what you see? Visit the ' +\n",
              "            '<a target=\"_blank\" href=https://colab.research.google.com/notebooks/data_table.ipynb>data table notebook</a>'\n",
              "            + ' to learn more about interactive tables.';\n",
              "          element.innerHTML = '';\n",
              "          dataTable['output_type'] = 'display_data';\n",
              "          await google.colab.output.renderOutput(dataTable, element);\n",
              "          const docLink = document.createElement('div');\n",
              "          docLink.innerHTML = docLinkHtml;\n",
              "          element.appendChild(docLink);\n",
              "        }\n",
              "      </script>\n",
              "    </div>\n",
              "  </div>\n",
              "  "
            ]
          },
          "metadata": {},
          "execution_count": 845
        }
      ]
    },
    {
      "cell_type": "code",
      "source": [
        "y_train.head(5)"
      ],
      "metadata": {
        "colab": {
          "base_uri": "https://localhost:8080/"
        },
        "id": "fFjKIO5__XmQ",
        "outputId": "1265f093-4063-456e-c610-09ce1028195b"
      },
      "execution_count": null,
      "outputs": [
        {
          "output_type": "execute_result",
          "data": {
            "text/plain": [
              "0    71.98\n",
              "1    71.20\n",
              "2    71.39\n",
              "3    31.46\n",
              "4    93.70\n",
              "Name: Habitability_score, dtype: float64"
            ]
          },
          "metadata": {},
          "execution_count": 846
        }
      ]
    },
    {
      "cell_type": "code",
      "source": [
        "for i in X_test:\n",
        "  temp=35  \n",
        "  temp-=len(i)\n",
        "  check_str=\" \"*temp\n",
        "  print(i+check_str+ str(X_test[i].isnull().sum().sum()))"
      ],
      "metadata": {
        "colab": {
          "base_uri": "https://localhost:8080/"
        },
        "id": "0WRWBFDgmi1P",
        "outputId": "69b263c1-9ab0-4232-a15e-269ce2e72d27"
      },
      "execution_count": null,
      "outputs": [
        {
          "output_type": "stream",
          "name": "stdout",
          "text": [
            "Property_Area                      0\n",
            "Number_of_Windows                  0\n",
            "Number_of_Doors                    0\n",
            "Frequency_of_Powercuts             0\n",
            "Traffic_Density_Score              0\n",
            "Air_Quality_Index                  0\n",
            "Neighborhood_Review                0\n",
            "Furnishing_Fully Furnished         0\n",
            "Furnishing_Semi_Furnished          0\n",
            "Furnishing_Unfurnished             0\n",
            "Property_Type_Apartment            0\n",
            "Property_Type_Bungalow             0\n",
            "Property_Type_Container Home       0\n",
            "Property_Type_Duplex               0\n",
            "Property_Type_Single-family home   0\n",
            "Property_Type_UnKnown              0\n",
            "Water_Supply_All time              0\n",
            "Water_Supply_NOT MENTIONED         0\n",
            "Water_Supply_Once in a day - Evening0\n",
            "Water_Supply_Once in a day - Morning0\n",
            "Water_Supply_Once in two days      0\n",
            "Crime_Rate_Slightly above average  0\n",
            "Crime_Rate_Slightly below average  0\n",
            "Crime_Rate_Well above average      0\n",
            "Crime_Rate_Well below average      0\n",
            "Dust_and_Noise_High                0\n",
            "Dust_and_Noise_Low                 0\n",
            "Dust_and_Noise_Medium              0\n",
            "Power_Backup_NOT MENTIONED         0\n",
            "Power_Backup_No                    0\n",
            "Power_Backup_Yes                   0\n"
          ]
        }
      ]
    },
    {
      "cell_type": "markdown",
      "source": [
        "#trying train-test split with training data to check model accuracy"
      ],
      "metadata": {
        "id": "V7QM6fvY_fZY"
      }
    },
    {
      "cell_type": "code",
      "source": [
        "a,b,c=X_train, X_test, y_train"
      ],
      "metadata": {
        "id": "__uqXONCbiy9"
      },
      "execution_count": null,
      "outputs": []
    },
    {
      "cell_type": "code",
      "source": [
        "x,y=X_train,y_train"
      ],
      "metadata": {
        "id": "RjNq-7qw_0TH"
      },
      "execution_count": null,
      "outputs": []
    },
    {
      "cell_type": "code",
      "source": [
        "from sklearn.model_selection import train_test_split\n",
        "X_train, X_test, y_train, y_test = train_test_split(x, y, test_size = 0.2, random_state = 0)"
      ],
      "metadata": {
        "id": "6DDphLWm_aww"
      },
      "execution_count": null,
      "outputs": []
    },
    {
      "cell_type": "code",
      "source": [
        "X_train, X_test, y_train, y_test = X_train.values, X_test.values, y_train.values, y_test.values "
      ],
      "metadata": {
        "id": "ekygNQWVGDFu"
      },
      "execution_count": null,
      "outputs": []
    },
    {
      "cell_type": "markdown",
      "source": [
        "#RANDOM FOREST"
      ],
      "metadata": {
        "id": "hfNhGr7pb8R8"
      }
    },
    {
      "cell_type": "code",
      "source": [
        "from sklearn.ensemble import RandomForestRegressor\n",
        "# Instantiate model with 1000 decision trees\n",
        "# rf = RandomForestRegressor(n_estimators = 1000, random_state = 42)\n",
        "# Train the model on training data\n",
        "# rf.fit(X_train,y_train);"
      ],
      "metadata": {
        "id": "ufkITgESbyq0"
      },
      "execution_count": null,
      "outputs": []
    },
    {
      "cell_type": "code",
      "source": [
        "clf= RandomForestRegressor().fit(X_train, y_train)"
      ],
      "metadata": {
        "id": "R-o0cEDYb0jI",
        "colab": {
          "base_uri": "https://localhost:8080/"
        },
        "outputId": "59d8e654-4b80-423f-c5ea-04d7fbd24b57"
      },
      "execution_count": null,
      "outputs": [
        {
          "output_type": "stream",
          "name": "stderr",
          "text": [
            "/usr/local/lib/python3.7/dist-packages/sklearn/utils/validation.py:625: UserWarning: pandas.DataFrame with sparse columns found.It will be converted to a dense numpy array.\n",
            "  \"pandas.DataFrame with sparse columns found.\"\n"
          ]
        }
      ]
    },
    {
      "cell_type": "code",
      "source": [
        "clf.score(X_train, y_train)"
      ],
      "metadata": {
        "colab": {
          "base_uri": "https://localhost:8080/"
        },
        "id": "0fHrTOYDb3Bk",
        "outputId": "b14ef5f7-d000-452d-e349-5f82a90df6ee"
      },
      "execution_count": null,
      "outputs": [
        {
          "output_type": "stream",
          "name": "stderr",
          "text": [
            "/usr/local/lib/python3.7/dist-packages/sklearn/utils/validation.py:625: UserWarning: pandas.DataFrame with sparse columns found.It will be converted to a dense numpy array.\n",
            "  \"pandas.DataFrame with sparse columns found.\"\n"
          ]
        },
        {
          "output_type": "execute_result",
          "data": {
            "text/plain": [
              "0.9732958159765834"
            ]
          },
          "metadata": {},
          "execution_count": 861
        }
      ]
    },
    {
      "cell_type": "code",
      "source": [
        "y_pred = clf.predict(X_test)"
      ],
      "metadata": {
        "id": "IBvm-J89F5LO",
        "colab": {
          "base_uri": "https://localhost:8080/"
        },
        "outputId": "a4ca3e71-3221-4fc1-9386-2fabdd5fbc06"
      },
      "execution_count": null,
      "outputs": [
        {
          "output_type": "stream",
          "name": "stderr",
          "text": [
            "/usr/local/lib/python3.7/dist-packages/sklearn/utils/validation.py:625: UserWarning: pandas.DataFrame with sparse columns found.It will be converted to a dense numpy array.\n",
            "  \"pandas.DataFrame with sparse columns found.\"\n"
          ]
        }
      ]
    },
    {
      "cell_type": "code",
      "source": [
        "clf.score(X_test, y_test)"
      ],
      "metadata": {
        "colab": {
          "base_uri": "https://localhost:8080/"
        },
        "id": "nkNjJ066b4e8",
        "outputId": "7ad6f4c6-6ebb-40ed-9392-e547575374ea"
      },
      "execution_count": null,
      "outputs": [
        {
          "output_type": "execute_result",
          "data": {
            "text/plain": [
              "0.8174920103514653"
            ]
          },
          "metadata": {},
          "execution_count": 567
        }
      ]
    },
    {
      "cell_type": "code",
      "source": [
        "from sklearn.metrics import mean_squared_error\n",
        "print(\"MSE\",mean_squared_error(y_test,y_pred))"
      ],
      "metadata": {
        "id": "NF_RyHCF_rmU",
        "colab": {
          "base_uri": "https://localhost:8080/"
        },
        "outputId": "8b3c0b58-7dbe-4fb6-cb71-12e381b8876f"
      },
      "execution_count": null,
      "outputs": [
        {
          "output_type": "stream",
          "name": "stdout",
          "text": [
            "MSE 35.70911436825823\n"
          ]
        }
      ]
    },
    {
      "cell_type": "code",
      "source": [
        "from sklearn.metrics import mean_absolute_error\n",
        "print(\"MAE\",mean_absolute_error(y_test,y_pred))"
      ],
      "metadata": {
        "colab": {
          "base_uri": "https://localhost:8080/"
        },
        "id": "SeYYMA_3Hc5s",
        "outputId": "65df462f-252a-421e-f356-bf5fc50701f3"
      },
      "execution_count": null,
      "outputs": [
        {
          "output_type": "stream",
          "name": "stdout",
          "text": [
            "MAE 4.566505949367088\n"
          ]
        }
      ]
    },
    {
      "cell_type": "code",
      "source": [
        "print(\"RMSE\",np.sqrt(mean_squared_error(y_test,y_pred)))"
      ],
      "metadata": {
        "colab": {
          "base_uri": "https://localhost:8080/"
        },
        "id": "c6IGFgA9Hhkj",
        "outputId": "4995e49e-4407-4f28-8207-ccbb543e49a8"
      },
      "execution_count": null,
      "outputs": [
        {
          "output_type": "stream",
          "name": "stdout",
          "text": [
            "RMSE 5.975710365158123\n"
          ]
        }
      ]
    },
    {
      "cell_type": "markdown",
      "source": [
        "#GRADIENT BOOSTING"
      ],
      "metadata": {
        "id": "zXGXTPKP5F6m"
      }
    },
    {
      "cell_type": "code",
      "source": [
        "# gradient boosting ensemble for making predictions for regression\n",
        "from sklearn.datasets import make_regression\n",
        "from sklearn.ensemble import GradientBoostingRegressor\n",
        "# define dataset\n",
        "# X, y = make_regression(n_samples=1000, n_features=20, n_informative=15, noise=0.1, random_state=7)\n",
        "# define the model\n",
        "model = GradientBoostingRegressor()\n",
        "# fit the model on the whole dataset\n",
        "model.fit(X_train, y_train)\n",
        "# make a single prediction\n",
        "# row = [0.20543991, -0.97049844, -0.81403429, -0.23842689, -0.60704084, -0.48541492, 0.53113006, 2.01834338, -0.90745243, -1.85859731, -1.02334791, -0.6877744, 0.60984819, -0.70630121, -1.29161497, 1.32385441, 1.42150747, 1.26567231, 2.56569098, -0.11154792]\n",
        "y_pred = model.predict(X_test)\n",
        "# summarize prediction\n",
        "print('Prediction: %d' % y_pred[0])"
      ],
      "metadata": {
        "colab": {
          "base_uri": "https://localhost:8080/"
        },
        "id": "w6NCz1Tr5JA_",
        "outputId": "46be7e7b-5b1f-4492-82b4-ea2d87a50761"
      },
      "execution_count": null,
      "outputs": [
        {
          "output_type": "stream",
          "name": "stdout",
          "text": [
            "Prediction: 79\n"
          ]
        }
      ]
    },
    {
      "cell_type": "code",
      "source": [
        "from sklearn.metrics import mean_absolute_error\n",
        "print(\"MAE\",mean_absolute_error(y_test,y_pred))"
      ],
      "metadata": {
        "colab": {
          "base_uri": "https://localhost:8080/"
        },
        "id": "eYKfhlND5PCX",
        "outputId": "d809d77d-d608-436d-de85-619d394e253e"
      },
      "execution_count": null,
      "outputs": [
        {
          "output_type": "stream",
          "name": "stdout",
          "text": [
            "MAE 5.589007901450247\n"
          ]
        }
      ]
    },
    {
      "cell_type": "code",
      "source": [
        "from sklearn.metrics import mean_squared_error\n",
        "print(\"MSE\",mean_squared_error(y_test,y_pred))"
      ],
      "metadata": {
        "colab": {
          "base_uri": "https://localhost:8080/"
        },
        "id": "z-4aGKCt5QpG",
        "outputId": "583bb5b5-aee3-454f-9378-09a14857a010"
      },
      "execution_count": null,
      "outputs": [
        {
          "output_type": "stream",
          "name": "stdout",
          "text": [
            "MSE 49.200391391189726\n"
          ]
        }
      ]
    },
    {
      "cell_type": "code",
      "source": [
        "print(\"RMSE\",np.sqrt(mean_squared_error(y_test,y_pred)))"
      ],
      "metadata": {
        "colab": {
          "base_uri": "https://localhost:8080/"
        },
        "id": "XiPBprR15S1n",
        "outputId": "a9b680d4-eb4e-4d03-d00d-4f59b67b558d"
      },
      "execution_count": null,
      "outputs": [
        {
          "output_type": "stream",
          "name": "stdout",
          "text": [
            "RMSE 7.014299066278093\n"
          ]
        }
      ]
    },
    {
      "cell_type": "markdown",
      "source": [
        "#SVM"
      ],
      "metadata": {
        "id": "9SmZHmd45YB2"
      }
    },
    {
      "cell_type": "code",
      "source": [
        "from sklearn.svm import SVR\n",
        "regressor = SVR(kernel = 'rbf')\n",
        "regressor.fit(X_train, y_train)"
      ],
      "metadata": {
        "colab": {
          "base_uri": "https://localhost:8080/"
        },
        "id": "M156hhUB5Zd2",
        "outputId": "151e0902-817a-4ae2-db42-12a4da6686a3"
      },
      "execution_count": null,
      "outputs": [
        {
          "output_type": "execute_result",
          "data": {
            "text/plain": [
              "SVR()"
            ]
          },
          "metadata": {},
          "execution_count": 575
        }
      ]
    },
    {
      "cell_type": "code",
      "source": [
        "y_pred = regressor.predict(X_test)"
      ],
      "metadata": {
        "id": "KSUw58D95l2E"
      },
      "execution_count": null,
      "outputs": []
    },
    {
      "cell_type": "code",
      "source": [
        "from sklearn.metrics import mean_absolute_error\n",
        "print(\"MAE\",mean_absolute_error(y_test,y_pred))"
      ],
      "metadata": {
        "colab": {
          "base_uri": "https://localhost:8080/"
        },
        "id": "4L_iEepJ5olM",
        "outputId": "f5f23597-6443-4f0e-88ed-015c97ec0e21"
      },
      "execution_count": null,
      "outputs": [
        {
          "output_type": "stream",
          "name": "stdout",
          "text": [
            "MAE 5.615429445381711\n"
          ]
        }
      ]
    },
    {
      "cell_type": "code",
      "source": [
        "from sklearn.metrics import mean_squared_error\n",
        "print(\"MSE\",mean_squared_error(y_test,y_pred))"
      ],
      "metadata": {
        "colab": {
          "base_uri": "https://localhost:8080/"
        },
        "id": "tkIH4dh95qnN",
        "outputId": "607b6aca-999a-49bd-fbda-e63e8e1fc561"
      },
      "execution_count": null,
      "outputs": [
        {
          "output_type": "stream",
          "name": "stdout",
          "text": [
            "MSE 54.03589326321756\n"
          ]
        }
      ]
    },
    {
      "cell_type": "code",
      "source": [
        "print(\"RMSE\",np.sqrt(mean_squared_error(y_test,y_pred)))"
      ],
      "metadata": {
        "colab": {
          "base_uri": "https://localhost:8080/"
        },
        "id": "HULXIM2s5uX0",
        "outputId": "a212dc8c-7a3b-4ab0-abe0-ab5f8cb506e3"
      },
      "execution_count": null,
      "outputs": [
        {
          "output_type": "stream",
          "name": "stdout",
          "text": [
            "RMSE 7.350911049877937\n"
          ]
        }
      ]
    },
    {
      "cell_type": "markdown",
      "source": [
        "#LINEAR REGRESSION"
      ],
      "metadata": {
        "id": "_bFWYVOt5zsX"
      }
    },
    {
      "cell_type": "code",
      "source": [
        "import numpy as np\n",
        "from sklearn.linear_model import LinearRegression"
      ],
      "metadata": {
        "id": "LP03tmZ959-_"
      },
      "execution_count": null,
      "outputs": []
    },
    {
      "cell_type": "code",
      "source": [
        "model = LinearRegression()\n",
        "model.fit(X_train, y_train)"
      ],
      "metadata": {
        "colab": {
          "base_uri": "https://localhost:8080/"
        },
        "id": "UQINz2_Q52kA",
        "outputId": "69ff8e7e-1fbf-450b-84d7-22ed535bf5c0"
      },
      "execution_count": null,
      "outputs": [
        {
          "output_type": "execute_result",
          "data": {
            "text/plain": [
              "LinearRegression()"
            ]
          },
          "metadata": {},
          "execution_count": 581
        }
      ]
    },
    {
      "cell_type": "code",
      "source": [
        "r_sq = model.score(X_train, y_train)\n",
        "print('coefficient of determination:', r_sq)\n"
      ],
      "metadata": {
        "colab": {
          "base_uri": "https://localhost:8080/"
        },
        "id": "JUmITU8o58aP",
        "outputId": "010b9099-7a26-4b0f-a43c-137984f820fd"
      },
      "execution_count": null,
      "outputs": [
        {
          "output_type": "stream",
          "name": "stdout",
          "text": [
            "coefficient of determination: 0.5963359480084367\n"
          ]
        }
      ]
    },
    {
      "cell_type": "markdown",
      "source": [
        "#ANN"
      ],
      "metadata": {
        "id": "DmhNZdxQb_dA"
      }
    },
    {
      "cell_type": "markdown",
      "source": [
        "#SEQUENTIAL MODEL"
      ],
      "metadata": {
        "id": "dknDSDUKYRha"
      }
    },
    {
      "cell_type": "code",
      "source": [
        "import tensorflow as tf\n",
        "ann = tf.keras.models.Sequential()"
      ],
      "metadata": {
        "id": "hwmj05Ff_7vf"
      },
      "execution_count": null,
      "outputs": []
    },
    {
      "cell_type": "code",
      "source": [
        "ann.add(tf.keras.layers.Dense(units=120, activation='relu'))"
      ],
      "metadata": {
        "id": "feb65vg9___v"
      },
      "execution_count": null,
      "outputs": []
    },
    {
      "cell_type": "code",
      "source": [
        "ann.add(tf.keras.layers.Dense(units=120, activation='relu'))"
      ],
      "metadata": {
        "id": "j2tEcJowAGdH"
      },
      "execution_count": null,
      "outputs": []
    },
    {
      "cell_type": "code",
      "source": [
        "ann.add(tf.keras.layers.Dense(units=120, activation='relu'))"
      ],
      "metadata": {
        "id": "hg6oAHjTcFNz"
      },
      "execution_count": null,
      "outputs": []
    },
    {
      "cell_type": "code",
      "source": [
        "ann.add(tf.keras.layers.Dense(units=120, activation='relu'))"
      ],
      "metadata": {
        "id": "Cj09wyOfgsMe"
      },
      "execution_count": null,
      "outputs": []
    },
    {
      "cell_type": "code",
      "source": [
        "ann.add(tf.keras.layers.Dense(units=120, activation='relu'))"
      ],
      "metadata": {
        "id": "U4IFTguGnW7r"
      },
      "execution_count": null,
      "outputs": []
    },
    {
      "cell_type": "code",
      "source": [
        "ann.add(tf.keras.layers.Dense(units=1))"
      ],
      "metadata": {
        "id": "LDh3igWfAIVH"
      },
      "execution_count": null,
      "outputs": []
    },
    {
      "cell_type": "code",
      "source": [
        "ann.compile(optimizer = 'adam', loss = 'mean_squared_error')"
      ],
      "metadata": {
        "id": "5hajgAB0AJ_H"
      },
      "execution_count": null,
      "outputs": []
    },
    {
      "cell_type": "code",
      "source": [
        "history = ann.fit(X_train, y_train, batch_size = 32, epochs = 150)"
      ],
      "metadata": {
        "colab": {
          "base_uri": "https://localhost:8080/"
        },
        "id": "YdJjcL2ZALoP",
        "outputId": "fdce9cab-c37b-4a6d-a0b9-cf1ebee49736"
      },
      "execution_count": null,
      "outputs": [
        {
          "output_type": "stream",
          "name": "stdout",
          "text": [
            "Epoch 1/150\n",
            "988/988 [==============================] - 35s 3ms/step - loss: 177.1373\n",
            "Epoch 2/150\n",
            "988/988 [==============================] - 3s 3ms/step - loss: 48.3373\n",
            "Epoch 3/150\n",
            "988/988 [==============================] - 4s 4ms/step - loss: 45.7792\n",
            "Epoch 4/150\n",
            "988/988 [==============================] - 5s 5ms/step - loss: 43.9698\n",
            "Epoch 5/150\n",
            "988/988 [==============================] - 5s 5ms/step - loss: 42.5580\n",
            "Epoch 6/150\n",
            "988/988 [==============================] - 5s 5ms/step - loss: 41.5264\n",
            "Epoch 7/150\n",
            "988/988 [==============================] - 3s 3ms/step - loss: 41.7459\n",
            "Epoch 8/150\n",
            "988/988 [==============================] - 3s 3ms/step - loss: 40.6501\n",
            "Epoch 9/150\n",
            "988/988 [==============================] - 3s 3ms/step - loss: 40.3066\n",
            "Epoch 10/150\n",
            "988/988 [==============================] - 3s 3ms/step - loss: 39.9365\n",
            "Epoch 11/150\n",
            "988/988 [==============================] - 3s 3ms/step - loss: 39.5278\n",
            "Epoch 12/150\n",
            "988/988 [==============================] - 3s 3ms/step - loss: 39.0972\n",
            "Epoch 13/150\n",
            "988/988 [==============================] - 3s 3ms/step - loss: 39.1017\n",
            "Epoch 14/150\n",
            "988/988 [==============================] - 3s 3ms/step - loss: 38.4705\n",
            "Epoch 15/150\n",
            "988/988 [==============================] - 3s 3ms/step - loss: 39.4030\n",
            "Epoch 16/150\n",
            "988/988 [==============================] - 3s 3ms/step - loss: 37.6921\n",
            "Epoch 17/150\n",
            "988/988 [==============================] - 3s 3ms/step - loss: 38.0232\n",
            "Epoch 18/150\n",
            "988/988 [==============================] - 3s 3ms/step - loss: 37.8895\n",
            "Epoch 19/150\n",
            "988/988 [==============================] - 3s 3ms/step - loss: 37.3533\n",
            "Epoch 20/150\n",
            "988/988 [==============================] - 3s 3ms/step - loss: 37.0682\n",
            "Epoch 21/150\n",
            "988/988 [==============================] - 3s 3ms/step - loss: 36.4898\n",
            "Epoch 22/150\n",
            "988/988 [==============================] - 3s 3ms/step - loss: 36.9409\n",
            "Epoch 23/150\n",
            "988/988 [==============================] - 3s 3ms/step - loss: 36.3864\n",
            "Epoch 24/150\n",
            "988/988 [==============================] - 3s 3ms/step - loss: 36.2867\n",
            "Epoch 25/150\n",
            "988/988 [==============================] - 3s 3ms/step - loss: 36.0685\n",
            "Epoch 26/150\n",
            "988/988 [==============================] - 3s 3ms/step - loss: 36.4630\n",
            "Epoch 27/150\n",
            "988/988 [==============================] - 3s 3ms/step - loss: 35.5783\n",
            "Epoch 28/150\n",
            "988/988 [==============================] - 3s 3ms/step - loss: 35.2396\n",
            "Epoch 29/150\n",
            "988/988 [==============================] - 3s 3ms/step - loss: 35.3056\n",
            "Epoch 30/150\n",
            "988/988 [==============================] - 3s 3ms/step - loss: 35.1652\n",
            "Epoch 31/150\n",
            "988/988 [==============================] - 3s 3ms/step - loss: 34.6833\n",
            "Epoch 32/150\n",
            "988/988 [==============================] - 3s 3ms/step - loss: 34.7136\n",
            "Epoch 33/150\n",
            "988/988 [==============================] - 3s 3ms/step - loss: 34.5818\n",
            "Epoch 34/150\n",
            "988/988 [==============================] - 3s 3ms/step - loss: 34.1620\n",
            "Epoch 35/150\n",
            "988/988 [==============================] - 3s 3ms/step - loss: 34.0578\n",
            "Epoch 36/150\n",
            "988/988 [==============================] - 3s 3ms/step - loss: 34.0445\n",
            "Epoch 37/150\n",
            "988/988 [==============================] - 3s 3ms/step - loss: 33.5703\n",
            "Epoch 38/150\n",
            "988/988 [==============================] - 3s 3ms/step - loss: 33.4046\n",
            "Epoch 39/150\n",
            "988/988 [==============================] - 3s 3ms/step - loss: 33.3783\n",
            "Epoch 40/150\n",
            "988/988 [==============================] - 3s 3ms/step - loss: 33.0886\n",
            "Epoch 41/150\n",
            "988/988 [==============================] - 3s 3ms/step - loss: 32.9068\n",
            "Epoch 42/150\n",
            "988/988 [==============================] - 3s 3ms/step - loss: 32.7928\n",
            "Epoch 43/150\n",
            "988/988 [==============================] - 3s 3ms/step - loss: 32.4561\n",
            "Epoch 44/150\n",
            "988/988 [==============================] - 3s 3ms/step - loss: 32.3737\n",
            "Epoch 45/150\n",
            "988/988 [==============================] - 3s 3ms/step - loss: 32.3771\n",
            "Epoch 46/150\n",
            "988/988 [==============================] - 3s 3ms/step - loss: 31.9309\n",
            "Epoch 47/150\n",
            "988/988 [==============================] - 3s 3ms/step - loss: 31.6367\n",
            "Epoch 48/150\n",
            "988/988 [==============================] - 3s 3ms/step - loss: 31.9042\n",
            "Epoch 49/150\n",
            "988/988 [==============================] - 3s 3ms/step - loss: 31.6627\n",
            "Epoch 50/150\n",
            "988/988 [==============================] - 3s 3ms/step - loss: 31.3104\n",
            "Epoch 51/150\n",
            "988/988 [==============================] - 3s 3ms/step - loss: 31.1276\n",
            "Epoch 52/150\n",
            "988/988 [==============================] - 3s 3ms/step - loss: 30.8281\n",
            "Epoch 53/150\n",
            "988/988 [==============================] - 3s 3ms/step - loss: 31.1667\n",
            "Epoch 54/150\n",
            "988/988 [==============================] - 3s 3ms/step - loss: 31.1705\n",
            "Epoch 55/150\n",
            "988/988 [==============================] - 3s 3ms/step - loss: 30.5762\n",
            "Epoch 56/150\n",
            "988/988 [==============================] - 3s 3ms/step - loss: 30.4105\n",
            "Epoch 57/150\n",
            "988/988 [==============================] - 3s 3ms/step - loss: 30.2192\n",
            "Epoch 58/150\n",
            "988/988 [==============================] - 3s 3ms/step - loss: 30.3814\n",
            "Epoch 59/150\n",
            "988/988 [==============================] - 3s 3ms/step - loss: 30.1939\n",
            "Epoch 60/150\n",
            "988/988 [==============================] - 3s 3ms/step - loss: 30.2164\n",
            "Epoch 61/150\n",
            "988/988 [==============================] - 3s 3ms/step - loss: 30.1824\n",
            "Epoch 62/150\n",
            "988/988 [==============================] - 3s 3ms/step - loss: 29.9704\n",
            "Epoch 63/150\n",
            "988/988 [==============================] - 3s 3ms/step - loss: 29.8714\n",
            "Epoch 64/150\n",
            "988/988 [==============================] - 3s 3ms/step - loss: 29.5972\n",
            "Epoch 65/150\n",
            "988/988 [==============================] - 3s 3ms/step - loss: 29.5885\n",
            "Epoch 66/150\n",
            "988/988 [==============================] - 3s 3ms/step - loss: 29.5253\n",
            "Epoch 67/150\n",
            "988/988 [==============================] - 3s 3ms/step - loss: 29.2184\n",
            "Epoch 68/150\n",
            "988/988 [==============================] - 3s 3ms/step - loss: 29.4344\n",
            "Epoch 69/150\n",
            "988/988 [==============================] - 3s 3ms/step - loss: 29.7285\n",
            "Epoch 70/150\n",
            "988/988 [==============================] - 3s 3ms/step - loss: 29.1465\n",
            "Epoch 71/150\n",
            "988/988 [==============================] - 3s 3ms/step - loss: 29.1251\n",
            "Epoch 72/150\n",
            "988/988 [==============================] - 3s 3ms/step - loss: 29.2521\n",
            "Epoch 73/150\n",
            "988/988 [==============================] - 3s 3ms/step - loss: 28.9593\n",
            "Epoch 74/150\n",
            "988/988 [==============================] - 3s 3ms/step - loss: 28.9343\n",
            "Epoch 75/150\n",
            "988/988 [==============================] - 3s 3ms/step - loss: 28.7328\n",
            "Epoch 76/150\n",
            "988/988 [==============================] - 3s 3ms/step - loss: 28.5912\n",
            "Epoch 77/150\n",
            "988/988 [==============================] - 3s 3ms/step - loss: 28.4987\n",
            "Epoch 78/150\n",
            "988/988 [==============================] - 3s 3ms/step - loss: 28.9385\n",
            "Epoch 79/150\n",
            "988/988 [==============================] - 3s 3ms/step - loss: 28.4001\n",
            "Epoch 80/150\n",
            "988/988 [==============================] - 3s 3ms/step - loss: 28.3213\n",
            "Epoch 81/150\n",
            "988/988 [==============================] - 3s 3ms/step - loss: 28.3774\n",
            "Epoch 82/150\n",
            "988/988 [==============================] - 3s 3ms/step - loss: 28.1928\n",
            "Epoch 83/150\n",
            "988/988 [==============================] - 3s 3ms/step - loss: 28.0966\n",
            "Epoch 84/150\n",
            "988/988 [==============================] - 3s 3ms/step - loss: 28.3093\n",
            "Epoch 85/150\n",
            "988/988 [==============================] - 3s 3ms/step - loss: 28.0273\n",
            "Epoch 86/150\n",
            "988/988 [==============================] - 3s 3ms/step - loss: 27.9400\n",
            "Epoch 87/150\n",
            "988/988 [==============================] - 3s 3ms/step - loss: 27.9788\n",
            "Epoch 88/150\n",
            "988/988 [==============================] - 3s 3ms/step - loss: 27.5392\n",
            "Epoch 89/150\n",
            "988/988 [==============================] - 3s 3ms/step - loss: 27.7005\n",
            "Epoch 90/150\n",
            "988/988 [==============================] - 3s 3ms/step - loss: 27.7353\n",
            "Epoch 91/150\n",
            "988/988 [==============================] - 3s 3ms/step - loss: 27.5333\n",
            "Epoch 92/150\n",
            "988/988 [==============================] - 3s 3ms/step - loss: 27.5927\n",
            "Epoch 93/150\n",
            "988/988 [==============================] - 3s 3ms/step - loss: 27.6905\n",
            "Epoch 94/150\n",
            "988/988 [==============================] - 3s 3ms/step - loss: 27.1471\n",
            "Epoch 95/150\n",
            "988/988 [==============================] - 3s 3ms/step - loss: 27.5784\n",
            "Epoch 96/150\n",
            "988/988 [==============================] - 3s 3ms/step - loss: 27.4403\n",
            "Epoch 97/150\n",
            "988/988 [==============================] - 3s 3ms/step - loss: 27.4393\n",
            "Epoch 98/150\n",
            "988/988 [==============================] - 3s 3ms/step - loss: 26.9399\n",
            "Epoch 99/150\n",
            "988/988 [==============================] - 3s 3ms/step - loss: 27.3036\n",
            "Epoch 100/150\n",
            "988/988 [==============================] - 3s 3ms/step - loss: 27.0976\n",
            "Epoch 101/150\n",
            "988/988 [==============================] - 3s 3ms/step - loss: 27.0871\n",
            "Epoch 102/150\n",
            "988/988 [==============================] - 3s 3ms/step - loss: 27.0469\n",
            "Epoch 103/150\n",
            "988/988 [==============================] - 3s 3ms/step - loss: 26.9132\n",
            "Epoch 104/150\n",
            "988/988 [==============================] - 3s 3ms/step - loss: 26.9973\n",
            "Epoch 105/150\n",
            "988/988 [==============================] - 3s 3ms/step - loss: 26.9492\n",
            "Epoch 106/150\n",
            "988/988 [==============================] - 3s 3ms/step - loss: 26.7615\n",
            "Epoch 107/150\n",
            "988/988 [==============================] - 3s 3ms/step - loss: 26.6563\n",
            "Epoch 108/150\n",
            "988/988 [==============================] - 3s 3ms/step - loss: 26.6968\n",
            "Epoch 109/150\n",
            "988/988 [==============================] - 3s 3ms/step - loss: 26.5385\n",
            "Epoch 110/150\n",
            "988/988 [==============================] - 3s 3ms/step - loss: 26.4334\n",
            "Epoch 111/150\n",
            "988/988 [==============================] - 3s 3ms/step - loss: 26.2085\n",
            "Epoch 112/150\n",
            "988/988 [==============================] - 3s 3ms/step - loss: 26.5221\n",
            "Epoch 113/150\n",
            "988/988 [==============================] - 3s 3ms/step - loss: 26.4040\n",
            "Epoch 114/150\n",
            "988/988 [==============================] - 3s 3ms/step - loss: 26.6213\n",
            "Epoch 115/150\n",
            "988/988 [==============================] - 3s 3ms/step - loss: 26.3025\n",
            "Epoch 116/150\n",
            "988/988 [==============================] - 3s 3ms/step - loss: 26.2635\n",
            "Epoch 117/150\n",
            "988/988 [==============================] - 3s 3ms/step - loss: 26.1968\n",
            "Epoch 118/150\n",
            "988/988 [==============================] - 3s 3ms/step - loss: 26.0624\n",
            "Epoch 119/150\n",
            "988/988 [==============================] - 3s 3ms/step - loss: 26.0009\n",
            "Epoch 120/150\n",
            "988/988 [==============================] - 3s 3ms/step - loss: 26.2825\n",
            "Epoch 121/150\n",
            "988/988 [==============================] - 3s 3ms/step - loss: 25.9359\n",
            "Epoch 122/150\n",
            "988/988 [==============================] - 3s 3ms/step - loss: 25.8772\n",
            "Epoch 123/150\n",
            "988/988 [==============================] - 3s 3ms/step - loss: 25.9570\n",
            "Epoch 124/150\n",
            "988/988 [==============================] - 3s 3ms/step - loss: 25.8385\n",
            "Epoch 125/150\n",
            "988/988 [==============================] - 3s 3ms/step - loss: 25.9589\n",
            "Epoch 126/150\n",
            "988/988 [==============================] - 3s 3ms/step - loss: 25.8489\n",
            "Epoch 127/150\n",
            "988/988 [==============================] - 3s 3ms/step - loss: 25.7102\n",
            "Epoch 128/150\n",
            "988/988 [==============================] - 3s 3ms/step - loss: 25.5580\n",
            "Epoch 129/150\n",
            "988/988 [==============================] - 3s 3ms/step - loss: 25.5306\n",
            "Epoch 130/150\n",
            "988/988 [==============================] - 3s 3ms/step - loss: 25.7682\n",
            "Epoch 131/150\n",
            "988/988 [==============================] - 3s 3ms/step - loss: 25.7198\n",
            "Epoch 132/150\n",
            "988/988 [==============================] - 3s 3ms/step - loss: 25.5809\n",
            "Epoch 133/150\n",
            "988/988 [==============================] - 3s 3ms/step - loss: 25.3488\n",
            "Epoch 134/150\n",
            "988/988 [==============================] - 3s 3ms/step - loss: 25.4617\n",
            "Epoch 135/150\n",
            "988/988 [==============================] - 3s 3ms/step - loss: 25.2045\n",
            "Epoch 136/150\n",
            "988/988 [==============================] - 3s 3ms/step - loss: 25.3839\n",
            "Epoch 137/150\n",
            "988/988 [==============================] - 3s 3ms/step - loss: 25.1937\n",
            "Epoch 138/150\n",
            "988/988 [==============================] - 3s 3ms/step - loss: 25.3591\n",
            "Epoch 139/150\n",
            "988/988 [==============================] - 3s 3ms/step - loss: 25.3112\n",
            "Epoch 140/150\n",
            "988/988 [==============================] - 3s 3ms/step - loss: 25.2429\n",
            "Epoch 141/150\n",
            "988/988 [==============================] - 3s 3ms/step - loss: 25.1857\n",
            "Epoch 142/150\n",
            "988/988 [==============================] - 3s 3ms/step - loss: 25.0848\n",
            "Epoch 143/150\n",
            "988/988 [==============================] - 3s 3ms/step - loss: 25.1953\n",
            "Epoch 144/150\n",
            "988/988 [==============================] - 3s 3ms/step - loss: 24.8960\n",
            "Epoch 145/150\n",
            "988/988 [==============================] - 3s 3ms/step - loss: 24.9152\n",
            "Epoch 146/150\n",
            "988/988 [==============================] - 3s 3ms/step - loss: 24.9939\n",
            "Epoch 147/150\n",
            "988/988 [==============================] - 3s 3ms/step - loss: 24.8531\n",
            "Epoch 148/150\n",
            "988/988 [==============================] - 3s 3ms/step - loss: 24.7875\n",
            "Epoch 149/150\n",
            "988/988 [==============================] - 3s 3ms/step - loss: 24.7004\n",
            "Epoch 150/150\n",
            "988/988 [==============================] - 3s 3ms/step - loss: 24.7725\n"
          ]
        }
      ]
    },
    {
      "cell_type": "code",
      "source": [
        "y_pred=ann.predict(X_test)"
      ],
      "metadata": {
        "id": "F94x9ED2RPuV"
      },
      "execution_count": null,
      "outputs": []
    },
    {
      "cell_type": "code",
      "source": [
        "len(y_pred)"
      ],
      "metadata": {
        "colab": {
          "base_uri": "https://localhost:8080/"
        },
        "id": "biKXp12PvA-f",
        "outputId": "f817f3b4-2e29-48dd-c40b-0150c3886dec"
      },
      "execution_count": null,
      "outputs": [
        {
          "output_type": "execute_result",
          "data": {
            "text/plain": [
              "7900"
            ]
          },
          "metadata": {},
          "execution_count": 660
        }
      ]
    },
    {
      "cell_type": "code",
      "source": [
        "len(X_test)"
      ],
      "metadata": {
        "colab": {
          "base_uri": "https://localhost:8080/"
        },
        "id": "oT9fdt1wvHef",
        "outputId": "c4ed1102-c614-4e37-ba4c-38082ed9afff"
      },
      "execution_count": null,
      "outputs": [
        {
          "output_type": "execute_result",
          "data": {
            "text/plain": [
              "7900"
            ]
          },
          "metadata": {},
          "execution_count": 661
        }
      ]
    },
    {
      "cell_type": "code",
      "source": [
        "len(y_test)"
      ],
      "metadata": {
        "colab": {
          "base_uri": "https://localhost:8080/"
        },
        "id": "1Iutv3bove4y",
        "outputId": "a5a10fff-806f-4b1e-b5da-211ac9c45ed7"
      },
      "execution_count": null,
      "outputs": [
        {
          "output_type": "execute_result",
          "data": {
            "text/plain": [
              "7900"
            ]
          },
          "metadata": {},
          "execution_count": 662
        }
      ]
    },
    {
      "cell_type": "code",
      "source": [
        "from sklearn.metrics import mean_absolute_error\n",
        "print(\"MAE\",mean_absolute_error(y_test,y_pred))"
      ],
      "metadata": {
        "colab": {
          "base_uri": "https://localhost:8080/"
        },
        "id": "wXG8BPdWRSo1",
        "outputId": "1c47a7e1-a933-488c-9c6c-0d93c489971c"
      },
      "execution_count": null,
      "outputs": [
        {
          "output_type": "stream",
          "name": "stdout",
          "text": [
            "MAE 4.772327600865424\n"
          ]
        }
      ]
    },
    {
      "cell_type": "code",
      "source": [
        "from sklearn.metrics import mean_squared_error\n",
        "print(\"MSE\",mean_squared_error(y_test,y_pred))"
      ],
      "metadata": {
        "colab": {
          "base_uri": "https://localhost:8080/"
        },
        "id": "shXUpcAYRael",
        "outputId": "6c77050c-6b4f-4a13-8d27-e6634b94385a"
      },
      "execution_count": null,
      "outputs": [
        {
          "output_type": "stream",
          "name": "stdout",
          "text": [
            "MSE 39.48540036738463\n"
          ]
        }
      ]
    },
    {
      "cell_type": "code",
      "source": [
        "print(\"RMSE\",np.sqrt(mean_squared_error(y_test,y_pred)))"
      ],
      "metadata": {
        "colab": {
          "base_uri": "https://localhost:8080/"
        },
        "id": "NqyYlfCLmlfr",
        "outputId": "73a3158f-bd0a-41f7-a712-8c535da52b30"
      },
      "execution_count": null,
      "outputs": [
        {
          "output_type": "stream",
          "name": "stdout",
          "text": [
            "RMSE 6.2837409532367445\n"
          ]
        }
      ]
    },
    {
      "cell_type": "markdown",
      "source": [
        "#BUILDING FINAL MODEL"
      ],
      "metadata": {
        "id": "46cWxkesnOoE"
      }
    },
    {
      "cell_type": "code",
      "source": [
        "# since a,b,c=X_train, X_test, y_train was done earlier to check model accuracy\n",
        "X_train, X_test, y_train = a,b,c"
      ],
      "metadata": {
        "id": "IJn94oLOnU0r"
      },
      "execution_count": null,
      "outputs": []
    },
    {
      "cell_type": "code",
      "source": [
        "X_train, X_test, y_train = X_train.values, X_test.values, y_train.values"
      ],
      "metadata": {
        "id": "ucIzZlmHno6E"
      },
      "execution_count": null,
      "outputs": []
    },
    {
      "cell_type": "code",
      "source": [
        "import tensorflow as tf\n",
        "ann = tf.keras.models.Sequential()\n",
        "ann.add(tf.keras.layers.Dense(units=120, activation='relu'))\n",
        "ann.add(tf.keras.layers.Dense(units=120, activation='relu'))\n",
        "ann.add(tf.keras.layers.Dense(units=120, activation='relu'))\n",
        "ann.add(tf.keras.layers.Dense(units=120, activation='relu'))\n",
        "ann.add(tf.keras.layers.Dense(units=120, activation='relu'))\n",
        "ann.add(tf.keras.layers.Dense(units=120, activation='relu'))\n",
        "ann.add(tf.keras.layers.Dense(units=1))\n",
        "ann.compile(optimizer = 'adam', loss = 'mean_squared_error')"
      ],
      "metadata": {
        "id": "jazrppqAnr2c"
      },
      "execution_count": null,
      "outputs": []
    },
    {
      "cell_type": "code",
      "source": [
        "history = ann.fit(X_train, y_train, batch_size = 32, epochs = 500)"
      ],
      "metadata": {
        "colab": {
          "base_uri": "https://localhost:8080/",
          "height": 1000
        },
        "id": "Rr7z-GNjn2oc",
        "outputId": "878c4b49-9c88-4e4f-d9d4-ade1c6c06ccc"
      },
      "execution_count": null,
      "outputs": [
        {
          "output_type": "stream",
          "name": "stdout",
          "text": [
            "Epoch 1/500\n",
            "1235/1235 [==============================] - 4s 3ms/step - loss: 157.7032\n",
            "Epoch 2/500\n",
            "1235/1235 [==============================] - 3s 3ms/step - loss: 54.0762\n",
            "Epoch 3/500\n",
            "1235/1235 [==============================] - 3s 3ms/step - loss: 50.4442\n",
            "Epoch 4/500\n",
            "1235/1235 [==============================] - 3s 3ms/step - loss: 49.2062\n",
            "Epoch 5/500\n",
            "1235/1235 [==============================] - 3s 3ms/step - loss: 47.1464\n",
            "Epoch 6/500\n",
            "1235/1235 [==============================] - 3s 3ms/step - loss: 46.4739\n",
            "Epoch 7/500\n",
            "1235/1235 [==============================] - 3s 3ms/step - loss: 44.7475\n",
            "Epoch 8/500\n",
            "1235/1235 [==============================] - 3s 3ms/step - loss: 44.5776\n",
            "Epoch 9/500\n",
            "1235/1235 [==============================] - 3s 3ms/step - loss: 43.6415\n",
            "Epoch 10/500\n",
            "1235/1235 [==============================] - 3s 3ms/step - loss: 43.5130\n",
            "Epoch 11/500\n",
            "1235/1235 [==============================] - 3s 3ms/step - loss: 43.3405\n",
            "Epoch 12/500\n",
            "1235/1235 [==============================] - 3s 3ms/step - loss: 42.1208\n",
            "Epoch 13/500\n",
            "1235/1235 [==============================] - 3s 3ms/step - loss: 42.7157\n",
            "Epoch 14/500\n",
            "1235/1235 [==============================] - 3s 3ms/step - loss: 41.5912\n",
            "Epoch 15/500\n",
            "1235/1235 [==============================] - 3s 3ms/step - loss: 41.5839\n",
            "Epoch 16/500\n",
            "1235/1235 [==============================] - 3s 3ms/step - loss: 40.7841\n",
            "Epoch 17/500\n",
            "1235/1235 [==============================] - 3s 3ms/step - loss: 40.3798\n",
            "Epoch 18/500\n",
            "1235/1235 [==============================] - 3s 3ms/step - loss: 40.6034\n",
            "Epoch 19/500\n",
            "1235/1235 [==============================] - 3s 3ms/step - loss: 40.1043\n",
            "Epoch 20/500\n",
            "1235/1235 [==============================] - 3s 3ms/step - loss: 39.7304\n",
            "Epoch 21/500\n",
            "1235/1235 [==============================] - 3s 3ms/step - loss: 39.8042\n",
            "Epoch 22/500\n",
            "1235/1235 [==============================] - 3s 3ms/step - loss: 39.3272\n",
            "Epoch 23/500\n",
            "1235/1235 [==============================] - 3s 3ms/step - loss: 38.9142\n",
            "Epoch 24/500\n",
            "1235/1235 [==============================] - 3s 3ms/step - loss: 38.6684\n",
            "Epoch 25/500\n",
            "1235/1235 [==============================] - 3s 3ms/step - loss: 38.4853\n",
            "Epoch 26/500\n",
            "1235/1235 [==============================] - 3s 3ms/step - loss: 38.3083\n",
            "Epoch 27/500\n",
            "1235/1235 [==============================] - 3s 3ms/step - loss: 37.7630\n",
            "Epoch 28/500\n",
            "1235/1235 [==============================] - 3s 3ms/step - loss: 37.7892\n",
            "Epoch 29/500\n",
            "1235/1235 [==============================] - 3s 3ms/step - loss: 37.5921\n",
            "Epoch 30/500\n",
            "1235/1235 [==============================] - 3s 3ms/step - loss: 37.2454\n",
            "Epoch 31/500\n",
            "1235/1235 [==============================] - 3s 3ms/step - loss: 37.3555\n",
            "Epoch 32/500\n",
            "1235/1235 [==============================] - 3s 3ms/step - loss: 36.8252\n",
            "Epoch 33/500\n",
            "1235/1235 [==============================] - 3s 3ms/step - loss: 36.7499\n",
            "Epoch 34/500\n",
            "1235/1235 [==============================] - 3s 3ms/step - loss: 36.7181\n",
            "Epoch 35/500\n",
            "1235/1235 [==============================] - 3s 3ms/step - loss: 36.6296\n",
            "Epoch 36/500\n",
            "1235/1235 [==============================] - 3s 3ms/step - loss: 36.4437\n",
            "Epoch 37/500\n",
            "1235/1235 [==============================] - 4s 4ms/step - loss: 35.9811\n",
            "Epoch 38/500\n",
            "1235/1235 [==============================] - 3s 3ms/step - loss: 35.9401\n",
            "Epoch 39/500\n",
            "1235/1235 [==============================] - 4s 3ms/step - loss: 36.1776\n",
            "Epoch 40/500\n",
            "1235/1235 [==============================] - 4s 3ms/step - loss: 35.5267\n",
            "Epoch 41/500\n",
            "1235/1235 [==============================] - 3s 3ms/step - loss: 35.5344\n",
            "Epoch 42/500\n",
            "1235/1235 [==============================] - 3s 3ms/step - loss: 35.5365\n",
            "Epoch 43/500\n",
            "1235/1235 [==============================] - 3s 3ms/step - loss: 35.4835\n",
            "Epoch 44/500\n",
            "1235/1235 [==============================] - 3s 3ms/step - loss: 35.3094\n",
            "Epoch 45/500\n",
            "1235/1235 [==============================] - 3s 3ms/step - loss: 34.8681\n",
            "Epoch 46/500\n",
            "1235/1235 [==============================] - 3s 3ms/step - loss: 34.6681\n",
            "Epoch 47/500\n",
            "1235/1235 [==============================] - 3s 3ms/step - loss: 34.8241\n",
            "Epoch 48/500\n",
            "1235/1235 [==============================] - 3s 3ms/step - loss: 34.7969\n",
            "Epoch 49/500\n",
            "1235/1235 [==============================] - 3s 3ms/step - loss: 34.6795\n",
            "Epoch 50/500\n",
            "1235/1235 [==============================] - 3s 3ms/step - loss: 34.6348\n",
            "Epoch 51/500\n",
            "1235/1235 [==============================] - 3s 3ms/step - loss: 34.3671\n",
            "Epoch 52/500\n",
            "1235/1235 [==============================] - 3s 3ms/step - loss: 34.3469\n",
            "Epoch 53/500\n",
            "1235/1235 [==============================] - 3s 3ms/step - loss: 34.0710\n",
            "Epoch 54/500\n",
            "1235/1235 [==============================] - 3s 3ms/step - loss: 33.8884\n",
            "Epoch 55/500\n",
            "1235/1235 [==============================] - 3s 3ms/step - loss: 34.0646\n",
            "Epoch 56/500\n",
            "1235/1235 [==============================] - 3s 3ms/step - loss: 33.8020\n",
            "Epoch 57/500\n",
            "1235/1235 [==============================] - 3s 3ms/step - loss: 33.7734\n",
            "Epoch 58/500\n",
            "1235/1235 [==============================] - 3s 3ms/step - loss: 33.4530\n",
            "Epoch 59/500\n",
            "1235/1235 [==============================] - 3s 3ms/step - loss: 33.3781\n",
            "Epoch 60/500\n",
            "1235/1235 [==============================] - 3s 3ms/step - loss: 33.3452\n",
            "Epoch 61/500\n",
            "1235/1235 [==============================] - 3s 3ms/step - loss: 33.0656\n",
            "Epoch 62/500\n",
            "1235/1235 [==============================] - 3s 3ms/step - loss: 32.9835\n",
            "Epoch 63/500\n",
            "1235/1235 [==============================] - 3s 3ms/step - loss: 33.0949\n",
            "Epoch 64/500\n",
            "1235/1235 [==============================] - 3s 3ms/step - loss: 32.8533\n",
            "Epoch 65/500\n",
            "1235/1235 [==============================] - 3s 3ms/step - loss: 33.0397\n",
            "Epoch 66/500\n",
            "1235/1235 [==============================] - 3s 3ms/step - loss: 32.5803\n",
            "Epoch 67/500\n",
            "1235/1235 [==============================] - 3s 3ms/step - loss: 32.4105\n",
            "Epoch 68/500\n",
            "1235/1235 [==============================] - 3s 3ms/step - loss: 32.6182\n",
            "Epoch 69/500\n",
            "1235/1235 [==============================] - 3s 3ms/step - loss: 32.5750\n",
            "Epoch 70/500\n",
            "1235/1235 [==============================] - 3s 3ms/step - loss: 32.3570\n",
            "Epoch 71/500\n",
            "1235/1235 [==============================] - 3s 3ms/step - loss: 32.2470\n",
            "Epoch 72/500\n",
            "1235/1235 [==============================] - 3s 3ms/step - loss: 32.0314\n",
            "Epoch 73/500\n",
            "1235/1235 [==============================] - 3s 3ms/step - loss: 32.1344\n",
            "Epoch 74/500\n",
            "1235/1235 [==============================] - 3s 3ms/step - loss: 31.9264\n",
            "Epoch 75/500\n",
            "1235/1235 [==============================] - 3s 3ms/step - loss: 31.8403\n",
            "Epoch 76/500\n",
            "1235/1235 [==============================] - 3s 3ms/step - loss: 31.5692\n",
            "Epoch 77/500\n",
            "1235/1235 [==============================] - 3s 3ms/step - loss: 31.5510\n",
            "Epoch 78/500\n",
            "1235/1235 [==============================] - 3s 3ms/step - loss: 31.5314\n",
            "Epoch 79/500\n",
            "1235/1235 [==============================] - 4s 3ms/step - loss: 31.6109\n",
            "Epoch 80/500\n",
            "1235/1235 [==============================] - 4s 3ms/step - loss: 31.2222\n",
            "Epoch 81/500\n",
            "1235/1235 [==============================] - 3s 3ms/step - loss: 31.2915\n",
            "Epoch 82/500\n",
            "1235/1235 [==============================] - 3s 3ms/step - loss: 31.0728\n",
            "Epoch 83/500\n",
            "1235/1235 [==============================] - 3s 3ms/step - loss: 30.8352\n",
            "Epoch 84/500\n",
            "1235/1235 [==============================] - 3s 3ms/step - loss: 31.1248\n",
            "Epoch 85/500\n",
            "1235/1235 [==============================] - 3s 3ms/step - loss: 30.8060\n",
            "Epoch 86/500\n",
            "1235/1235 [==============================] - 3s 3ms/step - loss: 30.9154\n",
            "Epoch 87/500\n",
            "1235/1235 [==============================] - 3s 3ms/step - loss: 30.5981\n",
            "Epoch 88/500\n",
            "1235/1235 [==============================] - 3s 3ms/step - loss: 30.5876\n",
            "Epoch 89/500\n",
            "1235/1235 [==============================] - 3s 3ms/step - loss: 30.5643\n",
            "Epoch 90/500\n",
            "1235/1235 [==============================] - 3s 3ms/step - loss: 30.4535\n",
            "Epoch 91/500\n",
            "1235/1235 [==============================] - 3s 3ms/step - loss: 30.3699\n",
            "Epoch 92/500\n",
            "1235/1235 [==============================] - 3s 3ms/step - loss: 30.1878\n",
            "Epoch 93/500\n",
            "1235/1235 [==============================] - 3s 3ms/step - loss: 30.2524\n",
            "Epoch 94/500\n",
            "1235/1235 [==============================] - 3s 3ms/step - loss: 29.9514\n",
            "Epoch 95/500\n",
            "1235/1235 [==============================] - 3s 3ms/step - loss: 30.1085\n",
            "Epoch 96/500\n",
            "1235/1235 [==============================] - 3s 3ms/step - loss: 29.8786\n",
            "Epoch 97/500\n",
            "1235/1235 [==============================] - 3s 3ms/step - loss: 29.7073\n",
            "Epoch 98/500\n",
            "1235/1235 [==============================] - 3s 3ms/step - loss: 29.8317\n",
            "Epoch 99/500\n",
            "1235/1235 [==============================] - 3s 3ms/step - loss: 29.4662\n",
            "Epoch 100/500\n",
            "1235/1235 [==============================] - 3s 3ms/step - loss: 29.5274\n",
            "Epoch 101/500\n",
            "1235/1235 [==============================] - 3s 3ms/step - loss: 29.7157\n",
            "Epoch 102/500\n",
            "1235/1235 [==============================] - 3s 3ms/step - loss: 29.3964\n",
            "Epoch 103/500\n",
            "1235/1235 [==============================] - 3s 3ms/step - loss: 29.6287\n",
            "Epoch 104/500\n",
            "1235/1235 [==============================] - 3s 3ms/step - loss: 29.1520\n",
            "Epoch 105/500\n",
            "1235/1235 [==============================] - 3s 3ms/step - loss: 29.3036\n",
            "Epoch 106/500\n",
            "1235/1235 [==============================] - 3s 3ms/step - loss: 28.7996\n",
            "Epoch 107/500\n",
            "1235/1235 [==============================] - 3s 3ms/step - loss: 29.0026\n",
            "Epoch 108/500\n",
            "1235/1235 [==============================] - 3s 3ms/step - loss: 28.7254\n",
            "Epoch 109/500\n",
            "1235/1235 [==============================] - 3s 3ms/step - loss: 28.7124\n",
            "Epoch 110/500\n",
            "1235/1235 [==============================] - 3s 3ms/step - loss: 28.5932\n",
            "Epoch 111/500\n",
            "1235/1235 [==============================] - 3s 3ms/step - loss: 28.8217\n",
            "Epoch 112/500\n",
            "1235/1235 [==============================] - 3s 3ms/step - loss: 28.3785\n",
            "Epoch 113/500\n",
            "1235/1235 [==============================] - 3s 3ms/step - loss: 28.6884\n",
            "Epoch 114/500\n",
            "1235/1235 [==============================] - 3s 3ms/step - loss: 28.6064\n",
            "Epoch 115/500\n",
            "1235/1235 [==============================] - 3s 3ms/step - loss: 28.5148\n",
            "Epoch 116/500\n",
            "1235/1235 [==============================] - 3s 3ms/step - loss: 28.1870\n",
            "Epoch 117/500\n",
            "1235/1235 [==============================] - 3s 3ms/step - loss: 28.3553\n",
            "Epoch 118/500\n",
            "1235/1235 [==============================] - 5s 4ms/step - loss: 28.1804\n",
            "Epoch 119/500\n",
            "1235/1235 [==============================] - 4s 4ms/step - loss: 27.8913\n",
            "Epoch 120/500\n",
            "1235/1235 [==============================] - 3s 3ms/step - loss: 27.9394\n",
            "Epoch 121/500\n",
            "1235/1235 [==============================] - 3s 3ms/step - loss: 27.9591\n",
            "Epoch 122/500\n",
            "1235/1235 [==============================] - 3s 3ms/step - loss: 27.8751\n",
            "Epoch 123/500\n",
            "1235/1235 [==============================] - 3s 3ms/step - loss: 27.9055\n",
            "Epoch 124/500\n",
            "1235/1235 [==============================] - 3s 3ms/step - loss: 27.7999\n",
            "Epoch 125/500\n",
            "1235/1235 [==============================] - 3s 3ms/step - loss: 27.5010\n",
            "Epoch 126/500\n",
            "1235/1235 [==============================] - 3s 3ms/step - loss: 27.5101\n",
            "Epoch 127/500\n",
            "1235/1235 [==============================] - 3s 3ms/step - loss: 27.4851\n",
            "Epoch 128/500\n",
            "1235/1235 [==============================] - 3s 3ms/step - loss: 27.4926\n",
            "Epoch 129/500\n",
            "1235/1235 [==============================] - 3s 3ms/step - loss: 27.1238\n",
            "Epoch 130/500\n",
            "1235/1235 [==============================] - 3s 3ms/step - loss: 27.2747\n",
            "Epoch 131/500\n",
            "1235/1235 [==============================] - 3s 3ms/step - loss: 27.2791\n",
            "Epoch 132/500\n",
            "1235/1235 [==============================] - 3s 3ms/step - loss: 26.8808\n",
            "Epoch 133/500\n",
            "1235/1235 [==============================] - 4s 3ms/step - loss: 26.9196\n",
            "Epoch 134/500\n",
            "1235/1235 [==============================] - 3s 3ms/step - loss: 26.9629\n",
            "Epoch 135/500\n",
            "1235/1235 [==============================] - 3s 3ms/step - loss: 26.7312\n",
            "Epoch 136/500\n",
            "1235/1235 [==============================] - 3s 3ms/step - loss: 26.8382\n",
            "Epoch 137/500\n",
            "1235/1235 [==============================] - 3s 3ms/step - loss: 26.9829\n",
            "Epoch 138/500\n",
            "1235/1235 [==============================] - 3s 3ms/step - loss: 26.5701\n",
            "Epoch 139/500\n",
            "1235/1235 [==============================] - 3s 3ms/step - loss: 26.4290\n",
            "Epoch 140/500\n",
            "1235/1235 [==============================] - 3s 3ms/step - loss: 26.7805\n",
            "Epoch 141/500\n",
            "1235/1235 [==============================] - 3s 3ms/step - loss: 26.5647\n",
            "Epoch 142/500\n",
            "1235/1235 [==============================] - 3s 3ms/step - loss: 26.3347\n",
            "Epoch 143/500\n",
            "1235/1235 [==============================] - 3s 3ms/step - loss: 26.5012\n",
            "Epoch 144/500\n",
            "1235/1235 [==============================] - 3s 3ms/step - loss: 26.2987\n",
            "Epoch 145/500\n",
            "1235/1235 [==============================] - 3s 3ms/step - loss: 26.2054\n",
            "Epoch 146/500\n",
            "1235/1235 [==============================] - 3s 3ms/step - loss: 26.4032\n",
            "Epoch 147/500\n",
            "1235/1235 [==============================] - 3s 3ms/step - loss: 26.0818\n",
            "Epoch 148/500\n",
            "1235/1235 [==============================] - 3s 3ms/step - loss: 26.0106\n",
            "Epoch 149/500\n",
            "1235/1235 [==============================] - 3s 3ms/step - loss: 26.0408\n",
            "Epoch 150/500\n",
            "1235/1235 [==============================] - 3s 3ms/step - loss: 25.9794\n",
            "Epoch 151/500\n",
            "1235/1235 [==============================] - 3s 3ms/step - loss: 25.7582\n",
            "Epoch 152/500\n",
            "1235/1235 [==============================] - 3s 3ms/step - loss: 25.7414\n",
            "Epoch 153/500\n",
            "1235/1235 [==============================] - 3s 3ms/step - loss: 25.7005\n",
            "Epoch 154/500\n",
            "1235/1235 [==============================] - 3s 3ms/step - loss: 25.8400\n",
            "Epoch 155/500\n",
            "1235/1235 [==============================] - 3s 3ms/step - loss: 25.9589\n",
            "Epoch 156/500\n",
            "1235/1235 [==============================] - 3s 3ms/step - loss: 25.7764\n",
            "Epoch 157/500\n",
            "1235/1235 [==============================] - 5s 4ms/step - loss: 25.5286\n",
            "Epoch 158/500\n",
            "1235/1235 [==============================] - 4s 3ms/step - loss: 25.3779\n",
            "Epoch 159/500\n",
            "1235/1235 [==============================] - 3s 3ms/step - loss: 25.5876\n",
            "Epoch 160/500\n",
            "1235/1235 [==============================] - 3s 3ms/step - loss: 25.2142\n",
            "Epoch 161/500\n",
            "1235/1235 [==============================] - 3s 3ms/step - loss: 25.3851\n",
            "Epoch 162/500\n",
            "1235/1235 [==============================] - 3s 3ms/step - loss: 25.1921\n",
            "Epoch 163/500\n",
            "1235/1235 [==============================] - 3s 3ms/step - loss: 25.1698\n",
            "Epoch 164/500\n",
            "1235/1235 [==============================] - 3s 3ms/step - loss: 25.4179\n",
            "Epoch 165/500\n",
            "1235/1235 [==============================] - 3s 3ms/step - loss: 25.4331\n",
            "Epoch 166/500\n",
            "1235/1235 [==============================] - 3s 3ms/step - loss: 25.1760\n",
            "Epoch 167/500\n",
            "1235/1235 [==============================] - 3s 3ms/step - loss: 25.1129\n",
            "Epoch 168/500\n",
            "1235/1235 [==============================] - 3s 3ms/step - loss: 24.8992\n",
            "Epoch 169/500\n",
            "1235/1235 [==============================] - 3s 3ms/step - loss: 24.9456\n",
            "Epoch 170/500\n",
            "1235/1235 [==============================] - 3s 3ms/step - loss: 25.2393\n",
            "Epoch 171/500\n",
            "1235/1235 [==============================] - 3s 3ms/step - loss: 24.9323\n",
            "Epoch 172/500\n",
            "1235/1235 [==============================] - 3s 3ms/step - loss: 24.7753\n",
            "Epoch 173/500\n",
            "1235/1235 [==============================] - 3s 3ms/step - loss: 24.8296\n",
            "Epoch 174/500\n",
            "1235/1235 [==============================] - 3s 3ms/step - loss: 24.7618\n",
            "Epoch 175/500\n",
            "1235/1235 [==============================] - 3s 3ms/step - loss: 24.7561\n",
            "Epoch 176/500\n",
            "1235/1235 [==============================] - 4s 3ms/step - loss: 24.7836\n",
            "Epoch 177/500\n",
            "1235/1235 [==============================] - 3s 3ms/step - loss: 24.4332\n",
            "Epoch 178/500\n",
            "1235/1235 [==============================] - 3s 3ms/step - loss: 24.7500\n",
            "Epoch 179/500\n",
            "1235/1235 [==============================] - 3s 3ms/step - loss: 24.4677\n",
            "Epoch 180/500\n",
            "1235/1235 [==============================] - 3s 3ms/step - loss: 24.5557\n",
            "Epoch 181/500\n",
            "1235/1235 [==============================] - 3s 3ms/step - loss: 24.4040\n",
            "Epoch 182/500\n",
            "1235/1235 [==============================] - 3s 3ms/step - loss: 24.5265\n",
            "Epoch 183/500\n",
            "1235/1235 [==============================] - 3s 3ms/step - loss: 24.3059\n",
            "Epoch 184/500\n",
            "1235/1235 [==============================] - 3s 3ms/step - loss: 24.2055\n",
            "Epoch 185/500\n",
            "1235/1235 [==============================] - 4s 3ms/step - loss: 24.3051\n",
            "Epoch 186/500\n",
            "1235/1235 [==============================] - 3s 3ms/step - loss: 24.3665\n",
            "Epoch 187/500\n",
            "1235/1235 [==============================] - 3s 3ms/step - loss: 24.1730\n",
            "Epoch 188/500\n",
            "1235/1235 [==============================] - 3s 3ms/step - loss: 24.0371\n",
            "Epoch 189/500\n",
            "1235/1235 [==============================] - 3s 3ms/step - loss: 24.4862\n",
            "Epoch 190/500\n",
            "1235/1235 [==============================] - 3s 3ms/step - loss: 23.8498\n",
            "Epoch 191/500\n",
            "1235/1235 [==============================] - 3s 3ms/step - loss: 23.8172\n",
            "Epoch 192/500\n",
            "1235/1235 [==============================] - 3s 3ms/step - loss: 24.2521\n",
            "Epoch 193/500\n",
            "1235/1235 [==============================] - 3s 3ms/step - loss: 23.9645\n",
            "Epoch 194/500\n",
            "1235/1235 [==============================] - 3s 3ms/step - loss: 23.8216\n",
            "Epoch 195/500\n",
            "1235/1235 [==============================] - 5s 4ms/step - loss: 24.1233\n",
            "Epoch 196/500\n",
            "1235/1235 [==============================] - 3s 3ms/step - loss: 23.5720\n",
            "Epoch 197/500\n",
            "1235/1235 [==============================] - 3s 3ms/step - loss: 23.8440\n",
            "Epoch 198/500\n",
            "1235/1235 [==============================] - 3s 3ms/step - loss: 23.9288\n",
            "Epoch 199/500\n",
            "1235/1235 [==============================] - 4s 3ms/step - loss: 23.8412\n",
            "Epoch 200/500\n",
            "1235/1235 [==============================] - 4s 3ms/step - loss: 23.7983\n",
            "Epoch 201/500\n",
            "1235/1235 [==============================] - 3s 3ms/step - loss: 23.7029\n",
            "Epoch 202/500\n",
            "1235/1235 [==============================] - 3s 3ms/step - loss: 23.6926\n",
            "Epoch 203/500\n",
            "1235/1235 [==============================] - 3s 3ms/step - loss: 23.5351\n",
            "Epoch 204/500\n",
            "1235/1235 [==============================] - 3s 3ms/step - loss: 23.4388\n",
            "Epoch 205/500\n",
            "1235/1235 [==============================] - 3s 3ms/step - loss: 23.3878\n",
            "Epoch 206/500\n",
            "1235/1235 [==============================] - 3s 3ms/step - loss: 23.5408\n",
            "Epoch 207/500\n",
            "1235/1235 [==============================] - 3s 3ms/step - loss: 23.3368\n",
            "Epoch 208/500\n",
            "1235/1235 [==============================] - 3s 3ms/step - loss: 23.5801\n",
            "Epoch 209/500\n",
            "1235/1235 [==============================] - 3s 3ms/step - loss: 23.5182\n",
            "Epoch 210/500\n",
            "1235/1235 [==============================] - 3s 3ms/step - loss: 23.3091\n",
            "Epoch 211/500\n",
            "1235/1235 [==============================] - 3s 3ms/step - loss: 23.1405\n",
            "Epoch 212/500\n",
            "1235/1235 [==============================] - 3s 3ms/step - loss: 23.0778\n",
            "Epoch 213/500\n",
            "1235/1235 [==============================] - 3s 3ms/step - loss: 22.9361\n",
            "Epoch 214/500\n",
            "1235/1235 [==============================] - 3s 3ms/step - loss: 23.2265\n",
            "Epoch 215/500\n",
            "1235/1235 [==============================] - 3s 3ms/step - loss: 23.6202\n",
            "Epoch 216/500\n",
            "1235/1235 [==============================] - 3s 3ms/step - loss: 23.0118\n",
            "Epoch 217/500\n",
            "1235/1235 [==============================] - 3s 3ms/step - loss: 23.3925\n",
            "Epoch 218/500\n",
            "1235/1235 [==============================] - 3s 3ms/step - loss: 23.0738\n",
            "Epoch 219/500\n",
            "1235/1235 [==============================] - 3s 3ms/step - loss: 23.2468\n",
            "Epoch 220/500\n",
            "1235/1235 [==============================] - 3s 3ms/step - loss: 23.0822\n",
            "Epoch 221/500\n",
            "1235/1235 [==============================] - 3s 3ms/step - loss: 22.9382\n",
            "Epoch 222/500\n",
            "1235/1235 [==============================] - 3s 3ms/step - loss: 23.0260\n",
            "Epoch 223/500\n",
            "1235/1235 [==============================] - 3s 3ms/step - loss: 22.8661\n",
            "Epoch 224/500\n",
            "1235/1235 [==============================] - 3s 3ms/step - loss: 22.7037\n",
            "Epoch 225/500\n",
            "1235/1235 [==============================] - 3s 3ms/step - loss: 22.8167\n",
            "Epoch 226/500\n",
            "1235/1235 [==============================] - 3s 3ms/step - loss: 22.6644\n",
            "Epoch 227/500\n",
            "1235/1235 [==============================] - 3s 3ms/step - loss: 22.8556\n",
            "Epoch 228/500\n",
            "1235/1235 [==============================] - 3s 3ms/step - loss: 22.7432\n",
            "Epoch 229/500\n",
            "1235/1235 [==============================] - 3s 3ms/step - loss: 22.7111\n",
            "Epoch 230/500\n",
            "1235/1235 [==============================] - 3s 3ms/step - loss: 22.6079\n",
            "Epoch 231/500\n",
            "1235/1235 [==============================] - 3s 3ms/step - loss: 22.7313\n",
            "Epoch 232/500\n",
            "1235/1235 [==============================] - 3s 3ms/step - loss: 22.3068\n",
            "Epoch 233/500\n",
            "1235/1235 [==============================] - 3s 3ms/step - loss: 22.6739\n",
            "Epoch 234/500\n",
            "1235/1235 [==============================] - 3s 3ms/step - loss: 22.4861\n",
            "Epoch 235/500\n",
            "1235/1235 [==============================] - 3s 3ms/step - loss: 22.3273\n",
            "Epoch 236/500\n",
            "1235/1235 [==============================] - 5s 4ms/step - loss: 22.5356\n",
            "Epoch 237/500\n",
            "1235/1235 [==============================] - 4s 3ms/step - loss: 22.3461\n",
            "Epoch 238/500\n",
            "1235/1235 [==============================] - 3s 3ms/step - loss: 22.9001\n",
            "Epoch 239/500\n",
            "1235/1235 [==============================] - 3s 3ms/step - loss: 22.1743\n",
            "Epoch 240/500\n",
            "1235/1235 [==============================] - 3s 3ms/step - loss: 22.3911\n",
            "Epoch 241/500\n",
            "1235/1235 [==============================] - 3s 3ms/step - loss: 22.4004\n",
            "Epoch 242/500\n",
            "1235/1235 [==============================] - 3s 3ms/step - loss: 22.3841\n",
            "Epoch 243/500\n",
            "1235/1235 [==============================] - 3s 3ms/step - loss: 22.2046\n",
            "Epoch 244/500\n",
            "1235/1235 [==============================] - 4s 3ms/step - loss: 22.3822\n",
            "Epoch 245/500\n",
            "1235/1235 [==============================] - 3s 3ms/step - loss: 22.3231\n",
            "Epoch 246/500\n",
            "1235/1235 [==============================] - 3s 3ms/step - loss: 22.3206\n",
            "Epoch 247/500\n",
            "1235/1235 [==============================] - 4s 3ms/step - loss: 22.1366\n",
            "Epoch 248/500\n",
            "1235/1235 [==============================] - 3s 3ms/step - loss: 22.1662\n",
            "Epoch 249/500\n",
            "1235/1235 [==============================] - 4s 3ms/step - loss: 21.8029\n",
            "Epoch 250/500\n",
            "1235/1235 [==============================] - 3s 3ms/step - loss: 22.2058\n",
            "Epoch 251/500\n",
            "1235/1235 [==============================] - 4s 3ms/step - loss: 22.0830\n",
            "Epoch 252/500\n",
            "1235/1235 [==============================] - 4s 3ms/step - loss: 21.8803\n",
            "Epoch 253/500\n",
            "1235/1235 [==============================] - 3s 3ms/step - loss: 22.2322\n",
            "Epoch 254/500\n",
            "1235/1235 [==============================] - 3s 3ms/step - loss: 22.1934\n",
            "Epoch 255/500\n",
            "1235/1235 [==============================] - 3s 3ms/step - loss: 21.7787\n",
            "Epoch 256/500\n",
            "1235/1235 [==============================] - 4s 3ms/step - loss: 21.9892\n",
            "Epoch 257/500\n",
            "1235/1235 [==============================] - 3s 3ms/step - loss: 21.9237\n",
            "Epoch 258/500\n",
            "1235/1235 [==============================] - 4s 3ms/step - loss: 21.7324\n",
            "Epoch 259/500\n",
            "1235/1235 [==============================] - 3s 3ms/step - loss: 21.6941\n",
            "Epoch 260/500\n",
            "1235/1235 [==============================] - 3s 3ms/step - loss: 21.7805\n",
            "Epoch 261/500\n",
            "1235/1235 [==============================] - 3s 3ms/step - loss: 21.7756\n",
            "Epoch 262/500\n",
            "1235/1235 [==============================] - 3s 3ms/step - loss: 21.9763\n",
            "Epoch 263/500\n",
            "1235/1235 [==============================] - 3s 3ms/step - loss: 21.7452\n",
            "Epoch 264/500\n",
            "1235/1235 [==============================] - 3s 3ms/step - loss: 21.8044\n",
            "Epoch 265/500\n",
            "1235/1235 [==============================] - 4s 3ms/step - loss: 21.6433\n",
            "Epoch 266/500\n",
            "1235/1235 [==============================] - 4s 3ms/step - loss: 21.6590\n",
            "Epoch 267/500\n",
            "1235/1235 [==============================] - 4s 3ms/step - loss: 21.3553\n",
            "Epoch 268/500\n",
            "1235/1235 [==============================] - 3s 3ms/step - loss: 21.2962\n",
            "Epoch 269/500\n",
            "1235/1235 [==============================] - 3s 3ms/step - loss: 21.5819\n",
            "Epoch 270/500\n",
            "1235/1235 [==============================] - 3s 3ms/step - loss: 21.4222\n",
            "Epoch 271/500\n",
            "1235/1235 [==============================] - 3s 3ms/step - loss: 21.7591\n",
            "Epoch 272/500\n",
            "1235/1235 [==============================] - 5s 4ms/step - loss: 21.5500\n",
            "Epoch 273/500\n",
            "1235/1235 [==============================] - 4s 3ms/step - loss: 21.0955\n",
            "Epoch 274/500\n",
            "1235/1235 [==============================] - 4s 3ms/step - loss: 21.5077\n",
            "Epoch 275/500\n",
            "1235/1235 [==============================] - 4s 3ms/step - loss: 21.2441\n",
            "Epoch 276/500\n",
            "1235/1235 [==============================] - 4s 3ms/step - loss: 21.2483\n",
            "Epoch 277/500\n",
            "1235/1235 [==============================] - 4s 3ms/step - loss: 21.3162\n",
            "Epoch 278/500\n",
            "1235/1235 [==============================] - 4s 3ms/step - loss: 21.1844\n",
            "Epoch 279/500\n",
            "1235/1235 [==============================] - 5s 4ms/step - loss: 20.9812\n",
            "Epoch 280/500\n",
            "1235/1235 [==============================] - 4s 3ms/step - loss: 21.3870\n",
            "Epoch 281/500\n",
            "1235/1235 [==============================] - 4s 3ms/step - loss: 21.5216\n",
            "Epoch 282/500\n",
            "1235/1235 [==============================] - 4s 3ms/step - loss: 20.9703\n",
            "Epoch 283/500\n",
            "1235/1235 [==============================] - 3s 3ms/step - loss: 21.1774\n",
            "Epoch 284/500\n",
            "1235/1235 [==============================] - 4s 3ms/step - loss: 21.3834\n",
            "Epoch 285/500\n",
            "1235/1235 [==============================] - 4s 3ms/step - loss: 21.0947\n",
            "Epoch 286/500\n",
            "1235/1235 [==============================] - 3s 3ms/step - loss: 20.8894\n",
            "Epoch 287/500\n",
            "1235/1235 [==============================] - 4s 3ms/step - loss: 21.4316\n",
            "Epoch 288/500\n",
            "1235/1235 [==============================] - 4s 3ms/step - loss: 21.2911\n",
            "Epoch 289/500\n",
            "1235/1235 [==============================] - 4s 3ms/step - loss: 20.9141\n",
            "Epoch 290/500\n",
            "1235/1235 [==============================] - 4s 3ms/step - loss: 21.0819\n",
            "Epoch 291/500\n",
            "1235/1235 [==============================] - 4s 3ms/step - loss: 20.8703\n",
            "Epoch 292/500\n",
            "1235/1235 [==============================] - 3s 3ms/step - loss: 20.6191\n",
            "Epoch 293/500\n",
            "1235/1235 [==============================] - 3s 3ms/step - loss: 21.3110\n",
            "Epoch 294/500\n",
            "1235/1235 [==============================] - 3s 3ms/step - loss: 21.3114\n",
            "Epoch 295/500\n",
            "1235/1235 [==============================] - 3s 3ms/step - loss: 20.8878\n",
            "Epoch 296/500\n",
            "1235/1235 [==============================] - 3s 3ms/step - loss: 21.0244\n",
            "Epoch 297/500\n",
            "1235/1235 [==============================] - 3s 3ms/step - loss: 20.6842\n",
            "Epoch 298/500\n",
            "1235/1235 [==============================] - 3s 3ms/step - loss: 20.9079\n",
            "Epoch 299/500\n",
            "1235/1235 [==============================] - 3s 3ms/step - loss: 20.7013\n",
            "Epoch 300/500\n",
            "1235/1235 [==============================] - 3s 3ms/step - loss: 20.8553\n",
            "Epoch 301/500\n",
            "1235/1235 [==============================] - 3s 3ms/step - loss: 20.5089\n",
            "Epoch 302/500\n",
            "1235/1235 [==============================] - 3s 3ms/step - loss: 20.5734\n",
            "Epoch 303/500\n",
            "1235/1235 [==============================] - 4s 3ms/step - loss: 20.5287\n",
            "Epoch 304/500\n",
            "1235/1235 [==============================] - 3s 3ms/step - loss: 20.9694\n",
            "Epoch 305/500\n",
            "1235/1235 [==============================] - 4s 3ms/step - loss: 20.5425\n",
            "Epoch 306/500\n",
            "1235/1235 [==============================] - 3s 3ms/step - loss: 20.6469\n",
            "Epoch 307/500\n",
            "1235/1235 [==============================] - 3s 3ms/step - loss: 21.0855\n",
            "Epoch 308/500\n",
            "1235/1235 [==============================] - 4s 3ms/step - loss: 20.6413\n",
            "Epoch 309/500\n",
            "1235/1235 [==============================] - 4s 3ms/step - loss: 20.4544\n",
            "Epoch 310/500\n",
            "1235/1235 [==============================] - 3s 3ms/step - loss: 20.3325\n",
            "Epoch 311/500\n",
            "1235/1235 [==============================] - 3s 3ms/step - loss: 20.7288\n",
            "Epoch 312/500\n",
            "1235/1235 [==============================] - 4s 3ms/step - loss: 20.9835\n",
            "Epoch 313/500\n",
            "1235/1235 [==============================] - 3s 3ms/step - loss: 20.3565\n",
            "Epoch 314/500\n",
            "1235/1235 [==============================] - 3s 3ms/step - loss: 20.3011\n",
            "Epoch 315/500\n",
            "1235/1235 [==============================] - 4s 3ms/step - loss: 20.2770\n",
            "Epoch 316/500\n",
            "1235/1235 [==============================] - 3s 3ms/step - loss: 20.3176\n",
            "Epoch 317/500\n",
            "1235/1235 [==============================] - 4s 3ms/step - loss: 20.4085\n",
            "Epoch 318/500\n",
            "1235/1235 [==============================] - 3s 3ms/step - loss: 20.3396\n",
            "Epoch 319/500\n",
            "1235/1235 [==============================] - 3s 3ms/step - loss: 20.0552\n",
            "Epoch 320/500\n",
            "1235/1235 [==============================] - 3s 3ms/step - loss: 20.5763\n",
            "Epoch 321/500\n",
            "1235/1235 [==============================] - 4s 3ms/step - loss: 20.6030\n",
            "Epoch 322/500\n",
            "1235/1235 [==============================] - 4s 3ms/step - loss: 20.4870\n",
            "Epoch 323/500\n",
            "1235/1235 [==============================] - 4s 3ms/step - loss: 20.1799\n",
            "Epoch 324/500\n",
            "1235/1235 [==============================] - 4s 3ms/step - loss: 19.7136\n",
            "Epoch 325/500\n",
            "1235/1235 [==============================] - 3s 3ms/step - loss: 20.2290\n",
            "Epoch 326/500\n",
            "1235/1235 [==============================] - 3s 3ms/step - loss: 20.6466\n",
            "Epoch 327/500\n",
            "1235/1235 [==============================] - 4s 3ms/step - loss: 19.9196\n",
            "Epoch 328/500\n",
            "1235/1235 [==============================] - 4s 3ms/step - loss: 20.2211\n",
            "Epoch 329/500\n",
            "1235/1235 [==============================] - 4s 3ms/step - loss: 20.1914\n",
            "Epoch 330/500\n",
            "1235/1235 [==============================] - 4s 3ms/step - loss: 19.7414\n",
            "Epoch 331/500\n",
            "1235/1235 [==============================] - 4s 3ms/step - loss: 20.6709\n",
            "Epoch 332/500\n",
            "1235/1235 [==============================] - 4s 3ms/step - loss: 19.9820\n",
            "Epoch 333/500\n",
            "1235/1235 [==============================] - 3s 3ms/step - loss: 20.1925\n",
            "Epoch 334/500\n",
            "1235/1235 [==============================] - 3s 3ms/step - loss: 20.1675\n",
            "Epoch 335/500\n",
            "1235/1235 [==============================] - 4s 3ms/step - loss: 19.9975\n",
            "Epoch 336/500\n",
            "1235/1235 [==============================] - 4s 3ms/step - loss: 20.0328\n",
            "Epoch 337/500\n",
            "1235/1235 [==============================] - 3s 3ms/step - loss: 19.7679\n",
            "Epoch 338/500\n",
            "1235/1235 [==============================] - 4s 3ms/step - loss: 19.9281\n",
            "Epoch 339/500\n",
            "1235/1235 [==============================] - 4s 3ms/step - loss: 20.6522\n",
            "Epoch 340/500\n",
            "1235/1235 [==============================] - 4s 3ms/step - loss: 19.6820\n",
            "Epoch 341/500\n",
            "1235/1235 [==============================] - 4s 3ms/step - loss: 19.8749\n",
            "Epoch 342/500\n",
            "1235/1235 [==============================] - 4s 3ms/step - loss: 19.9170\n",
            "Epoch 343/500\n",
            "1235/1235 [==============================] - 4s 3ms/step - loss: 20.1074\n",
            "Epoch 344/500\n",
            "1235/1235 [==============================] - 4s 3ms/step - loss: 19.8759\n",
            "Epoch 345/500\n",
            "1235/1235 [==============================] - 5s 4ms/step - loss: 19.7591\n",
            "Epoch 346/500\n",
            "1235/1235 [==============================] - 4s 3ms/step - loss: 19.9044\n",
            "Epoch 347/500\n",
            "1235/1235 [==============================] - 4s 3ms/step - loss: 20.0944\n",
            "Epoch 348/500\n",
            "1235/1235 [==============================] - 3s 3ms/step - loss: 19.9399\n",
            "Epoch 349/500\n",
            "1235/1235 [==============================] - 3s 3ms/step - loss: 19.7067\n",
            "Epoch 350/500\n",
            "1235/1235 [==============================] - 3s 3ms/step - loss: 20.0661\n",
            "Epoch 351/500\n",
            "1235/1235 [==============================] - 3s 3ms/step - loss: 19.9333\n",
            "Epoch 352/500\n",
            "1235/1235 [==============================] - 3s 3ms/step - loss: 19.3865\n",
            "Epoch 353/500\n",
            "1235/1235 [==============================] - 4s 3ms/step - loss: 19.6904\n",
            "Epoch 354/500\n",
            "1235/1235 [==============================] - 3s 3ms/step - loss: 19.6148\n",
            "Epoch 355/500\n",
            "1235/1235 [==============================] - 3s 3ms/step - loss: 19.6296\n",
            "Epoch 356/500\n",
            "1235/1235 [==============================] - 4s 4ms/step - loss: 19.9674\n",
            "Epoch 357/500\n",
            "1235/1235 [==============================] - 4s 3ms/step - loss: 19.7999\n",
            "Epoch 358/500\n",
            "1235/1235 [==============================] - 4s 3ms/step - loss: 19.4282\n",
            "Epoch 359/500\n",
            "1235/1235 [==============================] - 4s 3ms/step - loss: 19.6366\n",
            "Epoch 360/500\n",
            "1235/1235 [==============================] - 4s 3ms/step - loss: 19.6502\n",
            "Epoch 361/500\n",
            "1235/1235 [==============================] - 4s 3ms/step - loss: 19.3328\n",
            "Epoch 362/500\n",
            "1235/1235 [==============================] - 4s 3ms/step - loss: 19.8122\n",
            "Epoch 363/500\n",
            "1235/1235 [==============================] - 3s 3ms/step - loss: 19.3076\n",
            "Epoch 364/500\n",
            "1235/1235 [==============================] - 4s 3ms/step - loss: 19.4931\n",
            "Epoch 365/500\n",
            "1235/1235 [==============================] - 4s 3ms/step - loss: 19.3610\n",
            "Epoch 366/500\n",
            "1235/1235 [==============================] - 4s 3ms/step - loss: 19.4457\n",
            "Epoch 367/500\n",
            "1235/1235 [==============================] - 4s 3ms/step - loss: 19.4698\n",
            "Epoch 368/500\n",
            "1235/1235 [==============================] - 4s 3ms/step - loss: 19.7181\n",
            "Epoch 369/500\n",
            "1235/1235 [==============================] - 4s 3ms/step - loss: 19.2526\n",
            "Epoch 370/500\n",
            "1235/1235 [==============================] - 4s 3ms/step - loss: 19.2393\n",
            "Epoch 371/500\n",
            "1235/1235 [==============================] - 4s 3ms/step - loss: 19.6088\n",
            "Epoch 372/500\n",
            "1235/1235 [==============================] - 3s 3ms/step - loss: 19.4346\n",
            "Epoch 373/500\n",
            " 121/1235 [=>............................] - ETA: 3s - loss: 19.8264"
          ]
        },
        {
          "output_type": "error",
          "ename": "KeyboardInterrupt",
          "evalue": "ignored",
          "traceback": [
            "\u001b[0;31m---------------------------------------------------------------------------\u001b[0m",
            "\u001b[0;31mKeyboardInterrupt\u001b[0m                         Traceback (most recent call last)",
            "\u001b[0;32m<ipython-input-855-7d72ef6459f3>\u001b[0m in \u001b[0;36m<module>\u001b[0;34m\u001b[0m\n\u001b[0;32m----> 1\u001b[0;31m \u001b[0mhistory\u001b[0m \u001b[0;34m=\u001b[0m \u001b[0mann\u001b[0m\u001b[0;34m.\u001b[0m\u001b[0mfit\u001b[0m\u001b[0;34m(\u001b[0m\u001b[0mX_train\u001b[0m\u001b[0;34m,\u001b[0m \u001b[0my_train\u001b[0m\u001b[0;34m,\u001b[0m \u001b[0mbatch_size\u001b[0m \u001b[0;34m=\u001b[0m \u001b[0;36m32\u001b[0m\u001b[0;34m,\u001b[0m \u001b[0mepochs\u001b[0m \u001b[0;34m=\u001b[0m \u001b[0;36m500\u001b[0m\u001b[0;34m)\u001b[0m\u001b[0;34m\u001b[0m\u001b[0;34m\u001b[0m\u001b[0m\n\u001b[0m",
            "\u001b[0;32m/usr/local/lib/python3.7/dist-packages/keras/utils/traceback_utils.py\u001b[0m in \u001b[0;36merror_handler\u001b[0;34m(*args, **kwargs)\u001b[0m\n\u001b[1;32m     62\u001b[0m     \u001b[0mfiltered_tb\u001b[0m \u001b[0;34m=\u001b[0m \u001b[0;32mNone\u001b[0m\u001b[0;34m\u001b[0m\u001b[0;34m\u001b[0m\u001b[0m\n\u001b[1;32m     63\u001b[0m     \u001b[0;32mtry\u001b[0m\u001b[0;34m:\u001b[0m\u001b[0;34m\u001b[0m\u001b[0;34m\u001b[0m\u001b[0m\n\u001b[0;32m---> 64\u001b[0;31m       \u001b[0;32mreturn\u001b[0m \u001b[0mfn\u001b[0m\u001b[0;34m(\u001b[0m\u001b[0;34m*\u001b[0m\u001b[0margs\u001b[0m\u001b[0;34m,\u001b[0m \u001b[0;34m**\u001b[0m\u001b[0mkwargs\u001b[0m\u001b[0;34m)\u001b[0m\u001b[0;34m\u001b[0m\u001b[0;34m\u001b[0m\u001b[0m\n\u001b[0m\u001b[1;32m     65\u001b[0m     \u001b[0;32mexcept\u001b[0m \u001b[0mException\u001b[0m \u001b[0;32mas\u001b[0m \u001b[0me\u001b[0m\u001b[0;34m:\u001b[0m  \u001b[0;31m# pylint: disable=broad-except\u001b[0m\u001b[0;34m\u001b[0m\u001b[0;34m\u001b[0m\u001b[0m\n\u001b[1;32m     66\u001b[0m       \u001b[0mfiltered_tb\u001b[0m \u001b[0;34m=\u001b[0m \u001b[0m_process_traceback_frames\u001b[0m\u001b[0;34m(\u001b[0m\u001b[0me\u001b[0m\u001b[0;34m.\u001b[0m\u001b[0m__traceback__\u001b[0m\u001b[0;34m)\u001b[0m\u001b[0;34m\u001b[0m\u001b[0;34m\u001b[0m\u001b[0m\n",
            "\u001b[0;32m/usr/local/lib/python3.7/dist-packages/keras/engine/training.py\u001b[0m in \u001b[0;36mfit\u001b[0;34m(self, x, y, batch_size, epochs, verbose, callbacks, validation_split, validation_data, shuffle, class_weight, sample_weight, initial_epoch, steps_per_epoch, validation_steps, validation_batch_size, validation_freq, max_queue_size, workers, use_multiprocessing)\u001b[0m\n\u001b[1;32m   1382\u001b[0m                 _r=1):\n\u001b[1;32m   1383\u001b[0m               \u001b[0mcallbacks\u001b[0m\u001b[0;34m.\u001b[0m\u001b[0mon_train_batch_begin\u001b[0m\u001b[0;34m(\u001b[0m\u001b[0mstep\u001b[0m\u001b[0;34m)\u001b[0m\u001b[0;34m\u001b[0m\u001b[0;34m\u001b[0m\u001b[0m\n\u001b[0;32m-> 1384\u001b[0;31m               \u001b[0mtmp_logs\u001b[0m \u001b[0;34m=\u001b[0m \u001b[0mself\u001b[0m\u001b[0;34m.\u001b[0m\u001b[0mtrain_function\u001b[0m\u001b[0;34m(\u001b[0m\u001b[0miterator\u001b[0m\u001b[0;34m)\u001b[0m\u001b[0;34m\u001b[0m\u001b[0;34m\u001b[0m\u001b[0m\n\u001b[0m\u001b[1;32m   1385\u001b[0m               \u001b[0;32mif\u001b[0m \u001b[0mdata_handler\u001b[0m\u001b[0;34m.\u001b[0m\u001b[0mshould_sync\u001b[0m\u001b[0;34m:\u001b[0m\u001b[0;34m\u001b[0m\u001b[0;34m\u001b[0m\u001b[0m\n\u001b[1;32m   1386\u001b[0m                 \u001b[0mcontext\u001b[0m\u001b[0;34m.\u001b[0m\u001b[0masync_wait\u001b[0m\u001b[0;34m(\u001b[0m\u001b[0;34m)\u001b[0m\u001b[0;34m\u001b[0m\u001b[0;34m\u001b[0m\u001b[0m\n",
            "\u001b[0;32m/usr/local/lib/python3.7/dist-packages/tensorflow/python/util/traceback_utils.py\u001b[0m in \u001b[0;36merror_handler\u001b[0;34m(*args, **kwargs)\u001b[0m\n\u001b[1;32m    148\u001b[0m     \u001b[0mfiltered_tb\u001b[0m \u001b[0;34m=\u001b[0m \u001b[0;32mNone\u001b[0m\u001b[0;34m\u001b[0m\u001b[0;34m\u001b[0m\u001b[0m\n\u001b[1;32m    149\u001b[0m     \u001b[0;32mtry\u001b[0m\u001b[0;34m:\u001b[0m\u001b[0;34m\u001b[0m\u001b[0;34m\u001b[0m\u001b[0m\n\u001b[0;32m--> 150\u001b[0;31m       \u001b[0;32mreturn\u001b[0m \u001b[0mfn\u001b[0m\u001b[0;34m(\u001b[0m\u001b[0;34m*\u001b[0m\u001b[0margs\u001b[0m\u001b[0;34m,\u001b[0m \u001b[0;34m**\u001b[0m\u001b[0mkwargs\u001b[0m\u001b[0;34m)\u001b[0m\u001b[0;34m\u001b[0m\u001b[0;34m\u001b[0m\u001b[0m\n\u001b[0m\u001b[1;32m    151\u001b[0m     \u001b[0;32mexcept\u001b[0m \u001b[0mException\u001b[0m \u001b[0;32mas\u001b[0m \u001b[0me\u001b[0m\u001b[0;34m:\u001b[0m\u001b[0;34m\u001b[0m\u001b[0;34m\u001b[0m\u001b[0m\n\u001b[1;32m    152\u001b[0m       \u001b[0mfiltered_tb\u001b[0m \u001b[0;34m=\u001b[0m \u001b[0m_process_traceback_frames\u001b[0m\u001b[0;34m(\u001b[0m\u001b[0me\u001b[0m\u001b[0;34m.\u001b[0m\u001b[0m__traceback__\u001b[0m\u001b[0;34m)\u001b[0m\u001b[0;34m\u001b[0m\u001b[0;34m\u001b[0m\u001b[0m\n",
            "\u001b[0;32m/usr/local/lib/python3.7/dist-packages/tensorflow/python/eager/def_function.py\u001b[0m in \u001b[0;36m__call__\u001b[0;34m(self, *args, **kwds)\u001b[0m\n\u001b[1;32m    913\u001b[0m \u001b[0;34m\u001b[0m\u001b[0m\n\u001b[1;32m    914\u001b[0m       \u001b[0;32mwith\u001b[0m \u001b[0mOptionalXlaContext\u001b[0m\u001b[0;34m(\u001b[0m\u001b[0mself\u001b[0m\u001b[0;34m.\u001b[0m\u001b[0m_jit_compile\u001b[0m\u001b[0;34m)\u001b[0m\u001b[0;34m:\u001b[0m\u001b[0;34m\u001b[0m\u001b[0;34m\u001b[0m\u001b[0m\n\u001b[0;32m--> 915\u001b[0;31m         \u001b[0mresult\u001b[0m \u001b[0;34m=\u001b[0m \u001b[0mself\u001b[0m\u001b[0;34m.\u001b[0m\u001b[0m_call\u001b[0m\u001b[0;34m(\u001b[0m\u001b[0;34m*\u001b[0m\u001b[0margs\u001b[0m\u001b[0;34m,\u001b[0m \u001b[0;34m**\u001b[0m\u001b[0mkwds\u001b[0m\u001b[0;34m)\u001b[0m\u001b[0;34m\u001b[0m\u001b[0;34m\u001b[0m\u001b[0m\n\u001b[0m\u001b[1;32m    916\u001b[0m \u001b[0;34m\u001b[0m\u001b[0m\n\u001b[1;32m    917\u001b[0m       \u001b[0mnew_tracing_count\u001b[0m \u001b[0;34m=\u001b[0m \u001b[0mself\u001b[0m\u001b[0;34m.\u001b[0m\u001b[0mexperimental_get_tracing_count\u001b[0m\u001b[0;34m(\u001b[0m\u001b[0;34m)\u001b[0m\u001b[0;34m\u001b[0m\u001b[0;34m\u001b[0m\u001b[0m\n",
            "\u001b[0;32m/usr/local/lib/python3.7/dist-packages/tensorflow/python/eager/def_function.py\u001b[0m in \u001b[0;36m_call\u001b[0;34m(self, *args, **kwds)\u001b[0m\n\u001b[1;32m    945\u001b[0m       \u001b[0;31m# In this case we have created variables on the first call, so we run the\u001b[0m\u001b[0;34m\u001b[0m\u001b[0;34m\u001b[0m\u001b[0;34m\u001b[0m\u001b[0m\n\u001b[1;32m    946\u001b[0m       \u001b[0;31m# defunned version which is guaranteed to never create variables.\u001b[0m\u001b[0;34m\u001b[0m\u001b[0;34m\u001b[0m\u001b[0;34m\u001b[0m\u001b[0m\n\u001b[0;32m--> 947\u001b[0;31m       \u001b[0;32mreturn\u001b[0m \u001b[0mself\u001b[0m\u001b[0;34m.\u001b[0m\u001b[0m_stateless_fn\u001b[0m\u001b[0;34m(\u001b[0m\u001b[0;34m*\u001b[0m\u001b[0margs\u001b[0m\u001b[0;34m,\u001b[0m \u001b[0;34m**\u001b[0m\u001b[0mkwds\u001b[0m\u001b[0;34m)\u001b[0m  \u001b[0;31m# pylint: disable=not-callable\u001b[0m\u001b[0;34m\u001b[0m\u001b[0;34m\u001b[0m\u001b[0m\n\u001b[0m\u001b[1;32m    948\u001b[0m     \u001b[0;32melif\u001b[0m \u001b[0mself\u001b[0m\u001b[0;34m.\u001b[0m\u001b[0m_stateful_fn\u001b[0m \u001b[0;32mis\u001b[0m \u001b[0;32mnot\u001b[0m \u001b[0;32mNone\u001b[0m\u001b[0;34m:\u001b[0m\u001b[0;34m\u001b[0m\u001b[0;34m\u001b[0m\u001b[0m\n\u001b[1;32m    949\u001b[0m       \u001b[0;31m# Release the lock early so that multiple threads can perform the call\u001b[0m\u001b[0;34m\u001b[0m\u001b[0;34m\u001b[0m\u001b[0;34m\u001b[0m\u001b[0m\n",
            "\u001b[0;32m/usr/local/lib/python3.7/dist-packages/tensorflow/python/eager/function.py\u001b[0m in \u001b[0;36m__call__\u001b[0;34m(self, *args, **kwargs)\u001b[0m\n\u001b[1;32m   2955\u001b[0m        filtered_flat_args) = self._maybe_define_function(args, kwargs)\n\u001b[1;32m   2956\u001b[0m     return graph_function._call_flat(\n\u001b[0;32m-> 2957\u001b[0;31m         filtered_flat_args, captured_inputs=graph_function.captured_inputs)  # pylint: disable=protected-access\n\u001b[0m\u001b[1;32m   2958\u001b[0m \u001b[0;34m\u001b[0m\u001b[0m\n\u001b[1;32m   2959\u001b[0m   \u001b[0;34m@\u001b[0m\u001b[0mproperty\u001b[0m\u001b[0;34m\u001b[0m\u001b[0;34m\u001b[0m\u001b[0m\n",
            "\u001b[0;32m/usr/local/lib/python3.7/dist-packages/tensorflow/python/eager/function.py\u001b[0m in \u001b[0;36m_call_flat\u001b[0;34m(self, args, captured_inputs, cancellation_manager)\u001b[0m\n\u001b[1;32m   1852\u001b[0m       \u001b[0;31m# No tape is watching; skip to running the function.\u001b[0m\u001b[0;34m\u001b[0m\u001b[0;34m\u001b[0m\u001b[0;34m\u001b[0m\u001b[0m\n\u001b[1;32m   1853\u001b[0m       return self._build_call_outputs(self._inference_function.call(\n\u001b[0;32m-> 1854\u001b[0;31m           ctx, args, cancellation_manager=cancellation_manager))\n\u001b[0m\u001b[1;32m   1855\u001b[0m     forward_backward = self._select_forward_and_backward_functions(\n\u001b[1;32m   1856\u001b[0m         \u001b[0margs\u001b[0m\u001b[0;34m,\u001b[0m\u001b[0;34m\u001b[0m\u001b[0;34m\u001b[0m\u001b[0m\n",
            "\u001b[0;32m/usr/local/lib/python3.7/dist-packages/tensorflow/python/eager/function.py\u001b[0m in \u001b[0;36mcall\u001b[0;34m(self, ctx, args, cancellation_manager)\u001b[0m\n\u001b[1;32m    502\u001b[0m               \u001b[0minputs\u001b[0m\u001b[0;34m=\u001b[0m\u001b[0margs\u001b[0m\u001b[0;34m,\u001b[0m\u001b[0;34m\u001b[0m\u001b[0;34m\u001b[0m\u001b[0m\n\u001b[1;32m    503\u001b[0m               \u001b[0mattrs\u001b[0m\u001b[0;34m=\u001b[0m\u001b[0mattrs\u001b[0m\u001b[0;34m,\u001b[0m\u001b[0;34m\u001b[0m\u001b[0;34m\u001b[0m\u001b[0m\n\u001b[0;32m--> 504\u001b[0;31m               ctx=ctx)\n\u001b[0m\u001b[1;32m    505\u001b[0m         \u001b[0;32melse\u001b[0m\u001b[0;34m:\u001b[0m\u001b[0;34m\u001b[0m\u001b[0;34m\u001b[0m\u001b[0m\n\u001b[1;32m    506\u001b[0m           outputs = execute.execute_with_cancellation(\n",
            "\u001b[0;32m/usr/local/lib/python3.7/dist-packages/tensorflow/python/eager/execute.py\u001b[0m in \u001b[0;36mquick_execute\u001b[0;34m(op_name, num_outputs, inputs, attrs, ctx, name)\u001b[0m\n\u001b[1;32m     53\u001b[0m     \u001b[0mctx\u001b[0m\u001b[0;34m.\u001b[0m\u001b[0mensure_initialized\u001b[0m\u001b[0;34m(\u001b[0m\u001b[0;34m)\u001b[0m\u001b[0;34m\u001b[0m\u001b[0;34m\u001b[0m\u001b[0m\n\u001b[1;32m     54\u001b[0m     tensors = pywrap_tfe.TFE_Py_Execute(ctx._handle, device_name, op_name,\n\u001b[0;32m---> 55\u001b[0;31m                                         inputs, attrs, num_outputs)\n\u001b[0m\u001b[1;32m     56\u001b[0m   \u001b[0;32mexcept\u001b[0m \u001b[0mcore\u001b[0m\u001b[0;34m.\u001b[0m\u001b[0m_NotOkStatusException\u001b[0m \u001b[0;32mas\u001b[0m \u001b[0me\u001b[0m\u001b[0;34m:\u001b[0m\u001b[0;34m\u001b[0m\u001b[0;34m\u001b[0m\u001b[0m\n\u001b[1;32m     57\u001b[0m     \u001b[0;32mif\u001b[0m \u001b[0mname\u001b[0m \u001b[0;32mis\u001b[0m \u001b[0;32mnot\u001b[0m \u001b[0;32mNone\u001b[0m\u001b[0;34m:\u001b[0m\u001b[0;34m\u001b[0m\u001b[0;34m\u001b[0m\u001b[0m\n",
            "\u001b[0;31mKeyboardInterrupt\u001b[0m: "
          ]
        }
      ]
    },
    {
      "cell_type": "code",
      "source": [
        "y_pred=ann.predict(X_test)"
      ],
      "metadata": {
        "id": "7HFZyjaTn4hJ"
      },
      "execution_count": null,
      "outputs": []
    },
    {
      "cell_type": "code",
      "source": [
        "y_pred"
      ],
      "metadata": {
        "id": "gq0X8q5JpDK8"
      },
      "execution_count": null,
      "outputs": []
    },
    {
      "cell_type": "markdown",
      "source": [
        "#SAVING DATA IN CSV FORMAT"
      ],
      "metadata": {
        "id": "uabqWQcTrUAy"
      }
    },
    {
      "cell_type": "code",
      "source": [
        "# from google.colab import files\n",
        "# uploaded = files.upload()"
      ],
      "metadata": {
        "id": "36QJ8Y7jqagU"
      },
      "execution_count": null,
      "outputs": []
    },
    {
      "cell_type": "code",
      "source": [
        "Final_result=pd.read_csv(io.BytesIO(uploaded['test.csv']))\n",
        "Final_result.head(5)"
      ],
      "metadata": {
        "colab": {
          "base_uri": "https://localhost:8080/"
        },
        "id": "Fw1LEC-bqgrD",
        "outputId": "c9816c89-bfe7-4fb3-844f-aca7dc1a4539"
      },
      "execution_count": null,
      "outputs": [
        {
          "output_type": "execute_result",
          "data": {
            "text/plain": [
              "  Property_ID   Property_Type  Property_Area  Number_of_Windows  \\\n",
              "0      0x6e93       Apartment            293                3.0   \n",
              "1      0x8787       Apartment            586                4.0   \n",
              "2      0x6c17  Container Home            305                1.0   \n",
              "3      0x9dbd       Apartment            258                2.0   \n",
              "4      0xbfde        Bungalow           3031               12.0   \n",
              "\n",
              "   Number_of_Doors       Furnishing  Frequency_of_Powercuts Power_Backup  \\\n",
              "0                1      Unfurnished                     0.0           No   \n",
              "1                1   Semi_Furnished                     0.0           No   \n",
              "2                2   Semi_Furnished                     1.0           No   \n",
              "3                1   Semi_Furnished                     1.0           No   \n",
              "4                4  Fully Furnished                     0.0           No   \n",
              "\n",
              "              Water_Supply  Traffic_Density_Score              Crime_Rate  \\\n",
              "0  Once in a day - Morning                   7.28      Well above average   \n",
              "1  Once in a day - Evening                   7.63      Well below average   \n",
              "2                 All time                   5.39  Slightly above average   \n",
              "3                 All time                   7.53  Slightly below average   \n",
              "4                 All time                   8.79      Well above average   \n",
              "\n",
              "  Dust_and_Noise  Air_Quality_Index  Neighborhood_Review  \n",
              "0         Medium              152.0                 2.52  \n",
              "1         Medium               92.0                 4.16  \n",
              "2         Medium               90.0                 2.92  \n",
              "3         Medium              158.0                 3.45  \n",
              "4           High              186.0                 2.72  "
            ],
            "text/html": [
              "\n",
              "  <div id=\"df-9b303b27-9736-46c4-87b1-d0ff07e052bd\">\n",
              "    <div class=\"colab-df-container\">\n",
              "      <div>\n",
              "<style scoped>\n",
              "    .dataframe tbody tr th:only-of-type {\n",
              "        vertical-align: middle;\n",
              "    }\n",
              "\n",
              "    .dataframe tbody tr th {\n",
              "        vertical-align: top;\n",
              "    }\n",
              "\n",
              "    .dataframe thead th {\n",
              "        text-align: right;\n",
              "    }\n",
              "</style>\n",
              "<table border=\"1\" class=\"dataframe\">\n",
              "  <thead>\n",
              "    <tr style=\"text-align: right;\">\n",
              "      <th></th>\n",
              "      <th>Property_ID</th>\n",
              "      <th>Property_Type</th>\n",
              "      <th>Property_Area</th>\n",
              "      <th>Number_of_Windows</th>\n",
              "      <th>Number_of_Doors</th>\n",
              "      <th>Furnishing</th>\n",
              "      <th>Frequency_of_Powercuts</th>\n",
              "      <th>Power_Backup</th>\n",
              "      <th>Water_Supply</th>\n",
              "      <th>Traffic_Density_Score</th>\n",
              "      <th>Crime_Rate</th>\n",
              "      <th>Dust_and_Noise</th>\n",
              "      <th>Air_Quality_Index</th>\n",
              "      <th>Neighborhood_Review</th>\n",
              "    </tr>\n",
              "  </thead>\n",
              "  <tbody>\n",
              "    <tr>\n",
              "      <th>0</th>\n",
              "      <td>0x6e93</td>\n",
              "      <td>Apartment</td>\n",
              "      <td>293</td>\n",
              "      <td>3.0</td>\n",
              "      <td>1</td>\n",
              "      <td>Unfurnished</td>\n",
              "      <td>0.0</td>\n",
              "      <td>No</td>\n",
              "      <td>Once in a day - Morning</td>\n",
              "      <td>7.28</td>\n",
              "      <td>Well above average</td>\n",
              "      <td>Medium</td>\n",
              "      <td>152.0</td>\n",
              "      <td>2.52</td>\n",
              "    </tr>\n",
              "    <tr>\n",
              "      <th>1</th>\n",
              "      <td>0x8787</td>\n",
              "      <td>Apartment</td>\n",
              "      <td>586</td>\n",
              "      <td>4.0</td>\n",
              "      <td>1</td>\n",
              "      <td>Semi_Furnished</td>\n",
              "      <td>0.0</td>\n",
              "      <td>No</td>\n",
              "      <td>Once in a day - Evening</td>\n",
              "      <td>7.63</td>\n",
              "      <td>Well below average</td>\n",
              "      <td>Medium</td>\n",
              "      <td>92.0</td>\n",
              "      <td>4.16</td>\n",
              "    </tr>\n",
              "    <tr>\n",
              "      <th>2</th>\n",
              "      <td>0x6c17</td>\n",
              "      <td>Container Home</td>\n",
              "      <td>305</td>\n",
              "      <td>1.0</td>\n",
              "      <td>2</td>\n",
              "      <td>Semi_Furnished</td>\n",
              "      <td>1.0</td>\n",
              "      <td>No</td>\n",
              "      <td>All time</td>\n",
              "      <td>5.39</td>\n",
              "      <td>Slightly above average</td>\n",
              "      <td>Medium</td>\n",
              "      <td>90.0</td>\n",
              "      <td>2.92</td>\n",
              "    </tr>\n",
              "    <tr>\n",
              "      <th>3</th>\n",
              "      <td>0x9dbd</td>\n",
              "      <td>Apartment</td>\n",
              "      <td>258</td>\n",
              "      <td>2.0</td>\n",
              "      <td>1</td>\n",
              "      <td>Semi_Furnished</td>\n",
              "      <td>1.0</td>\n",
              "      <td>No</td>\n",
              "      <td>All time</td>\n",
              "      <td>7.53</td>\n",
              "      <td>Slightly below average</td>\n",
              "      <td>Medium</td>\n",
              "      <td>158.0</td>\n",
              "      <td>3.45</td>\n",
              "    </tr>\n",
              "    <tr>\n",
              "      <th>4</th>\n",
              "      <td>0xbfde</td>\n",
              "      <td>Bungalow</td>\n",
              "      <td>3031</td>\n",
              "      <td>12.0</td>\n",
              "      <td>4</td>\n",
              "      <td>Fully Furnished</td>\n",
              "      <td>0.0</td>\n",
              "      <td>No</td>\n",
              "      <td>All time</td>\n",
              "      <td>8.79</td>\n",
              "      <td>Well above average</td>\n",
              "      <td>High</td>\n",
              "      <td>186.0</td>\n",
              "      <td>2.72</td>\n",
              "    </tr>\n",
              "  </tbody>\n",
              "</table>\n",
              "</div>\n",
              "      <button class=\"colab-df-convert\" onclick=\"convertToInteractive('df-9b303b27-9736-46c4-87b1-d0ff07e052bd')\"\n",
              "              title=\"Convert this dataframe to an interactive table.\"\n",
              "              style=\"display:none;\">\n",
              "        \n",
              "  <svg xmlns=\"http://www.w3.org/2000/svg\" height=\"24px\"viewBox=\"0 0 24 24\"\n",
              "       width=\"24px\">\n",
              "    <path d=\"M0 0h24v24H0V0z\" fill=\"none\"/>\n",
              "    <path d=\"M18.56 5.44l.94 2.06.94-2.06 2.06-.94-2.06-.94-.94-2.06-.94 2.06-2.06.94zm-11 1L8.5 8.5l.94-2.06 2.06-.94-2.06-.94L8.5 2.5l-.94 2.06-2.06.94zm10 10l.94 2.06.94-2.06 2.06-.94-2.06-.94-.94-2.06-.94 2.06-2.06.94z\"/><path d=\"M17.41 7.96l-1.37-1.37c-.4-.4-.92-.59-1.43-.59-.52 0-1.04.2-1.43.59L10.3 9.45l-7.72 7.72c-.78.78-.78 2.05 0 2.83L4 21.41c.39.39.9.59 1.41.59.51 0 1.02-.2 1.41-.59l7.78-7.78 2.81-2.81c.8-.78.8-2.07 0-2.86zM5.41 20L4 18.59l7.72-7.72 1.47 1.35L5.41 20z\"/>\n",
              "  </svg>\n",
              "      </button>\n",
              "      \n",
              "  <style>\n",
              "    .colab-df-container {\n",
              "      display:flex;\n",
              "      flex-wrap:wrap;\n",
              "      gap: 12px;\n",
              "    }\n",
              "\n",
              "    .colab-df-convert {\n",
              "      background-color: #E8F0FE;\n",
              "      border: none;\n",
              "      border-radius: 50%;\n",
              "      cursor: pointer;\n",
              "      display: none;\n",
              "      fill: #1967D2;\n",
              "      height: 32px;\n",
              "      padding: 0 0 0 0;\n",
              "      width: 32px;\n",
              "    }\n",
              "\n",
              "    .colab-df-convert:hover {\n",
              "      background-color: #E2EBFA;\n",
              "      box-shadow: 0px 1px 2px rgba(60, 64, 67, 0.3), 0px 1px 3px 1px rgba(60, 64, 67, 0.15);\n",
              "      fill: #174EA6;\n",
              "    }\n",
              "\n",
              "    [theme=dark] .colab-df-convert {\n",
              "      background-color: #3B4455;\n",
              "      fill: #D2E3FC;\n",
              "    }\n",
              "\n",
              "    [theme=dark] .colab-df-convert:hover {\n",
              "      background-color: #434B5C;\n",
              "      box-shadow: 0px 1px 3px 1px rgba(0, 0, 0, 0.15);\n",
              "      filter: drop-shadow(0px 1px 2px rgba(0, 0, 0, 0.3));\n",
              "      fill: #FFFFFF;\n",
              "    }\n",
              "  </style>\n",
              "\n",
              "      <script>\n",
              "        const buttonEl =\n",
              "          document.querySelector('#df-9b303b27-9736-46c4-87b1-d0ff07e052bd button.colab-df-convert');\n",
              "        buttonEl.style.display =\n",
              "          google.colab.kernel.accessAllowed ? 'block' : 'none';\n",
              "\n",
              "        async function convertToInteractive(key) {\n",
              "          const element = document.querySelector('#df-9b303b27-9736-46c4-87b1-d0ff07e052bd');\n",
              "          const dataTable =\n",
              "            await google.colab.kernel.invokeFunction('convertToInteractive',\n",
              "                                                     [key], {});\n",
              "          if (!dataTable) return;\n",
              "\n",
              "          const docLinkHtml = 'Like what you see? Visit the ' +\n",
              "            '<a target=\"_blank\" href=https://colab.research.google.com/notebooks/data_table.ipynb>data table notebook</a>'\n",
              "            + ' to learn more about interactive tables.';\n",
              "          element.innerHTML = '';\n",
              "          dataTable['output_type'] = 'display_data';\n",
              "          await google.colab.output.renderOutput(dataTable, element);\n",
              "          const docLink = document.createElement('div');\n",
              "          docLink.innerHTML = docLinkHtml;\n",
              "          element.appendChild(docLink);\n",
              "        }\n",
              "      </script>\n",
              "    </div>\n",
              "  </div>\n",
              "  "
            ]
          },
          "metadata": {},
          "execution_count": 864
        }
      ]
    },
    {
      "cell_type": "code",
      "source": [
        "Final_result=Final_result.set_index('Property_ID')\n",
        "Final_result.head(5)"
      ],
      "metadata": {
        "colab": {
          "base_uri": "https://localhost:8080/"
        },
        "id": "GCfdxAPWqoED",
        "outputId": "6790433f-6e84-4066-f0c8-99e0ce179ca9"
      },
      "execution_count": null,
      "outputs": [
        {
          "output_type": "execute_result",
          "data": {
            "text/plain": [
              "              Property_Type  Property_Area  Number_of_Windows  \\\n",
              "Property_ID                                                     \n",
              "0x6e93            Apartment            293                3.0   \n",
              "0x8787            Apartment            586                4.0   \n",
              "0x6c17       Container Home            305                1.0   \n",
              "0x9dbd            Apartment            258                2.0   \n",
              "0xbfde             Bungalow           3031               12.0   \n",
              "\n",
              "             Number_of_Doors       Furnishing  Frequency_of_Powercuts  \\\n",
              "Property_ID                                                             \n",
              "0x6e93                     1      Unfurnished                     0.0   \n",
              "0x8787                     1   Semi_Furnished                     0.0   \n",
              "0x6c17                     2   Semi_Furnished                     1.0   \n",
              "0x9dbd                     1   Semi_Furnished                     1.0   \n",
              "0xbfde                     4  Fully Furnished                     0.0   \n",
              "\n",
              "            Power_Backup             Water_Supply  Traffic_Density_Score  \\\n",
              "Property_ID                                                                \n",
              "0x6e93                No  Once in a day - Morning                   7.28   \n",
              "0x8787                No  Once in a day - Evening                   7.63   \n",
              "0x6c17                No                 All time                   5.39   \n",
              "0x9dbd                No                 All time                   7.53   \n",
              "0xbfde                No                 All time                   8.79   \n",
              "\n",
              "                         Crime_Rate Dust_and_Noise  Air_Quality_Index  \\\n",
              "Property_ID                                                             \n",
              "0x6e93           Well above average         Medium              152.0   \n",
              "0x8787           Well below average         Medium               92.0   \n",
              "0x6c17       Slightly above average         Medium               90.0   \n",
              "0x9dbd       Slightly below average         Medium              158.0   \n",
              "0xbfde           Well above average           High              186.0   \n",
              "\n",
              "             Neighborhood_Review  \n",
              "Property_ID                       \n",
              "0x6e93                      2.52  \n",
              "0x8787                      4.16  \n",
              "0x6c17                      2.92  \n",
              "0x9dbd                      3.45  \n",
              "0xbfde                      2.72  "
            ],
            "text/html": [
              "\n",
              "  <div id=\"df-5e0caabb-e073-46af-ba71-757308131fda\">\n",
              "    <div class=\"colab-df-container\">\n",
              "      <div>\n",
              "<style scoped>\n",
              "    .dataframe tbody tr th:only-of-type {\n",
              "        vertical-align: middle;\n",
              "    }\n",
              "\n",
              "    .dataframe tbody tr th {\n",
              "        vertical-align: top;\n",
              "    }\n",
              "\n",
              "    .dataframe thead th {\n",
              "        text-align: right;\n",
              "    }\n",
              "</style>\n",
              "<table border=\"1\" class=\"dataframe\">\n",
              "  <thead>\n",
              "    <tr style=\"text-align: right;\">\n",
              "      <th></th>\n",
              "      <th>Property_Type</th>\n",
              "      <th>Property_Area</th>\n",
              "      <th>Number_of_Windows</th>\n",
              "      <th>Number_of_Doors</th>\n",
              "      <th>Furnishing</th>\n",
              "      <th>Frequency_of_Powercuts</th>\n",
              "      <th>Power_Backup</th>\n",
              "      <th>Water_Supply</th>\n",
              "      <th>Traffic_Density_Score</th>\n",
              "      <th>Crime_Rate</th>\n",
              "      <th>Dust_and_Noise</th>\n",
              "      <th>Air_Quality_Index</th>\n",
              "      <th>Neighborhood_Review</th>\n",
              "    </tr>\n",
              "    <tr>\n",
              "      <th>Property_ID</th>\n",
              "      <th></th>\n",
              "      <th></th>\n",
              "      <th></th>\n",
              "      <th></th>\n",
              "      <th></th>\n",
              "      <th></th>\n",
              "      <th></th>\n",
              "      <th></th>\n",
              "      <th></th>\n",
              "      <th></th>\n",
              "      <th></th>\n",
              "      <th></th>\n",
              "      <th></th>\n",
              "    </tr>\n",
              "  </thead>\n",
              "  <tbody>\n",
              "    <tr>\n",
              "      <th>0x6e93</th>\n",
              "      <td>Apartment</td>\n",
              "      <td>293</td>\n",
              "      <td>3.0</td>\n",
              "      <td>1</td>\n",
              "      <td>Unfurnished</td>\n",
              "      <td>0.0</td>\n",
              "      <td>No</td>\n",
              "      <td>Once in a day - Morning</td>\n",
              "      <td>7.28</td>\n",
              "      <td>Well above average</td>\n",
              "      <td>Medium</td>\n",
              "      <td>152.0</td>\n",
              "      <td>2.52</td>\n",
              "    </tr>\n",
              "    <tr>\n",
              "      <th>0x8787</th>\n",
              "      <td>Apartment</td>\n",
              "      <td>586</td>\n",
              "      <td>4.0</td>\n",
              "      <td>1</td>\n",
              "      <td>Semi_Furnished</td>\n",
              "      <td>0.0</td>\n",
              "      <td>No</td>\n",
              "      <td>Once in a day - Evening</td>\n",
              "      <td>7.63</td>\n",
              "      <td>Well below average</td>\n",
              "      <td>Medium</td>\n",
              "      <td>92.0</td>\n",
              "      <td>4.16</td>\n",
              "    </tr>\n",
              "    <tr>\n",
              "      <th>0x6c17</th>\n",
              "      <td>Container Home</td>\n",
              "      <td>305</td>\n",
              "      <td>1.0</td>\n",
              "      <td>2</td>\n",
              "      <td>Semi_Furnished</td>\n",
              "      <td>1.0</td>\n",
              "      <td>No</td>\n",
              "      <td>All time</td>\n",
              "      <td>5.39</td>\n",
              "      <td>Slightly above average</td>\n",
              "      <td>Medium</td>\n",
              "      <td>90.0</td>\n",
              "      <td>2.92</td>\n",
              "    </tr>\n",
              "    <tr>\n",
              "      <th>0x9dbd</th>\n",
              "      <td>Apartment</td>\n",
              "      <td>258</td>\n",
              "      <td>2.0</td>\n",
              "      <td>1</td>\n",
              "      <td>Semi_Furnished</td>\n",
              "      <td>1.0</td>\n",
              "      <td>No</td>\n",
              "      <td>All time</td>\n",
              "      <td>7.53</td>\n",
              "      <td>Slightly below average</td>\n",
              "      <td>Medium</td>\n",
              "      <td>158.0</td>\n",
              "      <td>3.45</td>\n",
              "    </tr>\n",
              "    <tr>\n",
              "      <th>0xbfde</th>\n",
              "      <td>Bungalow</td>\n",
              "      <td>3031</td>\n",
              "      <td>12.0</td>\n",
              "      <td>4</td>\n",
              "      <td>Fully Furnished</td>\n",
              "      <td>0.0</td>\n",
              "      <td>No</td>\n",
              "      <td>All time</td>\n",
              "      <td>8.79</td>\n",
              "      <td>Well above average</td>\n",
              "      <td>High</td>\n",
              "      <td>186.0</td>\n",
              "      <td>2.72</td>\n",
              "    </tr>\n",
              "  </tbody>\n",
              "</table>\n",
              "</div>\n",
              "      <button class=\"colab-df-convert\" onclick=\"convertToInteractive('df-5e0caabb-e073-46af-ba71-757308131fda')\"\n",
              "              title=\"Convert this dataframe to an interactive table.\"\n",
              "              style=\"display:none;\">\n",
              "        \n",
              "  <svg xmlns=\"http://www.w3.org/2000/svg\" height=\"24px\"viewBox=\"0 0 24 24\"\n",
              "       width=\"24px\">\n",
              "    <path d=\"M0 0h24v24H0V0z\" fill=\"none\"/>\n",
              "    <path d=\"M18.56 5.44l.94 2.06.94-2.06 2.06-.94-2.06-.94-.94-2.06-.94 2.06-2.06.94zm-11 1L8.5 8.5l.94-2.06 2.06-.94-2.06-.94L8.5 2.5l-.94 2.06-2.06.94zm10 10l.94 2.06.94-2.06 2.06-.94-2.06-.94-.94-2.06-.94 2.06-2.06.94z\"/><path d=\"M17.41 7.96l-1.37-1.37c-.4-.4-.92-.59-1.43-.59-.52 0-1.04.2-1.43.59L10.3 9.45l-7.72 7.72c-.78.78-.78 2.05 0 2.83L4 21.41c.39.39.9.59 1.41.59.51 0 1.02-.2 1.41-.59l7.78-7.78 2.81-2.81c.8-.78.8-2.07 0-2.86zM5.41 20L4 18.59l7.72-7.72 1.47 1.35L5.41 20z\"/>\n",
              "  </svg>\n",
              "      </button>\n",
              "      \n",
              "  <style>\n",
              "    .colab-df-container {\n",
              "      display:flex;\n",
              "      flex-wrap:wrap;\n",
              "      gap: 12px;\n",
              "    }\n",
              "\n",
              "    .colab-df-convert {\n",
              "      background-color: #E8F0FE;\n",
              "      border: none;\n",
              "      border-radius: 50%;\n",
              "      cursor: pointer;\n",
              "      display: none;\n",
              "      fill: #1967D2;\n",
              "      height: 32px;\n",
              "      padding: 0 0 0 0;\n",
              "      width: 32px;\n",
              "    }\n",
              "\n",
              "    .colab-df-convert:hover {\n",
              "      background-color: #E2EBFA;\n",
              "      box-shadow: 0px 1px 2px rgba(60, 64, 67, 0.3), 0px 1px 3px 1px rgba(60, 64, 67, 0.15);\n",
              "      fill: #174EA6;\n",
              "    }\n",
              "\n",
              "    [theme=dark] .colab-df-convert {\n",
              "      background-color: #3B4455;\n",
              "      fill: #D2E3FC;\n",
              "    }\n",
              "\n",
              "    [theme=dark] .colab-df-convert:hover {\n",
              "      background-color: #434B5C;\n",
              "      box-shadow: 0px 1px 3px 1px rgba(0, 0, 0, 0.15);\n",
              "      filter: drop-shadow(0px 1px 2px rgba(0, 0, 0, 0.3));\n",
              "      fill: #FFFFFF;\n",
              "    }\n",
              "  </style>\n",
              "\n",
              "      <script>\n",
              "        const buttonEl =\n",
              "          document.querySelector('#df-5e0caabb-e073-46af-ba71-757308131fda button.colab-df-convert');\n",
              "        buttonEl.style.display =\n",
              "          google.colab.kernel.accessAllowed ? 'block' : 'none';\n",
              "\n",
              "        async function convertToInteractive(key) {\n",
              "          const element = document.querySelector('#df-5e0caabb-e073-46af-ba71-757308131fda');\n",
              "          const dataTable =\n",
              "            await google.colab.kernel.invokeFunction('convertToInteractive',\n",
              "                                                     [key], {});\n",
              "          if (!dataTable) return;\n",
              "\n",
              "          const docLinkHtml = 'Like what you see? Visit the ' +\n",
              "            '<a target=\"_blank\" href=https://colab.research.google.com/notebooks/data_table.ipynb>data table notebook</a>'\n",
              "            + ' to learn more about interactive tables.';\n",
              "          element.innerHTML = '';\n",
              "          dataTable['output_type'] = 'display_data';\n",
              "          await google.colab.output.renderOutput(dataTable, element);\n",
              "          const docLink = document.createElement('div');\n",
              "          docLink.innerHTML = docLinkHtml;\n",
              "          element.appendChild(docLink);\n",
              "        }\n",
              "      </script>\n",
              "    </div>\n",
              "  </div>\n",
              "  "
            ]
          },
          "metadata": {},
          "execution_count": 865
        }
      ]
    },
    {
      "cell_type": "code",
      "source": [
        "Final_result['Habitability_score']=y_pred\n",
        "Final_result.head(5)"
      ],
      "metadata": {
        "colab": {
          "base_uri": "https://localhost:8080/"
        },
        "id": "d_-PNDBdq1iz",
        "outputId": "5237e8fe-6b00-4b22-f4aa-d08d3ab5de9b"
      },
      "execution_count": null,
      "outputs": [
        {
          "output_type": "execute_result",
          "data": {
            "text/plain": [
              "              Property_Type  Property_Area  Number_of_Windows  \\\n",
              "Property_ID                                                     \n",
              "0x6e93            Apartment            293                3.0   \n",
              "0x8787            Apartment            586                4.0   \n",
              "0x6c17       Container Home            305                1.0   \n",
              "0x9dbd            Apartment            258                2.0   \n",
              "0xbfde             Bungalow           3031               12.0   \n",
              "\n",
              "             Number_of_Doors       Furnishing  Frequency_of_Powercuts  \\\n",
              "Property_ID                                                             \n",
              "0x6e93                     1      Unfurnished                     0.0   \n",
              "0x8787                     1   Semi_Furnished                     0.0   \n",
              "0x6c17                     2   Semi_Furnished                     1.0   \n",
              "0x9dbd                     1   Semi_Furnished                     1.0   \n",
              "0xbfde                     4  Fully Furnished                     0.0   \n",
              "\n",
              "            Power_Backup             Water_Supply  Traffic_Density_Score  \\\n",
              "Property_ID                                                                \n",
              "0x6e93                No  Once in a day - Morning                   7.28   \n",
              "0x8787                No  Once in a day - Evening                   7.63   \n",
              "0x6c17                No                 All time                   5.39   \n",
              "0x9dbd                No                 All time                   7.53   \n",
              "0xbfde                No                 All time                   8.79   \n",
              "\n",
              "                         Crime_Rate Dust_and_Noise  Air_Quality_Index  \\\n",
              "Property_ID                                                             \n",
              "0x6e93           Well above average         Medium              152.0   \n",
              "0x8787           Well below average         Medium               92.0   \n",
              "0x6c17       Slightly above average         Medium               90.0   \n",
              "0x9dbd       Slightly below average         Medium              158.0   \n",
              "0xbfde           Well above average           High              186.0   \n",
              "\n",
              "             Neighborhood_Review  Habitability_score  \n",
              "Property_ID                                           \n",
              "0x6e93                      2.52             29.0370  \n",
              "0x8787                      4.16             80.2380  \n",
              "0x6c17                      2.92             66.5039  \n",
              "0x9dbd                      3.45             72.9061  \n",
              "0xbfde                      2.72             76.9521  "
            ],
            "text/html": [
              "\n",
              "  <div id=\"df-ccde3069-9de2-49c9-90eb-3824dbcfd422\">\n",
              "    <div class=\"colab-df-container\">\n",
              "      <div>\n",
              "<style scoped>\n",
              "    .dataframe tbody tr th:only-of-type {\n",
              "        vertical-align: middle;\n",
              "    }\n",
              "\n",
              "    .dataframe tbody tr th {\n",
              "        vertical-align: top;\n",
              "    }\n",
              "\n",
              "    .dataframe thead th {\n",
              "        text-align: right;\n",
              "    }\n",
              "</style>\n",
              "<table border=\"1\" class=\"dataframe\">\n",
              "  <thead>\n",
              "    <tr style=\"text-align: right;\">\n",
              "      <th></th>\n",
              "      <th>Property_Type</th>\n",
              "      <th>Property_Area</th>\n",
              "      <th>Number_of_Windows</th>\n",
              "      <th>Number_of_Doors</th>\n",
              "      <th>Furnishing</th>\n",
              "      <th>Frequency_of_Powercuts</th>\n",
              "      <th>Power_Backup</th>\n",
              "      <th>Water_Supply</th>\n",
              "      <th>Traffic_Density_Score</th>\n",
              "      <th>Crime_Rate</th>\n",
              "      <th>Dust_and_Noise</th>\n",
              "      <th>Air_Quality_Index</th>\n",
              "      <th>Neighborhood_Review</th>\n",
              "      <th>Habitability_score</th>\n",
              "    </tr>\n",
              "    <tr>\n",
              "      <th>Property_ID</th>\n",
              "      <th></th>\n",
              "      <th></th>\n",
              "      <th></th>\n",
              "      <th></th>\n",
              "      <th></th>\n",
              "      <th></th>\n",
              "      <th></th>\n",
              "      <th></th>\n",
              "      <th></th>\n",
              "      <th></th>\n",
              "      <th></th>\n",
              "      <th></th>\n",
              "      <th></th>\n",
              "      <th></th>\n",
              "    </tr>\n",
              "  </thead>\n",
              "  <tbody>\n",
              "    <tr>\n",
              "      <th>0x6e93</th>\n",
              "      <td>Apartment</td>\n",
              "      <td>293</td>\n",
              "      <td>3.0</td>\n",
              "      <td>1</td>\n",
              "      <td>Unfurnished</td>\n",
              "      <td>0.0</td>\n",
              "      <td>No</td>\n",
              "      <td>Once in a day - Morning</td>\n",
              "      <td>7.28</td>\n",
              "      <td>Well above average</td>\n",
              "      <td>Medium</td>\n",
              "      <td>152.0</td>\n",
              "      <td>2.52</td>\n",
              "      <td>29.0370</td>\n",
              "    </tr>\n",
              "    <tr>\n",
              "      <th>0x8787</th>\n",
              "      <td>Apartment</td>\n",
              "      <td>586</td>\n",
              "      <td>4.0</td>\n",
              "      <td>1</td>\n",
              "      <td>Semi_Furnished</td>\n",
              "      <td>0.0</td>\n",
              "      <td>No</td>\n",
              "      <td>Once in a day - Evening</td>\n",
              "      <td>7.63</td>\n",
              "      <td>Well below average</td>\n",
              "      <td>Medium</td>\n",
              "      <td>92.0</td>\n",
              "      <td>4.16</td>\n",
              "      <td>80.2380</td>\n",
              "    </tr>\n",
              "    <tr>\n",
              "      <th>0x6c17</th>\n",
              "      <td>Container Home</td>\n",
              "      <td>305</td>\n",
              "      <td>1.0</td>\n",
              "      <td>2</td>\n",
              "      <td>Semi_Furnished</td>\n",
              "      <td>1.0</td>\n",
              "      <td>No</td>\n",
              "      <td>All time</td>\n",
              "      <td>5.39</td>\n",
              "      <td>Slightly above average</td>\n",
              "      <td>Medium</td>\n",
              "      <td>90.0</td>\n",
              "      <td>2.92</td>\n",
              "      <td>66.5039</td>\n",
              "    </tr>\n",
              "    <tr>\n",
              "      <th>0x9dbd</th>\n",
              "      <td>Apartment</td>\n",
              "      <td>258</td>\n",
              "      <td>2.0</td>\n",
              "      <td>1</td>\n",
              "      <td>Semi_Furnished</td>\n",
              "      <td>1.0</td>\n",
              "      <td>No</td>\n",
              "      <td>All time</td>\n",
              "      <td>7.53</td>\n",
              "      <td>Slightly below average</td>\n",
              "      <td>Medium</td>\n",
              "      <td>158.0</td>\n",
              "      <td>3.45</td>\n",
              "      <td>72.9061</td>\n",
              "    </tr>\n",
              "    <tr>\n",
              "      <th>0xbfde</th>\n",
              "      <td>Bungalow</td>\n",
              "      <td>3031</td>\n",
              "      <td>12.0</td>\n",
              "      <td>4</td>\n",
              "      <td>Fully Furnished</td>\n",
              "      <td>0.0</td>\n",
              "      <td>No</td>\n",
              "      <td>All time</td>\n",
              "      <td>8.79</td>\n",
              "      <td>Well above average</td>\n",
              "      <td>High</td>\n",
              "      <td>186.0</td>\n",
              "      <td>2.72</td>\n",
              "      <td>76.9521</td>\n",
              "    </tr>\n",
              "  </tbody>\n",
              "</table>\n",
              "</div>\n",
              "      <button class=\"colab-df-convert\" onclick=\"convertToInteractive('df-ccde3069-9de2-49c9-90eb-3824dbcfd422')\"\n",
              "              title=\"Convert this dataframe to an interactive table.\"\n",
              "              style=\"display:none;\">\n",
              "        \n",
              "  <svg xmlns=\"http://www.w3.org/2000/svg\" height=\"24px\"viewBox=\"0 0 24 24\"\n",
              "       width=\"24px\">\n",
              "    <path d=\"M0 0h24v24H0V0z\" fill=\"none\"/>\n",
              "    <path d=\"M18.56 5.44l.94 2.06.94-2.06 2.06-.94-2.06-.94-.94-2.06-.94 2.06-2.06.94zm-11 1L8.5 8.5l.94-2.06 2.06-.94-2.06-.94L8.5 2.5l-.94 2.06-2.06.94zm10 10l.94 2.06.94-2.06 2.06-.94-2.06-.94-.94-2.06-.94 2.06-2.06.94z\"/><path d=\"M17.41 7.96l-1.37-1.37c-.4-.4-.92-.59-1.43-.59-.52 0-1.04.2-1.43.59L10.3 9.45l-7.72 7.72c-.78.78-.78 2.05 0 2.83L4 21.41c.39.39.9.59 1.41.59.51 0 1.02-.2 1.41-.59l7.78-7.78 2.81-2.81c.8-.78.8-2.07 0-2.86zM5.41 20L4 18.59l7.72-7.72 1.47 1.35L5.41 20z\"/>\n",
              "  </svg>\n",
              "      </button>\n",
              "      \n",
              "  <style>\n",
              "    .colab-df-container {\n",
              "      display:flex;\n",
              "      flex-wrap:wrap;\n",
              "      gap: 12px;\n",
              "    }\n",
              "\n",
              "    .colab-df-convert {\n",
              "      background-color: #E8F0FE;\n",
              "      border: none;\n",
              "      border-radius: 50%;\n",
              "      cursor: pointer;\n",
              "      display: none;\n",
              "      fill: #1967D2;\n",
              "      height: 32px;\n",
              "      padding: 0 0 0 0;\n",
              "      width: 32px;\n",
              "    }\n",
              "\n",
              "    .colab-df-convert:hover {\n",
              "      background-color: #E2EBFA;\n",
              "      box-shadow: 0px 1px 2px rgba(60, 64, 67, 0.3), 0px 1px 3px 1px rgba(60, 64, 67, 0.15);\n",
              "      fill: #174EA6;\n",
              "    }\n",
              "\n",
              "    [theme=dark] .colab-df-convert {\n",
              "      background-color: #3B4455;\n",
              "      fill: #D2E3FC;\n",
              "    }\n",
              "\n",
              "    [theme=dark] .colab-df-convert:hover {\n",
              "      background-color: #434B5C;\n",
              "      box-shadow: 0px 1px 3px 1px rgba(0, 0, 0, 0.15);\n",
              "      filter: drop-shadow(0px 1px 2px rgba(0, 0, 0, 0.3));\n",
              "      fill: #FFFFFF;\n",
              "    }\n",
              "  </style>\n",
              "\n",
              "      <script>\n",
              "        const buttonEl =\n",
              "          document.querySelector('#df-ccde3069-9de2-49c9-90eb-3824dbcfd422 button.colab-df-convert');\n",
              "        buttonEl.style.display =\n",
              "          google.colab.kernel.accessAllowed ? 'block' : 'none';\n",
              "\n",
              "        async function convertToInteractive(key) {\n",
              "          const element = document.querySelector('#df-ccde3069-9de2-49c9-90eb-3824dbcfd422');\n",
              "          const dataTable =\n",
              "            await google.colab.kernel.invokeFunction('convertToInteractive',\n",
              "                                                     [key], {});\n",
              "          if (!dataTable) return;\n",
              "\n",
              "          const docLinkHtml = 'Like what you see? Visit the ' +\n",
              "            '<a target=\"_blank\" href=https://colab.research.google.com/notebooks/data_table.ipynb>data table notebook</a>'\n",
              "            + ' to learn more about interactive tables.';\n",
              "          element.innerHTML = '';\n",
              "          dataTable['output_type'] = 'display_data';\n",
              "          await google.colab.output.renderOutput(dataTable, element);\n",
              "          const docLink = document.createElement('div');\n",
              "          docLink.innerHTML = docLinkHtml;\n",
              "          element.appendChild(docLink);\n",
              "        }\n",
              "      </script>\n",
              "    </div>\n",
              "  </div>\n",
              "  "
            ]
          },
          "metadata": {},
          "execution_count": 866
        }
      ]
    },
    {
      "cell_type": "code",
      "source": [
        "# from google.colab import files\n",
        "# Final_result.to_csv('Final_result.csv') \n",
        "# files.download('Final_result.csv')"
      ],
      "metadata": {
        "id": "RYghQyujrmHT"
      },
      "execution_count": null,
      "outputs": []
    },
    {
      "cell_type": "markdown",
      "source": [
        "#MODIFYING FILE ACCORDING TO SAMPLE SUBMISSION"
      ],
      "metadata": {
        "id": "_PaacHtZtuei"
      }
    },
    {
      "cell_type": "code",
      "source": [
        "# from google.colab import files\n",
        "# uploaded = files.upload()"
      ],
      "metadata": {
        "id": "YvbkMUatsyQ6"
      },
      "execution_count": null,
      "outputs": []
    },
    {
      "cell_type": "code",
      "source": [
        "# Final_result=pd.read_csv(io.BytesIO(uploaded['Final_result.csv']))\n",
        "# Final_result.head(5)"
      ],
      "metadata": {
        "id": "LmZFqcfAs2Oq"
      },
      "execution_count": null,
      "outputs": []
    },
    {
      "cell_type": "code",
      "source": [
        "Final_result.reset_index(inplace = True)"
      ],
      "metadata": {
        "id": "_DwwXo3I3-qj"
      },
      "execution_count": null,
      "outputs": []
    },
    {
      "cell_type": "code",
      "source": [
        "Result=pd.DataFrame()\n",
        "Result['Property_ID']= Final_result['Property_ID']\n",
        "Result['Habitability_score']= Final_result['Habitability_score']\n",
        "Final_result=Result"
      ],
      "metadata": {
        "id": "1Giw4cp6tIQJ"
      },
      "execution_count": null,
      "outputs": []
    },
    {
      "cell_type": "code",
      "source": [
        "from google.colab import files\n",
        "Final_result.to_csv('Final_result.csv') \n",
        "files.download('Final_result.csv')"
      ],
      "metadata": {
        "colab": {
          "base_uri": "https://localhost:8080/"
        },
        "id": "h2CL-V5GttAz",
        "outputId": "76fc6b56-30df-4e05-a3d4-fc1e87ab7001"
      },
      "execution_count": null,
      "outputs": [
        {
          "output_type": "display_data",
          "data": {
            "text/plain": [
              "<IPython.core.display.Javascript object>"
            ],
            "application/javascript": [
              "\n",
              "    async function download(id, filename, size) {\n",
              "      if (!google.colab.kernel.accessAllowed) {\n",
              "        return;\n",
              "      }\n",
              "      const div = document.createElement('div');\n",
              "      const label = document.createElement('label');\n",
              "      label.textContent = `Downloading \"${filename}\": `;\n",
              "      div.appendChild(label);\n",
              "      const progress = document.createElement('progress');\n",
              "      progress.max = size;\n",
              "      div.appendChild(progress);\n",
              "      document.body.appendChild(div);\n",
              "\n",
              "      const buffers = [];\n",
              "      let downloaded = 0;\n",
              "\n",
              "      const channel = await google.colab.kernel.comms.open(id);\n",
              "      // Send a message to notify the kernel that we're ready.\n",
              "      channel.send({})\n",
              "\n",
              "      for await (const message of channel.messages) {\n",
              "        // Send a message to notify the kernel that we're ready.\n",
              "        channel.send({})\n",
              "        if (message.buffers) {\n",
              "          for (const buffer of message.buffers) {\n",
              "            buffers.push(buffer);\n",
              "            downloaded += buffer.byteLength;\n",
              "            progress.value = downloaded;\n",
              "          }\n",
              "        }\n",
              "      }\n",
              "      const blob = new Blob(buffers, {type: 'application/binary'});\n",
              "      const a = document.createElement('a');\n",
              "      a.href = window.URL.createObjectURL(blob);\n",
              "      a.download = filename;\n",
              "      div.appendChild(a);\n",
              "      a.click();\n",
              "      div.remove();\n",
              "    }\n",
              "  "
            ]
          },
          "metadata": {}
        },
        {
          "output_type": "display_data",
          "data": {
            "text/plain": [
              "<IPython.core.display.Javascript object>"
            ],
            "application/javascript": [
              "download(\"download_7ccc9536-2922-4b49-81e5-6f1c0b59722e\", \"Final_result.csv\", 296868)"
            ]
          },
          "metadata": {}
        }
      ]
    },
    {
      "cell_type": "code",
      "source": [
        "Final_result.head(5)"
      ],
      "metadata": {
        "id": "_rKUmx2kt5nS",
        "outputId": "766fbbe3-73fe-453c-8c03-be5c1f2eb6a4",
        "colab": {
          "base_uri": "https://localhost:8080/"
        }
      },
      "execution_count": null,
      "outputs": [
        {
          "output_type": "execute_result",
          "data": {
            "text/plain": [
              "  Property_ID  Habitability_score\n",
              "0      0x6e93             29.0370\n",
              "1      0x8787             80.2380\n",
              "2      0x6c17             66.5039\n",
              "3      0x9dbd             72.9061\n",
              "4      0xbfde             76.9521"
            ],
            "text/html": [
              "\n",
              "  <div id=\"df-cb65c175-e6a7-4461-bb0e-3083c07493a3\">\n",
              "    <div class=\"colab-df-container\">\n",
              "      <div>\n",
              "<style scoped>\n",
              "    .dataframe tbody tr th:only-of-type {\n",
              "        vertical-align: middle;\n",
              "    }\n",
              "\n",
              "    .dataframe tbody tr th {\n",
              "        vertical-align: top;\n",
              "    }\n",
              "\n",
              "    .dataframe thead th {\n",
              "        text-align: right;\n",
              "    }\n",
              "</style>\n",
              "<table border=\"1\" class=\"dataframe\">\n",
              "  <thead>\n",
              "    <tr style=\"text-align: right;\">\n",
              "      <th></th>\n",
              "      <th>Property_ID</th>\n",
              "      <th>Habitability_score</th>\n",
              "    </tr>\n",
              "  </thead>\n",
              "  <tbody>\n",
              "    <tr>\n",
              "      <th>0</th>\n",
              "      <td>0x6e93</td>\n",
              "      <td>29.0370</td>\n",
              "    </tr>\n",
              "    <tr>\n",
              "      <th>1</th>\n",
              "      <td>0x8787</td>\n",
              "      <td>80.2380</td>\n",
              "    </tr>\n",
              "    <tr>\n",
              "      <th>2</th>\n",
              "      <td>0x6c17</td>\n",
              "      <td>66.5039</td>\n",
              "    </tr>\n",
              "    <tr>\n",
              "      <th>3</th>\n",
              "      <td>0x9dbd</td>\n",
              "      <td>72.9061</td>\n",
              "    </tr>\n",
              "    <tr>\n",
              "      <th>4</th>\n",
              "      <td>0xbfde</td>\n",
              "      <td>76.9521</td>\n",
              "    </tr>\n",
              "  </tbody>\n",
              "</table>\n",
              "</div>\n",
              "      <button class=\"colab-df-convert\" onclick=\"convertToInteractive('df-cb65c175-e6a7-4461-bb0e-3083c07493a3')\"\n",
              "              title=\"Convert this dataframe to an interactive table.\"\n",
              "              style=\"display:none;\">\n",
              "        \n",
              "  <svg xmlns=\"http://www.w3.org/2000/svg\" height=\"24px\"viewBox=\"0 0 24 24\"\n",
              "       width=\"24px\">\n",
              "    <path d=\"M0 0h24v24H0V0z\" fill=\"none\"/>\n",
              "    <path d=\"M18.56 5.44l.94 2.06.94-2.06 2.06-.94-2.06-.94-.94-2.06-.94 2.06-2.06.94zm-11 1L8.5 8.5l.94-2.06 2.06-.94-2.06-.94L8.5 2.5l-.94 2.06-2.06.94zm10 10l.94 2.06.94-2.06 2.06-.94-2.06-.94-.94-2.06-.94 2.06-2.06.94z\"/><path d=\"M17.41 7.96l-1.37-1.37c-.4-.4-.92-.59-1.43-.59-.52 0-1.04.2-1.43.59L10.3 9.45l-7.72 7.72c-.78.78-.78 2.05 0 2.83L4 21.41c.39.39.9.59 1.41.59.51 0 1.02-.2 1.41-.59l7.78-7.78 2.81-2.81c.8-.78.8-2.07 0-2.86zM5.41 20L4 18.59l7.72-7.72 1.47 1.35L5.41 20z\"/>\n",
              "  </svg>\n",
              "      </button>\n",
              "      \n",
              "  <style>\n",
              "    .colab-df-container {\n",
              "      display:flex;\n",
              "      flex-wrap:wrap;\n",
              "      gap: 12px;\n",
              "    }\n",
              "\n",
              "    .colab-df-convert {\n",
              "      background-color: #E8F0FE;\n",
              "      border: none;\n",
              "      border-radius: 50%;\n",
              "      cursor: pointer;\n",
              "      display: none;\n",
              "      fill: #1967D2;\n",
              "      height: 32px;\n",
              "      padding: 0 0 0 0;\n",
              "      width: 32px;\n",
              "    }\n",
              "\n",
              "    .colab-df-convert:hover {\n",
              "      background-color: #E2EBFA;\n",
              "      box-shadow: 0px 1px 2px rgba(60, 64, 67, 0.3), 0px 1px 3px 1px rgba(60, 64, 67, 0.15);\n",
              "      fill: #174EA6;\n",
              "    }\n",
              "\n",
              "    [theme=dark] .colab-df-convert {\n",
              "      background-color: #3B4455;\n",
              "      fill: #D2E3FC;\n",
              "    }\n",
              "\n",
              "    [theme=dark] .colab-df-convert:hover {\n",
              "      background-color: #434B5C;\n",
              "      box-shadow: 0px 1px 3px 1px rgba(0, 0, 0, 0.15);\n",
              "      filter: drop-shadow(0px 1px 2px rgba(0, 0, 0, 0.3));\n",
              "      fill: #FFFFFF;\n",
              "    }\n",
              "  </style>\n",
              "\n",
              "      <script>\n",
              "        const buttonEl =\n",
              "          document.querySelector('#df-cb65c175-e6a7-4461-bb0e-3083c07493a3 button.colab-df-convert');\n",
              "        buttonEl.style.display =\n",
              "          google.colab.kernel.accessAllowed ? 'block' : 'none';\n",
              "\n",
              "        async function convertToInteractive(key) {\n",
              "          const element = document.querySelector('#df-cb65c175-e6a7-4461-bb0e-3083c07493a3');\n",
              "          const dataTable =\n",
              "            await google.colab.kernel.invokeFunction('convertToInteractive',\n",
              "                                                     [key], {});\n",
              "          if (!dataTable) return;\n",
              "\n",
              "          const docLinkHtml = 'Like what you see? Visit the ' +\n",
              "            '<a target=\"_blank\" href=https://colab.research.google.com/notebooks/data_table.ipynb>data table notebook</a>'\n",
              "            + ' to learn more about interactive tables.';\n",
              "          element.innerHTML = '';\n",
              "          dataTable['output_type'] = 'display_data';\n",
              "          await google.colab.output.renderOutput(dataTable, element);\n",
              "          const docLink = document.createElement('div');\n",
              "          docLink.innerHTML = docLinkHtml;\n",
              "          element.appendChild(docLink);\n",
              "        }\n",
              "      </script>\n",
              "    </div>\n",
              "  </div>\n",
              "  "
            ]
          },
          "metadata": {},
          "execution_count": 873
        }
      ]
    }
  ],
  "metadata": {
    "colab": {
      "collapsed_sections": [
        "XllCvLu-e1G2",
        "0UyK_xAeeE6D",
        "bwK98j4Xe7Ec",
        "OPeKjU4NlyKP",
        "x_gWv22dqYfB",
        "SykhpWNkrj3_",
        "VUIgmELBvzz7",
        "jwPndkYA_to7",
        "cTn8Y11YMUTz",
        "GQnTF3EJ-QHn",
        "V7QM6fvY_fZY",
        "hfNhGr7pb8R8",
        "zXGXTPKP5F6m",
        "9SmZHmd45YB2",
        "_bFWYVOt5zsX",
        "dknDSDUKYRha",
        "46cWxkesnOoE"
      ],
      "name": "Hackerearth.ipynb",
      "provenance": []
    },
    "kernelspec": {
      "display_name": "Python 3",
      "name": "python3"
    },
    "language_info": {
      "name": "python"
    }
  },
  "nbformat": 4,
  "nbformat_minor": 0
}